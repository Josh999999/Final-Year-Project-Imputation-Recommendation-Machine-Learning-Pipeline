{
  "cells": [
    {
      "cell_type": "markdown",
      "metadata": {
        "id": "VfNdLILtGzxp"
      },
      "source": [
        "#**Imputation Statistics Gathering**\n",
        "\n",
        "For the training of the imputation algorithm \"reccomendation\" multiclass machine learning model we need each dataset for each missingness mechanism to have recorded the imputation algorithm that was most accuracy at replacing missing data points with formulated estimates.\n",
        "\n",
        "We set up all of the specified imputation algorithms for this project and we run them on each dataset for each missingness mechanism and save the information inside a json file inside each missingness mechansims file. This json file will contain the name of each file as a key with its value as the imputation algorithm which was optimal for this dataset."
      ]
    },
    {
      "cell_type": "markdown",
      "metadata": {
        "id": "W4DQvltJ0I15"
      },
      "source": [
        "#Mounting the Google drive\n",
        "\n",
        "This allows us to access all the data we store in this project as well at the file system"
      ]
    },
    {
      "cell_type": "code",
      "execution_count": null,
      "metadata": {
        "colab": {
          "base_uri": "https://localhost:8080/"
        },
        "collapsed": true,
        "id": "UwxKd98klFsa",
        "outputId": "e774c988-6c15-40ee-f05c-b5ee7fe5c652"
      },
      "outputs": [
        {
          "output_type": "stream",
          "name": "stdout",
          "text": [
            "Mounted at /content/drive\n",
            "data\n",
            "datasets\n",
            "getImputationModelsStats.ipynb\n",
            "getMissingData.ipynb\n",
            "imputationRecommendationModel.ipynb\n",
            "imputationRecommendationModelRandomForest.ipynb\n",
            "machine_learning_model\n",
            "pipeline.ipynb\n",
            "random_forest_machine_learning_model\n",
            "root\n"
          ]
        }
      ],
      "source": [
        "# Need to mount drive to access and save files that store model stats, figures, etc\n",
        "from google.colab import drive\n",
        "import os\n",
        "\n",
        "\n",
        "# Mount the drive\n",
        "drive.mount('/content/drive')\n",
        "\n",
        "os.chdir(\"/content/drive/MyDrive/Final_year_project\") # Path of reference for imports\n",
        "folder = os.path.join(\"/content/drive/MyDrive/Final_year_project\") # Reference for future use when importing / exporting files\n",
        "\n",
        "# View files in the current working directory\n",
        "!ls"
      ]
    },
    {
      "cell_type": "markdown",
      "metadata": {
        "id": "q_epsn2-xtu7"
      },
      "source": [
        "# Imports and installs\n",
        "\n",
        "This section import and/or installs all neccessary python libraries"
      ]
    },
    {
      "cell_type": "code",
      "execution_count": null,
      "metadata": {
        "colab": {
          "base_uri": "https://localhost:8080/"
        },
        "collapsed": true,
        "id": "fsZb888hrkfl",
        "outputId": "24ae3461-a733-44fb-b4a1-1633133f7b7f"
      },
      "outputs": [
        {
          "output_type": "stream",
          "name": "stdout",
          "text": [
            "Collecting fancyimpute\n",
            "  Downloading fancyimpute-0.7.0.tar.gz (25 kB)\n",
            "  Preparing metadata (setup.py) ... \u001b[?25l\u001b[?25hdone\n",
            "Collecting knnimpute>=0.1.0 (from fancyimpute)\n",
            "  Downloading knnimpute-0.1.0.tar.gz (8.3 kB)\n",
            "  Preparing metadata (setup.py) ... \u001b[?25l\u001b[?25hdone\n",
            "Requirement already satisfied: scikit-learn>=0.24.2 in /usr/local/lib/python3.11/dist-packages (from fancyimpute) (1.6.1)\n",
            "Requirement already satisfied: cvxpy in /usr/local/lib/python3.11/dist-packages (from fancyimpute) (1.6.5)\n",
            "Requirement already satisfied: cvxopt in /usr/local/lib/python3.11/dist-packages (from fancyimpute) (1.3.2)\n",
            "Requirement already satisfied: pytest in /usr/local/lib/python3.11/dist-packages (from fancyimpute) (8.3.5)\n",
            "Collecting nose (from fancyimpute)\n",
            "  Downloading nose-1.3.7-py3-none-any.whl.metadata (1.7 kB)\n",
            "Requirement already satisfied: six in /usr/local/lib/python3.11/dist-packages (from knnimpute>=0.1.0->fancyimpute) (1.17.0)\n",
            "Requirement already satisfied: numpy>=1.10 in /usr/local/lib/python3.11/dist-packages (from knnimpute>=0.1.0->fancyimpute) (2.0.2)\n",
            "Requirement already satisfied: scipy>=1.6.0 in /usr/local/lib/python3.11/dist-packages (from scikit-learn>=0.24.2->fancyimpute) (1.15.2)\n",
            "Requirement already satisfied: joblib>=1.2.0 in /usr/local/lib/python3.11/dist-packages (from scikit-learn>=0.24.2->fancyimpute) (1.4.2)\n",
            "Requirement already satisfied: threadpoolctl>=3.1.0 in /usr/local/lib/python3.11/dist-packages (from scikit-learn>=0.24.2->fancyimpute) (3.6.0)\n",
            "Requirement already satisfied: osqp>=0.6.2 in /usr/local/lib/python3.11/dist-packages (from cvxpy->fancyimpute) (1.0.3)\n",
            "Requirement already satisfied: clarabel>=0.5.0 in /usr/local/lib/python3.11/dist-packages (from cvxpy->fancyimpute) (0.10.0)\n",
            "Requirement already satisfied: scs>=3.2.4.post1 in /usr/local/lib/python3.11/dist-packages (from cvxpy->fancyimpute) (3.2.7.post2)\n",
            "Requirement already satisfied: iniconfig in /usr/local/lib/python3.11/dist-packages (from pytest->fancyimpute) (2.1.0)\n",
            "Requirement already satisfied: packaging in /usr/local/lib/python3.11/dist-packages (from pytest->fancyimpute) (24.2)\n",
            "Requirement already satisfied: pluggy<2,>=1.5 in /usr/local/lib/python3.11/dist-packages (from pytest->fancyimpute) (1.5.0)\n",
            "Requirement already satisfied: jinja2 in /usr/local/lib/python3.11/dist-packages (from osqp>=0.6.2->cvxpy->fancyimpute) (3.1.6)\n",
            "Requirement already satisfied: setuptools in /usr/local/lib/python3.11/dist-packages (from osqp>=0.6.2->cvxpy->fancyimpute) (75.2.0)\n",
            "Requirement already satisfied: MarkupSafe>=2.0 in /usr/local/lib/python3.11/dist-packages (from jinja2->osqp>=0.6.2->cvxpy->fancyimpute) (3.0.2)\n",
            "Downloading nose-1.3.7-py3-none-any.whl (154 kB)\n",
            "\u001b[2K   \u001b[90m━━━━━━━━━━━━━━━━━━━━━━━━━━━━━━━━━━━━━━━━\u001b[0m \u001b[32m154.7/154.7 kB\u001b[0m \u001b[31m5.4 MB/s\u001b[0m eta \u001b[36m0:00:00\u001b[0m\n",
            "\u001b[?25hBuilding wheels for collected packages: fancyimpute, knnimpute\n",
            "  Building wheel for fancyimpute (setup.py) ... \u001b[?25l\u001b[?25hdone\n",
            "  Created wheel for fancyimpute: filename=fancyimpute-0.7.0-py3-none-any.whl size=29879 sha256=9bd4ece11957206bfc27d8af2317ca7133a61ba3fe87b32663cfd2c6caa3d2e1\n",
            "  Stored in directory: /root/.cache/pip/wheels/1a/f3/a1/f7f10b5ae2c2459398762a3fcf4ac18c325311c7e3163d5a15\n",
            "  Building wheel for knnimpute (setup.py) ... \u001b[?25l\u001b[?25hdone\n",
            "  Created wheel for knnimpute: filename=knnimpute-0.1.0-py3-none-any.whl size=11331 sha256=f175930e27043affea4eb4ce15f59278492514a2208cdb2db4128484f275dc77\n",
            "  Stored in directory: /root/.cache/pip/wheels/ea/e8/e0/79872972161e54486517ae507f94b2c7cea27fb7ef793bd415\n",
            "Successfully built fancyimpute knnimpute\n",
            "Installing collected packages: nose, knnimpute, fancyimpute\n",
            "Successfully installed fancyimpute-0.7.0 knnimpute-0.1.0 nose-1.3.7\n",
            "Collecting MissForest\n",
            "  Downloading MissForest-4.2.3-py3-none-any.whl.metadata (8.3 kB)\n",
            "Downloading MissForest-4.2.3-py3-none-any.whl (14 kB)\n",
            "Installing collected packages: MissForest\n",
            "Successfully installed MissForest-4.2.3\n",
            "Requirement already satisfied: scikit-learn in /usr/local/lib/python3.11/dist-packages (1.6.1)\n",
            "Requirement already satisfied: numpy in /usr/local/lib/python3.11/dist-packages (2.0.2)\n",
            "Requirement already satisfied: pandas in /usr/local/lib/python3.11/dist-packages (2.2.2)\n",
            "Requirement already satisfied: scipy>=1.6.0 in /usr/local/lib/python3.11/dist-packages (from scikit-learn) (1.15.2)\n",
            "Requirement already satisfied: joblib>=1.2.0 in /usr/local/lib/python3.11/dist-packages (from scikit-learn) (1.4.2)\n",
            "Requirement already satisfied: threadpoolctl>=3.1.0 in /usr/local/lib/python3.11/dist-packages (from scikit-learn) (3.6.0)\n",
            "Requirement already satisfied: python-dateutil>=2.8.2 in /usr/local/lib/python3.11/dist-packages (from pandas) (2.9.0.post0)\n",
            "Requirement already satisfied: pytz>=2020.1 in /usr/local/lib/python3.11/dist-packages (from pandas) (2025.2)\n",
            "Requirement already satisfied: tzdata>=2022.7 in /usr/local/lib/python3.11/dist-packages (from pandas) (2025.2)\n",
            "Requirement already satisfied: six>=1.5 in /usr/local/lib/python3.11/dist-packages (from python-dateutil>=2.8.2->pandas) (1.17.0)\n",
            "Collecting miceforest\n",
            "  Downloading miceforest-6.0.3-py3-none-any.whl.metadata (35 kB)\n",
            "Requirement already satisfied: lightgbm>=4.1.0 in /usr/local/lib/python3.11/dist-packages (from miceforest) (4.5.0)\n",
            "Requirement already satisfied: pandas>=2.1.0 in /usr/local/lib/python3.11/dist-packages (from miceforest) (2.2.2)\n",
            "Requirement already satisfied: numpy in /usr/local/lib/python3.11/dist-packages (from miceforest) (2.0.2)\n",
            "Requirement already satisfied: scipy>=1.6.0 in /usr/local/lib/python3.11/dist-packages (from miceforest) (1.15.2)\n",
            "Requirement already satisfied: pyarrow>=6.0.1 in /usr/local/lib/python3.11/dist-packages (from miceforest) (18.1.0)\n",
            "Requirement already satisfied: python-dateutil>=2.8.2 in /usr/local/lib/python3.11/dist-packages (from pandas>=2.1.0->miceforest) (2.9.0.post0)\n",
            "Requirement already satisfied: pytz>=2020.1 in /usr/local/lib/python3.11/dist-packages (from pandas>=2.1.0->miceforest) (2025.2)\n",
            "Requirement already satisfied: tzdata>=2022.7 in /usr/local/lib/python3.11/dist-packages (from pandas>=2.1.0->miceforest) (2025.2)\n",
            "Requirement already satisfied: six>=1.5 in /usr/local/lib/python3.11/dist-packages (from python-dateutil>=2.8.2->pandas>=2.1.0->miceforest) (1.17.0)\n",
            "Downloading miceforest-6.0.3-py3-none-any.whl (40 kB)\n",
            "\u001b[2K   \u001b[90m━━━━━━━━━━━━━━━━━━━━━━━━━━━━━━━━━━━━━━━━\u001b[0m \u001b[32m40.3/40.3 kB\u001b[0m \u001b[31m3.4 MB/s\u001b[0m eta \u001b[36m0:00:00\u001b[0m\n",
            "\u001b[?25hInstalling collected packages: miceforest\n",
            "Successfully installed miceforest-6.0.3\n"
          ]
        }
      ],
      "source": [
        "# pip installs\n",
        "!pip install fancyimpute\n",
        "!pip install MissForest\n",
        "!pip install scikit-learn numpy pandas\n",
        "!pip install miceforest\n",
        "\n",
        "\n",
        "# Imports\n",
        "from fancyimpute import IterativeImputer\n",
        "from fancyimpute import KNN\n",
        "from missforest import MissForest\n",
        "from sklearn.linear_model import BayesianRidge\n",
        "from sklearn.impute import SimpleImputer\n",
        "from sklearn.ensemble import RandomForestRegressor, RandomForestClassifier\n",
        "from sklearn.preprocessing import LabelEncoder\n",
        "from sklearn.linear_model import LinearRegression\n",
        "from sklearn.linear_model import LogisticRegression\n",
        "from sklearn.model_selection import train_test_split\n",
        "from sklearn.metrics import mean_squared_error\n",
        "from sklearn.metrics import f1_score\n",
        "from sklearn.metrics import accuracy_score\n",
        "from scipy import stats\n",
        "import miceforest as miceforest\n",
        "import os\n",
        "import gc\n",
        "import zipfile\n",
        "import pandas as pd\n",
        "import shutil\n",
        "import random\n",
        "import numpy as np\n",
        "import time\n",
        "import json"
      ]
    },
    {
      "cell_type": "markdown",
      "metadata": {
        "id": "Oq585TdEVrtI"
      },
      "source": [
        "# Dataset metafeatures extraction\n",
        "\n",
        "\n",
        "\n"
      ]
    },
    {
      "cell_type": "markdown",
      "metadata": {
        "id": "oiL_HGTwkU4B"
      },
      "source": [
        "#### Statistical metafeatures\n",
        "\n",
        "This section contains functionality to extract the statical metafeatures from the cleaned / pre-proccessed dataset. These metafeatures are taken from a reference paper and contained in the following table"
      ]
    },
    {
      "cell_type": "code",
      "execution_count": null,
      "metadata": {
        "id": "4Qql5k8HVrtJ"
      },
      "outputs": [],
      "source": [
        "def get_statistical_metafeatures(df: pd.DataFrame, missingness_column: str) -> dict[str, int]:\n",
        "    \"\"\"\n",
        "    Return a dict of metafeatures under the typical 'simple' category\n",
        "    \"\"\"\n",
        "\n",
        "    mf_simple = {}\n",
        "\n",
        "\n",
        "\n",
        "    # Metafeatures not in the table\n",
        "\n",
        "    # Number of Samples (rows)\n",
        "    mf_simple[\"n_samples\"] = float(len(df)) # Check this is best way of getting rows\n",
        "\n",
        "    # Number of continuous features\n",
        "    mf_simple[\"n_cols_continuous\"]  = float(len(df.select_dtypes(include=[\"int64\", \"float64\"]).columns))\n",
        "\n",
        "    # Number of categorical features\n",
        "    mf_simple[\"n_cols_categorical\"] = float(len(df.select_dtypes(include=[\"object\", \"category\"]).columns))\n",
        "\n",
        "    # Log number of features over samples\n",
        "    mf_simple[\"log_n_features_over_n_samples\"] = float(np.log(len(df.columns)/len(df)))\n",
        "\n",
        "\n",
        "\n",
        "    # Metafeature in the table\n",
        "\n",
        "    # Number of patterns\n",
        "    mf_simple[\"n_patterns\"] = float(df.shape[0])\n",
        "\n",
        "    # Log number of patterns\n",
        "    mf_simple[\"log_n_patterns\"] = float(np.log(df.shape[0]))\n",
        "\n",
        "    # Number of Features (cols)\n",
        "    mf_simple[\"n_features\"] = float(df.shape[1])\n",
        "\n",
        "    # Log number of features\n",
        "    mf_simple[\"log_n_features\"] = float(np.log(df.shape[1]))\n",
        "\n",
        "    # Number of patterns with missing values\n",
        "    mf_simple[\"n_patterns_with_missing\"] = float(df.isna().any(axis=1).sum())\n",
        "\n",
        "    # Percentage of patterns with missing values\n",
        "    mf_simple[\"p_patterns_with_missing\"] = float(df.isna().any(axis=1).sum() / df.shape[0] * 100)\n",
        "\n",
        "    # Number of features with missing values\n",
        "    mf_simple[\"n_features_with_missing\"] = float(df.isna().any(axis=0).sum())\n",
        "\n",
        "    # Percentage of features with missing values\n",
        "    mf_simple[\"p_features_with_missing\"] = float(df.isna().any(axis=0).sum() / df.shape[1] * 100)\n",
        "\n",
        "    # Number of missing values\n",
        "    mf_simple[\"n_missing_values\"] = float(df.isna().sum().sum())\n",
        "\n",
        "    # Percentage of missing values\n",
        "    mf_simple[\"p_missing_values\"] = float(df.isna().sum().sum() / (df.shape[0] * df.shape[1]) * 100)\n",
        "\n",
        "    # Number of numeric features\n",
        "    mf_simple[\"n_numeric_features\"] = float(df.select_dtypes(include=[\"int64\", \"float64\", \"number\"]).shape[1])\n",
        "\n",
        "    # Number of categorical features\n",
        "    mf_simple[\"n_categorical_features\"] = float(df.select_dtypes(include=['object', 'category']).shape[1])\n",
        "\n",
        "    # Ratio of numeric features to categorical features\n",
        "    mf_simple[\"r_continuous_categorical\"] = float(mf_simple[\"n_numeric_features\"] / mf_simple[\"n_categorical_features\"] if not mf_simple[\"n_categorical_features\"] == 0 else mf_simple[\"n_numeric_features\"])\n",
        "\n",
        "    # Ratio of categorical features to numeric features\n",
        "    mf_simple[\"n_categorical_continuous\"] = float(mf_simple[\"n_categorical_features\"] / mf_simple[\"n_numeric_features\"] if not mf_simple[\"n_numeric_features\"] == 0 else mf_simple[\"n_categorical_features\"])\n",
        "\n",
        "    # Dimensionality of the dataset\n",
        "    mf_simple[\"d_dataset\"] = float(sum(_ for _ in df.shape))\n",
        "\n",
        "    # Log dimensionality of the dataset\n",
        "    mf_simple[\"log_d_dataset\"] = float(np.log(sum(_ for _ in df.shape)))\n",
        "\n",
        "    # Inverse dimensionality of the dataset\n",
        "    mf_simple[\"inv_d_dataset\"] = float(1 / sum(_ for _ in df.shape))\n",
        "\n",
        "    # Log inverse dimensionality of the dataset\n",
        "    mf_simple[\"log_inv_d_dataset\"] = float(np.log(1 / sum(_ for _ in df.shape)))\n",
        "\n",
        "    # Get the average variance from numeircal columns\n",
        "    mf_simple[\"variance\"] = float(np.mean([df[column].var() for column in df.select_dtypes(include=[\"int64\", \"float64\"]).columns]))\n",
        "\n",
        "    # Get the average mean from numeircal columns\n",
        "    mf_simple[\"mean\"] = float(np.mean([df[column].mean() for column in df.select_dtypes(include=[\"int64\", \"float64\"]).columns]))\n",
        "\n",
        "\n",
        "\n",
        "    return mf_simple"
      ]
    },
    {
      "cell_type": "markdown",
      "metadata": {
        "id": "VX65FIyAkWFI"
      },
      "source": [
        "#### Missingness metafeatures\n",
        "\n",
        "This section contains functionality to extract the missingness metafeatures  from the cleaned / pre-proccessed dataset. These metafeatures include information about the missing data such as the proportion of missing data the missing data type, missing data mechansim, etc"
      ]
    },
    {
      "cell_type": "code",
      "execution_count": null,
      "metadata": {
        "id": "hBEJh4XSkWRB"
      },
      "outputs": [],
      "source": [
        "def get_missingness_metafeatures(df: pd.DataFrame, missingness_column, missingness_mechansim) -> dict[str, int]:\n",
        "    \"\"\"\n",
        "    Return a dict of metafeatures\n",
        "    \"\"\"\n",
        "\n",
        "    missingness_mechansim_map = {\n",
        "        \"MCAR\": 0,\n",
        "        \"MAR\": 1,\n",
        "        \"MNAR\": 2\n",
        "    }\n",
        "    missingness_mechansim_map_inverse = {value: key for key, value in missingness_mechansim_map.items()}\n",
        "\n",
        "    mf_missingness = {}\n",
        "\n",
        "\n",
        "    # Create copy of the dataframe\n",
        "    df_copy = df.copy()\n",
        "\n",
        "\n",
        "    # Encode column if is categorical\n",
        "    if not pd.api.types.is_numeric_dtype(df_copy[missingness_column]):\n",
        "        encoder = LabelEncoder()\n",
        "        df_copy[missingness_column] = encoder.fit_transform(df_copy[missingness_column])\n",
        "        mf_missingness[\"is_numeric\"] = float(0) #(False)\n",
        "\n",
        "    else:\n",
        "        mf_missingness[\"is_numeric\"] = float(1) #(False)\n",
        "\n",
        "\n",
        "    # Get encoded missingness mechansim\n",
        "    mf_missingness[\"missingness_mechansim\"] = float(missingness_mechansim_map[missingness_mechansim.strip().upper()])\n",
        "\n",
        "\n",
        "\n",
        "\n",
        "    # Metafeature extraction - General statistics\n",
        "\n",
        "    # # Mean of the missingness column\n",
        "    # mf_missingness[\"mean\"] = float(df_copy[missingness_column].mean())\n",
        "\n",
        "    # # Variance of the missingness column\n",
        "    # mf_missingness[\"variance\"] = float(df_copy[missingness_column].var())\n",
        "\n",
        "    # Median of the missingness column\n",
        "    mf_missingness[\"median\"] = float(df_copy[missingness_column].median())\n",
        "\n",
        "    # Mode of the missingness column\n",
        "    mf_missingness[\"mode\"] = float(df_copy[missingness_column].mode().iloc[0])\n",
        "\n",
        "    # Standard deviation of the missingness column\n",
        "    mf_missingness[\"std\"] = float(df_copy[missingness_column].std())\n",
        "\n",
        "    # Minimum of the missingness column\n",
        "    mf_missingness[\"min\"] = float(df_copy[missingness_column].min())\n",
        "\n",
        "    # Maximum of the missingness column\n",
        "    mf_missingness[\"max\"] = float(df_copy[missingness_column].max())\n",
        "\n",
        "    # Range of the missingness column\n",
        "    mf_missingness[\"range\"] = float(df_copy[missingness_column].max() - df_copy[missingness_column].min())\n",
        "\n",
        "    # Skewness of the missingness column\n",
        "    mf_missingness[\"skewness\"] = float(df_copy[missingness_column].skew())\n",
        "\n",
        "    # Kurtosis of the missingness column\n",
        "    mf_missingness[\"kurtosis\"] = float(df_copy[missingness_column].kurt())\n",
        "\n",
        "    # Interquartile range of the missingness column\n",
        "    mf_missingness[\"iqr\"] = float(df_copy[missingness_column].quantile(0.25) - df_copy[missingness_column].quantile(0.75))\n",
        "\n",
        "\n",
        "\n",
        "    # Metafeature extraction - Data quality\n",
        "\n",
        "    # Number of unqiue values in the missingness column\n",
        "    mf_missingness[\"n_unique_values\"] = float(df_copy[missingness_column].nunique())\n",
        "\n",
        "    # Constant of the missingness column\n",
        "    mf_missingness[\"constant\"] = float(len(df[df_copy[missingness_column].isin([df_copy[missingness_column].mode()])]) / df_copy.shape[0])\n",
        "\n",
        "\n",
        "\n",
        "    # Metafeature extraction - Entropy & Variability\n",
        "\n",
        "    # Shannon entropy of the missingness dataset\n",
        "    mf_missingness[\"shannon_entropy\"] = float(-np.sum(df_copy.value_counts(normalize=True) * np.log2(df_copy.value_counts(normalize=True))))\n",
        "\n",
        "    # Coefficient of variation of the missingness dataset\n",
        "    mf_missingness[\"coefficient_of_variation\"] = float(np.mean(df_copy.std()) / np.mean(df_copy.mean()))\n",
        "\n",
        "    # Signal-to-noise ratio of variation of the missingness dataset\n",
        "    mf_missingness[\"signal_to_noise_ration\"] = float(np.mean(df_copy.mean()) / np.mean(df_copy.std()))\n",
        "\n",
        "\n",
        "\n",
        "    # Metafeature extraction - Missingness stats\n",
        "\n",
        "    # # Number of missing values in the missingness column\n",
        "    # mf_missingness[\"n_missing_values\"] = float(len(list(df_copy[missingness_column].isna())))\n",
        "\n",
        "    # # Missingness ration of the missingness column\n",
        "    # mf_missingness[\"p_missing_values\"] = float(len(list(df_copy[missingness_column].isna())) / len(list(df_copy[missingness_column])) * 100)\n",
        "\n",
        "\n",
        "\n",
        "\n",
        "    return mf_missingness"
      ]
    },
    {
      "cell_type": "markdown",
      "metadata": {
        "id": "ywhrVwIxTJhD"
      },
      "source": [
        "# Imputation algorithms\n",
        "\n",
        "In this section we setup and test each imputation algorithm that we are going to use when training the imputation algorithm \"reccomendation\" multiclass machine learning model (all of these algorithms along with there full specification and description are recorded in the project documentation)"
      ]
    },
    {
      "cell_type": "markdown",
      "metadata": {
        "id": "cLK3CkT3TuwV"
      },
      "source": [
        "#### Mean / Mode / Median imputation algorithm\n",
        "\n",
        "In mean / mode / median imputation missing categorical values are replaced with the mode of the observed values, whilst missing continuous numerical values are replaced with the mean or median of the observed values."
      ]
    },
    {
      "cell_type": "code",
      "execution_count": null,
      "metadata": {
        "id": "Q9LfY8AMTzRP"
      },
      "outputs": [],
      "source": [
        "def mean_mode_median_imputation(df, column, is_classification):\n",
        "\n",
        "  # Avoid error by changing null values to NaN\n",
        "  df.replace([None, 'None', 'NaT', 'NaN'], np.nan, inplace=True)\n",
        "\n",
        "  # Create missingness map\n",
        "  missingness_map = df[column].isna()\n",
        "\n",
        "\n",
        "  # Use mean if data type is continuous and mode if it's classification\n",
        "  if is_classification:\n",
        "      df[column].fillna(df[column].mode()[0], inplace=True)\n",
        "\n",
        "  else:\n",
        "      df[column].fillna(df[column].mean(), inplace=True)\n",
        "\n",
        "\n",
        "  # Find list of predictions\n",
        "  predictions = list(df[missingness_map][column])\n",
        "\n",
        "\n",
        "  return df, predictions"
      ]
    },
    {
      "cell_type": "markdown",
      "metadata": {
        "id": "SiHUngYWT0Ed"
      },
      "source": [
        "#### Last observation carried forward (LOCF) imputation\n",
        "\n",
        "In last observation carried forward imputation the current missing data point to be addressed is replaced with the value of the last observation whose data point of this variable isn’t missing"
      ]
    },
    {
      "cell_type": "code",
      "execution_count": null,
      "metadata": {
        "id": "8dochkWPX1f6"
      },
      "outputs": [],
      "source": [
        "def locf_imputation(df, column):\n",
        "\n",
        "  # Avoid error by changing null values to NaN\n",
        "  df.replace([None, 'None', 'NaT', 'NaN'], np.nan, inplace=True)\n",
        "\n",
        "  # Create missingness map\n",
        "  missingness_map = df[column].isna()\n",
        "\n",
        "\n",
        "  # Fill the first row's missing values incase it has no value to foward fill (will leave missingn values until there isn't one)\n",
        "  if not df[column].iloc[0]:\n",
        "    df[column].iloc[0] = df[column].mode()[0]\n",
        "\n",
        "\n",
        "  # Simply use the pandas \"ffill\" (forward fill) in-built method\n",
        "  df[column].fillna(method='ffill', inplace=True)\n",
        "\n",
        "  # Find list of predictions\n",
        "  predictions = list(df[missingness_map][column])\n",
        "\n",
        "\n",
        "  return df, predictions"
      ]
    },
    {
      "cell_type": "markdown",
      "metadata": {
        "id": "BDaxvo-xX13v"
      },
      "source": [
        "#### Next observation carried forward (NOCF) imputation\n",
        "\n",
        "In next observation carried forward imputation the current missing data point to be addressed is replaced with the value of the next observation whose data point of this variable isn’t missing"
      ]
    },
    {
      "cell_type": "code",
      "execution_count": null,
      "metadata": {
        "id": "F0hxzBTwX-0h"
      },
      "outputs": [],
      "source": [
        "def nocf_imputation(df, column):\n",
        "\n",
        "  # Avoid error by changing null values to NaN\n",
        "  df.replace([None, 'None', 'NaT', 'NaN'], np.nan, inplace=True)\n",
        "\n",
        "  # Create missingness map\n",
        "  missingness_map = df[column].isna()\n",
        "\n",
        "\n",
        "  # Fill the first row's missing values incase it has no value to foward fill (will leave missingn values until there isn't one)\n",
        "  if not df[column].iloc[-1]:\n",
        "    df[column].iloc[-1] = df[column].mode()[0]\n",
        "\n",
        "\n",
        "  # Simply use the pandas \"bfill\" (backward fill) in-built method\n",
        "  df[column].fillna(method='bfill', inplace=True)\n",
        "\n",
        "  # Find list of predictions\n",
        "  predictions = list(df[missingness_map][column])\n",
        "\n",
        "\n",
        "  return df, predictions"
      ]
    },
    {
      "cell_type": "markdown",
      "metadata": {
        "id": "R7YlBhs8YLtR"
      },
      "source": [
        "#### Regression imputation\n",
        "\n",
        "In regression imputation missing values are replaced by using a regression models estimation. The regression model is estimated using the observed values of the dependent variable (target value) Y and the independent variables. The model can be used to predict values for missing cases of Y based on the record’s dependent variables"
      ]
    },
    {
      "cell_type": "code",
      "execution_count": null,
      "metadata": {
        "id": "nbyS1IaVYTiQ"
      },
      "outputs": [],
      "source": [
        "def regression_imputation(df, column, is_classification, unencode):\n",
        "\n",
        "  # Avoid error by changing vall null values to NaN\n",
        "  df.replace([None, 'None', 'NaT', 'NaN'], np.nan, inplace=True)\n",
        "\n",
        "  # Copy original dataframe to reduce data loss (mainly of data typing)\n",
        "  df_original = df.copy()\n",
        "\n",
        "  # Create missingness map\n",
        "  missingness_map = df[column].isna()\n",
        "\n",
        "  # Store dependant columns original data type\n",
        "  original_dtype = df[column].dtype\n",
        "\n",
        "  # Get a list of all other features than the given column\n",
        "  independant_features = [independant_column for independant_column in df.columns if independant_column != column]\n",
        "\n",
        "  # Handle the dependant column being classification based (not numeric in a sense) - encode\n",
        "  dependant_encoder = LabelEncoder()\n",
        "\n",
        "\n",
        "  if is_classification:\n",
        "    df[df[column].notna()] = df[df[column].notna()].astype(str)\n",
        "    df.loc[df[column].notna(), column] = dependant_encoder.fit_transform(df.loc[df[column].notna(), column])\n",
        "    df[column] = pd.to_numeric(df[column], errors='coerce')\n",
        "\n",
        "\n",
        "  # Handle the independent columns not being numeric\n",
        "  for independant_column in independant_features:\n",
        "\n",
        "\n",
        "    # Encode the column if it's data is not numeric\n",
        "    if not pd.api.types.is_numeric_dtype(df[independant_column]):\n",
        "\n",
        "      # Initialize LabelEncoder\n",
        "      encoder = LabelEncoder()\n",
        "\n",
        "      # Encode column\n",
        "      df[independant_column] = df[independant_column].astype(str)\n",
        "      df[independant_column] = encoder.fit_transform(df[independant_column])\n",
        "      df[independant_column] = pd.to_numeric(df[independant_column], errors='coerce')\n",
        "\n",
        "  # Figure out encoded boundaries for the missing column\n",
        "  encoded_min = df[column].min()\n",
        "  encoded_max = df[column].max()\n",
        "\n",
        "  # Gather train data\n",
        "  train_data = df.dropna()\n",
        "\n",
        "  # Train a linear regression model independant columns\n",
        "  X_train = train_data[independant_features]\n",
        "  y_train = train_data[column]\n",
        "\n",
        "  # Determine regression model based on task type\n",
        "  model = LogisticRegression() if is_classification else LinearRegression()\n",
        "  model.fit(X_train, y_train)\n",
        "\n",
        "  # Gather test data\n",
        "  test_data = df[df[column].isna()]\n",
        "  X_test = test_data[independant_features]\n",
        "\n",
        "  # Remove any null values in the independant columns by imputing missing values with the mean value of each column\n",
        "  imputer = SimpleImputer(strategy='mean')\n",
        "  X_test_imputed = imputer.fit_transform(X_test)\n",
        "\n",
        "  original_predictions = model.predict(X_test_imputed)\n",
        "\n",
        "\n",
        "  # Handle the dependant column being classification based (not numeric in a sense) - unencode\n",
        "  if is_classification:\n",
        "\n",
        "    # Make sure predictions are positive and rounded to the nearest integer\n",
        "    original_predictions = [int(np.round(prediction)) if prediction > 0 else 0 for prediction in original_predictions]\n",
        "\n",
        "\n",
        "    # Unencode data - can't unencode is already encoded outside this function\n",
        "    if unencode:\n",
        "      original_predictions = np.clip(original_predictions, encoded_min, encoded_max, out=None)\n",
        "      df_original.loc[df_original[column].isna(), column] = dependant_encoder.inverse_transform(original_predictions)\n",
        "\n",
        "    else:\n",
        "      # Replace the missing values with the predicted values in the original unencoded dataframe\n",
        "      df_original.loc[df_original[column].isna(), column] = original_predictions\n",
        "\n",
        "  else:\n",
        "\n",
        "    # Replace the missing values with the predicted values in the original unencoded dataframe\n",
        "    df_original.loc[df_original[column].isna(), column] = original_predictions\n",
        "\n",
        "\n",
        "  # Convert column back to original data type\n",
        "  df_original[column] = df_original[column].astype(original_dtype)\n",
        "\n",
        "  predictions = list(df_original[missingness_map][column])\n",
        "\n",
        "\n",
        "  return df_original, predictions"
      ]
    },
    {
      "cell_type": "markdown",
      "metadata": {
        "id": "7VM3ZYtpYVVa"
      },
      "source": [
        "#### Multivariate imputation by chained equations (MICE)\n",
        "\n",
        "In multivariate imputation by chained equations multiple datasets are created through a series of regression based models that are iteratively fit to the missing value variable (using the observed data) until convergence of the imputed values with the initial guesses (mean / mode / median imputation) Finally the multiple datasets are combined (usually giving an average of the imputed values) helping incorporate uncertainty introduced by the missingness of the data"
      ]
    },
    {
      "cell_type": "code",
      "execution_count": null,
      "metadata": {
        "id": "tZYifw2fOVAG"
      },
      "outputs": [],
      "source": [
        "def mice_imputation(df, column, is_classification, unencode):\n",
        "\n",
        "  # Avoid error by changing vall null values to NaN\n",
        "  df.replace([None, 'None', 'NaT', 'NaN'], np.nan, inplace=True)\n",
        "\n",
        "  # Copy original dataframe to reduce data loss (mainly of data typing)\n",
        "  df_original = df.copy()\n",
        "\n",
        "  # Create missingness map\n",
        "  missingness_map = df[column].isna()\n",
        "\n",
        "  # Store dependant columns original data type\n",
        "  original_dtype = df[column].dtype\n",
        "\n",
        "  # Find all categories\n",
        "  categories = [independant_column for independant_column in df.columns if not pd.api.types.is_numeric_dtype(df[independant_column]) and not independant_column == column]\n",
        "  encoder = LabelEncoder()\n",
        "\n",
        "\n",
        "  # Encode all categories\n",
        "  for independant_column in categories:\n",
        "    df[independant_column] = encoder.fit_transform(df[independant_column].astype(str))\n",
        "\n",
        "\n",
        "  # Handle the dependant column being classification based (not numeric in a sense) - encode\n",
        "  dependant_encoder = LabelEncoder()\n",
        "\n",
        "\n",
        "  if is_classification:\n",
        "    df[df[column].notna()] = df[df[column].notna()].astype(str)\n",
        "    df.loc[df[column].notna(), column] = dependant_encoder.fit_transform(df.loc[df[column].notna(), column])\n",
        "\n",
        "\n",
        "  # Figure out encoded boundaries for the missing column\n",
        "  encoded_min = df[column].min()\n",
        "  encoded_max = df[column].max()\n",
        "\n",
        "  # Perform mice imputation\n",
        "  mice_imputer = IterativeImputer()\n",
        "  df_imputed = pd.DataFrame(mice_imputer.fit_transform(df.astype(float)), columns=df.columns)\n",
        "\n",
        "\n",
        "  # Handle the dependant column being classification based (not numeric in a sense) - unencode\n",
        "  if is_classification:\n",
        "\n",
        "    # Make sure predictions are positive and rounded to the nearest integer\n",
        "    df_imputed[column] = [np.round(prediction) if prediction > 0 else 0 for prediction in df_imputed[column]]\n",
        "\n",
        "\n",
        "    # Unencode data - can't unencode is already encoded outside this function\n",
        "    if unencode:\n",
        "      imputed_values = np.array(df_imputed[column])\n",
        "      df_imputed[column] = np.clip(imputed_values, encoded_min, encoded_max, out=None)\n",
        "      df_original[column] = dependant_encoder.inverse_transform(df_imputed[column].astype(int))\n",
        "\n",
        "    else:\n",
        "      df_original[column] = df_imputed[column]\n",
        "\n",
        "  else:\n",
        "\n",
        "    # Replace the missing values with the predicted values in the original unencoded dataframe\n",
        "    df_original[column] = df_imputed[column]\n",
        "\n",
        "\n",
        "  # Convert column back to original data type\n",
        "  df_original[column] = df_original[column].astype(original_dtype)\n",
        "\n",
        "  predictions = list(df_original[missingness_map][column])\n",
        "\n",
        "\n",
        "  return df_original, predictions"
      ]
    },
    {
      "cell_type": "markdown",
      "metadata": {
        "id": "tEH2uHUeYiUA"
      },
      "source": [
        "#### MissForest imputation\n",
        "\n",
        "In MissForest imputation a random forest model is trained on the observed data inside the missing value variables (gives predictions for the missing values and replaces / updates them inside the dataset) until convergence of the imputed values with the initial guesses (mean / mode / median imputation)"
      ]
    },
    {
      "cell_type": "code",
      "execution_count": null,
      "metadata": {
        "id": "EtwJhXBLYkav"
      },
      "outputs": [],
      "source": [
        "def missforest_imputation(df, column, is_classification, unencode):\n",
        "\n",
        "  # Avoid error by changing vall null values to NaN\n",
        "  df.replace([None, 'None', 'NaT', 'NaN'], np.nan, inplace=True)\n",
        "\n",
        "  # Copy original dataframe to reduce data loss (mainly of data typing)\n",
        "  df_original = df.copy()\n",
        "\n",
        "  # Create missingness map\n",
        "  missingness_map = df[column].isna()\n",
        "\n",
        "  # Store dependant columns original data type\n",
        "  original_dtype = df[column].dtype\n",
        "\n",
        "  # Find all categories\n",
        "  categories = [independant_column for independant_column in df.columns if not pd.api.types.is_numeric_dtype(df[independant_column]) and not independant_column == column]\n",
        "  encoder = LabelEncoder()\n",
        "\n",
        "\n",
        "  # Encode all categories\n",
        "  for independant_column in categories:\n",
        "    df[independant_column] = encoder.fit_transform(df[independant_column].astype(str))\n",
        "\n",
        "\n",
        "  # Handle the dependant column being classification based (not numeric in a sense) - encode\n",
        "  dependant_encoder = LabelEncoder()\n",
        "\n",
        "\n",
        "  if is_classification:\n",
        "    df[df[column].notna()] = df[df[column].notna()].astype(str)\n",
        "    df.loc[df[column].notna(), column] = dependant_encoder.fit_transform(df.loc[df[column].notna(), column])\n",
        "\n",
        "\n",
        "  missforest_imputer = MissForest(\n",
        "      categorical=categories\n",
        "  )\n",
        "\n",
        "  df_imputed = pd.DataFrame(missforest_imputer.fit_transform(df.astype(float)), columns=df.columns)\n",
        "\n",
        "\n",
        "  # Handle the dependant column being classification based (not numeric in a sense) - unencode\n",
        "  if is_classification:\n",
        "\n",
        "\n",
        "    # Unencode data - can't unencode is already encoded outside this function\n",
        "    if unencode:\n",
        "      df_original[column] = dependant_encoder.inverse_transform(df_imputed[column].astype(int))\n",
        "\n",
        "    else:\n",
        "      df_original[column] = df_imputed[column]\n",
        "\n",
        "  else:\n",
        "\n",
        "    # Replace the missing values with the predicted values in the original unencoded dataframe\n",
        "    df_original[column] = df_imputed[column]\n",
        "\n",
        "\n",
        "  # Convert column back to original data type\n",
        "  df_original[column] = df_original[column].astype(original_dtype)\n",
        "\n",
        "  predictions = list(df_original[missingness_map][column].astype(original_dtype))\n",
        "\n",
        "\n",
        "  return df_original, predictions"
      ]
    },
    {
      "cell_type": "markdown",
      "metadata": {
        "id": "qHnwXq94YxmW"
      },
      "source": [
        "#### Bayesian imputation\n",
        "\n",
        "In Bayesian imputation we utilize Bayesian inference to generate a probabilistic model to estimate the missing values. In Bayesian statistics you have a prior distribution which represents beliefs about the missing values based on the features of the observed data (such as distribution). The posterior distribution is created by combining the likelihood function (described how the observed data is distributed according to the model, given its model parameters) Many values are drawn from the posterior distribution and combined to give the imputed value."
      ]
    },
    {
      "cell_type": "code",
      "execution_count": null,
      "metadata": {
        "id": "bSfJdtgCY4B6"
      },
      "outputs": [],
      "source": [
        "def bayesian_imputation(df, column, is_classification, unencode):\n",
        "\n",
        "  # Avoid error by changing vall null values to NaN\n",
        "  df.replace([None, 'None', 'NaT', 'NaN'], np.nan, inplace=True)\n",
        "\n",
        "  # Copy original dataframe to reduce data loss (mainly of data typing)\n",
        "  df_original = df.copy()\n",
        "\n",
        "  # Store dependant columns original data type\n",
        "  original_dtype = df[column].dtype\n",
        "\n",
        "  # Get a list of all other features than the given column\n",
        "  independant_features = [independant_column for independant_column in df.columns if independant_column != column]\n",
        "\n",
        "  # Handle the dependant column being classification based (not numeric in a sense) - encode\n",
        "  dependant_encoder = LabelEncoder()\n",
        "\n",
        "\n",
        "  if is_classification:\n",
        "    df[df[column].notna()] = df[df[column].notna()].astype(str)\n",
        "    df.loc[df[column].notna(), column] = dependant_encoder.fit_transform(df.loc[df[column].notna(), column])\n",
        "\n",
        "\n",
        "  # Handle the independent columns not being numeric\n",
        "  for independant_column in independant_features:\n",
        "\n",
        "\n",
        "    # Encode the column if it's data is not numeric\n",
        "    if not pd.api.types.is_numeric_dtype(df[independant_column]):\n",
        "\n",
        "      # Initialize LabelEncoder\n",
        "      encoder = LabelEncoder()\n",
        "\n",
        "      # Encode column\n",
        "      df[independant_column] = df[independant_column].astype(str)\n",
        "      df[independant_column] = encoder.fit_transform(df[independant_column])\n",
        "\n",
        "\n",
        "  # Figure out encoded boundaries for the missing column\n",
        "  encoded_min = df[column].min()\n",
        "  encoded_max = df[column].max()\n",
        "\n",
        "\n",
        "  # Gather train data\n",
        "  train_data = df.dropna()\n",
        "\n",
        "  # Train a linear regression model independant columns\n",
        "  X_train = train_data[independant_features]\n",
        "  y_train = train_data[column]\n",
        "\n",
        "\n",
        "  # Determine regression model based on task type\n",
        "  model = BayesianRidge()\n",
        "\n",
        "  model.fit(X_train, y_train)\n",
        "\n",
        "\n",
        "  #Gather test data\n",
        "  test_data = df[df[column].isna()]\n",
        "\n",
        "  X_test = test_data[independant_features]\n",
        "\n",
        "  original_predictions = model.predict(X_test)\n",
        "\n",
        "\n",
        "  # Handle the dependant column being classification based (not numeric in a sense) - unencode\n",
        "  if is_classification:\n",
        "\n",
        "    # Make sure predictions are positive and rounded to the nearest integer\n",
        "    original_predictions = [int(np.round(prediction)) if prediction > 0 else 0 for prediction in original_predictions]\n",
        "\n",
        "\n",
        "    # Unencode data - can't unencode is already encoded outside this function\n",
        "    if unencode:\n",
        "      original_predictions = np.clip(original_predictions, encoded_min, encoded_max, out=None)\n",
        "      df_original.loc[df_original[column].isna(), column] = dependant_encoder.inverse_transform(original_predictions)\n",
        "\n",
        "    else:\n",
        "      df_original.loc[df_original[column].isna(), column] = original_predictions\n",
        "\n",
        "  else:\n",
        "\n",
        "    # Replace the missing values with the predicted values in the original unencoded dataframe\n",
        "    df_original.loc[df_original[column].isna(), column] = original_predictions\n",
        "\n",
        "\n",
        "  # Convert column back to original data type\n",
        "  df_original[column] = df_original[column].astype(original_dtype)\n",
        "\n",
        "  # Define missingness_map here, within the function's scope\n",
        "  missingness_map = df_original[column].isna()\n",
        "  predictions = list(df_original[missingness_map][column])\n",
        "\n",
        "\n",
        "  return df_original, predictions"
      ]
    },
    {
      "cell_type": "markdown",
      "metadata": {
        "id": "1_8ySddMY4eH"
      },
      "source": [
        "#### kNN imputation\n",
        "\n",
        "In kNN imputation we identify the k-nearest neighbours of the missing data point based on a similarity metric of other features and the missing value is then replaced with Mean / Median / Mode imputation of that set. We calculate the distance (usually using distance Euclidean distance or Pearson correlation) between the missing data point and all data points with the observed variable and choose the k closest."
      ]
    },
    {
      "cell_type": "code",
      "execution_count": null,
      "metadata": {
        "id": "v5-qmKOn9PNz"
      },
      "outputs": [],
      "source": [
        "def kNN_imputation(df, column, is_classification, unencode):\n",
        "\n",
        "  # Avoid error by changing vall null values to NaN\n",
        "  df.replace([None, 'None', 'NaT', 'NaN'], np.nan, inplace=True)\n",
        "\n",
        "  # Copy original dataframe to reduce data loss (mainly of data typing)\n",
        "  df_original = df.copy()\n",
        "\n",
        "  # Create missingness map\n",
        "  missingness_map = df[column].isna()\n",
        "\n",
        "  # Store dependant columns original data type\n",
        "  original_dtype = df[column].dtype\n",
        "\n",
        "  # Find all categories\n",
        "  categories = [independant_column for independant_column in df.columns if not pd.api.types.is_numeric_dtype(df[independant_column]) and not independant_column == column]\n",
        "  encoder = LabelEncoder()\n",
        "\n",
        "\n",
        "  # Encode all categories\n",
        "  for independant_column in categories:\n",
        "    df[independant_column] = encoder.fit_transform(df[independant_column].astype(str))\n",
        "\n",
        "\n",
        "  # Handle the dependant column being classification based (not numeric in a sense) - encode\n",
        "  dependant_encoder = LabelEncoder()\n",
        "\n",
        "\n",
        "  if is_classification:\n",
        "    df[df[column].notna()] = df[df[column].notna()].astype(str)\n",
        "    df.loc[df[column].notna(), column] = dependant_encoder.fit_transform(df.loc[df[column].notna(), column])\n",
        "\n",
        "\n",
        "  # Perform kNN imputation\n",
        "  kNN_imputer = KNN()\n",
        "  df_imputed = pd.DataFrame(kNN_imputer.fit_transform(df.astype(float)), columns=df.columns)\n",
        "\n",
        "\n",
        "  # Handle the dependant column being classification based (not numeric in a sense) - unencode\n",
        "  if is_classification:\n",
        "\n",
        "    # Make sure predictions are positive and rounded to the nearest integer\n",
        "    df_imputed[column] = [np.round(prediction) if prediction > 0 else 0 for prediction in df_imputed[column]]\n",
        "\n",
        "\n",
        "    # Unencode data - can't unencode is already encoded outside this function\n",
        "    if unencode:\n",
        "      df_original[column] = dependant_encoder.inverse_transform(df_imputed[column].astype(int))\n",
        "\n",
        "    else:\n",
        "      df_original[column] = df_imputed[column]\n",
        "\n",
        "  else:\n",
        "\n",
        "    # Replace the missing values with the predicted values in the original unencoded dataframe\n",
        "    df_original[column] = df_imputed[column]\n",
        "\n",
        "\n",
        "  # Convert column back to original data type\n",
        "  df_original[column] = df_original[column].astype(original_dtype)\n",
        "\n",
        "  predictions = list(df_original[missingness_map][column])\n",
        "\n",
        "\n",
        "  return df_original, predictions"
      ]
    },
    {
      "cell_type": "markdown",
      "metadata": {
        "id": "rEx99x9kD2Gd"
      },
      "source": [
        "# Imputation algorithm assessment\n",
        "\n",
        "In this section we create the functions that are used to assess the effectiveness of an imputation algorithm on a given dataset.\n",
        "\n",
        "We do this by two methods who's implementations (functions) can be seen below:\n",
        "1.   Log-transformed root mean squared error (LRMSE)\n",
        "2.   Average percentage of accuracy\n",
        "\n"
      ]
    },
    {
      "cell_type": "markdown",
      "metadata": {
        "id": "_Zde1gy4SwXi"
      },
      "source": [
        "#### Log-transformed root mean squared error (LRMSE)\n",
        "\n",
        "Log-transformed root mean squared error (LRMSE) can be used to assess the performance of different imputation algorithms. It is scale-invariant, allowing direct comparisons of imputations methods accuracy across different data sets."
      ]
    },
    {
      "cell_type": "code",
      "execution_count": null,
      "metadata": {
        "id": "wsekbYxsD2PT"
      },
      "outputs": [],
      "source": [
        "def LRMSE(column_original, column_imputed, is_classification):\n",
        "\n",
        "\n",
        "  # Encode the arrys if nessessary\n",
        "  if is_classification:\n",
        "\n",
        "    combined_columns = np.concatenate((column_original, column_imputed))\n",
        "\n",
        "    # Initialize LabelEncoder\n",
        "    encoder = LabelEncoder()\n",
        "\n",
        "    encoded_combined = encoder.fit_transform(combined_columns)\n",
        "\n",
        "    column_original = encoded_combined[:len(column_original)]\n",
        "    column_imputed = encoded_combined[len(column_original):]\n",
        "\n",
        "\n",
        "  # Calculate the LRMSE - if value is infinite set to 0\n",
        "  log_original = np.array([log if not np.isinf(log) else 0 for log in np.log(column_original)])\n",
        "  log_imputed = np.array([log if not np.isinf(log) else 0 for log in np.log(column_imputed)])\n",
        "\n",
        "  #Compute the root mean squared error (RMSE)\n",
        "  rmse = np.sqrt(np.mean((log_original - log_imputed)**2))\n",
        "\n",
        "\n",
        "  return rmse"
      ]
    },
    {
      "cell_type": "markdown",
      "metadata": {
        "id": "OARpxsAgTBQu"
      },
      "source": [
        "#### Main Assessment function\n",
        "\n",
        "This function combines assessment functions to take the Log-transformed root mean squared error (LRMSE) when the imputation tasks is not classification (numeric or continuous) and to take the accuracy (percentage of correctness) when it is a classification task"
      ]
    },
    {
      "cell_type": "code",
      "execution_count": null,
      "metadata": {
        "id": "MRTow4kyTBcc"
      },
      "outputs": [],
      "source": [
        "def main_assessment(column_original, column_imputed, is_classification):\n",
        "\n",
        "  main_assessment_accuracy = None\n",
        "\n",
        "\n",
        "  if is_classification:\n",
        "\n",
        "    # Use the sklearn accuracy function\n",
        "    main_assessment_accuracy = accuracy_score([str(_) for _ in column_original], [str(_) for _ in column_imputed])\n",
        "\n",
        "  else:\n",
        "\n",
        "    # Use the LRMSE function - invert the functions score to get an accuracy assessment\n",
        "    main_assessment_accuracy = 1 / LRMSE(column_original, column_imputed, is_classification)\n",
        "\n",
        "\n",
        "  return main_assessment_accuracy"
      ]
    },
    {
      "cell_type": "markdown",
      "metadata": {
        "id": "lQ_zr0mJP6Pz"
      },
      "source": [
        "# Imputation algorithm assessment on datasets\n",
        "\n",
        "In this section we go through all the datasets in a missiness mechansim file and run all imputation algorithms on this dataset to replace the missing data. Once we have the imputed data we use the LMRSE or Average of percentages accuracy function to assess the quality of imputation algorithms estimation. We use this information to rank to algorithms for the given dataset and record in a key pair format respecively the filename and the most effective imputation algorithm for the dataset inside the file. We do this for each file and store the information and a look-up dictionary stored inside a JSON file in the missingness mechansims file. We repeat this process for each missingness mechansim"
      ]
    },
    {
      "cell_type": "code",
      "source": [
        "%%capture\n",
        "\n",
        "shutil.rmtree('/content/temp_folder', ignore_errors=True)\n",
        "\n",
        "# Specify the paths\n",
        "download_path = './datasets'\n",
        "original_path = \"./data/Original\"\n",
        "mcar_path = \"./data/MCAR\"\n",
        "mar_path = \"./data/MAR\"\n",
        "mnar_path = \"./data/MNAR\"\n",
        "imputation_stats_folder = \"imputation_stats\"\n",
        "imputation_stats_file = \"imputation_stats.json\"\n",
        "\n",
        "missingness_mechansims = [\"MNAR\"]\n",
        "missingness_datasets = {}\n",
        "\n",
        "\n",
        "for mechansim in missingness_mechansims:\n",
        "\n",
        "\n",
        "  \"\"\"Assess imputation algorithms for MCAR data - as example\"\"\"\n",
        "  mechanism_path = os.path.join(\"./data\", mechansim)\n",
        "\n",
        "  MCAR_imputation_datasets_stats = {}\n",
        "\n",
        "  mechansim_datasets_lists = []\n",
        "\n",
        "  # They should only be json files\n",
        "  json_files = [file for file in os.listdir(mechanism_path) if file.endswith('.json')]\n",
        "\n",
        "\n",
        "  for file in json_files:\n",
        "\n",
        "\n",
        "      try:\n",
        "\n",
        "\n",
        "\n",
        "\n",
        "          \"\"\"Assess imputation algorithms for dataset\"\"\"\n",
        "\n",
        "          # Get the datasets needed\n",
        "          df_mcar = pd.read_json(os.path.join(mechanism_path, file), lines=True)\n",
        "          df_original = pd.read_json(os.path.join(original_path, file), lines=True)\n",
        "          mechansim_datasets_lists.append((df_mcar, df_original))\n",
        "\n",
        "      except:\n",
        "        _ = 1\n",
        "\n",
        "\n",
        "  missingness_datasets[mechansim] = mechansim_datasets_lists"
      ],
      "metadata": {
        "id": "GkQidAI9ANeB"
      },
      "execution_count": null,
      "outputs": []
    },
    {
      "cell_type": "code",
      "execution_count": null,
      "metadata": {
        "collapsed": true,
        "id": "NP3cDwCxReqD"
      },
      "outputs": [],
      "source": [
        "%%capture\n",
        "\n",
        "shutil.rmtree('/content/temp_folder', ignore_errors=True)\n",
        "\n",
        "# Specify the paths\n",
        "download_path = './datasets'\n",
        "original_path = \"./data/Original\"\n",
        "mcar_path = \"./data/MCAR\"\n",
        "mar_path = \"./data/MAR\"\n",
        "mnar_path = \"./data/MNAR\"\n",
        "imputation_stats_folder = \"imputation_stats\"\n",
        "imputation_stats_file = \"imputation_stats.json\"\n",
        "\n",
        "# Create imputation algorithm lookup for future use\n",
        "imputation_scores_lookup = {\n",
        "    0: \"Mean / Mode / Median Imputation\",\n",
        "    1: \"LOCF Imputation\",\n",
        "    2: \"NOCF Imputation\",\n",
        "    3: \"Regression Imputation\",\n",
        "    4: \"MICE imputation\",\n",
        "    5: \"MissForest Imputation\",\n",
        "    6: \"Bayesian Imputation\",\n",
        "    7: \"kNN Imputation\"\n",
        "}\n",
        "imputation_scores_lookup_inverse = {value: key for key, value in imputation_scores_lookup.items()}\n",
        "\n",
        "missingness_mechansims = [\"MNAR\"]\n",
        "\n",
        "\n",
        "for mechansim in missingness_mechansims:\n",
        "\n",
        "\n",
        "\n",
        "\n",
        "  \"\"\"Assess imputation algorithms for MCAR data - as example\"\"\"\n",
        "  mechanism_path = os.path.join(\"./data\", mechansim)\n",
        "\n",
        "  MCAR_imputation_datasets_stats = []\n",
        "\n",
        "  # They should only be json files\n",
        "  json_datasets = missingness_datasets[mechansim]\n",
        "\n",
        "\n",
        "  for datasets in json_datasets:\n",
        "\n",
        "\n",
        "      try:\n",
        "\n",
        "\n",
        "\n",
        "\n",
        "          \"\"\"Assess imputation algorithms for dataset\"\"\"\n",
        "\n",
        "          # Get the datasets needed\n",
        "          df_mcar = datasets[0]\n",
        "          df_original = datasets[1]\n",
        "\n",
        "          # print(\"----------------------------------------------\")\n",
        "          # print(f\"MCAR dataframe: \\n {df_mcar} \\n\\n\")\n",
        "\n",
        "          # Get information from the missing data dataset to run the imputation\n",
        "          missingness_column = df_mcar.columns[df_mcar.isna().any()].tolist()[0]\n",
        "          isnull_mask = ~df_mcar.drop(columns=[missingness_column]).isnull().any(axis=1)\n",
        "          df_mcar = df_mcar[isnull_mask]\n",
        "          df_original = df_original[isnull_mask]\n",
        "          is_classification = True if not pd.api.types.is_numeric_dtype(df_mcar[missingness_column]) else False\n",
        "          missingness_map = df_mcar[missingness_column].isna()\n",
        "          is_encoded = False\n",
        "          unencode = True\n",
        "          imputation_scores = [0] * 8\n",
        "          column_original = list(df_original[missingness_map][missingness_column])\n",
        "\n",
        "          # Store dependant columns original data type\n",
        "          original_dtype = df_original[missingness_column].dtype\n",
        "\n",
        "\n",
        "          # if there is no missing data continue to the next file\n",
        "          if len(df_mcar.columns[df_mcar.isna().any()].tolist()) < 1:\n",
        "\n",
        "\n",
        "            continue\n",
        "\n",
        "\n",
        "          # if the missingness column only has missing data continue to the next file\n",
        "          if df_mcar[missingness_column].isna().all():\n",
        "\n",
        "\n",
        "            continue\n",
        "\n",
        "\n",
        "          # Run Mean / Mode / Median imputation ---------------------------------\n",
        "\n",
        "\n",
        "          try:\n",
        "            df_mcar_temp = df_mcar.copy()\n",
        "\n",
        "            df_mcar_temp, column_imputed = mean_mode_median_imputation(df_mcar_temp, missingness_column, is_classification)\n",
        "\n",
        "            mean_mode_median_imputation_score = main_assessment(column_original, column_imputed, is_classification)\n",
        "\n",
        "            imputation_scores[0] = mean_mode_median_imputation_score\n",
        "\n",
        "\n",
        "            del df_mcar_temp\n",
        "\n",
        "          except Exception as e:\n",
        "              print(\"\\n\\n\\n-----------------------------------------------\")\n",
        "              print(f\"An error occurred with Mean / Mode / Median imputation: {e}\")\n",
        "              print(f\"Missingness column {missingness_column}\")\n",
        "              print(f\"Dataframe: {df_mcar_temp}\")\n",
        "              print(\"-----------------------------------------------\\n\\n\\n\")\n",
        "\n",
        "\n",
        "              continue\n",
        "          # ---------------------------------------------------------------------\n",
        "\n",
        "\n",
        "\n",
        "          # LOCF Imputation ----------------------------------------------------\n",
        "          try:\n",
        "            df_mcar_temp = df_mcar.copy()\n",
        "\n",
        "            df_mcar_temp, column_imputed = locf_imputation(df_mcar_temp, missingness_column)\n",
        "\n",
        "            locf_imputation_score = main_assessment(column_original, column_imputed, is_classification)\n",
        "\n",
        "            imputation_scores[1] = locf_imputation_score\n",
        "\n",
        "\n",
        "            del df_mcar_temp\n",
        "\n",
        "          except Exception as e:\n",
        "              print(\"\\n\\n\\n-----------------------------------------------\")\n",
        "              print(f\"An error occurred with LOCF Imputation: {e}\")\n",
        "              print(f\"Missingness column {missingness_column}\")\n",
        "              print(f\"Dataframe: {df_mcar_temp}\")\n",
        "              print(\"-----------------------------------------------\\n\\n\\n\")\n",
        "\n",
        "\n",
        "              continue\n",
        "          # --------------------------------------------------------------------\n",
        "\n",
        "\n",
        "\n",
        "          # NOCF Imputation ----------------------------------------------------\n",
        "          try:\n",
        "            df_mcar_temp = df_mcar.copy()\n",
        "\n",
        "            df_mcar_temp, column_imputed = nocf_imputation(df_mcar_temp, missingness_column)\n",
        "\n",
        "            nocf_imputation_score = main_assessment(column_original, column_imputed, is_classification)\n",
        "\n",
        "            imputation_scores[2] = nocf_imputation_score\n",
        "\n",
        "\n",
        "            del df_mcar_temp\n",
        "\n",
        "          except Exception as e:\n",
        "              print(\"\\n\\n\\n-----------------------------------------------\")\n",
        "              print(f\"An error occurred with NOCF Imputation: {e}\")\n",
        "              print(f\"Missingness column {missingness_column}\")\n",
        "              print(f\"Dataframe: {df_mcar_temp}\")\n",
        "              print(\"-----------------------------------------------\\n\\n\\n\")\n",
        "\n",
        "\n",
        "              continue\n",
        "          # ---------------------------------------------------------------------\n",
        "\n",
        "\n",
        "\n",
        "          # Regression Imputation -----------------------------------------------\n",
        "          try:\n",
        "            df_mcar_temp = df_mcar.copy()\n",
        "\n",
        "            df_mcar_temp, column_imputed = regression_imputation(df_mcar_temp, missingness_column, is_classification, unencode)\n",
        "\n",
        "            regression_imputation_score = main_assessment(column_original, column_imputed, is_classification)\n",
        "\n",
        "            imputation_scores[3] = regression_imputation_score\n",
        "\n",
        "\n",
        "            del df_mcar_temp\n",
        "\n",
        "          except Exception as e:\n",
        "              print(\"\\n\\n\\n-----------------------------------------------\")\n",
        "              print(f\"An error occurred with Regression Imputation: {e}\")\n",
        "              print(f\"Missingness column {missingness_column}\")\n",
        "              print(f\"Dataframe: {df_mcar_temp}\")\n",
        "              print(\"-----------------------------------------------\\n\\n\\n\")\n",
        "\n",
        "\n",
        "              continue\n",
        "          # ---------------------------------------------------------------------\n",
        "\n",
        "\n",
        "\n",
        "          # MICE Imputation -----------------------------------------------------\n",
        "          try:\n",
        "            df_mcar_temp = df_mcar.copy()\n",
        "\n",
        "            df_mcar_temp, column_imputed = mice_imputation(df_mcar_temp, missingness_column, is_classification, unencode)\n",
        "\n",
        "            mice_imputation_score = main_assessment(column_original, column_imputed, is_classification)\n",
        "\n",
        "            imputation_scores[4] = mice_imputation_score\n",
        "\n",
        "\n",
        "            del df_mcar_temp\n",
        "\n",
        "          except Exception as e:\n",
        "              print(\"\\n\\n\\n-----------------------------------------------\")\n",
        "              print(f\"An error occurred with MICE Imputation: {e}\")\n",
        "              print(f\"Missingness column {missingness_column}\")\n",
        "              print(f\"Dataframe: {df_mcar_temp}\")\n",
        "              print(\"-----------------------------------------------\\n\\n\\n\")\n",
        "\n",
        "\n",
        "              continue\n",
        "          # ---------------------------------------------------------------------\n",
        "\n",
        "\n",
        "\n",
        "          # MissForest Imputation -----------------------------------------------\n",
        "          try:\n",
        "            df_mcar_temp = df_mcar.copy()\n",
        "\n",
        "            df_mcar_temp, column_imputed = missforest_imputation(df_mcar_temp, missingness_column, is_classification, unencode)\n",
        "\n",
        "            missforest_imputation_score = main_assessment(column_original, column_imputed, is_classification)\n",
        "\n",
        "            imputation_scores[5] = missforest_imputation_score\n",
        "\n",
        "\n",
        "            del df_mcar_temp\n",
        "\n",
        "          except Exception as e:\n",
        "              print(\"\\n\\n\\n-----------------------------------------------\")\n",
        "              print(f\"An error occurred with MissForest Imputation: {e}\")\n",
        "              print(f\"Missingness column {missingness_column}\")\n",
        "              print(f\"Dataframe: {df_mcar_temp}\")\n",
        "              print(\"-----------------------------------------------\\n\\n\\n\")\n",
        "\n",
        "\n",
        "              continue\n",
        "          # ---------------------------------------------------------------------\n",
        "\n",
        "\n",
        "\n",
        "          # Bayesian Imputation -------------------------------------------------\n",
        "          try:\n",
        "            df_mcar_temp = df_mcar.copy()\n",
        "\n",
        "            df_mcar_temp, column_imputed = bayesian_imputation(df_mcar_temp, missingness_column, is_classification, unencode)\n",
        "\n",
        "            bayesian_imputation_score = main_assessment(column_original, column_imputed, is_classification)\n",
        "\n",
        "            imputation_scores[6] = bayesian_imputation_score\n",
        "\n",
        "\n",
        "            del df_mcar_temp\n",
        "\n",
        "          except Exception as e:\n",
        "              print(\"\\n\\n\\n-----------------------------------------------\")\n",
        "              print(f\"An error occurred with Bayesian Imputation: {e}\")\n",
        "              print(f\"Missingness column {missingness_column}\")\n",
        "              print(f\"Dataframe: {df_mcar_temp}\")\n",
        "              print(\"-----------------------------------------------\\n\\n\\n\")\n",
        "\n",
        "\n",
        "              continue\n",
        "          # ---------------------------------------------------------------------\n",
        "\n",
        "\n",
        "\n",
        "          # kNN Imputation ------------------------------------------------------\n",
        "          try:\n",
        "            df_mcar_temp = df_mcar.copy()\n",
        "\n",
        "            df_mcar_temp, column_imputed = kNN_imputation(df_mcar_temp, missingness_column, is_classification, unencode)\n",
        "\n",
        "            kNN_imputation_score = main_assessment(column_original, column_imputed, is_classification)\n",
        "\n",
        "            imputation_scores[7] = kNN_imputation_score\n",
        "\n",
        "\n",
        "            del df_mcar_temp\n",
        "\n",
        "          except Exception as e:\n",
        "              print(\"\\n\\n\\n-----------------------------------------------\")\n",
        "              print(f\"An error occurred with kNN Imputation: {e}\")\n",
        "              print(f\"Missingness column {missingness_column}\")\n",
        "              print(f\"Dataframe: {df_mcar_temp}\")\n",
        "              print(\"-----------------------------------------------\\n\\n\\n\")\n",
        "\n",
        "\n",
        "              continue\n",
        "          # ---------------------------------------------------------------------\n",
        "\n",
        "\n",
        "\n",
        "          # Rank imputation algorithms scores using their index\n",
        "          imputation_scores_index_rank = np.argsort(imputation_scores)[::-1]\n",
        "          rank_1_imputation_algorithm = imputation_scores_lookup[imputation_scores_index_rank[0]]\n",
        "\n",
        "\n",
        "\n",
        "\n",
        "          \"\"\"Assess imputation algorithms for dataset\"\"\"\n",
        "\n",
        "          # Label encode all object or category columns\n",
        "          df_mcar_temp = df_mcar.copy()\n",
        "          encoder = LabelEncoder()\n",
        "\n",
        "\n",
        "          for column in df_mcar_temp.columns:\n",
        "\n",
        "\n",
        "              if not pd.api.types.is_numeric_dtype(df_mcar[column]):\n",
        "                  df_mcar_temp[column] = encoder.fit_transform(df_mcar_temp[column])\n",
        "\n",
        "\n",
        "          simple_metafeatures = get_statistical_metafeatures(df_mcar_temp, missingness_column)\n",
        "          missingness_metafeatures = get_missingness_metafeatures(df_mcar_temp, missingness_column, mechansim)\n",
        "\n",
        "\n",
        "\n",
        "\n",
        "          \"\"\"Construct the stats file with the optimal imputation algorithm and dataset metafeatures\"\"\"\n",
        "\n",
        "          # Save results to stats lookup\n",
        "          optimal_imputation_dict = {\"optimal_imputation_algorithm\": rank_1_imputation_algorithm}\n",
        "\n",
        "          # Merge metafeatures into dataset stats dictionary\n",
        "          optimal_imputation_dict.update(simple_metafeatures)\n",
        "          optimal_imputation_dict.update(missingness_metafeatures)\n",
        "\n",
        "          MCAR_imputation_datasets_stats.append(optimal_imputation_dict)\n",
        "\n",
        "\n",
        "          # Clean up\n",
        "          del df_mcar_temp\n",
        "          del df_mcar\n",
        "          del df_original\n",
        "\n",
        "\n",
        "          gc.collect()\n",
        "\n",
        "      except Exception as e:\n",
        "          print(f\"An error occurred: {e}\")\n",
        "\n",
        "\n",
        "\n",
        "\n",
        "  # print(\"\\n\\n\\n\\n----------------------------------------------------------------------\")\n",
        "  # print(mechansim)\n",
        "  # print(MCAR_imputation_datasets_stats)\n",
        "  # print(\"----------------------------------------------------------------------\\n\\n\\n\\n\")\n",
        "\n",
        "\n",
        "  print(\"\\n\\n\\\\n\\n\\n\\n\\n------------------------------------------------------------------------------------------\")\n",
        "  print(\"GOING INTO LARGE FILE OPERATION\")\n",
        "  print(\"------------------------------------------------------------------------------------------\\n\\n\\\\n\\n\\n\\n\\n\")\n",
        "\n",
        "\n",
        "  # Make directory if it doesn't exist\n",
        "  if not os.path.exists(os.path.join(mechanism_path, imputation_stats_folder)):\n",
        "      os.makedirs(os.path.join(mechanism_path, imputation_stats_folder))\n",
        "\n",
        "\n",
        "  with open(os.path.join(mechanism_path, imputation_stats_folder, imputation_stats_file), 'w') as imputation_stats_file_obj:\n",
        "      json.dump(MCAR_imputation_datasets_stats, imputation_stats_file_obj, indent=4)"
      ]
    },
    {
      "cell_type": "markdown",
      "metadata": {
        "id": "AoSEoglrVRa6"
      },
      "source": [
        "# **Testing**\n",
        "\n",
        "In this section we go through and test the code to validate the logic of the functionality and verify that it does exactly what we expect / want it to do. In the following sections we run the following types of tests on the code base:\n",
        "\n",
        "1.   Manual functional testing for simple imputation functions\n",
        "2.   Manual functional testing for Advanced imputation functions\n",
        "3.   Manual functional testing for imputation assessment functions\n",
        "\n",
        "\n",
        "\n",
        "\n",
        "\n"
      ]
    },
    {
      "cell_type": "markdown",
      "metadata": {
        "id": "hEeO70qIL6eR"
      },
      "source": [
        "### Manual functional testing for simple imputation functions\n",
        "\n",
        "Manual testing is executed to a specification (test case specification) which requires human intervention (manual execution by testers) without the use of any automation tools\n",
        "\n",
        "<br>\n",
        "\n",
        "### Test case specification:\n",
        "![image.png](data:image/png;base64,iVBORw0KGgoAAAANSUhEUgAAAu4AAALwCAIAAABHo2d2AAAgAElEQVR4Aeyd4XnqPJCFaYEaaCE9UEJqoIV0QAfpgApSAQ2kATpID95nOXvf7+xIFgYM2Gby415JSKOZM0ejsWzMqsu/RCARSAQSgUQgEUgEZovAaraap+KJQCKQCCQCiUAikAh0mcokCRKBRCARSAQSgURgxghkKjNj56XqiUAikAgkAolAIpCpTHIgEUgEEoFEIBFIBGaMQKYyM3Zeqp4IJAKJQCKQCCQClVRmlX+JQCKQCCQCiUAikAhMEoEydaunMmW/qbWsVhXNp6bk1PRJ0KbmkTfRJ4n3Jo5+spnJqycDPpHpqn6vJATVfhOxATVmoSTaTqSQoE3EEe+mRhLv3Tz+HHuTV8/BeWqzVP2eqczU3PRAfaoMeOB8KToROCOQxEsiPAKB5NUjUJ2+zKrfM5WZvuNG07DKgNGkp6BEoAeBJF4PMNl8FwLJq7vgm+3gqt+vS2W22235DNB+v38+JlVjuq57soY/57+q+dvt9iXIVJVR40RAewIyf39/+/3+7++vgUb50W2jSjnZEhDoI17fgg3Dp1Y9Ho8Nix6h7Wq1Oh6Pj5A8a5kXvfD7+7tarXa73dPM3O/32+32adNpBU1to3m0+VW/X5fK/P7+Hs9/Hx8fu91O5dPpdK3q2+329/f32lHev2pM13WP1vDr6+twOKDJx8fH5+enquGjJ2zYqDGw8CrQgnpPQObn52e1Wg3hmFNx+KhgUVbbCPQRT4H44+Pj+P//2tJG/DSs2YGSX5vK3KbzQNPm1a3BKxny9fW1Xq9Xq9XAq5r7sX1tKnM4HL6+vublxBu0rfr9ulSGWe/cje6/yKgag3r356p9GjYMDx+Fquv2qvKrQAv2TgqZPkcHnbN6DwIN4m3Pf/cIv2fsbVR8bSpzm873oDTZsQ1eSefNZnM4HNbrtV9/Nsy5H9vXpjLPn70B5uM+qvp9nFTm9/f34+NjtVqt1+vdbkcKfDgcNpuN2nUIpijAXaqbT02rxjh2gZSjaIjaq9VK5jBL4yNpxfXBx8fHz8+Pq/q08ktA01GZbvwppgBa13V/f3+fn59C7/Pzk3MUb/eDk7+/v91up/7erjWssHU8/2GsKPf7+ysdNpuN8C+pGLaon58f2OvXOsylTzebDWo/zZXzmghflGr3pTI/Pz/r9VqR5O/vb7PZfH9/c4my3+91te3Rpuu6vlWG93W7QWLLNduQwIzb7Vand8EWaLbZbBQcnMPObWKRK9N1XciqCTL+UVXnoMn7VBu86rpOHlHE4Oxc4Azkg0cqcY+bR7+/vwSuj48PIkBfMrFarX5+fpztVa46Zzy+NTThI3+4Aj0XSYaq30dIZU6n03q9VqA5nU6699R13el0kv+0mXlqHBbtDXBXjXE5OFiajKWhiyWwat7GR19fXx8fH7oT9/39vVqtbrgr59bdVn4VaJvNZrvdns5/u91uvV5zc1ds+Tv/7Xa7zWYj03a73Xa71Zbj7R/nv9PppAhFf+00n5+fx+Px7+/PkxKVt9ut8ub9fu/4OxV9lLYrXcxp7yGbYa7f318RPgTK27yz4FEN4m2323CDiV1hu93qKYf9fv/x8SF8ttut+PP393c6nTabDU9C9K0yBSglPR6gwvpVHlNdp4fDYbVaiQwkuMFf0Ozn50eru4/bm81GXPr7+yNaer4iydVUptQ5qPFW1Qavuq7b7XZamFrLXGAP50MZ0kkRRLwyQDVSGR0Rid59XO2Lew1N/KO+2RfGiqrfR0hlAnzsB3rkinOXw+FA2feP21CuGuOiGg6+R0MXG8JK46Ngb+jpaj+0/BLQhLanbly24gisBqjP858ixel0UuojRiHq7++P/r7bcUEmsQ0Fwv7h+nx+frJHdl3n0TDMtd/vyagwJAuOQIN4finJYZvGco3kjz2R36iPkgyVIYOqrLLv7293kJ+p0KctoTGpBkI59kvnUhDuqfzxeOTeR9A/Uxmw7Ss0eNV1nV88cynbdd1wPgR6+JmKH5m4r8NuiOZc1QcyqMpE1bgXNhpVSaoY23Vd3+yosYxC1e8jpDKcs/nhpyD7+vparVZKYMljwv5xG7hVY1yUO3hEDV1sYFjfR9qAHRwPUq7zo8svAU2nIG4aQOmAKiAjnvz+/ur2zXa7/f7+1g6h/i6KcljDHly8rP7b7ZZzFN8/vKfvNxwxSrcwV2kgWmVBCDSI59tDCZc8zhleWHEkEL/nv0AkVtnn5ydxP0wBFXVy3CcBURruPEFgaGxwW7dB1+v15+cneUwZFX1SZ6nrzOzvWWjwSgnrz8/P8fynwz+hNJAPJdmcq39/f9/f319fX5KMJiE44Bf3YGNHqMa9tibOh77ZUWMZBdB2c8ZJZfoihfaAw+GgZIJnRNyvrs3wctUYH+4ObnD3Wg1dbGBY30fhdMqVfHL5JaCV+QdAlR8FQI7H49fX12az0f2FRv+whn1f8bLk35DKhBMgJ3ymMsFrZbVBPN8eyoGfn5/r9drRhjzqLOeSyvj1EtIay9+lNdZpyGtLRpFUMWmDq3pE7OfnRzdbuXEZomKmMoDZV2jwqnr5qgPdgXwI4V1VUVHnhZ+fn6RKaBICEZq7cxtMU/8Q9xqahI/6ZkeNZRRA280ZIZUJ53V6oqrruvDFMN0F1NzuV9dmeLlqjA/3IDWihi420KjxkR916pa8X4252g8tvwQ0xX3uCnVdxw0mLWn/iGNbCn4iUoqCSGEN+2ajMif/rkC4FPZR7RtMvrlmKnORtA3iNVIZPfmrB2L0KJ5WHHu/ggzC+1ZZuAPoXg5rtk/C8BtMQNHHbcKjejZukGUqA5h9BVwfOujCI8RYnhwfzodAD7ga8lS/ZRkCEYoRqdTSYBrPiulhU2XnfZqEPahvdtRYRqHq9xFSGX+KSg9gK9B77hkecPOH9W4Dt2qMi3Lfj6jhbrf7+PhgX/RZyo+4i6GH1UVKRdLq5aPr/4jyq0DbbDafn5967FfX2dwy4DFe3ejlSyt+z1jhXhkP/fXYL/3DGvbtSmXlRowif3Iq+iiFJ0XD8rHfTGWu4meDeOVjv1oaf39/hHtyGgVuPfegh7vX6zWZTd8q8+Wvx35xX1izfRLEQB0q863MgICTRx/B1cBtP+PxR9q1TI7nP55ulqjVakUyF3RWh/f8t49X8hdRWuDofFeXRut/37Rt80HeOZ7/xA0xR8FBOcfxeNSX6TSL8qQwdbhk4oty5Y7QF/f6NNGKYKPxUCl9Fvlv1e8jpDL+bdvVavX5+YkjWfZQR8jqbnFIVK8CvWqMS/AkY0QNuZepzdhnCR9RlVZ8mVPPsbuqTyu/EDS+CH04HBw05RZ6RsG/0+hfSvSvr3t/P7m5mMrwxRO+jC3YnYphN2KI75fls3V5KnORwA3ilY/9qrOeQkCyQrwC99fXF1/ID1/G7ltl1S/fKizokSxy6z4JtOu2QmlRII/uIqGnc9u/jB2+pM3X+/XFXbQSS7lEDDqD0rsVSi8IAb+DDCa6tFb+MZAPf39/4qeyTw8yegxUX6f3UxmGhIvVcrODUb4jNOJenya+0TA7yTrmL6lQ9fuNqczLcaka83KtJq7Ae4JW7jETd9Py1BuReJ4HLw+otOgqBEbk1VXzZufXIlD1e6Yyr3XKU2evMuCpGrxiskxlXoH6/5tzROJlKvP/kH3vyoi8em8gZ2Z91e+ZyszMi/eoW2XAPQJnMTZTmZe7aUTiZSrzcm9OR4EReTUdo1KTiwhU/Z6pzEXcltOhyoDlmJeWTBWBJN5UPTNvvZJX8/bfrdpX/Z6pzK1wznBclQEztCNVnhkCSbyZOWwm6iavZuKokdWs+j1TmZFRnrK4KgOmrHDqtgwEknjL8OPUrEheTc0jz9Gn6vdMZZ4D/iRmqTJgEpqlEotGIIm3aPe+zLjk1cugf+nEVb9nKvNSnzx38ioDnqtCzvaOCCTx3tHrj7c5efV4jKc4Q9XvmcpM0VUP0qnKgAfNlWITARBI4gFFFkZEIHk1IpgzElX1+y2pzN/fn17PrJe0brdbfifyaXBUjXna7DOdKEGbqePmrnYSb+4enKb+yatp+uXRWlX9fnUqo19T0s+jHM9/enF7+O2ulxjz6EnnLr/KgLkblfpPH4Ek3vR9NEcNk1dz9Nr9Olf9fnUqo1+O4Nc7pZYa+eml+3W9KKFqzMVRb94hQXtzArzK/CTeq5Bf9rzJq2X7t8+6qt+vTmX8l4SZ6XQ67fd7/dowPz68Wq38h7L4OVC1+z0pfnVys9nwC2oIrxaqxlR7ZiMIJGhAkYVnIpDEeyba7zNX8up9fO2WVv1+XSrz9/e3Wq3a95L0G/RKa/w3x/XjrmX7z8/Per3m585168r1rparxlR7ZiMIJGhAkYVnIpDEeyba7zNX8up9fO2WVv1+XSqjn7MJP1/uc+joxXMdftz8+/t7s9kolem6jlOc8KMq/kPqQbJXq8Z4hyyXCCRoJSbZ8gQEknhPAPkNp0hevaHTu66r+v26VGbIqUzXdYfDQRnJdrsllfn7+1P14+Pj6+uLnGa9XuubUPy73W4veqhqzMVRb94hQXtzArzK/CTeq5Bf9rzJq2X7t8+6qt+vS2W6rqs+K/P7+7vdbvUs8Mf573A4HI9HpT5+ivP7+/v9/f3x8bFer5XNrNfrgc/HuGFVY7xDlksEErQSk2x5AgJJvCeA/IZTJK/e0OnjnMroxtB6va5+g6nrut/fX45huq7zVObr68tvPPGE7+fn5263wyWHw+Hr64tqXyFJ3IdMoz1Ba4CTHz0OgSTe47B9Z8nJq/f0ftXvV5/KtN8ro9zl+/u767rT6fTx8UFm48/K/P7+8njvz8/ParViCCmO2v2LTu62qjHeIcslAglaiUm2PAGBJN4TQH7DKZJXb+j00U5ldNbSeNuvvqm0Wq10y4lUJnwZ228q/fz8bDab1Wq1Xq85kslUZnSa5sofHdIUOASBJN4QlLLPtQgkr65FbBn9q36/+lRmIlhUjZmIbpNVI0GbrGuWrVgSb9n+fZV1yatXIf/aeat+z1TmtU556uxVBjxVg5zsLRFI4r2l2x9udPLq4RBPcoKq3zOVmaSvHqNUlQGPmSqlJgL/IZDE+w+LLI2HQPJqPCznJKnq90xl5uTCO3WtMuBOmTk8EbiIQBLvIkTZ4QYEklc3gLaAIVW/ZyqzAM8ONaHKgKGDs18icCsCSbxbkctxLQSSVy10lvtZ1e+ZyizX4YVlVQYUvbIhERgZgSTeyICmuDMCyav3JELV75nKvBEZqgx4I/vT1BchkMR7EfALnzZ5tXAH95hX9XumMj1oLbG5yoAlGpo2TQuBJN60/LEUbZJXS/HkdXZU/X51KvNz/qvOHH7jutpnrMaqMWMJX6qcBG2pnp24XUm8iTtopuolr2bquDvVrvr96lTm4+Pj8/OzqkqmMlVYptNYZcB01EtNlopAEm+pnn2tXcmr1+L/qtmrfr86lWlon6lMA5wpfFRlwBQUSx2WjUASb9n+fZV1yatXIf/aeat+vzqV8Xzl9/d3u93qt5MOh4N/9GhTq8Y8etK5y0/Q5u7BmeqfxJup4yaudvJq4g56kHpVv9+Vymw2m+12ezr/7Xa79XrtPxL5IDMktmrMQ2dcgPAEbQFOnKMJSbw5em36Oievpu+jR2hY9fvtqczxeFytVqfTCV03m02mMqAxwUKVARPUM1VaGAJJvIU5dCLmJK8m4ognq1H1++2pzH6/DxLzBtOTPXrtdMFf1w7P/onAbQgk8W7DLUe1EUhetfFZ6qdVv9+eynx/fweJmcpMnDrBXxPXNtVbDAJJvMW4clKGJK8m5Y6nKVP1++2pTN5geprnxpqoyoCxhKecRKAPgSReHzLZfg8Cyat70Jvv2Krfb09luq7bbDafn5967Pfz8zMf+504OaoMmLjOqd4CEEjiLcCJEzQheTVBpzxBparf70pl+DL2ZrPJL2M/wYV3TlFlwJ0yc3gicBGBJN5FiLLDDQgkr24AbQFDqn6/OpWZCBBVYyai22TVSNAm65plK5bEW7Z/X2Vd8upVyL923qrfM5V5rVOeOnuVAU/VICd7SwSSeG/p9ocbnbx6OMSTnKDq90xlJumrxyhVZcBjpkqpicB/CCTx/sMiS+MhkLwaD8s5Sar6PVOZObnwTl2rDLhTZg5PBC4ikMS7CFF2uAGB5NUNoC1gSNXvmcoswLNDTagyYOjg7JcI3IpAEu9W5HJcC4HkVQud5X5W9XumMst1eGFZlQFFr2xIBEZGIIk3MqAp7oxA8uo9iVD1ez2VWeVfIpAIJAKJQCKQCCQC00OgzOHqqUzZL1sSgUQgEUgEEoFEIBF4LQJXnMq8VtGcPRFIBBKBRCARSAQSgRKBTGVKTLIlEUgEEoFEIBFIBGaDQKYys3FVKpoIJAKJQCKQCCQCJQKZypSYZEsiEBFYrVbr9frv7y98sN1uq0sodBulejgcfn9/XZRmPx6P3th13X6/X61WZXvoVlZvG7Xf7wMy48K13W73+720/f7+DiCUVgxp+f39/f7+HtLzVX1+zn+vmj3nTQTmhUA1Dudjv/NyYmr7cAT0tD4bquY7Ho9qf/j0XXc6nVar1el08rmUymy3W2/8+/tbr9e3JSU3jDocDpvNxhXoum5cuEhlTqfTer0eJQX5+vpar9dB7QdVt9vtkPTr6+vrcDigw8fHx+fnJ9UsJAKJQAOBTGUa4ORHicD/IbBarTabTTiY+fj4UNLwBJi+v78/Pj7CRNvtdrPZhPxDm3RoDAP7qjeM+vz8/Pr6CgLHhYtUJswyl+pAVOdu5lzckXouEoFMZRbp1jRqZARWq9V+v//4+GDb1mnE19eXLyE1aiP3I5zf39/Pz0+dVXx8fHCNvt/vt9utj+KjYMDHx4dfsuvT7fnv6+uLLEeHN9/f3759/v397Xa7cvau635+fpQMbTab399fH/X7+/vx8aFbRbvdLtxCkgJ/f3/lWZFOZYbA1TfF7++vDpzW6/XhcPA93jX8+fmRhqvV6vPzEw3Vn5Ruu93yEagKeWDc7/f0//r6+vv786q66RAO3Tabzc/Pj3+EcPU8nv8Eu/7VLb+q2t5NzHGrGx5crVY/Pz+wC36iTBYSgXdAwOMw9uYNJqDIQiLwvwgoldEWpbs8m83mcDjoqRRh9PPzs16vtV0dj0dtw/pos9mQDex2O+7I7Pf79Xr9+fn5+/t7Op367ikoySj3Y6UyuqOkRGd3/mMr1ewfHx/b7fZ0Ov39/X1/f6/Xa5mgvEc7Nzu09PdbOVJst9tJmv9bPSsaCFdjis1mI4VPp9Nut1uv1+SFpDIkbV3X/f39fXx8oOF2u9WQ0+kkR5T3pEIq4/2VvX1/f//9/f38/DCjUN1ut4JIrheS+ghkAv5I6P7dKJQ+pdqY2XWdpzJ9HhTUoqKcu1qt+rJh1MtCIrA8BDKVWZ5P06LxEVAqow1mt9vxgIinMr736NlbnmLxpyV829PRBeru93uyHBq7rvv6+qo+NqFURnNtNhuep/GtVGmQP2TD2VKYTsPZp1G+6zrX2RX7+PgoswRSmTZcnkz4FJrLFd5sNuzxpAXKvVDGpW23Wz+c2G63ZDkD+/twZm8oFvBRVUgKDcpttTHTU5mGByWcwyFVy9M7rM5CIrBUBDKVWapn064xESCV0b7CiYunMnpuxu8UkA3oivnr62u73eqeiJTzDZhvHpV6r9dr367oQCrz9/enR3m0Z/tWqptNDOm6brfbSTGG8ymJAjcs3By6qdB3VuSpTAOuvikcUk3kOSIa6oRjv9/LHB3klP2VE+AITHDkXb7nEEFayFfUUylm+MjxD6nMVWors2l4sBQOUbE0C4nAOyCQqcw7eDltvBcB3yF2ux3Ppvi+6/dBfD7dSfn8/Pz5+Tme/1h1vqH2pTK6b+UCKXsucjgcuHPkW2m5ESqj6rru8/Mz7PEkCuVHTEqh76zIUxllTlW4+qYoFfZUAw116+fr6+t4PP7+/jqS3n9qqcxVavelMngwUxnYmIU3R4Cg6jjkszKORpYTgf97VqYEwlOZz89Pv5FxOBx0nyLszdrMJMo34L5UZnf+K6fu26S5WaObGo3bE40bTN/f336rK9wWkTJ6RKOqmGd+3sHh6ptCedjFG0whE/Ld/aGpjD+xFO49YamnkiHbuEptpTINDwbhIYlEnywkAotHIFOZxbs4DRwBgSF7s3IUPTtyOp3Y59SuhzH1FCqr7mIqo68I9T3I6acybmTYSvseGtXDMXrB3fF49Bfu6SRJjyr//f2FDVhffWq8l2UIXI0pNpvN5+fn6fz3+fnpx12cynx9fW02GyUWShY5YXpoKqPHnvSVIo7BQPJ4PPIFJZ6P0UPfclBDbZ32kSq5FX0ezFTGaZ/ld0aAoOog5KmMo5HlRGDQqYx/t3m9Xvujo/rO9mq12u12V53K8Hxx1QcDU5nGV3n5Mra+Ik6i0HUd32kKX3WWJrvzX1WrxtmAn8o0pmBqHfz4po6Gf39/fGF7f/57TioDYv5l7K7rdINvtVop10FP/+h4PDbU/v391RfjdRjjVjc86BM1kO/zVLYnAstAIFOZZfgxrUgEEoHHIqCzrsfOkdITgUTgJgQylbkJthyUCCQCb4ZApjJv5vA0d04IZCozJ2+lrolAIvAqBDKVeRXyOW8icBGBTGUuQpQdEoFEIBFIBBKBRGC6CGQqM13fpGaJQCKQCCQCiUAicBGBTGUuQpQdEoFEIBFIBBKBRGC6CGQqM13fpGaJQCKQCCQCiUAicBGBTGUuQpQdEoFEIBFIBBKBRGC6CGQqM13fpGaJQCKQCCQCiUAicBGBTGUuQpQdEoFEIBFIBBKBRGC6CGQqM13fpGaJQCKQCCQCiUAicBGBTGUuQpQdEoFEIBFIBBKBRGC6CGQqM13fpGaJQCKQCCQCiUAicBGBTGUuQpQdEoFEIBFIBBKBRGC6CGQqM13fpGaJQCKQCCQCiUAicBGBTGUuQpQdEoFEIBFIBBKBRGC6CFyRyqzyLxFIBBKBRCARSAQSgekhUOZZq0rTqtJYdnttSzUve61K0589QZu+jxapYRJvkW59uVHJq5e74CUKVP1eyVqq/V6icWPSWSjZ0P8lHyVoL4E9J03iJQcegUDy6hGoTl9m1e+ZykzfcaNpWGXAaNJTUCLQg0ASrweYbL4LgeTVXfDNdnDV789LZXa73X6/Hwu9qjESvtlsttttOdHxeFytVsfjsfxoxJbj8VjOvlqtdrtdOcvhcFitVqfTqfyor2W73VZF9fX39jZo5f3Qw+Hgw59ZHmLm8Xi8Croh+t9m8mq1um3gEJUW0KePeNvttmTdarXSChoR1d1uV67KAOzpdBo9OFRZsd/vN5tNmP3+KnMNMfae6U6n0w2B9LZRbT1fwitI29btqk/x3WazGXGXHKIDUw/pPJE+Vb8/KZXZ7Xar1WpEJ1WNEdCb818512azuWEFXuu8/X5fkmO1Wm02m9B+Op2k0lX78ZA9vk/nNmgBMaVZowf3Pt1C+0UzlZheBV2YoqzevMeMuOmWWi2gpUE8WVfd50ZE9eLuXlXgTuS1gkohN9OsFEWLy7xoLKPmXng+rx4Rdl7or+dnTqNQrur3Z6QyXHiFzfIeq6rGSKDcE657DoeD0qlH782bzabcX5XGhevC/X4vlcr+DWQu7vGNsRdBC2PvmSuIurZ6cepHxBTfD65SeMRN96p559K5QTyZUM0kRkT14m5RVeBOeDOVuRPAi8Ofz6tHhJ2L5LyIw80dMpW5Ajpt2F3XjYtag8SaaLvdetaiqp/K7Pd7ciw/L+H8UJ/KVG1yDAl5EnDooIUqBQXlkOVsNpuwMJTZaF5Xnvbt+Y8bTBqu/jQyaVm4CFoYQj4RgjJVKaCq1KimZdon1KHvXlvXdX1mlh5xw+U7XBPQQ2bYF71dULsEtyLkN05jqdF1nVJVDHQ6lRN1XeeAOJe8PSS+wTXzqjaIJ0OqmcS1qAZMcOhms/Hdwj2i27sOuy63nNLOHGSGM2Zvl/ddgq/lruvEKNRwAvioIfPKZJ/9dDrJWFaNE8kXTjVilCu66zpECRx3lkPnhui82WOCj9Iioo9f4gJLiHXBuao+mVfund35z7GFY+rmnV15ooTgwl7Z4uHFJQDRkJ1ITpRkzeJuQmfw32637h0ClHir5UNcFS2xgljn1GIKN9wjvBMj9BlSrfr9GacyUs6dNETddp+qMT6RjmHUogzDvaXFzxQEJuioj9h31R8+ybsMp+CT0qit7nA47M9/atcjNXK/Ns7dbkcsEInFJG+XGopBGkuU1Mr3ScvyRdB8iOugMp9SlQ4Q11WlM+arxcV6Hx/rZvZ5xKFDHwncbrdC0rMQ7+9ziRXkQ7gA3Zw2Kru98oWvTCnT9qnvUuSLromWfakMWs2r0CCeDHGQMW0IqgE0xvoCl0fkNaeErq/U7go4VYi/Xdc5zby/z0VeG/qjmFIZAot08BVNGq2tKMjxeYNM2KKBBCuCm+xqRwz1geHa7TQEWFyHKpOhNHlbuTvyjKBr5QvTg4Bb6uXn8woQRAyA8qp4QqbokRlfeH8PceySHkYEuBwqWHBudSeSkiig4eQcDjLTuU+rzgJ2rUpVUTIMRyyjnAlq7Huk1Yf0lat+X2wqo5giLJRDONx+PKNgoUBAHNFA1mSIVvv93kkM4uEoiHYteD+z2e12h8OBheG6aRT8DqrC3e12C6EhX9AfBVSoMkAfkaGLqfqXqOdB3GOrh6Gu61QNkwaVSkvRjek8vofheAToZLtPynZFwT+VAi4Wb1b7+4EityklkOefPEKJeHokOfjOfUpkQbfd+Y8qcrxlpuUG8WRRlRUNVKvuc3BwjRrZTnygbyeuQOgD+Sn4RKWbDoeDgklf/75gcu28roZT1/cq2ahdbUjE8GXl+Ggu8dmx8lQGfViktBCgtMYJYuqAs8J6Caq2RUMAACAASURBVN1cmsrP55Xjw3KWMlTld7zpfCDd1BD1YaCHmpANwKU+8jg4UpJwujv/eQdwZhb3adtZjVXJjD4XZQBRi1tNn4GFqt+XnMpst1ttGLqzg7dU8D3bM00um9SolMUjRZlg4oAqxAp2aCJ/qycLgwKiNGPZTphoJx/I8UKfer6EyFR8r2UhSRrVoF6o+tSaAsxdODmQcx0zJUQL2D1SzqUWptBAqqR9oZs6KMQEL6M/uY4YpYTVFQgBXVXvgBVMhGLMwjE+HwWx9JxdoUE82cLadNOC+Y6qQ6Rn6n1gKS3ETRHYXV8OCVFC5GTRhUveoI/sZZm4bmX0CKwbOG9DZjCWKsq7tmH7CaRlrKaTCxwrX5io5EsM+T6KHVRDVA1T68YWOCPcC0/mVYhUARyqwe9U6eAmhHwRZAL5ASewJVQlmc6qNgIL07l3un93wOU7+khaUIwqd8pCuhaMLZde6DCkWvX7klMZXUMfj0eBi7dU8I0T+FiZauFiLjAmVNW5+jVsfYS/dT50OByUIcE5Cq5J+TCNL28uZRhysVBlgEYFvgoHwhCrUZ2pBrVDFX0UQxWVBP7wVKbPIz6XylxqaAizK1gofHMS5p9SrrqV+KWUVFuR3izAyRz+lShVXUO1B/mCgp04XDSj1QIKDeLJOtamG9tA1buV5VIauwiRVMufAwwfgl/EUg3xcAEn9/u9Ovun6MMyoUWFQAOqV83bkImx6kN1SMQIpGWsRMkjjpXa0TxsYyRPp/MfKzREG1XD1B7rgrFUn8wrQgHkIQJ4RhL8TjWAiRXeDjKB/IADWzQ8VNVIZ1UbgYXpgk+9Sh9JC4qFqqbmfQoaon+FAzcWWXreZ2C56vclpzLyB++zcfcEB4BgaOd+XmBMqGq4PwqDQBUQq7yK4yI457ppCPxm/audQ9dwbhFmrFarDEAs5xa0EJikJzLJFdBfH4WqGlnJ3iekMuUpPWYCnYbjEZ8rQMFDBhrCv7vzXwk1Hapu1ac6ViUBlRogFpRUtZwInzJj9+8CiKc1/aPFlBvEk40lVn6WqT59qFZRCts21yQhLvNYlSsQ3CS2l8kKZ3XB++gTmE97oBnVa+dFYDjpCXKohmXiwyn7svLtWR3aLhCGJVDyhSMcvEC1L9ahXig8n1eODwSQVnAs+J0qjg5W4CA/HQcTde4TUpXpSpZO9Nl9FgdfEq46lXGxGu4tbpraWXqh25Bq1e9LTmV49l4u8bUUwhOwumu1I2r3CowJVaEfvqDkLvFgpysVLXjnnG/AIq7U9napreMNjSUnCBb57JSrDEB5Nma1SL4aBR1z6YQjXKOUVZdDgON0BK1U6DOzzyMBOi6PBJ0sDYk/d3l9Lq2xqpddQw0BIndi36bLaZDk4NMAphzX/ctpmIL+rsZMyw3iySJfm9joq8ZB7nMfA7W1c/0nJOVi386FfDiyDWmBaCZReEoTkW2HpUcw0byulcohelClwFJqz+uSfaxvjb6TDYkYvqx8rOYKqUwfk0EGQ8KjY76ofZPzBStUn3aDKaxWDwuOs+Mj/3okF8eC371KCIKiAWSQ0SjfuRQZ3NGBq+jpSrYDC9PJXtDWPanhqYxmVH9ZxGUwWvUtPToML1TjycJTGR65wqPAraWinZWNUC5Ro45zhNpFAvkjvaVLPCh7Lh84pxit2dGTNaZTOyeEa1v1btCk0cc5zSjp48fsJCISFfQP1SAHuzzS0afPTLfRPaK1R2iQcN2s0RAB6PeJyRJ8Lv8uiUKzX52gnkeWcq26f33TDRPhUzfKnYICMof8DzVmWnAbqyZclcoEVIm/QTILXHzTGneEdThKxiOqSBp3RvQp/vUV6vMyVzhaZ724bo1gcu28iMWu4/HYl8qQWLBYGE4hLOEgKqQyDYFMwWpyF4do41UQ1iGHr1mUpPB8XpX4yFKF5YupjIID4MgQooE2EUxWzFFnGhvkAZagJHsf8xJYxFvP5tXHw517JwQ3r7q2ZR4TdAhLD80HFqp+f14qM1DLgd2qxgwc+7bdErS3df1rDU/ivRb/mc4eNtHSiuRVick7tFT9nqnMO7j+/2ysMuCN7E9TX4RAEu9FwM9sWg5Z+R4l5wdVS5JXVVgW31j1e6Yyi/f7fwZWGfDfx1lKBB6DQBLvMbguTSq3WnSbo53H6O7G0iBIewYgUI0nmcoMQG4pXaoMWIpxacd0EUjiTdc3c9YseTVn792ue9XvmcrcDujsRlYZMDsrUuHZIZDEm53LZqFw8moWbhpdyarfM5UZHefpCqwyYLrqpmZLQSCJtxRPTsuO5NW0/PEsbap+X2wqU1rL+x4C4PqWIC9NCZ9Wq3wjTt9Aq/aZYGOJyVVK+vfAhw+8+DWE4aIm0vM2HF6u/EWG85Xj0VUdTrwhOlw05B79/TvDDTnDdRgo0OdCePgutPfJ8kSelRnoX3x6g+MG7jL3TFHV6nQ68f6Iaodqo5MWCeX3w6tjBzZW48kyUxm9XCHgolTG3wahDnqfxFU8IJUJU0y8WmXAxHWeoHpzTGWGpAiPg3o48S7qOTCsP84WvlzzoCncQN8VHjTdrMUO59XjzBySyty5Xzgl+gwZ/YpxiF19yqjdJWQq04tVm8T63ekwWDtQeHuPkp6LATSIupOaQdrTqm3QnqbG3CfKVOZaDw4n3sWVOCSsX6vetf0fqoMLz1Sm7ZrhvGrLuedT37D75Ny5Xzgl+qbIVGaZpzLV3xDQDhSynN1up4SRUxnxJrxjkUsx2pUSOcnEaXXwd8iKZLzHk/c29pHyce2Nla8tBOWPxyMvMOVVyL6FYw4vSw3vYAVP1pjisr/NE0sD5sIWv6CVfznTFajK8eM3JLQRUDdPdtGWl5b6r9yFCEVV75gGQAlEYSEjtrjhfWe5VR0EjhTGUklzmUIG89XTx/qbPEgj5GhelIx8HekjDdgvFhqw89ZmaYIOYS5/j6oUKN/mXJ2l6gsUxhac7jtTFQeHVzogpKqAC7wYCoJwLRkcwUoMr9l1B2HaOxSqgGM4uHmMcoQJxXoDOwtNOONWebkMR5rI/RtioAYSB1CjqgNqq+CLVBLU7mNZLMQWaS6V0B96uMw2l1wCKHX/flxFdpU/m6Af2xJpgwRNXUIRrB5Yrfp9galM328IKDCF368WKHBCRGHL5BX73i6vKPapXQ5ACHmPXC6eSabGQoWBnhurW5UBKM+nWtIwGLtIZSg4m9nIibMy2VMZRGmj0hR92Aorlpz/Pgt+AWrdlCVYSL6SBhRQoEGgo+o7upaiOrPDSUk5DvPdZIdCnYkgiilCA8JoqSPfo5Ur5lYLECyFReTNYV5+387R0LyM1bzSDe9oD1Af9R+OpCtPGWrRQsFdqXnLuWS42gGw9CY4IBx6gLM/MOdOp93x6cPBdbjILhc4JBS48HIlasmEMOKOdtsXX27wyjEBUhXEdvlFeGoVqKx2JLPGhTntck3Y3X21So5IixAIKR3CLx/hL/ev66N2xqKD5Eh/X+xMF34Dy/v7XLpO83yIQIFuRD9+4lD6SI6vSmkuCfqUZehAIXl4AS/4kAWmMn2/UI0POLM5HA7abwji4Qd1cU/4nXQ8wSKBXgLXvejBWhwSv90NzylXGaCpQQD2oxK2AyAF+vhG7o2+ZgBNHXbnP60HFqEnEGGN4Qv/XS2JkobqEBzhCqhz+W8p8HT+85MYX6KY7xHKEYAVqEdaI2IgHybQHtQLOih0ooA6Y7hHavmR2IF/Az6M9Qjo24A7yLftoGe72kc8fKrhAkGYBD3R37ENfQIskhkwYWEG32E+HTysSxQLwXW4iIkLHBIKXPjAJaMpAhptjyzj0z5eVQEJv3DkgS6QwX0KRVXwrV2cxL/lpPzcnsvv22LcI7vzHy1c5wQXO1XQOfQJ6rn+kg+rVcUKBqKGCm6LLh5I15QDcSnoEgJ6oBqED6xW/b7AVGa73ZYOU2DSjqJfJVSLehIoOZTzglzCrtPYtLRxMlZDIJn8FKoDnTdKtyoDJBkEfIXrI3YICiKizHSoMdxTE+yF4hJL1ad2bDULK5OqFjZzqSDPcqTsRy9a8OqGNMcTTbyR6WhkDYMDLepD1UOME6+zE1pf597OdOFwy9uBVI2ICvN6NYCsnRsMwyrAQMmnehFJV9LLfcQDMToHPXEoJyhulEY5H9zv+rTs78fgzEvKC5jBcV51mRcxcYHBcaFaKhyYSZUbCniwTHndtKWW+3jlDnLbA7tY44GH7hf6UECgkgD8qw7uEf26rce0sO7oHOKSK1AGZM0YxoYh1Z1IpzhoJUP6uIRd2KuC2k+n0+Fw0K9CKvaiACx1CQG9UA1TXKxW/b7AVKZqp0ci3WMS0EINivdFBDqoP9T3NSNOyK8SvtRUBqqxDHwpsmCC+VBcw6n2YRvoTpVrHdQIBXYX+YJPWfy0qIAm3s50NOJ0tnZa1Ieqs8KJ100jlREOSjdl5sBUBij6kKRDKPQtSRCjP2RQEkNqUk1lSGI0PBwmqTH4QiFex7EIV0/FYo+/OBr5YlQp07codeZfF0i49xnpqYILD8ykGq7sg4T3qfbxyjF0NGCXGlnjgYfuJvpQQGA1leFTL7j8vi3G+7sCnsqIS1ghMxV7fUjfTqQpZAg/4d7HJeet6+Yr6HA4qBv/+um1SwjohWqQf7Fa9fvSUpnwKIyD4oFJJ2NsdZDDCRHG+kkDB7+sGQoaJVeFvVwf9U3h0z2oXGWA5gIBXzn6CNwoBPWqi2F3/uNi1ymu4cTlcMIJtoHuVAPUQRmq5W0jfVSGEg80DPd1qEZXmC2NOzh+ayxo6LghloKEh2qjMeRGfngT5vUq/g3Gqs+1qYzUK5FUe/lvH/HkU/oLhMPhgK/1kdq1AKtGqdtmswnZCWQm1QbngEPfDSZChMPuOqC8CiUmzOhrAYU9qqjRhUM5fUTVGaWP3vPfNq9wOuCE2AvUgQzeDSqqEA6h2cvLh1GYNJzKuHDv4+Xd+Y8WbjBBAH2k9pDKYJT6SG3tRAgkaDir/dPOLrpCuwKdojRTE7Q9zjvzgdG1Kh1UzlVtqfp9aalM+IKSA+HrXycHOJhALx7AV56r8nZ5RXsYvAmu0mXrUlMZv+Uvw/Wddt/XuYxm6YZ1SFUYitaObYDUq75psc+5HC1RbWxoUm5s0MP7eOBgzTgBIBK2s/IDKySf/nQrA58ve7Ty9Iix7PTOXlIrFMZYSQsMV6MmZfeljyvswc5RCmi7zmXZtQqfuit1EuPbgzrrKrNMZaCWgOJC06eQnqQ4fnLjjwn3PfZ7MZW5iIl71hUuMxupLYVVZo2EqogHAXxLc9sXX27wyh3NOvVVTNwIqUbwC2FHBUIcm7f7l/1CyMNtT5VcB3gbPOX+ZZEGPdWHLzpALRSWTHYitfvWJlt8Lk0hmW5XVT2gEP1IyiGtSwhahWqQf7Fa9fvSUhke6S3h8AAtKOlDEGcDEAPwVmiHmiHucPB+PB7Z7yGZpgtVdHhCocoAzVsigD7gRsGP09kIteeBAMzGXiguyV4VjBrL/aNA91Dl3pZrrkUlOexexAK1910KoLmjxM2yYCY7HDPKTBHGWeGpQGfXOr7OvR3YKbgO7F5CQzqjTJjXqxIiTPwBFKkhZ4GkO9r1H4gkmlNwSGmkgCsFpmwEWGnlO5OsJqUDBA1BrAoCAQxhhT7F6ax090sfDvCfrAs5JbtcIGtBs4cqmmOgrxG/3uWqmnkZ+1aFNq+c52zh4oNwI0YRz0u/EHZUgEhVwpCaSD4Lk4UjNVwH5ATH+QJ3YrNYlHCwZtVH0lBSUYudqG9en8shFYBY4Rr6ZYCGg7CTFgnqw+oIVZc8pOxK0n9pqQyGZaFEoMqAsttrW3wlvFaTnH0sBF5IPIXvsQxJOZNC4Jm8unP3nRRuc1em6vdMZebu1iv0rzLgivGP6eoX3Lp84ezhMROm1Gcj8ELiZSrzbGc/cb5n8ipTmSc69sJUVb9nKnMBtSV9XGXAFAzknJzz0ilolTqMhcALiZepzFhOnKCcZ/IqU5npEKDq90xlpuOgh2tSZcDDZ80J3h6BJN7bU+AhACSvHgLr5IVW/Z6pzOT9Np6CVQaMJz4lJQJ1BJJ4dVyy9T4Eklf34TfX0VW/ZyozV3feoHeVATfIySGJwFUIJPGugis7D0QgeTUQqIV1q/o9U5leL+t3+/jeI18k6x0w+Q+qDHCt9SJqb3l+OXwxcrgC4auzPrDvZ7m8z81lHlJ++Xev9CrxIYYMfIIE04bIbPS5SLzGWP82eLtb+LTvq86h24yqDYbPyIoRVW3zCvY+mgkDV1Mw/LZRQch7Vqt+z1SmTgZ/G0S9xwxbqwzAjv1+X32FAB0mXmgE+u12+6BMdGrxiN8XaztriNojbgBt4rVVzU9BoMFw+rxVocErx2pEJr8VvJM1tur3TGXq/nrDVIYXR9YRmXyrBy9XVr+I6y0jlofkBCNOd1GUeHux2xC1R9wAqqHnopLZISDQx/DQ7X2qDV45ViMy+X2wnbKlVb8vM5Xx9zxyOa7wXX3PI68W1dsStR/Q07+Gp28L8+XhvjNMXzwI928ah9soXnXleYXiKMSqMkCS/d6EzHe4UMNN4GdrdAtAJgTQVEV5l8mrNvVjSbJav8fkb8AEahrdO/7SSQ9ezKjXNPedNpXCZQvtkEcO5VWbUt7N0U836GWyavdPpY80B8xQdb+HeTEHXjkIIKNufXcJRWOZ5u8PdT3xL5bKIp/OMUexdqFBvLCgjscj64U387pnUcwzb3+9abkkdeOPPojte4W3gHJYcIfeag89sNo7O9no2UZA3dyPaFt9zbSHC3+fvZYSAEogiAkZudIVhpCYM5dCH6osJRAAE/+hCd7TL/xhjpuvl4/jDpEHtwo6galRDixM8OWDlxnV9gjukwlSshqOSgWIsYG38LkPFkdgguWq3xeYyvgr16CLCnKhqCM3y5e4nHc8q4+YGlIZcHSZ7DFyPFXJVyMh0qOPPiI2+fMWKD8WmdC8FOi/6SjbWXJuAludJFBV7PCFzYbBPuRwaWlpqasdFwCFUiXaQYZJ2Yo0LxMF6/p+lsuDGsKdPDJcnFFAUVl+dGM1I0JkEYEMmU6qzn7EQPkTiIV5QcB/HcZBCIbzyw+Og+ssNUQG5zavXddAOOw5a8Dcp2iUG8TTrqCx2jCwFxsxkIKvICeMm4P+EstGhd+dkBoozquMO/i1HSctOOiJOs+rUBsFwm8OOFAo4318RikZGO4mOxSBeMJWpNVHsK66ul2xWZQbvHKqaPEKQzlXZY9sIdpgvvqIk75wStjLpyphAgV/8GuIR9iPuMQilYFybpFkyuNOV0cD8qAArBAs2D7ZQtXvS0tlxDZ8KWfoFgMhkjAkOjoubAO+64grkumhR+yX+z1s9W05zn74JA2psh0+gkZuaZDvi022E/odUu/mO5wvFYdOJmtXCD+gLVTxBS4DivKnrU/nP9fc53IdvE/V6qpwd7QkINNjivwrfDwc4LsQUJjLtfXw0Z7XeQvNgiPcXleJ9t35jypBHNj1kY9lrtAnWIHMRqHqAvV3Q3x2xW7Zjhco+FwQxht9DXpmoIxBWaan72r3VIaw7kQlA9BcklC6T58CYFCMKsSgRQz3kxhPcTA/mEy1BJB8Wl5DfnV1o8ZcCg1egZXv6LKLQBRwLt3hEZuxrEcnhjTpY4KTHGxxllxTegT5GuLd+sIRpmkIEhyNUgFa5lKo+n1pqQz8CF4JZIJzRAH1p+rxms6+eas/YkPYUtWFqD/qMVF13saBp/rf9m+VARLlqzqo7VXsZZRWoC8V7++xgFNZL5xOJzCRTJAhM6gay7krKrkODDkej1xe0+jbgzcGTbxb1b/kYRKCwkEO1YAMVTqgDKL65lUuIiQZpQLxy9uDnDCjNMEvyl3CEG0J9CHy+ix95TbxEBW0wqEUZJp0INXQqlQj20xIZZwDYAtzpDbE8/Xul9qOOTiQFanFJ5I5ag/poGZEE8ctzO4rCBxQNWjeB2BnR4CwTmND1TWZfrnBK7ByJsgiETtwHocGqwPUvijwlMPOvS1ngjMH+YwKLqAapvbdx9VwA7HCCxwcqtEXDlGUlBf1plyo+j1Tmb1facEe+OSxzMkkTxMNq9xyIeoPfZlI7aHKcaJnGPdzq8oADIHiQW2vYi+jrkplmMJtARM1AkU10LOhau1Jt1IH5Pd9DbsqPGgy5VRGBsr81WrlHFaEBQEVAj+xFAnCUO1lKqOQV2IeZumrtok3PJVBPiHYUwQeaJBATA6+phrIDPHYojQdVY5sUSMUhF75LBH7SuiPJt7OdDSiGNszLepDFbeqnf5dpjL7PXiKGGK+84cOXgBbNUIq3xcC7FzhBCaw1rRaGaV2YiPVMLXvPq5GSGWQ41ZQri4cMi2/EmDIBAvVeLK0VKYMBPJE8D00CnShCp+csk4miSUahsNq7kPRQf2RHw4zwxk47Aliab+tUGWARLmebrsHQa0ZNh51U7UaNCUZk4MLMAFfhP4MpCcxgha5u9SBDtvttrq2q8JL8mBXUJ6qK8/O5I1BZ89NNd3x/Medb2nOvIEA8AoDcRBBOcyunrvzH6MUvDxX00dqD6lMEOiYI7BdGEi8MJGDUL1qDMfp0mF3/vP4jl/ooCvmgC1rMNCAalBP0sp/w9Kmg7tejVUShtXnPgKQMAWaBw3pD0mOx2OQH6poO4tCg1duO6tVRlH1oNdnb/ARY31fCLAjKrhJ7QLcT6ODC6iKeEhTe0jT9SlaUWBUtVBdOBcz9aqolzRW/b60VEbnGRzuiQ3H41Fs064mTigDDUylCp+cso1UhmiiA2G2HN8bpIy4iGJEGaXqPCJKu/qPwpgqAyTZw7rbjhqCztXzpyk9cIThQOouUICWPiEQ0F9oc6EgJIUb27aud/tSmfbXsPERLhN5OOFw34UYQdWV3+12Ip43hlTGb3L7s9Lb7bY6b5VXQhhiSE8YUg1Jzj0NF/iOtvqQVGFjA3MmbRcaxPPtJOAGqSg4etJKXxwDOucM+uMXKUlV04lLkiY5wV6vbjYbYotg3O/3LsfjjxMs9AEu74MftbLURwNZfUrpsJ3lKc3VGeHgRrdMZTzH9QUe1j4Y+gLxsb4vAHvwsqJl32pllDpwxeVVJ7zChVY93JaeVCUTURDJ5UAe+IaQ6gUDUEynUI0nC0xlREoOdfGr3Kx23yA9DjpxRZ3dbuexzCNvyGw4u5MQnwJl2H7YPnV3wOdFTpjrfiZVGSCxfgHha8mDoHq6LWhYDZrq76a5C4CdJV32F8LMqA7cR9BlLqvUdVDPw+HQXpxIdmS4282mHkJYqEqI5rqYyghbhviVenVezaX+zitxEv1lr/6tXnIReRGFyc43qSeWKtLJTX2Y+7yNMnOVfaBQyPm0iuU+9ywm90HHuiO+k7todq86IUkBfb2DG9mzw8VyFlbSLeQ6KIyEAAIdHKUAuIY4DswoMzOVCaji2bBaQxUYV6sVjnNRHr7CWHjiEawqsLpaGdWOt/BNkrWdwW2p6lUMD/ednWbsiU6zdqh0TF5e9pWCMstMZTAvC45AlQF08J2bxizMCwGFxanp3CbeRLT1FGciKqUabQRmwau2CcM/DRnP8IHL61n1e6Yyy3N0r0VVBtB77j9cgCHvXBj4wwVPhqhNvCcrw3R+t9SPo+iQhYkjME1ejQWaznL8BIWT7LGmmKmcqt8zlZmpN29Ru8oAF9R3b8L7ZHmyCPhdwkkpeZF4r9LWT925W/QqZXLeaxGYLK+uNaSvv9+uyjwGlKp+z1QGfJZfqDJg+Wanha9GIIn3ag8sc/7k1TL9esmqqt8zlbkE24I+rzJgQfalKRNFIIk3UcfMXK3k1cwdeKP6Vb8vMJXx70TcCNWlYUPOounjj5dfEvzYz6sMYMpXKcyT/GjSV5CGdz7+pof2q1P4N2OrHUZpLL0wokrDwXRbSpX80/vLDfkTWa1u44gqsaZc/g3l29x6w0TzGtLg1VWGhK8pXTX2aZ1vi3u3jbpo1EDExuJ/0Kfq9wWmMsHs0atDIp1/bXJ0BW4WWGWApLnCT869BoZptLpzcepNLeUXL/VmF77KezPI7YF6D0roM6JKA8F0BaoqeYf7yw3i3S+8LWHIag0SbhgSJKh6gy+qcrKxD4GxeDVwY+5T4w3bhyA21joq4a36PVOZEqgLLUM85JnBBXFP/LjKAM3vCpM0PEe1gREfre5PZXh1FQaeTqfnpDLVn+nW14C3262/euQ2lQaCieF6V+GDLp6YpUE8+jyoMGS1hqlvGBIkqHqDL6pysrEPgbF4NWRj7tPhPduHIDbWOioRrvp9gakMCOoNtv6KIX9VkQDSe7F4UxAX6yEMUeUrD3qhkAvk9gTvOtMz5+zBvARMQjgAEC14WP1xT6pXGeBvFHSFsRQ9le6oXZsfuIX3lfnbljxJcht5jYew5aOqkjhR+72gRkO+r+i29L0mR/OG32bSO1vdU+5ZN8f1xGplVzJEWrlKvhQ3m43nK/pooEouH6fwDjfNK/WYEYgapKqqhIRRClWfSvIzV6u/bzCoBMEEYDu3253/ANxfd4k57qzj8RhCP1V96UwRg3gFx/CapHX/fkopCMdHQ6ygT3iFGkJmVAhODJoThz0UOHQsItyhVc8KpVou8NPpRPQjPiiAgDDyNVyEwaeurSZy3TyUSY5fwnl0Ys8K9JYVPqpPPd69rvcEesR2JV09EAvkJyQSeRobpQu/qlz1+8JTGZCVG/A63lLUoJ0Xk6s/+HqVaOUswaMiEPL9BZES4gwTR6UDvOf1tcw+VqHKAAkPCoOb1ow2ZoUG1rm/U1+m0Y217e9slZmaTv0Fu5fVH3e44eQZxAV96mL9TSGuuctR3hB+00DbOVOEsYiVqkjj1wakEkHKVaKz9iH6ePsQlTR1SR5XNSBDbg05fVKVAw5lh1FaGsRjNYldolBJ9KtyaQAAIABJREFUCTFKwEKPq1arViLMdDx9xUmNi6kMC6TEFtidLR76NURMUB/WvgykimKIajCNzuyCpRW+zCWKuUZx9JOFNHjFmuUCkkK5iPCOVhMhjmqA3Umij8RbJTEa7gsTkns8dKzU2YkNwYIO5U9PELXcuVg0RD2P5GIgywQlfb1IJScw3QiJ/ip814H1AsiMHV6o+n3hqQwuKdEUb8KuA2+IHcLXq/AyOIOxga9QjUKQGXTgBerDXTuwZ5UBGuvLwGOiNgDFRI8OAc/qj94FyeGlNUjzRaJwU93vQU9TE6ZV5YfsHYrd+c9bgp4KQMfjUWRgCv9FKi6FT+c/lxbiRamSd9Yaru4cSmVEmz6V0E0yIeTu/MdEcKlkUcBfQ8LpFHLGLTSIx2pyBgZ2YQvWST1WHGio3avIL1+6Iy9LCPYGdtHuBQ/9CtnyGrOXUR6qqA/VQP5gIIZjUVCvj/yhG8qHkBVIRbe5FPp4BSxuiLJ2X4CgijtglAZSlUC8TH91Y2X1RU5I6Pp4mYnUSEBQVWkNOlBwCWHT4SPv3FAP00LGj5wQElkCgVGODFaHPsFYphheqPr9fVMZhRuHXlCKN7BcjV7FQ0DPYRqptMdl4kUYiEeDDqHKLPcXqgyQ2KrC+gj9vQ/KoxVqezcWmK8oDWG5OrZcOSGWAmoEUVQlx31R/V0V5uXtxjy/whQcEbs0Vrts56Pu37E/HVAJ5VXo+5nuISr1kQedNQVgcvqNnpwWuFZ9Knmf+8sN4mGX0yYACLUooNLw1aoswdFYrVZ6OXJInVGJWUIBf+H6IFb24gs/hpEoDPE+Q7oFZKgiEFUbVjg3uNhj4IwKfbwKqGJRwIQgBnq0aAhVcFY7/VVlDVII7c49fRT+ZSK1O8E43nAd8KBTV0JExWosqqoXpiZiBw0DdAEBnxqnhCHhB/XQMEw0pMoU3jlTmb2zgWussBi86h4Sb5Tpy53ykMdlCOQDecThdDoFWoSqe+vOcpUBkllVWB+hv/cpFwBqezcWhq9DiWW5OrZ3pjLBlVW4mJd7K9xKx1Ius4IEVqy8zDV0sC5UEdKH/xCV+siDzpoFMHfnP6buK/Sp1Nf/tvbGLNjltAkAQi0KqHFVKsMBPsPL7IGdw/uEMv7q/mWx4bpT/fFFOQuGeJ8h3QIyVBGIqgBLC49EsEzCZbr3nEW5j1cBVWwJmBDEQI8WDaEKzmqnv6qsQQqhXVUJqT6ixETq6QSDkEEHdpDygo0rMR0kc4FdVS9MTcSWJvwboAMBDWcKQiJqS0LfRon8qwpVv2cqs3dc8KsK4Fv1EO5UN62fRioTmMR6C3JCFR3uL7ilQZpvJEFPqt6nXFcsv935D/mEy5AfhBtM9AcWWlRAjTA1VXwXBoYqenKUyg7HFG6pDw/tujZiP+M6A5V8LLexvFHlISqhm4aA0u78p0bthfLyEBY1VELgKIUG8QiRjm0AEFt8GRLKy3uL3g35IBYsCitdU3OvMHRW1f0VQrb39xnD7S3O573PPanMECsCqtJ8kacyfaGgbxFBMEFEYirvhISgdBNiKYgGoarGMIUag8JVgpXu87Eq+7+Ktz4q6EOVRETDidgure8Gky9bcmUNZOkBr9qFKtHSZxlYrsaTTGX+N5VhPeNFMYCIpqQyeMjDkPrDCXcwjHEXqr+Oc4KnQ3Wgd4d0qzJAA6sK6yP09z6BtW6abyRqF7xlu3IIh/GeUxldT3DF2RepPUxIJW6fY6kiC95XN31ngbxHagtSjxfdvyv1sFa5jVV6aohKjrCTx1WFhJrCie3dUKChEn1GKTSIR7xzdgU8WRFyxG2rVZkr7nMMeXxYFEKlPtvdX6SP7H88+ejEFv6ihKYWUb1PuUdiON0CMl4ldjWscNP07Cpg9hk75fYGr7hSIuU9Ho99iwicFTQ8IOjI1nEu3UTcoCDQVNXYEEwCqqIHFAoEk9fQwbmkOCwuOQHowyjxH9O8SmINmUtWOHQSrkldVfXBKZAN9nb/YiMbZcBhYJUpvH+mMv97g0mr2kM/e6qSGHeGrsUVExkoxvM4gjvV+U07PcuF4evKXXV/ucoAiUUxp7g+Qn/fbPQRt2wDNYFFRGdhaCvSEevu/AfOElhWaddYfdXIp/O1ShD380wkqOBrT2OJIFhK+JMcx42WzWZTjRcs15DKNL7zPFAlfOTkCaoKJUxGW0eMTxsq0WeUggMYBBLvnF3Bp6wIFZxdSHNwVNZHvlrFbTBhd/F2AaiP3C9MpM2DlEjtEDuc9msuSaOPaDZ6KlNaERjI4pJWelZMarh1Myo3eBVCAVA4T9jXIVhYTep8/6mMAgXEKxFWBwJRIF5IZYIf3YNMwXr3peTxLcR5IrlSQJBxVQN0zMukHhK51m1vlC5/eLnq9wWmMsMRKdOIq8bOrnOVAa+ywreuV+mQ8z4HgbGI51vOczQnC3/OdGPN4hvYWDInKGcsXk3QtBeqFDKeF2rSN3XV75nKxMd+++BbQHuVAU+zq3r++bTZc6IXIjAW8Z6cyuiW4gtxGz41B4Qa4rcMhguZXc+xeDU7w8dV2E95OYgad4pxpVX9nqlMpjLj0qxXmq4UOY3kyLd3QH6wFASqoecG456cyuz3+xmxlBtY1e/I3ID29IeMxavpW/pQDcP9L+5zPXTSe4RX/f7uqcw9gM5ubJUBs7MiFZ4dAkm82blsFgonr2bhptGVrPo9U5nRcZ6uwCoDpqtuarYUBJJ4S/HktOxIXk3LH8/Spur3TGWeBf8E5qkyYAJ6pQoLRyCJt3AHv8i85NWLgH/xtFW/ZyrzYq88c/oqA6SAv1rDVQqPE/pHfWW+STjWkw1PeKLev5fbZxd9xvruFbeoq1997FOj3a73xfGd0onc9m4Qr23OiJ8O/FIPXr5haj0yeXHgPVNUheP06qejNPatQWwZa7Ffpe2IvCJqtRXA3nY3faq37iq06qtwoKS1f9XyvC3s8LIDfYVbig00doiNL+lT9XumMi/xxWsmrTJAqmzOf+WeqtV41cOPs1snQ2IEMWhEzw2Z96rpBu7WV8kcpXODeKPIHyJkCDh3enlIKtOXEwwxodpniF3VgVc1VtV2e++E7ipl6PxkXnlagA59BQeHPqD0tFSmnLr6YiS6zaJQ9XumMrPw3ThKVhkg0QpVvPVIjYfDQa9OylSGGDSOJ85SMpUZEcyLooZs+Xd6ubp7BcWqOUHoc1V1iF1XCax2rqrt9t4JXXXSi42NgHZx7A0dMpW5AbRHDKn6PVOZR0A9UZlVBkhXharwO8mq8uJIXmutL1T7WStfBNXLY/SGR49uinp8E5uxig5luyNIGN2d//xlr4rjGq7TWv3YjesjUeEyiCrSlMa5QN7+jDS909lTEMmRArxOTY1ucnmSzE++8Z5oMPGf9ZHtdPZjM9fqcDi45voWsSTLfMz0xoZwjRrr3wbxwltZAcrRw+r9fi/wBbhoBnmUcJfgy4qw5fN6U+jteMIlhKNDwMQJIAnq4PqzBeJHae4ug2zcHHQbJdPnEtlcQp+G5Vh/j0hjAcIZvaUmyHcDj8ejFjuo+kWRKynDA4Y3Vxu8Cnb5xRhK4no/qJBdbp3UgwlC3oX4ylVn5xKk9TeyypWw3aVVVdVLeIkwmkVKgp7HJWGufw+Hg+vDD7Dg33Gdgj6PK1T9nqnM4wCfnOQqA6SldjUdw6hFPxytxaDV5ZHaf6zE27W6tDZIZarrVrMoQKissSxvNfoLtrXgFTgkk4jJXS0JoZ0fxAk6eNVDALsObwfHdpepmCIhhB52I7UTIPreV9Y3b0hlSD58OsccH1FgOxSY/ns0Gqh27awqu3CQH6vQIJ7rRmh2Jsgo7aNSXmW1IzmQjXZxpvv34y9ylntEckQqhOB92OgveAQWB831UTtj0cHJ7F5muuPxKDmQijze51L+J4KF/ujmhdDHOdC3AN0v0j+kMuisiSSTvRa4NDWbvSPvGt5WxsvlcNklGEWn0vWhXXiqEUMcB4KD8yT4Gk0kR1VWOgN9lGPicHl7gJdZUEl0IkYpf3KOMTU/KYBDPbVF8pQLVb9nKjNll42sW5UBmoOISZ/9+c+DoF/EKJBp5fT95DWLh5iuuXyRh1UUpgi6ka+o3Zcxvzws4cyI/h47yp1ekYtRks9Yv5zSLqL+RCj1ZwoV2I1UVR//14e7LR6A2BI0EKgpIDD8UkxQxk1j3j7hyByrAKmCQCHsuinngI3qD2FglNq9GyAH8AETb5aTEvddfkAY+W7C7vxHi/YbmUBj2PLRubRa5EdPlyDWsfeQmQWnhyFUw1xwQ+C4WNfBR4V1Ksn4hfNaZgTS3fmPds3I0vD2G8p9vCrtEudLbAkpFEIAIbBApBAN+tR2cFhxEAwXNNgYgmFYrZoXyfqVe35VjR+yJrAwtVIZkh5VSd36zJlUe9XvmcpMykePVabKAE1JhN1ut7qE0qpg8avAKSsFOqA6QcEXD8HXB3p00HAWHtL8QhbJZWcCBwUkaE8idqjdq4QDH4Ke5fU6/QFNA4HChYe0iSk8JWrgEKZQlYlcGghrn0CHEhBgrAoPMkep9hGv1E3TBRpgS2CU608fCmiusA5o6oB/VVBkd/mhg6q+uzszNVcwRzMiR2NdZ43irhNW6xQkvLTXuyGzPMXB6mqBgWyTTKr+qgZDSkvV2bs5dL7ZcxfDp+aQpqrk8MY+XpULSqlVyQ3UZlG4USENdawwxxNB19zlEDGYDk362EgHZCKEFr+e3O12+n1Q7jUrDqAzU/vdNInCdpc85XLV75nKTNllI+tWZYDmIMLqHtPxeFRwZwNQIYTysH1KFAuDxUNMVwjTIpcoVprGhmrQDcllZwIHBfVRFD4cDiE0eNVjhDYMDmnQB1s8BQE0zQVWLjxTGe0ruMMLpbP0KbCrCp7uhbC/0ocCE1VTGT71gstns/cOoRwIgDkNwvuQPrJpFhnCT22HUyI0gXW0VAvaerXvSnLY6jRKyGMIolxtGr2bQxdSmb7NHjk3FxoBLVBo9FRGOpN0lsmZg0OEASVYqkKJAB34CCG0EH55GOBwOOhalEMXcGDqTGUcwNeXGyR+vXJT1aABGqFKkVE5PkulGvWwMgRZ7i6zeEIKEm7VexRg4SHcd6wgxzsTOFQg5SLQq0C7dyNGIESzK5pIPWzxVIaB3l8v+eABl4GpjGMoVTUvftEUVN12sMJYn7QRE5EWhCNwrEIf8UrdqprgF/eCE6O0V4yVNGEFOBRK61x+AKfsXJ7Mc4MpENUJj1iMkmQnm8+ldmedfxpWaPiIqtvFSUN1UTtWLBYlo2VG4iaEKagGKFBplEIfr0qFtVRL16MeBTcKrKRtddGVNFBnl0OgABaYX6oEMiGZrt5gYhX4lefu/Cc56MzUmcqA8CQKDRJPQr9JKtEAjQiroMkq8pXmEVndOJZn59YCDo/9+irSGqY/K02Ahaoa0Y1wU3YmcLgCUpLHb/1+vy6IFawJNMQX5KOPmxD6k4qFx37ZCYJYCQ+bE/mfAg3zYnuAgl0TVff7vTvLJ+XZZ55pkG59wtFwrEKDeG64dD4ej3Ki9loZpX3UvUAQl5LYqwJXpTw76eD4c7iSExjLHkZKFIb4pCKA5MtS11P6QHgwR2GJ0qkJx4c+r2xRf8jGYnS7+vzF6uj+Pf7MAodpqKEpnDOy/bZUxt1Xotqn8MD2Bq+Ep3gu81V2PzrNiC2OFQoHcCAV7W1wiBgQw73vKjkbvV3urj7REj7SHT34g3+ZOlOZgex6UrcGiZ+kwQynaYBGhNXqZScIgVLLRmGCFIENUnf3CQq+ePxOv2QqYrLSBGeoqhHdkFx2JgCpoCjA4bz6s6loFnYXDRE4DFSs50pIOquRwMRhgAAh0Hicog+ZjZQJqYyuI9nPwAHbAxSOuadoCmS73S7o4I8soEmfcHcc2t5TaBBPOMhw9le2ELWzTwTFXH/sVQE/9jGZDiSg5TYPMcJjKw6FpkNPLO0jvFaQtHIddEtXFOqb1+diIgDUWJjjStJHenp6Efp7Fc5o58YLLlkC9XVfoPYbTI4qs7uEe8oOQpAjt2pGVrr6BNhpVEAT+EjzqgaqG+D46mMUBFYLEQMCQ1dmR1XCCFc1imMI8VkILyHHpQ8O9QgWAmmoMnayharf81mZyfprfMWqDBh/mpdK9NDzUkVy8v8QeCbxwibxnxLvUdKZ1nvY2jV4xRb+JlC8lZlVv2cq80YcqDJgYfZnKjNBhz6TeG+eyujtiBPkwCNUavAqU5lHAD4RmVW/ZyozEe88Q40qA54x8RPnyFTmiWAPneqZxHvzVMZv+w51z2z7NXiVqcxsvXpZ8arfM5W5DNxielQZsBjr0pDJIpDEm6xrZq1Y8mrW7rtZ+arfM5W5Gc/5DawyYH5mpMZzQyCJNzePzUPf5NU8/DS2llW/ZyozNswTlldlwIT1TdUWgkASbyGOnJgZyauJOeRJ6lT9nqnMk9CfwjRVBrhifGHPG19e5nuGI35pcOATFUw9BIQb1EP+sm/tN4iH4X3fNXXkgcsbG2V9wfWhj4/w9dohD2ldqz/CGzZe/GgIsBeFTLPDEF49TvNrvQnVb1ZpYNS6Wb44fL+eNyswcGDV75nKDERvCd2qDHDD9HrvSVHZd4gbcgW3zstDgsKI0/nUlP21KJPCHA3HKjSIN9xwh2uIYqPkARcnGj7L8J5MesMQxlJ4z1QG8x9UGM5bFLhhCGNVGBK1wpCrqtcusauEj9i5Gk8ylRkR4amLqjLAlRaVH72F+4wXy5nKXIRo+h0axBse36+Ns6PkARexHT7L8J5MesMQxlLIVAYoRiwM5y2T3jCEsSpkKiMcqvEkU5nAliVXqwzAYNYJBT7y92NyrKpu5Rm+t/ubK/39mLxXmyNNf+kq8/qnx+NRORZy/MYBt8bCG34R1dkr2/WCTt4B6mNRw02WEH9/q7/YlClIAYWAK88LdumMNFmBSsITkP2Nn/4yXOTMotAgHvHdd1zAwUe0uNOxHUrQ393nYOq9t0oRBDUvsdWRpCYq37pLN17kynCRwXNuvX5eHWS7vyZbZHB6XBSOpeWvCzFvlcayV+aExMirPtYRbsDoKr2qPJBXwd0eoKS5XI+xIAC26kYVzxLf4GdQiXYRIFBRjY4e+boThoUvzcUfFo6GexVDGEgfNPdJy081keSI3lWGqNGZfDqdmB1wyrnubAkg/5/+pdBqv7Lba1tmoeRrISpnb4PGTqxADBE95LGWRGIyElagOtDOL+y4cCIC0qSqr0aUpzObOnGfV4azojQq/EKKGkMfLekyKGg66e86+0YrUaiBqvSXXQTEqj4CGSGuj3SQbj42mMC80y80iIfTQZhCeP89HAv2wjF+zEHQOW99iPIeIe+uDJuNe8FXhLfL0WUqw+9duAmujwsZItz1dzmeqYAkyZZoDJ5hINXAKyhHB96OL2BdmdeWB/KKHV2wszAdGb8E2mw26qP+2OhVR9vd7Z71drEupDJKTGkkHvpEcrE4Rocw0Ku4r/t38Sb5vnyIVJimAn00EVtAYAj4qF26SU9g0UdsBGGiO6tVv+epzJ2ozml4lQEYAAvZEvSRRzQ69zF1u92yPbOWlKoTQRDiK5PGUPBV7atUmY0W2+785wMJXjTqwosqESdEZ7fLF3zoxppHoPSRjbKLZayq91TZhZCW6SPpL2V86mBFKXOaLQ3iwTr2FQrBFoeLj0oKMbzKWwVcpyLdwiWy/1Y5e7mGO8PhJEQt3S0PMpFyFzawIcKxlzUldkFXJ0no0wcI+uzOfz6F6EcH/2hS5at4FWBRlBMTgushFT6V1V6Ft4fDgb1c3RQDAw3kKXe6OnuQoRy8iSNQzHMXyZE+jYhRXT4ay7/00UREMBRTT2edR1r0VLewgpjl/kLV75nK3A/sbCRUGSDtfZWy5ll4HEuGIK52X8kcqDLEd2U1IpZE3i+JApquWFhRVP3+AvP6LJqIiww2Dw8ZrrnGIh+VODvlPhQflakMwj0AeX8CR19g0kAsUsHRdmlTLjeIx5bAjutWE0zDIRbGOj3UiNdCYGUIE6lF0/nxidoD7KqWGxKzoAktzKiCt18rPIjCBJepPiWN+zoztrF80NMXflDmhdWreNX9O6WAVCBAAVsUtfCp2r0Kb8OdICG22+2qMkNQCoEImZrOF4IsVYsCS+isahgiZRQxpLxaCE3YqwIRyScqgyfxipxGw4PJSAuz3F+t+j1TmfuBnY2EKgOkfTWc+cUr93fCEmLxqPPFTJyJCCich1fzAw8f7FLSmWo4Cqr6g4CuT32tKvor0fG9CvnYThrhR8dMR38XHqIVncPeHFD1wORDZlpuEA/Dg4OEj0feamR0eggcvBACK9CFieSsairjFGU4CquFWdCEFoaEntoJrhIeRHES4Jj00Rh7g2JULy4fMvhyJw6KPbl6La/6tl6gQP+rUpkQJyWkKrMKoGIm/CFicODBoZEHlsDD4RFDa6oKHXTyiTKVgRUPKVQ98ZCZFiS0D7SwwmWx1k+Zv+/OfwEV9gPiZugQqtXoSYD2zr7C2aXUgSoFHxjK4daMxJ5OJ5dPEAmnMiU+1awLNUIgCFUUI3BwlcNHCkzlvHSYV6GPeG54H3NIjh0uzC+xRU65l2iUP1vjGUzoX51OYd2PKMobTIFRqOryrxWOEAo8J64VGiYVLKIxgIT1hebwFuHVwu78V/3oVY3X8iosKDxCriBDIJUKWOfdyCQC8nQOYzV1NZVRaMJNZeqgVJLoJI+zLrp/p02HwyEYiDJlgTzJP4KWIKBPA0OYhYK6gaeqSPMpRilX/Z6nMqNgOw8hVQboyIHzBiwRTff7PSFPHymGiutcWdJH7axY8iHfPyT5cP7jKydawOX1jUeKsKKooqo01BB0U2Pow+V+WLRqD6mM77jS8zmpDKdBOIUH7miZRaGPeA4sodxPvJxmfZFxu93CXvjmOUqASOeCcjFULPsHFrGdeLvU8wN8zeUmqP/pdPJA70Lcy97uwoMJDGG9NGgMsA6mDJfmYWmgA4tas4fHuUqVnt9yFa/Y8okMeES04QY07nN6iKvMSCqj40Mc4WD6anXWBaA0xHMLIpufWIdUxiOqyEnUQknXzd0HJ4MmLLFAJzfKZaq9xFNikRZmub/qBiItUxmgWH6hygAtUb/QBAg2Ce4KletBez97CeutPMYs7+Jr/6An4QAFVCC98BWuaM4QwoE6l4dJBDJ18D2P83NFEwKZ1rOSLS1+xoYoLz1RLwSCUMU66SDoPDL6Bs+mpamJtgiZRaGPeG4pOy57hkz2QLlarZxp2O78xPVsVHRTQRNJuMNe9nen+7zezig1MpezXSpBUVnkQi4KRywFkYprhsCT4/EIjR1YUU4wonlYGuHqAqCqIQJ9XlK4lld9W6+ggEW+ytxN7mIFDeKPu9udQruQ948cMSItjcC+2Wzk6+P5z71DHymGcA9o2AL9NIplwozKUeTlMmT5cKzuw1MyM5VxbHvLDRL3jnn7DxK0t6fAawCYFPF8a38NHDnrSAiMxSvP6kZSLcU8EIGq3/NU5oGIT010lQFTUzL1WR4CkyJepjKLIdhYvMpUZl6UqPo9U5l5OfEubasMuEtiDk4EBiAwKeJlKjPAY/PoMhavMpWZh7//aVn1e6Yy/+B5g/+rDHgDu9PEFyOQxHuxAxY6ffJqoY69YFbV75nKXEBtSR9XGbAkA9OWaSKQxJumX+auVfJq7h68Tf+q3zOVuQ3MWY6qMmCWlqTSs0IgiTcrd81G2eTVbFw1qqJVv2cqMyrG0xZWZcBwlW97yOBxX8kbrvm4PW/DYVwd9M3J6peT+U7mdJ4AaBDPvw49OkQSCCAD5VdVusHpmjd8YXWgDld14y0ATxh11RSP7tzgld7IIgXuCUEsovL7yaV11zKN78bzxoFS5v0t8HkIDteagPD79Rwuoer3TGWGAzj7nlUGzN6qpxtww642uo7+igsX7u1EYe/wkvILiXdDqL1hSIkqQp6QypSzv0lLg1e+SIds4X2IDV9EvvT6pIV2SBLax60On2V4TzS8YQhjby5U/Z6pzM14zm9glQHzM+PVGnuUfJUufXHT24dH4Udb8ULi3RBqbxhSAoiQTGVKcMZqafDKF2mmMgPPWiDtcAfdMGS48L6eVb9nKtMH1wLbqwyQnWIkr488Ho8cfvJuxxAd6MyLI/0tkywe4oiOwemDWH85t94mrJef8j7TciJur+gjXKWNXI285jK8PZbOocAs/upVtPXXioNDyBWo6sduAFACee+nkNEO5wr3HTKXOiDZX74cYJQH9cpXmeZ2aXa1uyMCJmNVLxKP3zYCpf1+LwJISWmiX6sBEDT3BA4c3O+QAflBJdqFLewFgeB0XOCo0hku7XY7QU1/JxI/gqH+rCPkDITFbzDxylqfyGkGFIzSp94HBZwnMuF0/ivDBUPwjivgchyxqraIulgITqQ/Yll6jr+/ttjbS6f7z1n4DSbHSnh6S7mQncnq3wcIb0t3gbJLQ4BXjTDNUfXwKANlGqGYNaLhAgRRMISWIcIB/wmFqt8zlXkC8lOZosoAKSfWqqzVwoIn7yaaU/ClzkbOalRoZv1ILPGCbViLVp215rVyVGa78t8K4KXsrMnT6eSxxt+IjwLhtw7cKyjjfXxGKakghfluskOhziEiyEB91P37BThihCKOq4Qv6OM6ICcM8XbJRA1AU0zEEW5mkDZWtU08aaLtRwjLClzvgK9WK9r5jRu3GkpIedir+A4aGgJFaZcagAMCQQdWB6jSM8zLpqV2d7T/jI7YW+6CQ2AhKaHgIPStCzoLCkdACAeeKESQykBLt8i55MPdCyCJAq5tgLFdbfCKWdjXha3j7JorYuBW5mWNAyMF9cG0QEIk+IyaBagZS2eCJ6YpbHb/IgbkDwq7Lc5J5zOR0MnvodL18ZA4RLib8OjVp41pAAAgAElEQVQy4PhEmco4GgsvVxkgm53EYU3yK9ZEBwqOF2veGxVHFCA8zClj0JJGvgbSLYQAVRX1CKMaIgkhxKAGC5iWUAi/GKyooUDsWwuRF/ODyVRLAAleEst+wJZJu+vW0CFMwShv9wCkTEtxcHf+Y4himVvqH41SHkI8UCVqoxK/ah4swuNuddgXIXbpZacNZgpz/EI76gUd0I2eKjBvEIij4TMDd+c/qiowbwMWmEnBhYCSN3rKLvSU1fn6CqbRrc8iTGMiJIAGH7kC3nhVucErx823dkUk+dfPjdxw14FFDYwUvFtgnX/kmpCpCO0qLJIP+Uk1Auxgy1z6rWwNp9FHEQlDyBW1mMhjBXIuCqfnEwpVv2cq8wTkpzJFlQFSzhdV2BhYihS0WnSVFpacGv3ihvUT4ixVn9rPNkLIoKq9RBPxL1mRWvzaReaonXjtLkETb2Q6Gglq4ECL+lDtA1AhQwFUIQb0QlUCGzqEKVDS29EnqKcLNaBTody8kXl/YQjxQNVRCpoHi0jC3OqwqcCuPtpUZZZooF7oH6pgxbzBs1Slc/CC81aimLcBCwSW8NKheNzlM6oPPZ/a92BMkIZURddgka46HHwg6tOWDhcLDV658oQgCVTVZ3edw6T41xdjFc8AI3LC7MDlqQOdHWcalXn4QCWCrrbK+/NfuNKDimhCC1OoQDu3sXyKtvAg6qHVqt8zlXko5tMSXmWAVITEYSfQ3XoSBU4XNIonDDxFYBloP2D9EDo1lqpPPTCV8YhcQswmEbRlWYYhaOLtHrnUTlAjStISOoSgRv/u3ynx8XgMgSlUJbChQ5gCzb29T73ymozhDyoMIV4VJemDIRTQU3mhWx0IDLvKq9gg3GU+J5UJWw4KeGEILCWB2WvJlYFltVppXTCqDz2f2rfYwFWqoqsrH8rqWb5BoKptGFutNnjlyhOCJERVKeOBqzoFlCsXo3ADzwAj0sLswHV/KhPim2ZEYRRgCaAJLfRRgfbd+S986sGZjxhCyxMKVb9nKvME5KcyRZUBUs4ZGdYkQYFCsEdnj6Fxd/4LN5g8BSGShp013GAi1hBKgnphXqrlDQV9FE6Vq+vTcw4EusIKImEKNA8aOm4EMgqSH6p9jegQpkBJbw9BjSpCGPXowhDiVVGSYmgebu5AibCJejeI7ci4vWGsHPGEVAblXZmyPASWPoeGlSXhkJZRARmqIflTO/dGSZKgLoXSCm9RN9Y1H1W15dNqocErx40tXEKowo2qcDXCvT5/gSe4BWmuiWeE7VQGeOkW4EWxMF2DzxhOIYwFkBuEB1EPrVb9nqnMQzGflvAqA6QiJObqDdVZihT83rNWzvF4ZCNHoG4zsWwInepAlRDJOtfVaogdXuV5z+7fOcd+v3c5OkxS5uTPr4U+2Oh92Ah54A5MFF/AAdtRQ5qHoEZ/ug08leEYWXpKrHQIU2CIt4d4RFUxkZuALhY54xaGEK+KktRAc7mGi1F4KIvIP3T8prFO7CptlG2TZOuEAFHggHooE3SjZ5g37EBe3W63fjDD9b2LYl4nT5h6t9tJf3+OGEzkX1IH+jDKOQPVmQ4ohGojlQl0BVg0QW3xAU3KuRyBRrnBK8eNECRRVEUnR8bdgbYhHPXhGWBEbUUJhxECOzlDfzQhrjpz1NkJ47M4z53PGB5MYB25PtcKR/8nFKp+z1TmCchPZYoqA6SckzisSYICBV0ocL+GCwgOij0zYP0QOjWjVzWjBHIt6LkLWQ5xh3tbrrlik+SwOSkEoC0Sglfo4Chxs8zPchwHZpSZCkB9ABKyh6cybA9SD6jDFG6Leh4Oh8amOxATF3tP2SENcnCfoxqiNoaoAM3YEtiAsZ0Z5UHIUKWNNl2NlUPZeNAW9VBGH4Uq/Zk32BKq2OJLBiF+e9fJE6b2pVQ1EJb6978YFbjkVeeJhJRqBIt8yeAgrWUhjGscdmjgtl8su6jQWVaoAyFIfbxaRcZF4V8PR32joJ9LIHbpUzDhuKXaGRjJaQLOGgWkHqAcWKkqPrvh4OMpC6S9QXiw4qHVqt8zlXko5tMSXmXAtFTsOiLs1BRLfW5GYCzisa/crEkOvBkBT3FuFjLuwLF4Na5Wd0rznOlOUUsdXvV7pjJLdXfFrioDKv2e23T/OfNz9c3ZrkZgLOJlKnM19HcM4BhGMrgNcYfIkYeOxauR1bpPXKYyF/Gr+j1TmYu4LadDlQFTMM+PScuz/SlomDrcg8BYxMtU5h4v3DDW73/5nZEbRD1iyFi8eoRuN8vMVOYidFW/ZypzEbfldKgyYDnmpSVTRSCJN1XPzFuv5NW8/Xer9lW/ZypzK5wzHFdlwAztSJVnhkASb2YOm4m6yauZOGpkNat+z1RmZJSnLK7KgCkrnLotA4Ek3jL8ODUrkldT88hz9Kn6PVOZ54A/iVmqDKhqNuS7kY94qKUq079DWNX22sbq1xqvFTK8/xO++lHFraHhE1Ty2YcTz0eV5XxWpsTknVsWxiu9o+GZDh0S55+pz8C5qn7PVGYgekvoVmVA1bCLFH/EXsirO4JKc09lgjmjV2/wxQ1D7lF7OPHas2Qq08bn3T5dEq9e8rTvxTg/TUZV/Z6pzDSd9RCtqgyoznSR4o/YCzOVqfriYuMNvrhhyEU1Gh2GE68hpO8nJtpD8tMFI7AkXmUqM5yoVb9nKjMcwNn3rDIAq3hPqL8gMrzYV29N1Uaob1DzLn//QnUpc7Va+Wt2mQuV+Nonb7d0If56Td64r3ehXjWvZOoGk8t03XjPZniBpvfnho5e6McQ3iqL8ryIltekOnqn04mxfNlVv2mFXcwVUj1VXZp8oZio4cgMrxyVLa7kQ8t4uToLrneSuF14nFOZEPepyrM+tg9hiRJKyK+ql42TRaCPV/6qKtZdI1Jd5JUQKKNWWFbV5a/Xl2us1qPzU9zzNXs4/7lp6s9cihhECZfmniKAhIiKFQoChBcfO/Gyg4OqmcoAxfILVQbIbH//lbYWUdxv7mi9qZ3VpTfr+xrmTdi+9RIs9FJttljJUSbh/d0ZWnu+T6sc3gt8cV5kasMDDS1p6cAvnhABZW/Y+3nNvMIK4YB25ipTGSKL4+yP78heyXTMAz5U3RfqL3z8h6i8PZjvqj6oDNSlfN91MMRZIW0V8WGRzCEBparOAxHWcEemVC9bpoxAH6/gg5SHNn0Rgw5hoFc9QsJPX7aKbGVaHDIGxko3xPpcLAT1oao+IXhS9aXkgchjF9NxHUjsmrKjg25Vv2cqE1BacrXKAJJ9LNf6FMXZLfQpN55YXdryGeu/GsNe65/yQ7I08ou41f4h9VG1qhvDKTBFKIQARAxSu5vMD0KFExqs8NRHWR2RhUnBKsxLAFVPfmDcw41nisEuqsgX+B5MsWh3/kMlj240Pq7QRzzU86lPp5Mn0J4LgpjHfQhc/tIh/SW/D2HaXY0sTx+BPl6xovG7FoUvbY9U8KSPV6x3MFHUCiuaT70Q1logm2Z0DjvhJYcFrs5cqKgdo1CSqIUampS51C7lM5UBpdcUGiR+jUJzmLUPNFYyRpCyqMVvASgosLoYohWrU00d0mjlqIXl5904AtX2z96MTBXCxhaqLrAxr8ssd9Dd+c8VRrfNZqP+tFDwPEPyw2WfGsEqBL4AO3ZRYLiOGQI+VJGvCI56FI7HYymzjwyadNx/++ZyzX3GQD/55XQ6gRgtGkX1NoQDOK5JlqeMQB+v/LEquIEhZcS4yCsfwrJS1OIGMWeBTKQCwlVluBdOp5PrGdYFVe/TyHhQyafYn/+CkmGhBc0nW636PU9lJuuv8RWrMsCXPVNCcSUx3D/i3JLVpeFaMxru55xq4e6sdiOkMR0DyyONcIHlVeILw4Nkn9fnaqcy3lPlsj99Qu4SquoGVrdttFxskbtILFXkC5zqZVbYrX0Itjyu0Ee8PjWgn1QigrMr0BI63IZwAOdxOKTkcRHo45WOivXolS/JvohxkVflOUcwRIT0Hx6nA8LVEs536eaUDuuCqvdppzLVQBo06ftpblSabKHq90xlJuuv8RWrMoCzTebTfnA4HMLKUXt5KhM2ns1mE1IKSdYhJ8uS6SiwN9PCQL9pwsZz1bwuM2x4pEdlO6PCXLR7oCwPadQNk4P8EFmwq+8G0+78x9R0Q76fmdNNhfPQHY2K6VQfXWgTjxNy1AAKtWAgiAlJBqrDkBtMIlKQH6qokYWJI9DHK6mte0C+cr2sVa9IdZFXMLANiAJm6INwtfeRzYNtkMNq9T6NVCbMiD5BrBZR9cqHIdMsVP2eqcw0nfUQraoM0Eyef/A4ath6dchRpjK+OHW2qQDBXku2pNtMPpemkMxrU5lr5wVTTcpZK5FCuYijhKrqw9653W41/EGpDJduij7CzfVUbNW1l8dZ9Sc8oba3y3w3E2QeVGjM5Wd4GCuLZLUzxGM0B4Tak3QJrs5+NxMvk7B6AfJ7rvwgEFLs6Ag0eMVO7336IsZFXnnew5HPfr+HsTItPDmnRheOVlBUAZMIqQgjGrOKOfPWdEQhX/hI1qR8BwLJkkZA02VPyO1Gd9CDBLpPmSJTGaBYfqHKAMzmdoz2P1FfZa2lw+HgGw+NWmCq7nY733HVqH9Zvew9SJAOWpmlkh6AfB+6YV5NxO6IeoBANqOP/JzWoeDY6UGpjN/tdtx4aEnzop4j6bA4mN7uPnLbH1R2NcopMIoEjrgsu8gzfFdwc8ScPJUpsV12S5tXuoHCGmFTZ2mzCi7ySjASIT0DIGqtVivPm0Hehauxb0h5rci6lqXi/JBUJrxEw2MIVsh8EiYUnn6h6vdMZabvuNE0rDJgNOkpaCQEQuo2ktRXiknivRL95c6dvFqub1uWVf2eqUwLsoV9VmXAwmxcgDmZyizAiWnCExDIgPYEkCc4RdXv9VRG51r5byKQCCQCiUAikAgkApNCoEyw6qlM2W9qLdW8bGpKTk2fBG1qHnkTfZJ4b+LoJ5uZvHoy4BOZrur3TGUm4p1nqFFlwDMmzjneG4Ek3nv7/1HWJ68ehey05Vb9nqnMtJ02qnZVBow6QwpLBCoIJPEqoGTT3Qgkr+6GcJYCqn5/eCqjL77qNlv1u2q3YVk1RqL8q/MuXN9k86+l+adjlY/HI9/URaZ/y59GvnHKl+v8o75y38tX+vp7exu08lboC7+nN8TM4/F4FXQORV/5NpP9y5l9kt+5vY94/jVsp59W0Iiohu/MV32hl8dXP7q5sUqn8tu5N8v3gcw1xFgfeG05vLxn4PDbRrWFv4RXkLat21Wf4rvnP/LP1Fcp/NrOVb8/NpURfQGLF4vdD0TVGIndnP94FwVz6fv0j05l9vs99jK1XjkQ2vWzeXq1Fz0vFobs8X1C2qAFxPTyg0fD1afqRTPDKxb65FzVfvMeM+Kme5XCc+ncIJ5MqO5zI6J6cXevKnAnvFpBpZCbaVaKosVlXjSWUXMvPJ9Xjwg7L/TX8zOnUShX9ftjUxl+PkYGjBgvqsZoFrknnAAdDge9duzRe7N+fTA4TG8mDac1+/1eKl11tHBxjw9Te/UiaN658Rb80O0R1YtmPiKm+H5wlVEjbrpXzTuXzg3iyYRqZBgR1Yu7RVWBO+HNVOZOAC8Ofz6vHhF2LpLzIg43d8hU5kboRowXDRLLPdvt1rMWVf11ov7yVj8v4fxQJ94yVZscQ0KeBBw6aKFKQUE5ZDmbzSYsjL53vNKul+3y/koNl540MmlZuAhaGEI+EYIyVSmgqtSopmXyO3cQ+lTtM7P0iBsu3+EazYLrkRn2RW9XZ5fgVoT8xhe/1NCLNX2406mcqOs6B8S55O0h8Q2umVe1QTwZUo0MugCANhdRDZjgEf2ABni6R/znDjSRziad0s4cZPrPJvgvqtLZJcBGaShGoYYTwEchKsgPp6fh09PppK2RVYPh5etuA2J0cDV4wz0mu7OcsW4Ir5Tl1NlHcbXpmEsZYAmxrlRV667aTqNPSuPNvHJYduc/x5aMRN28M1P7S3gFF/ZqjXh4cQk4fchOpLgkyZrF3YTO+Gi73QagvKrlQ1wVLctV6TGZKdzw8CJ1iBH6DKlW48ljT2WCWgoEofG2atUYiRIbdAyjFmUY7p6gCasUOmogz7ioP3zyXxdy/X1Sb5f79TPratcjNXK/Nk7//Q6RWBHQ26WGUgGNJUr6Twr41F6+CJp3dh1U5lOq0gHiuqp01uplH3Kx3sfHupl9HnHo0EcCuY/pWYj397nECvIhD8eS5rRR2e2VL7Sw5Ucp0/ap71Lki66Jln2pjCM2o3KDeCXI2DUE1QAaY32ByyPymlPCf1jHvexUIf7yZFupsM9FXhv6oxiZBwk9weTaeYNM2KI9jGBFcJP8dsRQHxjuN+VRz7GqMhlKy1jfTTW7xGqNuFa+MD0IuKVefj6vAEHEACivim/41yMzvvD+HuJIZTyMCHA5VLDgXMjjsEhJFAhrxEFmOvdp9+9ay52FfK1KVVEyDEcso5wJaux7pNWH9JWrfn9eKiN82dL6tBzYXjVGY8GRPsohHG4/nlHQYb25AqzJEK36fvM9HAUhSgvez2x2u53/9LTrplHwO6gKd/W7r0whCYoONIYCgIT28KNIZNxEPVGWUVQ9DHFJRzcVgkqlperWZ2YYjkc8poQ+bFcUXKUSKLxZ7e+/+sRtSgnUb3377uW2lJa6T8uFsDv/SYLL8ZaZlhvEk0UlVm1U3eO4z8HBNWpkO/GBvp24AqEPbKfgE0lPVooHk77+fcHk2nldDaeu71WyUbvakIjhy8rx0VxapI6VpzLowyKlpdwd2Wi1vrQc+oKAy/Hy83nl+LCcpRJV+R1v8pQFBUxQHwZ6qGEXU2e41EceZBKH4eTu/OcdwJlZ3KdtZ3k2BvnDcJ+LMoCoxa2mz8BC1e9PSmXEAKfvQKX7ulWNUWfcs91utUJ0Zwe4VWDDpsBcoovaqxdzHjgYJb96lTILXjeV6MnCoMAQTVG2EyY4HkR/CIqQUBgCGleTvteykCSQalAvVMPsrrALZ+051zFTQkqPlHOpBTQ0kCrXMaGbOiiR7XMrm6UYpYTVFcC/TOp5Kjgg383hU+4IoHMQS8/ZFRrEky2sTTctmK9qw32MLaWFuCkCu+vLISFKiJxwmFAWuuE71hFaUYAGagnVILBvXqSVQoKxVFEeJcuI4ayupjKHw8GxqjLZfcSG6qMI0VJe1TD1kGf1nsyrEKkAVlZQJTyqnSod1M6/3g4ygfyAE9gSqpJJZ1UbgYXp3DtdcSpD8NTO5dEbPblTxukgBnqhXHr+6cBy1e/PSGWErMMxUONGt6ox6o97dA19PB45cdHSldt842QiVqZauJgLjAlVda5+DVsf4W+dD+knpn1hBPJxHFe2s8eH605MaBSGgKbhwoEwxGrUp1SDeqGKJoqhiv4C3xeD48AQzOzziM+lMnFZQxCliKzwTYbhn1KuuhX1SED1vDb5Td/ydg01RZAvKPhB3XDRjFYLKDSIJ+tCJFUjq8arQrWNSSmN3YJIquXPAYYPwS9iqYZ4uICT+/1enf1TdGOZ0KJCoAHVq+ZtyMRY9aE6JGIE0jJWouQRx0rtaB62MZKn8KPlhGgNVzVM/ZJURvo0/nUlAzhUg9+p0iHI93aQCeRnXtgiIaGqRjqr2ggsTBd86lX6SFpQLFQ19Wq18ltvGigceESGpadPr/q3Gk8ensrIgHHzGDaVqv1AL3/sdjvN7u4JDkBOaOd+XmBMqGq4PwqDQBUQq7yK4yI457ppCPxmh1a732Di0jBM11etMgCxwUf6Trs+lZ6IJVdAf+8Wwjor2fuEVEYOJXPSQausAzoNxyM+NXmP+uj6QGX/d3f+K6GmT9Wt+lTHqlqfOBHEgpKqlhPhU2bs/l0A8bSmf7SYcoN4srHEqi9BrPYsgQrbNtckBAcN4bEqFxvcJLYHVutiQ3wI3keZwHzaA82oXjsvArnyUUuQQzUsEx9O2ZfVkFMZBnbGZG/k/pEjHLxAtS/WBYFUn88rx8cvZpR4iQ/B71RxNPqrgIMG3mDyfLEq05Usneizg3yIwJKggOx9+laly/RrP28Pclh63mdguer3x6Yy/8PeGWanzsNau3PpYDoWhtKRMI1vLcbBWPqt2+ee591XdkKAAAl1f5xjG1mWtrZlkUAAkfbcWmjxjFjXGeQTMq6tEZLcSyU9CWvO5USEnYUxpeu6bb7jpUx2vFNBMjmXBzDsx+wcx2zO+IJt8agL3ULQmIv+rAKNI1c4pKxepzsaUAa9OqIAjSk3pyKSajMXAB2elsLfu7y5FumjG+W0kCnWLhnEme2dCxlTeCiYBM6TwCWUTzN22p4hHh7l3tTH3DUJcqKa4XMiR7vv/0CSEOdxDvLlkm0pC6AZqowUC/mmomw9kwnrplW0S/awa8OdNb9uas65uR3yJMOXQjw3L9pyW+VcXi01+hSTRUZHeJqllUpu6jy/c8OC6vy7tefzKvEhvpnJ50sZOOwGl04ZL5HJ7Q/OTMxAF67KhzRyPrG4HFEQ7Tw3Uya3YVKCFX0vmnHUqqmtp8DyRjfujy1lSDp5a7akp+XWF8muM8gk9PlJq5IuYRK2QUE3HoNczmGhiwTKj/QWU0v4s5YvnEu4pAUJRTuTEEwX3nbdMrIQNGdhD7mPrcVa5uhif+kWPczlkoZ7RpkpN9PHjAh7z+pEEPyKOwDmfWKTSK7ll9Tc8ybctC0zC9PzvVFhdXa7MU2nMihQVF/KMZP27KudPnYtL3sTmYSxbKJEtcslqxnu33laJMJcHLXigSpo884Ir2rJ1LrdZILNztXxmWRy7brq1K/T6aSzvJrdKeKpp2zhnGsIMlhTCuWwuylnZYrOUiY3JhfScs9qpI3n86rFB09JyxdLGSnBLBwRQw4RXc6U6+AMeYSlGPnz74KZQTGxwNus5pHJdFeCVfhsN63N3KhVUpTbT8hriWJLGt24P7aUWWLWbTJdZ25T9XdmDdD+Tqw35ekg3qbCsRdjyiHamj141WLyF0a6cR+lzF8I/f/62GXAH/J/uPoiBAbxXgT8zpb1Iqvf/5p/1z54tbMAr2RuN+6jlFkJ3T2o6TJgD4YPG/eNwCDevuP3LOu91cJtjvk6hps1zzJtrLMhBLr5ZJQyG4rQo03pMuDRiw79A4FBvMGBRyAwePUIVLevsxv3UcpsP3CrWdhlwGrah6KBwAQCg3gTwIzhuxAYvLoLvt1O7sZ9lDK7jef1hncZcL2aMWMgcB0Cg3jX4TWklyEweLUMp3eT6sb9bUuZ1luf91ACy5fEfNxCebXb9RtxfKOsK7PBwRaTq4zM74Evn3jxawjLVW1E8jYcXm78RYb7vcrVTV1OvCU2XHTkHvvzO8MzepbbsFBhrqXy8l3olBntjXxWZmF8jekNgVt4ytyzRNeq8/mczwTpyrSDSVo1tN8PbycuH+nmk/csZXi4QoGGUqZ9CgXPk7iKB5YyZYmNd7sM2LjNGzRvj6XMkhLhcVAvJ95FOxem9cf54pdrHrREOpinwoOW27Xa5bx6nJtLSpk7z4ukxJQjq79jXOLXlDGMp4ZRykxiNU9ifne6TOYEKk/voei5mECLqjupWbQ9rTsP2tPM2PtCo5S5NoLLiXdxJy5J69ead638Q21I5aOUmQ/Ncl7N67nn1Tywp/TceV4kJaaWGKXMe16V4aewS9Q5gUqVczgcKBi9KgNv+Dagz1j0rZjjlERJMjiNQD5DFpL5HM/UWSx8dHdm53OEaPzpdPIBpj4KOY9w3fFhqfmkzjyQ3GPkZZ+XqtopbI2LVuWXM9MAccvY5eU3NcwjgFgWu1rrQ0vzV+5KhrLLM6YFEIUaDNNgSxo8dS23awPgYLCeoi11gozuI5lz80keRo1A+6Bk9XefVSr4M40Z2H1qM5ZoQ1krn6OKO+3TnLurdGOhqSJj0PNk6uKQ8GKDSroGpMKLqaAoZ8sYiNwyGcQMkK79hUYXcB0Xt8xRibCpmCewu9HA2bAS5TYdsVDGt+RAJpoHNKNrg2bTyPiigfGc62Yxt2A5Jmm/9Eid81xKDaL08++pwfjV/mwCP3wGaYsGlm6hKF4v7Hbj/oalzNRvCJCYyu9XA4qcgCgemf6YSI4TlbaUUYlnMyGHZ+hkrlRYGLm1xLoMQDm8p82WlsH6ZSljI9nsQe7vP+ByljKq4qBiiSlswcotl7/rYVyEmpuyJgv0UzRoAIlGhYlqnuhsRYQ94TCSwOl+upxQIGwGAVvQ4CWTgvozW6Vh6TWA6Kkssm4u6/obiolGybysi21GhzMA/cgvRzKNtz1DvAwl67Zr4TjjAthGUxxcV3qIc35gLoPueOIzhUPacJFdqXBJKkjl7U5ky5Q0koFO39++PcOrxERIacB24gKe7ALajKvZPQ7mjhMaNzKbJXcreiCtSiQkNpRfPjJeGd+0h3HnakP58Qc3ssuV38BK+VwrfxSTdU0y2mb2Q9iUi57clamBV92GCZSalzeMQk55w1Jm6heqjYHXbI7HI+eNsS8/qGt4yu+kGwk3ifQC3IxiJms4BL8zDM9pdxnA0iIg+zVJ3wXQhjJ5kOdg7hlBQ+Dw+8d+IIk4DuPLHjMW+btaTMFCBEog0gCE239bheffv7wSk1tU9zNDJQKyQvMsayCG+mWC48W8YgOpUwMQ1vHM1MTR3GF8Cz7OzXInj4EMUB7bxc757hTxjCnTAQFMip3an9gWmQILOgsmbswSO91XINM6qtwIacNFTFLhklSQyhduGZYoaMxH5D1eneJVF5DyC0eZ6AoZMqZSlEYe7XDS+LaL+nN7qX/qiMmIHH7/HPF9TglxUkWbi0wxL+1Hv6ymqxdO1Awa6QtvHizXeJfoW8HUUNAT1aJ8Ybcb9zcsZb6+vtqAkZg4UfhVQkaQNFF6US4bhMRTZ+bQ4uB0LlMkGXEq3YXBW0WsywA0i1v5bHwAACAASURBVEDucF7yhLABEXEzodbxLE30V4qj1m4undiyijvTLhvbtWgQWS8p56UXNjxiaks8tSQHXc5B97A4OIKM3UwxSbyfuEKb+zzHXa5c3MpxIWVQVWXd7BaQObnFsOwCHUS/3YtIppHZniKeiClc7DSgXkFJp5iVfMi482orn5fBXdeSVzBL4LKbOi9ikgpL4Eq3Nbgw0643FIxgW/Kma+/anuJVBih9L+xyjxceZlyUsaFCigDji0BGhJ8yzZxW9p3CJS+lAW1CZsUyt0zpnkRcxdEqHJnikn7pLw3Gz+fz8XjkB1nJvRogS1NDQa90yxIXu924v2Ep0/UzMxH3mAAa1KT4VEZQAHmpn3sGThBXlL9rKSPV3Aa5Fd0wxX0pznS7U9gWutv1vY5mlIanC7HwVTe/IzS0JMddzkGD7tHuCDJ2kxVJvJ9tlDLgQLmJmwtLGaGYQlKB0pjakiKmvGSgiLE06ZYyFjFMLxeTGCyxIMVzOVblSJKLM/8aaPXDqFZnHlEI+28qNN3nikrSSOWFmXbLO/ui4e90p3iVGCYasotB93jhYYZJGRsq7JYyvpqN1D91xKR8GpClDFzSC9wk9+aUqZOIJXCEn6d2O+TqtJO35VXfDByPR8T8N69ep4aCXukW/Re73bi/WylTPgqToGRi4sqYR53kSEKUuXmlwQu/7hkbzCJU5SznpaklcrkHtbsMYC0RyJ3DS+Jmo5jXTayH3z/f7CbFmW5eLlc4xbbQ3W6Buhhjt71txEttKslE4/TchwymwR5p3sHBQbrFwsRNtTZQXrozg6U2yos3Zd3sGt/iLDLXljKY1yLJePvvFPGIqfKAcDwejTUvMc4G7DqF2OfnZ6lOJLOltjgXHKZuMJkiEva0QeNptJi4Yu4FDc6swmAql3K8ZDcZxUt/8995Xhl0wSm5V6gLGVJMKtIoF6E9y9sPo7houSqTylMm24ffP0e8wSQBeInxUsroFDKYzUmkQpNGsjpf/Yk3XWWcREeWdmmTdub5ZL4wplVtgNq1uiPduL9bKVO+oJRA5P7nyoEBNtHDA/nq56pynKiUQ6uEiret71rK5C1/HOc77Xmu+zbarVv2oV2whdaJbYE0u3loec6lHrYoB5uWtAeb9EiZTBzumSSARNJ3d35hBfqVV6xNfLnttSrLI+d60id7La00WGfRVhjOIIt6+iqTBmeyS5QK2mlz206ryqsZSq7E5PGAMO8y21JGagGUbzRzCey0xMkrN/kx4amP/V4sZS5ikpFNg9vKBrMxmLZ7pHQhngTIIy19f/v2DK8y0O7T3MXmjVJqlLiYdmiY4jy8M76eFyAvt7NUShvkbYlUxtdNWuxExk/dSi0NRqcnEeN5tOFLrsUS6Ey/uuYJBfSzKJe0qaFYVbpF/8VuN+7vVsr4kd4WjkzQQKmMSdwDAAYYrTIuNUve8cL76XTyvJdkLFe62vCERpcBrNsioD3iZiMvp3sQcuaJgMzWXymO5uwCI3O9f1ToXrre20rL2VTo8fQyFzA+9VZAyxMlb5YVNz3hXBE3IUyyIkuBn3ivk/s8x4XdRtrg6QUa2KwxZd3sogRM8gMomEGwRDIDnfYvRFLLbSSkDtowlICJjwKLVXky4bUlnSAwRbU0AEEMZQWvGnR3esZlCgf5b9WlnpZdqdC9wOqlq+U6mHsk3+/6rtp1nfunGvO8Sp57hMMHcDNHmc/buJh2aEikLmEsTdDvxnTjYEbaoJ4SuNzgSWw3CwWHexYZtGkkWcuTaGrdXCshBUC9SAvzbQDTRThJqwZk3B2lm5qXtNNI5d+tlNGx0WgR6DKgFXvtSO6E11oyVl8LgRcSj/S9liNDz6YQeCav7jx9N4Xb3o3pxn2UMnsP6xX2dxlwxfzHiOYbbt6+eO3hMQsOrc9G4IXEG6XMs4P9xPWeyatRyjwxsBeW6sZ9lDIXUHunl7sM2IKDXif3eukWrBo2rIXAC4k3Spm1grhBPc/k1ShltkOAbtxHKbOdAD3cki4DHr7qWODPIzCI9+cp8BAABq8eAuvmlXbjPkqZzcdtPQO7DFhP/dA0EOgjMIjXx2WM3ofA4NV9+O11djfuo5TZazhvsLvLgBv0jCkDgasQGMS7Cq4hvBCBwauFQL2ZWDfuo5T54SEfjwt2fhvzqlVWv83fZUCaxIOoc+T57fLFyOUGlK/O5sSpn+VKmZvbfkj55d+94lHiSxxZSC1dW6JzRuYi8Wbm5rfB58XKq1NfdS5iO+rOMHxHXqxo6jyvZO+jmbBwNxXHb5tVlPzNbjfuf72U2fKHuVbnepcBbobv7+/uIwQU2HhjJtF/fX35SIN1vVg9Rnea5++LzetZYvaKB8A88eZNHa+KwAzDlflTjRleJVYrMvlPwbtZZ7txH6XMyQcmbi1yS86bq2zuMkANm8VBC+cbmbxSkl/EzZEV26vH6E7buAR4UckSs1c8AOaJd9HaIQACUwz/s/jM8CqxWpHJfxbqTTnejft7ljL5nEffjucgWHBJhm8CczXSxzKWh6DnOM9VVG0+ftF48zBENP+///f/8lmx5VGMTMlBS4ol540rLml0GcDEvDeBs6yOCz7JsXxZ2i6/oyQU39/fia22pU4ftcmPJREd9TjF72n7WMyMRT50MpOX03lM89TVplZ5eWZxRpk7X0zB+HSHn27gYbKM56vYg+WCWbrJz7Ku7piUEwSRQWzqLmFGJJ8fmnYaUEOJR7lcYq5h840Z4rGigTidTtiWGzAjq2Fuk/KI1fa2Ajf+3GL5wN/03TubAJUvGQ6eaq+1ep3CSTYl5xFALOOotZk6xEFTMcAuW0kAUShimeLSYAmpO3tpTKHqVhIBMckfmvA5/eAvc9J9Hj5uOCCPYQU6wGRWAisTcvsYZWfxak7MiBg+XMBI8kC+pM2pxxxbeCufp2BR2zYb3bi/YSmTj1yTLuVzDKZj0hahlVLEr/zKhkSHx0zxmdDmU+bmD6mjFnaq00ePn89nMxFz/eUOjV+LT10GoDx/0xGD3XLQXb/EwV/g8/jPje2BYf7FHXeR0DHurks0Mu8YQY9bf02CdV2owDX1s1xd5UkeHDfQnp1wJp1lRS3EIxOZOpMJP/EjBgAoYmVdkclfh0kQiuP+8kPikDZjBmRI/hcOWzZloAvmucRMe4Z47CYBzKDoow7ayN+jScKkO9rPOSRvXSIJyUQ4T9tw5J6VtOJwPp9z0cRKAwBWhQmUxqRMroiRheHpckJRiJeZipdkXXd3p2G7aM/wKqnCkQ+GBIt2ZjYCl3sNBJBhPDdOC3umdOZKYBv5wa8lEUm+UZ9ZysykozbHJhqSRwNkBbBsP/TduL9bKQPbjCVROf/+ZYQMbaahw+9fivGWqJwNMOB8PicVmGXyygyVB1i+x2JKa1s5EdOeO9tdBqAzNxsGm/oT0hTLrC2e7a4QvfID2iCfRwKW5E4z4fJSi1VimzYkUF2v29/Nbs+kzDuZUygpwCc5UAInCV0rrU2gkoRYri8yinG7JRDpb5rk+OH3z65JXCN5Kee6VpEpXqhzptENAfLpSK4O+BwhomEj15IwOZhlX1YGVAxUmVm+M56ljGk9iVoIiYY2fFgigMUwuxLDERhesoS80v3ist0WQOtpdzGN7u7WjL00ZnglVjBBHHLzFpzbcGS9AiYZ0yQGlkwxIUkutgZrKiLqZ0qKTaWjqRybaLQGOLKXRjfu71bKyI9uVMjgvFnhTVKSz8uSCPAvd15yJzjFDOJaMia5CwVPv3+W0k6xgeUsSsac98WJyxtdBjA9d7UG81J206/lpQzuJKq224pQVM3gXQe9uKpJgp/yp9Op+264q7wFXLFMYXlM5hSFc9Ba7ef/XobJbpHPN+hT6yaT01/fGpbBoqesSIgzKOmjqlrMfWm+MU88j9VilQG1wdbDTksNeMhgvqvWZeOCkXZlDuMSzw3OuN3EXKysihhJsuEO46UcLJbQLcs5qGHi4AgydqcATLLlds5xl9tRY4ZXYtUyGWIUzhvQ4r7YMi6p3Gglg3mIJBOSOeo3WFMRKUtnvk0z0kG9yIZv0hjMjeOOzgNOCzfb6Mb9r5QykonweM3fPJXvAksIc1ckg1uqKZlZUqbmWrmEKY9855tIuZ7C97S7DEDhc0qZ3EU6UtwUVY8cJWmw/dh7YMtZKPgpP/U17K7yYsmSkiKnqDMHH1TK4KPpOK8WQLMEIZMd41qohrzIBA8zXU5hXlaZ6s4Tb3kpo35TcJYIfqABhdpvXJhuNzdpvv8u+9Su1xc1ozRA1ZvXvuq54ggNLclxl3PQHSHDHUHGrmFlXPmfKKNNR8iUrovuojHDq/RdJuAUXRxP/nRdFtucS9tIFdjd8oUJ7rXyTrWEwG5ZemEp082xutbdOB6O+U7AKRtsdOP+bqWM9CoBKGnLz6OkfDezkOOyxIa4pRhnOfdMLic1bRTbnMX419dX4XqRv7nbZQDaugbzUpqdFzAZb8uIlM8ToripFyURuIFtKGmOcITwtTYo8PX11d3bXeVJBjSYEIvxdtN4+ZODxeYsGVnu9PtXLte5brkJkjcu9RHATcpldcQOv39OIXllrcZLjJdSpihMzFU431hIvLJQgtB915hs1IDD719Wb8YFGbsFW99CFBrYLea5Yml071NwDhUqdklYtk/GSEDKElpeLFT+Z5Qy39+Gyc2bSc9XS6PEyLn5nrbAroYSJsbdrc4qEbcL8dTGeCnTeVWrbDir2+hunIuVelfVSwa7+eTdShkurlh5wIbT6ZQx5t0bMuYpd7uVKVTjAXpJet5jme5dC7WENuWlJlnJN9BSMzMOZ8nzS5lM62mwsJCFvZqFL7qZLpTp5gLxBCLhckszrjzZ33CATMYLga4NqJr/GnaWBR7t1pEUYVYYyZ88JtN4z8gcLKVM3uTmWrTASoysJzyltOf7+1vmiFju7W5KAjfyINOZkmgj07o8gzkGXPw3zSvChq8AlR9Ukl2JHlbxxTGhS84YMuPC0nYJExsZbegp/mbXt0Dui+/v79ST+ScJVmQEIWUkoVtDTCQJJZ2+a0Y3Y4ibYmYzi6qyWzVsF40ZXqXvMgGn7OZGI3BJJIRzg+TG75YyJcpky6ndinCGhhUzIkn48rFfE2NahU6DK5FSj+SRb8LSfcPAq5v6txv3NyxlIKUXdYkr8WOQx4gJB9fcYIZZPusV2cZgywDXMt6ZoJOaVgBMKUcLX0B1P8h11d7Z0OVWT76BKAaXrs5iXntFpMhnLmAKGswaxc2Ut1hhCmazPxmhSGUHZvJC8ng8zm9OfUlkvNvtoZ7JAs1mQy1kLera4lF2AYd1GTfvdNdlaeRBBqImn9N45AlKiXJOSQ57zRl/pS4yhGkK87LEVLdYmGIu57HtqwbUhmgbfYQTOlO8MTocDr7fyIscrii87dubPLFYK+ESZ7BCj2tlrJNLOkiDWfzrSwVwxhMHV8TNUcoIHQ02F8STCbyUXWHML/+nqpKOci4bqlye7yrMredeMC2UhFm68g3NpIs0o2QnHc9v0U5tnKTZfKpMTF7eFsO05D1LmfRw9bYUXF3zoxV2GeCiM9lWmdHYOALkwa0ZOU+8jVhbKp6NWDXMmEFgF7yasf+ql0qJc9XcNxPuxn2UMpejTDmsXF6sc3AXjS4DtHzvP1ygI3+5sfCHC54M0TzxnmyMy+XdUs4Jr7IoMxpbRmCbvFoLMa7leNU27zWvtcRO9XTjPkqZRdHMK9g7uhBXfOsyIGW6HwdLgdHeMgJ5l3BTdl4k3quszZs7o455VRRuXnezvLrZozIxb1d5R77I/MFuN+6jlPlDTOgy4A/5P1x9EQKDeC8C/s2XHbx68wBPuNeN+yhlJtB6x+EuA97R0eHTthAYxNtWPN7FmsGrd4nkdX504/6GpUx+J+I6hBZLL7kWrUz5tPniRdYX7DLAZV5l8PKPUWPhnR9/40P7ep2N/GZsjq/bbqOwoknLwUynWpPy1fvbM/o3slvTxxVNck+l/hvat4X1hoX2NWWGV1c5Ur6mdNXcpwnflvdum3XRqYWIrcX/Yk837m9YyhS3V+8uyXT5tcnVDbhZYZcBaEuDn1x7LUzTWnXn5uTTc35jVjB5ooxf5XV83QbPQSk6VzRpIZhpQNekFLi/PUO8+5XPa1iyW4uGG6YUDXRviEVXzxicQmAtXi08mKfM+IPjSxBbax+18HbjPkqZFqgLI0silJXBBXVPfLnLANZPgy0anmPawoyvVfeXMj66SgfP5/NzSpnuz3TzNeCvry+f2MujjG4waSGYOs5zVh705slVZoinzIMaS3ZrWfqGKUUD3Rti0dUzBqcQWItXSw7mKRv+5vgSxNbaRy3C3bi/YSkjgjzBNh8xlI8qAiAejeqTgnyzXtKQXb/ywPeYUqG3J/y6E5859wxuH8mlDcig/HGfVO8yIJ8omAbrqRcqKHcY5/ATt3wef1ZFKPc7X34gny+0gzbY+lLXSIPIeQ/UWuj3FdOXqcfkUDeU32bima0ZqYys9vvI3bI01RWO8FKalFvx8/Mz6xVeWmhS6jcoPsONdcuDA7RzhlRdk9Lm+9vdmKL2mbs1nzdYTJJgADhf2x1+/wS8sIK5GazT6VRSv12+dEbGMF+5F4wa2ihwQczIJtOWeKFMeYTa/VF+voYSxGKAeThTQcbFTWQ42PXuULvtBj+fz2Y/8wMJRITVz3RCZkzTWhZK2zKVoSffwmV28swq9MaLnDVlXj64lbd5epRGpnkiVsjvQSA/UZUGe1Cm8qva3bi/eSkjsoTBqHvckjUc98HkyItvdk2+yRIjCoHUn49iREkyDI5ig7x/3HNrugzAx2KwuEFB0iWpwX2ezznANcVyJ6gZN1kO+SxlDEE+7UP8E0bzAq+m2pyblqce6obymwYc55YyZa5qkwbkGhITJpmk0qRcuizqS0tMmiJPmlqQyZRxrUnatkpjhnjuJtgFhZIeWQ3jhVS5ardCIZmZeOaOw4yLpYwbxI0vUMKebMnUzxTYgox7HwftapiqZpimsKdg64Wb0arItbR/R40ZXrlnfQNpo5uBCQe7yRRnt8CeJOEleEsRw/TcmJI8yZw4I5zElmDFhvanJ8xaGVz5tsS8zOQw0G2ikblfMCkJrFj+8Itepw3uF0F27vJGN+5vXsoYkhZNeFNSvLwxd4BvdjNCib5zC1+lmo2is9jQ/Q2dXOjmdpcBaMttkDmRA4CcmNmh4JnPg09VCUV5aI3acpOQbqwJ0lPRY2nTNF1/yD6nHH7/cqTYSQI6nU6QwSXyF6lM+uffv9RW8kVrUgqzh7snB6UMWE2ZpG3olJCH3z8Xkkstiwr+TClXp9SzbmOGeO6mpE1hl77oHea540SD8eyqv33oDlFGif4WdjmejUz9PBKeqLl6m+WlCjJ2C/mLgzquR8W8KfIXMY0v50chlWJ7aUzxSljSEd5I5AYUVcMho5hoF4VGWXnE3FlTmVMSpj3ZdiEGTQh0KWu0wUZqyEyb4yk8Y56ulYpfVSUlugUKoxIZvS4yxVmXWN7oxv3vljKkm4QeKOGNLGcwu0ZI6L2YZimdedl8USYa0WJD6brK/Y0uA1DbNZiXtD9lNF6rNDvF3GC5o5jidk1sfeekWhuaUVTZRU/Govu7Kq7r0439/IpLeIk4tbnb8d2XfuJnh7FWkzSextTPdC8xaYo82swSgunVb+30akFaNWVSytzfniGefiVtCoBSy4YmLd+tVAmJxsfHBw9HLqWzJrlKaRgvQ1/U4q+xyMswqNKRlFkiVpCxq0JNnfEiueGbPSfuqDHFq4KqHhVMTGKi5whT7Ioz48rTdQ/aKOPJPV4q/7oQ40kwauXj8Zg2GMGkLkqgoskqZ3XNK0ubsYuFBbqCQC5tUMqUqd+BKgst6bpECo9S5jvZ4HusshmymxGCN1T6hBMOZV6WQDnRjzicz+dCi9LNaN3Z7jIAnV2DeUn7U6bdAJqdYm6M3FGodbsmtneWMiWUXbhc19s93krXU99mFQ3uWKLse+jiXemqZAr/JSZNkUebWUUwD79/Lj3VmDJpSv628ZlV9CtpUwCUWjY046pSxgv4Tm+rB0+OlClt4/Xzr4ot7zuRNxbtKjqSMkvECjJ2VaipAuuIH4lwm5S36Sm5i/YUrwqq+lIwMYmJniNMsSvOjCtP1z1oo4zTRUn3I0ouhGQSTEIWGzxB2jdsvhPjQrJvsLvmlaXN2FjivwU6EWC6S5gSNRsNUwel+q9qdOM+SpnvxMW40hDfboQMJ2Lsn5lSpjDJ/Vb0lK423N9IT4u2PEiKnXZTpt1Xbr/D75/6TZelPig3mJQXFkdoaEZZ2q6xKxNLVzu9lOoJ5xLpaU4v47w38jzrvhNyurexHLGxxCRtY5YoHX7/VCVRl7BoxiQVrtKYIZ4pMrE1pqyuL3rHuBFfsltFrHhU5rK09wqLMN2MV0nZKZ8rlttbXp9PmXtKmSVeFFSx/C2vykiMDAf7ff4GExBZmBKdUhC0YXJv2mDd0mWwLMFgMbhLsDZ8OZd2/ku+zVnFHrsWIkw3Y6e2qRtMuW2tlZno1nb/Mg6qZstcZWG7m09GKfM/pYz72SjCADMaRWWJUKYh5OVEBljGZAiRZ1+VSJfuwuguEesygIldg3lJ+1OmsDZdy/OGceBtx6khEsZ7rsrwfsJ3nFOZOtMEJpnd9JTMYvQR4zsL1j2YDaSZL37+vVMve9XbWG2klpiUCCd50lRJyBJJ7BTTgBmTlFmlMUM8812yq+DpjiAQt+1WTjLDlxj68WEopElTvme8ONi8sJckTGKDP5RgaYiaMu0ZqeOKFWSya+6a8SJd47Orgjnl7JbHZ3jlOyWvXpxOp6lNJM4kjUwIRDZxbsNk3rABaHSZW5JJQRV6WEIVghE1bUgukYfhUhJAGWe1lZzWWlhL5pYVCR3KWTRNRcagSDbZ+/MvN3pQFhwWdl0i5Ucp8z83mNjVmfo9UyliMhi8FycnOhHG+3GEDKqMKTrdMLmR2n2S0bqz3WUAOqcMzg2Qhw2zvGVbqCksEN2NwVHEJdbD75+YoLDtOs5cvmqUy+VeNYnn9Uw10Mi9x1wzSEaK7YqexM2Rz8/Pbr5wu5ZSZuY7zwtNMkbSDI/SVFDSZa1NxHx1xiRlVmkkgEWh+S7ZVWLqBqGR7FJbgkObl3K3QmYx8XTJcQDkpYyLC3F4WBIxLrHL1X7WQpsy0Gz1Uqb1ojDQzYVVfFYMM9K7HbVneFVSgVAkT7oZOHcTwvdflUmdXZsRMBEV4pVSpsQxIyi33e+5lTK/ZWL3fSnsLRdg5EOBznVdNFOiOucPSpVf1ehi+IalzFWgmCWvmrVT4S4DXuVLHl2vsmGs+xwE1iLe83erVfhzgFprlTzA1tK5QT1r8WqDrr3QpFLxvNCSqaW7cR+lTP3Y7xR8bzDeZcDT/Ope/3za6mOhFyKwFvGeXMpwS/GFuC1fmrf1XnvIWwbLlexOci1e7c7xdQ3Oq7xeiFp3iXW1deM+SplRyqxLs0ltvFP0aqRpd3LCeOFdEOimnhuce3Ip8/39vSOWegOr+x2ZG9De/pS1eLV9Tx9qYbn/5X2uhy56j/Ju3P96KXMPoLub22XA7rwYBu8OgUG83YVsFwYPXu0iTKsb2Y37KGVWx3m7CrsM2K65w7J3QWAQ710iuS0/Bq+2FY9nWdON+yhlngX/BtbpMmADdg0T3hyBQbw3D/CL3Bu8ehHwL162G/dRyrw4Ks9cvssADMhHa6RJ5eOE+dJU228SrvXJhid8oj6/lzvllzJrfffKW9R+KXRq6eXj/BaVz9LYyG3vGeItd+1OyYVf6jHKNyzHRyYvTrxnia5yg959dZXBqT2oL2tt9qusXZFXZq15A/R3XoxXeeouqZWvwokSe/+q7Xlb2vFhB3yFG8MWOrvEx5fIdOM+SpmXxOI1i3YZgCmfv3/tmcpuvOrDj7vbJ0tyhDloxcgtWfeq5Rae1lfpXEV4hnir6F+iZAk4d0Z5SSkzVRMscaErs8Sv7sSrBrtmp793QneVMQo/mVdZFmjDVCPBUUaUnlbKtEt3H4yk2C4a3biPUmYXsVvHyC4DUE2q8qlHDB6PR54wNkoZc9A6kfjVMkqZFcG8qGrJkX9nlLunVzGsWxMUmau6S/y6SmFXuGt2+nsndN1FLw7OJLSLc28QGKXMDaA9Yko37qOUeQTUG9XZZQC2kqrK7yTT9cGRPtaaL1TntVa/CMrDY3jCY2Y3sp7fxHYu2aEdTwRNo4ffv3zYK3mc6Vyt5cdu0h5UlbdBdtVGGZcKffqz2nimc5Yg6MEAH6fGYLrcXkn2J998TrSY5M/64LvCedksrfKHc7GEbxGjGfd1MwdnlDNrrX9niFeeyipQiZ5ef39/Az5uQjPasrQFHy/Kkd8+qDrxlEsq14aCSRIADQik/R6BxhHLu2Tz5mD6iM5cC7KlhikL27n5HJGZDShneEpN0Z8Onk4nNruo5puiNBLHC4Y3d2d4VfzKN2MaKWfyQgV+pXeYJxNAPpXkzkU4uSRp80nuhFK2p7auqfwOgxmGVTBS9DIvgTn/Ho/HtMcfYDG+6wZFex7X6MZ9lDKPA3xzmrsMwEpONS7DMMIPR7MZ2F2ZqfPHSnKc3cXesJTp7ltWIUHQZq7bm8F8wDYbnsSBTjOmd7VQ4vjX1xftYkN2MwV46vh0cH1PneQUlJh6LH0YN0FMPa9sat1Sylh85HKJuTGy4XEImPl7NExknJOVdioX+bUaM8RL20zNyQSc4hzFeNqMq7mQzXE48/Pvx18IVkYEPZBKJUZfNuYDHoUlQUt7GHeuNiSZM8oudzqd0COprONzLeo/CFbktS0bRSY5MLUBMy7YX0oZbWYhdHrWChdLe9gn8mnhbW2j3E7HL2CETm3oyzh4MqgjiYPJIXlSYq0l6KHrTndizkpM2w4RcwAAIABJREFUEq4cL/C6iiZBJ3MU9VNyzKX9SQEDmqWtmrfc6MZ9lDJbDtnKtnUZwBpmTGW+f/8yCeabGBIZO2fqJ6/dPOZ01spNXnZRWaLYZr3CeG5jf3kY5a6o/Zk72pOezOUs9Ds3305xiiBvhkLeJWh4GtFFJv/N6elLJiCPBCYKtQ0Vll+KKcaka647pVydazUkVVEIwmkbNYdsRF7CyCjGU0yQC/iCaTTbRc37qb8grP504fD75wjnDS44WI58bW69hvzamRpgnWePlVkJeplit6wlNwAn1aYNOavsUzQbF6/XuqKQHn7/HGdFt0aO39Ce4lXrF5xvsTWl2CgJxMQikUo2mDI7wXHHSTBDMMPGkgzLbmVdNfMr9/6qmr+jZGJxaUoZix66lm5T7mxqvBv3UcpsKkaPNabLAJY0w359ffEWil3h5qfhVVYbCmi6SSE3j8k3J2Z2YLobT235RlbNrbCJw4YaOJPMHYxn13SQU7Szfb+uvKAxUShSeSmbXCJLohkcyhJ0XSi1iTDnhDa0gAhjV3nRuUp3initbSxXaKAvhVFpvzI2tJy0LmgIGF8aZPbUXwTo5umezGSt4g4rqoe5aTOzvOuk11wFKQ/tTTF1tldx9LrbcKLHpIsiT7c40nqKcIoldHnYexcjl/YiTdfI5YNTvGo3FKVVyw3NdlOkU6UMTax0JwvBtDz1mDFcTkum2KiAOlXiSL6fPBwO/D6o95rJA9rs0nk3DVX6npq33O7GfZQyWw7ZyrZ1GcAaZljuMZ1OJ5K7BwCNksrL8YkqN4abx5xOCmOTo8qdxtzSLbapuRU2cdhAhix8PB5Lashu5ggODC/SaI++ZAkiaKwlVql8lDKcK4YjG22weFXY6YpnRqGcr8rYcKFuKeOr2Uj9HvYpUNqFALozQ/icMkU2VsERf2q7XCXSElnnSLfB0cu5i+Zy1DEL5HVEVWm2gymW0JVSZuqwV8/NjZmEVii0eimDzRadbXGW4JhhREmW0mgRUMCXVOKI6dcPAxyPR96LetFFHFx6lDIJ4OvbMyR+vXFbtWAGNFMVmZEa363SzXp6WZKsd5fdPKUEKbfqMwu48VSeJ1bRk8ImDhqWXCZ6Go6nmDlCJaxONsE8fclSxokpz0M+/IDLwlImMcRU1jUuLGE3fRcrnc1FZ3Ki2opyFa7VmCJea1vXEuOSUUhitP7CWLSBleDYaL1L/QWcVri9Mu8NpkLUJLxqdQrNSbZci/FkXb5admh5yW765ZWG7qZOrNwsFKNtRZIulCXsFig0aZXGFK9ag9mqbeg1z0Y6JVZY2910LQ0QTj0mCmGR+a1JIlOK6e4NJndBvvM8/P6hR5tdepQyIryJxgyJN2HfJo2YAc0MS9J0F+VOy4yMmJflPbnZwOVjv7mL2MPKu9MArHQZ1DbTTSts4kgDMNKP3+b9ft4Qk6xNNOYX9WtPulDkLcXKx349CYpalJfDyfqPROO6+l6g8NTU1O/v7wxWLupnn/1MA7ZNKdfCtRozxEvHsfl0OhFEzlqc4hzNKJjEMVJ/afiu1M9OJjj5OVz0FMZ6hlkSlSm5KARAP56mndgj4cVcg1HFVRMvH+a6+IK8ZHMzpl9T8XJ3/Pz7+LMbXKZpBkskZ/D9tlImw9eiOmXwwvEZXoEnPMd92hnHpJm5JbHS4AKOpHJ8HhwzhsTI6KdJycYcJ9zdT7SUl7ijJ3+Mr0uPUmYhu54kNkPiJ1mww2VmQDPDsns9CUqiZNuQJiwRPCC5u29SyM2Td/rRScZ0pwFn6TKobWpuhU1ANMgCXpxH3kOFVTxdmAI4TiTX+04Imxk0MXkxAEBMNJmnlLGywZhSyvA+0vNMHPS9QJGYZ4lGIjscDsWG/MiClkwpz8Bp7T2NGeKBA457vnqEMO45UQxL+/WXhnGcYrICFqDtMS8xysdWEgqW0049nSI8Owir0gZu6UKhqXVzLRcSQObKnDRSGezM8qLIZ1fOcHIbhdSMQr7uK9R5gylRdfXUcE87QSh6CCsrutORKbA7SEIDfLVll4mICU7uPmdJYEbMGBJYurq6pppGfFdDHlNJrmJ6KTWuMgY0M1hJpKXr3M02unEfn5XZbLzWN6zLgPWXeanGTD0vNWQs/h8CzyReOST+M+JvtLim9Td8/ZnhlUf4H4HiT7nZjfsoZf4QB7oMeDP/RymzwYA+k3h/vJTh6Ygb5MAjTJrh1ShlHgH4RnR24z5KmY1E5xlmdBnwjIWfuMYoZZ4I9tKlnkm8P17K5G3fpeHZrdwMr0Yps9uoXja8G/dRylwG7m0kugx4G++GI5tFYBBvs6HZtWGDV7sO383Gd+M+Spmb8dzfxC4D9ufGsHhvCAzi7S1i+7B38GofcVrbym7cRymzNswb1tdlwIbtHaa9CQKDeG8SyI25MXi1sYA8yZxu3Ecp8yT0t7BMlwFpmF/Yy8GXt/2e4YpfGlz4iQqXXgLCDeap/71v7c8QT8envmuayAtXDs60+YLrQz8+4tdrl3xI61r7VT7j48WXlgB7Uck2BZbw6nGWXxtNqX6zSQuz1s364fD9dt5swMKJ3biPUmYheu8g1mVAOsbjvTdF5TwhbqgV0rtsL0kKKy6XS9vOx6JsCnMtXKsxQ7zljidcSwxbpQ64uNDyVZZLuugNU5xr42+WMrr/oMZy3mrADVOcS2NJ1ipTrupeu8WuUr6icDefjFJmRYS3rqrLgDQaKj/6CM8VL7ZHKXMRou0LzBBveX6/Ns+uUgdcxHb5KsslXfSGKc61MUoZoVixsZy3LnrDFOfSGKUMOHTzyShlClveudtlgA67T2z4Uj4f08uqiLXX8HM8n1yZz8f0udpe0syHrrpuvno6naix1JM3Drw1Vp7wq6qfeGQ7D+j0GaA5VzPSZZTk81vzwaYuYQkIAmm8D9hVWG14oUngKcj5xM98GK56dtGYIZ75PU9cwTFGjmTQ9V1KKJ/hSzB57i0lAlD7EFsuSbJQ+9RdxXyQq9MhQ9bcPH4eAXzPx2RDhqTHReV62v66kOt2aYy/uFMKo+zm3ER4BsY06VXthbwq4c4EheWEXmdFQGwRs2tkzW/ys5jkOAQoVGQw0bNeT8K48bEc/rhxmJ5dHXGiMlqei7avshB6oHeXIQwmk8/ns6sLTrvWnSMF5P+1v1XalWvFXjuyCyNfC1G7+jxonsQkYomYKc+9BImtSNyBCDjuL+ykcjOC2jA1d6PGK+yhbt73keHuKGaVX0hhsMiwpdukwHLYnzbnQYsqzdBU5fHLhNi1B5BVkvZgA7bl3OKC626/MUM8gy7CNsrz7+VY8VeO+WMOQJe8zSnUPSCfoSyHTUYhd0SOE+i2lPH3LtKFtCeVLFGe9qeerFRE0mILGotnmWi38ErKKeDT8QE2jXlteyGvPNGB3Y2ZyORboM/PT2SQ18fsJtoZ7oxsjsO6UspQmDpoPsyFCDEcU6BMzK7h+/n35g39uX3MVLpGQxkW8ggoDBEfxrENO4WFlzwIykJ3drtxH1dl7kR1T9O7DNABWeiRwEuZ0RSeYurX15fHs3uJUt0MopLcmQ6WRu7q3KVUNmy2w+9fTjR5OcgbL7tmnJKd06/c8EXMPa9C7MFH/HIb001J2qnEsoyXsB9jcuniRatzmyMzxJN1nis2ii8Jly+1FHJ6l7ck3KSiYuUtcv5WuWc505PhclKituEmgi5E7eIBtkS5/rqnYJd0TZIUmSlAtOfw+5dLQD8F8qVNta/iVYGFLAcTSugllTHF6+zK2+Px6FmOGDmw0IBIZdARziRju0TTQGhY1i7owZ6ZjNHdPsz1X2VYyAymYUgm6zLTaidiZQe5yv2NbtxHKXM/sLvR0GUA1ucudc+78bwsWZI447mTvaDqlDyVGVSthXy+JSpopmFlR9nN+wuum6uwkG8yPDwyZaTlzFW/Jnnt1PtQvtSWMirPBJTyJo6pxMREPaKRaKe2LbdniOeR4ImbXptMy0UsnU16MGjUSmJ1igsxwnJ5+YTxAjvd9kByFS1xxBVp5Pi1yosqXUidyLQ0nhJ27sz20c7c+MWYF3av4tXPv6sUkkoEbOgLWcuYMp5deVvuBIHY4XDo6ixJqSQidbJcbgQ8ZYTEUoTplikYQ8bAeEZMTfpLw4yUC7XJ03xlTcP04rLayir3d7txH6XM/cDuRkOXAVjfTWf55tX7O2ULuXkQvliJu5AJxevh3fog04enFDbbLZeCuvEwofNq7lWyP4VOnlXq13fLiLx07HLKp/KSrRQuZ3NBNRNTTtlpe4Z4Ol4CBD6ZebuZMekBOEahJFahKwsRrG4pkxR1ugYz4ipa4ohTiiQnwVXKiyqvBCQmUzTW32KY3Yvbxwq+PYmLYU/uXsurqaNXKLT/qlKm5EmUdHV2ASRnyh8zhhc8vGiUiaXwcHnGYE91oZNOudAoZWTFQxrdSDxkpTdSOgVa2eF4zP5p6/fD719BxfPAvFkESrebPU3QKZw73FMKAbs2cmJpl1szqD2fz6nfJFKuyrT4dKsuzSiJoHQ1zMThuxxfIjG16yqwr8YU8dLxKeZYHCdcut9iq572LGFWfrYmK5gi312OtJ6XKNobTIVRmpr6r1WuEht+TpwdWhYFFmgsIGV/abm8VXm3cfj96770qsFreVU2lBGxVsARSUVD71LMSqIgr3CZy9LdUobUZJja0oFS0uxExN0XP/+uNh2Px+KgxrQN66R8SVqKAK8WhriKDcTEk67acolV2t24j6syq2C7DyVdBnDJwesNegJNv7+/TXm8RA6F676zVIZxd6z1UJ4faD7+/vmVEzZw+/4mM0XZUXY1FQuZom0MFhnf7pdNy3gpZfLExc7nlDJeDTIofuDOkV00poiXwJrK84pX0mwqM359fcle+ZY1SoGI64KEWCq28oVFHic5jnl5AZ+10gXkz+dzJvpUklHO8VReXHCK+2WGxgKbYOI4lpetoQ1ualYvH+dqTXr+yFW88sg3MxgRaOMNaMOX9ICrrmgpw+VDA5Fg5m5N1hWgmJK1hZktr1iXUiYzKuQ0a2lk2pbhk5PFErdYoVM6lToZb/FErdrKKvd300G1jVJGKN6/0WUAWzTfaAqEh4R3hdr9wNnvWeJ+ay9jtnfxOT+UNB1oAA3Li9zhZHOnmA4Qbi8mmcgQyDPP6+dkExMZ+5lii83v3JLlsVPzSiIoXb3DBqDLzJgHvIcWS5ttVbKLxhTx0lNPXM8MXM5E+fHxkUzT9+SnofegUowGC6E8YW/lM+i5bo47i0HXSrZjkhTFo1RyUblqbUAq3zMUnpxOJ2mcwEI5YNTysjXKuwuB6qYI7XlJ41peTR29QCGLcpdlmDLEJA3zT4Y7g+I4yOdLiZiZ1kFh//z8JNan37+MjjIYpvJMaPoi/ZjlNnFFahSi3KasnK7XU3iic5Qyie1ke4bEk3P+/AsDtD9PgdcAsCni5dH+GjjGqishsBavsqpbybSh5oEIdOM+rso8EPGtqe4yYGtGDnveD4FNEW+UMm9DsLV4NUqZfVGiG/dRyuwriHdZ22XAXRrH5IHAAgQ2RbxRyiyI2D5E1uLVKGX2Ee9/VnbjPkqZf/D8gf+7DPgDfg8XX4zAIN6LA/Cmyw9evWlgL7jVjfsoZS6g9k4vdxnwTg4OX7aJwCDeNuOyd6sGr/Yewdvs78Z9lDK3gbnLWV0G7NKTYfSuEBjE21W4dmPs4NVuQrWqod24j1JmVYy3razLgOUm3/Yhg8d9JW+55etK3obDujbwzcnul5P9TuZ2PgEwQ7z8OvTqEKFQQBbq75p0Q9BZt3xhdaENV4n5FIAnzLpqiUcLz/CKJ7JgwD0pyE3Ufj+59e5apvndeJ840Oq8f0Q+L8HhWhdUfr+dyzV04z5KmeUA7l6yy4Dde/V0B2441Va3MR9xkcpz3CycAi9pv5B4N6TaG6a0qKrkCaVMu/ofGZnhVW7SJUf4FGLLN1FuvSltZVySlPF1u8tXWS6phTdMce7NjW7cRylzM577m9hlwP7ceLXFmSVfZctU3szx5Vn40V68kHg3pNobprQAqmSUMi04a43M8Co36ShlFl5rkbTLA3TDlOXKpyS7cR+lzBRcbzjeZQB+wkgfH3k6nbz46bMdS3ZQ2AdH5lMm3TzmES6DK6PafDg3TxPm4ac+z7RdyNsrvGSoOMgZ9DGX5emxCpeGq+SjV7U2HysuDqVWsMuP3QggCn3uJ8hwwqXBUxeZWxvUnA9fLjASQR75imvpF6sznoEomKzVvUg8f9tIlL6/vyEARmIJv1YjIFqeBZw4ZNwlg/qLSY6DrewVgRJ0Q5CoKiyXDocDUCufRPJHMJB3H6lnISx5g8lH1uZCSTOhcBavpowGJE9w4fz716YLpxidNCD1JGJda1V1sVGCqLxq3XqJfz62OMfboOfPWeQNpsQKPHOk3cjJZOSnAPFp6akQv5givAzKtEQ10yMO4pqp2D3CdABRlQxxZIlywX9Coxv3Uco8AfmtLNFlAMbBWtrsFje8dbfZ3EZudQ9ydyOp2f2DWvOFxzCbFmH2PDuHtsdV/laAD2V3T57P58w1+UR8DSi/dZBR0ZiUyRUxkiSl++lyQoFwyQg4yEs//34BzhxBxkmTjIUyaYN6ypQcR6dmCBo50UCkm0XbWt154mEJxw8I44WhT8A/Pj4c9zdu0mspgfGyl/wuGkyRoo5jhuCIQLHB3SGqSpZ1PbQYz0Dnz+jA3vYUXAKLRYmNBGFqXygMFIkACBeekCIsZaRlepRcyukZBZHUgLS2wDjfneGVq3iug23inJaTMQyr67rHhdEGMrpWSKiGXJFVhNq5Cps8dY20+fMvY0j+YnD6kpxMPpsJk/yZKtOeTIlLlKcLj24LTi40SplE483bXQbgc5K47El/xdrsYCPxcs/nIHmEBJFpjoqBLa1+JipWUgBdsp5plCloKClGM9zAjpRG+cVgsgaJOI8WM6/uF5fttgCavFDreeCR6XjaNmNDWcJZOZ4JiEqLPHj4/XMKuSw9zZdWaS8hnqiatTXJXzUvHhnx9LqcixK7jXLSRjfB3Lg4rnnFBm1TkobrFoUGWj478fD7Z5eG687AIjNtpBJRysEs2UGPqi73V3FNsSmPdM2F1CAavpQG5OBV7RleJW55tJORiG9eN0rH0wY3tTDaSLHCunwpLbFSAe0uLOiX/JYaBXaxdS1+K5vpDuYsM2FJuVDLhTJXqOeiciWf0OjGfZQyT0B+K0t0GYBxuanKweBWtMFu4V1a2XIM5psb90/Js3Zz6by2UVKGXc4SFvJfqyJG8r0L7jBuvs6QaEkOupyDJjVxcAQZu1MAkjJIoKQY0StdFM7YUJbQyBzXnmIeb9SEjkZ7eKvz/sYS4olqolQsLx5ZhKXX5VCRXVO06eps0dC8Il+6YuW6JbJ2sblEIXmLKtedgUUCo7wNqBFP/c6aQi+XzjNYF7DQLnQtHvGuI8EXoilrFbjYmOFVGm8KQiHdXD1tLosa39yMXTwLjOopqwtXlg4KJ84OUnnkRArBNJv29+9feacnFbXEEZeg4bi3sXKJeeVF1UO73biPUuahmG9LeZcBmCiJy0nA3XoLBa8uMMtPGGSJ4DbgPHD/mDqZazeXXljKZEZuIfaQKNa6LcsULcnxzFyMm9TMko4UgZLUlP/5d5X4dDqVxFS6KJyxoSyh5Tk+ZV77nszpD2osIV4XJezRERvaSV2YXhcCy672XWxRnjqfU8qUI0cDsrEElpbAnrXWysLy8fHBvnDWFHq5dB6xhat2oWsaX9pItk8Q6Fpb5na7M7xK401BKKGLMZm4uktIuXYzgpt4FhjVVlYXrvtLmZLfWFGDNcAtoCWOKEPD8cPvX3k1k7MvOcWRJzS6cR+lzBOQ38oSXQZgXDKy7EmTgo3iD9cey+Dh96/cYMoSxExaTtZyg8lcYyop5pV17bY3FHipXFXu7s+sOVSYBpNEyhJaXixM3ExkNtBfulOD2lCW0MgcL0nNrkqc9ejGEuJ1UcIwLS83d6REOURTTGInMulvmUsgnlDKaHwa07aXwDIV0LKzUC5pnVWQsVuKP8a9N2qRJHVttF7kCGLua1/qWuur3cYMrxI3j3CU2JUbXeUMyr2peImnuBVtaUlWhPOljPAqVuDVsLLcDJ913EaZKyA3KC+qHtrtxn2UMg/FfFvKuwzAREnsuzdNdyvayHvP7JzT6eRBrkJuM7ltTJ0I2DVFus95t1pyR3b9vOfPv+sc39/fqYeLSVRO+fm1IqOPKeNB6AfuxIT8Ig76rhlYXpKa8ootvCrjZWTsRC02lCV0JMdLPrJLTvQmYKpVz7qNJcTrooQZWk5ofDMqD/HI+oPLb8xNYndpQ7Vtkc0VAlWJg+ZpTLFNybJuOYGy+/X1lRdmfH+fqlw3yVOWPhwO2J+fIxYT4mvpoIyzkjNS3eWEAlRnSplCV4HVEs2GD1rSrpUIzLRneJW4mYJQZRc6JTIZDq0t6WgKzwKjZpMlEkYJnOQs8lpiXk3mIJyEyVWS58lnHS8uuI/SnmuVa/8TGt24j1LmCchvZYkuAzAuSVz2pEnBBm8UvF/jGwgvFGdl4P4xdbJidlkRhb4XzNrFKse8472ttJzchB4PJ1KA1qqhREWBRMmbZXktJ3FwRdwkAU0BaMpeXsp4PGCeUJcl0hckj8fjzKG7EJNUe087IS16DF+iWrK2jtCQZh4JHsD67opEUDJ0acOhy1wC6sGjtZqnMbxUusq7bvGldPUlt4xK8vZukqcsnVup66Asze9/OatwKbvJE5S0ZhSPcssYIPYyCBuahF0apO8X26mqCOMFAqYgZLLbRSZVGd9MR1OzpF9qMHfxqph4uaUrLIzWNAVnZglpJqgEFlPhczouPlmySNoblBcvHtrtxn2UMg/FfFvKuwzYlok/P2bYrRk27LkZgbWI57lysyVj4s0IZIlzs5J1J67Fq3WtulNb1kx3qnrX6d24j1LmXcPd8avLgI7cc4fuv878XHvHalcjsBbxRilzNfR3TPAyDDq8DXGHypWnrsWrlc26T90oZS7i1437KGUu4vY+Al0GbMG9vEzaXtvfgoXDhnsQWIt4o5S5Jwo3zM37X3ln5AZVj5iyFq8eYdvNOkcpcxG6btxHKXMRt/cR6DLgfdwbnmwVgUG8rUZm33YNXu07frda3437KGVuhXOH87oM2KEfw+SdITCIt7OA7cTcwaudBGplM7txH6XMyihvWV2XAVs2eNj2HggM4r1HHLfmxeDV1iLyHHu6cR+lzHPA38QqXQZ0LVvy3chHfKilqzO/Q9i19trB7tcar1WyXP4JX/3o4jZj4RNMytWXEy9nte3xWZkWk7888ma84hkNzwzokjz/THsWrtWN+yhlFqL3DmJdBnQdu0jxR5yFPrqjmLT3Uqa4s3r3hljcMOUes5cTb36VUcrM4/PXXn0nXr3k074X8/w2GdWN+yhlthmsh1jVZUB3pYsUf8RZOEqZbiwuDt4QixumXDRjRmA58WaUTP3ExPyU8eobI/BOvBqlzHKiduM+SpnlAO5esssAvfI5ofmAyPJgX56aykHIN6h9ln9+obrV+fHxkY/ZdS1N8mufPt0yleTjNX3iPs9CvWpddHKDKXWmbT5nszxAM+W9ocMD/ZziU2U13gfR+pjURO98PjvXL7vym1b65Vql1KOb2ogFOZHp6iyPHMWXNPKhbaPcXcXQJ0nSLyPuVZmS9+0S2Zw7hTCqQEn9XfPG4GYRmOJVPqrKfTeTqS7yCgTarFW2VXf78/hy5rIfk59wL/fs8fcvXUPetcgYZonUlpEygZSMqhckAdNLzt14O8HR1FHKCMX7N7oMwO18/hVHCxTPmzvsN8bdXTxZP/ewT8LOo9dkwUO1PWLRQyWR8hkM9l6e07TLc4EvrqtODjzRYEtjg794YgbE33L2+5h50orpwHHXaksZM0vinB/fwV90JuYFH7sZC+TBJ3+IKseL+2nqg9pC3erPU0dHkhVYS8aXRbhjAWoX4YUIMz2Rac0bI1tGYIpX8gHjpc1UxlCgTMxuZkj5mduWzNaWxaVicC62qTbXciMgYxeZkjzt5lbKRJS5y+V8H2ju2nKgi23duI9SpqD0zt0uAyz29Zz9CcU9LXjVG0/uLo585+avxnjW5qv+kKyD/iJuV76UPnS7tjndhkuURklA5iDG02V/EKpcodGLLH2o6swsLipWZV0TKJL+wHimm6wUi1921Q/4mUz16PD7p0mZ3Rx8XGOKeJqXS5/P5yygsxYUscz7Erj9pUPl0T+FsONpxmhvH4EpXrmjjTubIrd2Zip5MsUr97uYkLXKjvbVbJS9VsjGisnhJDx63OAI+0aFcZ3SSLOWZrCoazGO8aOUEaXXNGZI/BqD9rDqFGjuZJ2wZGEkbwGQFNxdTmHHclWTizTsHEbcfinmJVCOf89mddIoB1vppsKZdVNne4Iefv/SYG37/PxE3hEbWWegv7ztY1CsSuIrsOuXDadzmaHgY1f9ZHDNs3E6nVqdU2Rg0XX/nVorLc8VC/2Iy/l8FjFHmGX3NoQLOGnJaG8ZgSle5ceq5IaOtBnjIq9yituKrOUNYq8FuhANldN1ejbO53PaWfaF3ZSZqXg0KZf4/v0rRpaNVizfbLcb93FVZrPxWt+wLgNy27ukFKeI8f6R1y3dXUxnzzA9r3My4t1ZTiO1uZwT20sa5Q1Wds0vTi+ac91ca76USUnarbwypXYpXcTE6raD1jdb1i6otat+wOm+zSqndU7Rl8c1pog3ZYb0wyQzuKeCI0XgNoQLOI/DYWheF4EpXnGpmI9e5ZacyhgXedVe5yiOQMj84XEFVM5Iub6rWFK67Au7KTNfynQTabFk6qe5NWmzjW7cRymz2Xitb1iXAV7bdD3Og+PxWHYO4+1VmXLwfH5+lpICzVzkdFtvJP6jAAAgAElEQVS6nA3PZkecmDdNPHiuWjd1lgPP8qgdd1ZZy/FMlO1FGsR0uegvmUW/pm4wHX7/XFox9ec1c8Vo/E49OEhOt/voxjzxvEKuGULBiA6KGEg6EYElN5ggUtFfupoxGhtHYIpXmM09oNy52WbXk6ku8koGzgNCwiwyKmd8imyZbIsed2vKzJQyZUXtKWrZRN13Pk7ZZqMb91HKbDNYD7GqywBWyvrDj6OWo5eLHG0pk5uTa5skCM9aqyVuM+VaLIHOa0uZa9cVUxb1WquZglokUdJUZDw7v76+mP6gUsa3bmQfcEs7ya2898o8i7zpSbNzHPfTTZF5UGNmrbyGp7N4hNfJkMzRXiDkTOItOMJ5N9MoW7BmQ/JnrfwgEIba1RGY4ZUnfcpMZYyLvMq6x0s+39/fMhbXyifnGEzlWiVFSZhmSDIMNHYXe82b5cxCufHVzKJ+B0LNaDOh8ban1HarB+hBCjOmLjFKGaF4/0aXAbrt7RjOP6hPm710PB7z4HGQDUb3cDjkicsg/7p7PXvUgA3szNbITEB5Dt2wLgt5OmqeIFjN8FJep00ovOz0oFIm73Ynbn5oiXU1L5FMWBLMHM8Ype8PaqcZ7RI6ZQFnXsYv64w8FdIdmDOuyrTYvvfIPK+4geIe8VB3a7sLLvIKGM2QWQGYtT4+PrJuFvlUzuDUlPa9ovsaT+H8klKmPEQjc4he4L4FkwZvv9GN+yhlth+41SzsMmA17UPRSgiU0m0lra9UM4j3SvTfd+3Bq/eN7Zxn3biPUmYOsjd7rcuAN/PxDdwZpcwbBHG48AQERkJ7AsgbXKIb91HKbDBSjzKpy4BHLTb03orAKGVuRW7M+1sIjIT2t+L9z9tu3Ecp8w+eP/B/lwF/wO/h4osRGMR7cQDedPnBqzcN7AW3unEfpcwF1N7p5S4D3snB4cs2ERjE22Zc9m7V4NXeI3ib/d24j1LmNjB3OavLgF16MozeFQKDeLsK126MHbzaTahWNbQb91HKrIrxtpV1GbDEZL49qCTf3yvP8PDVtuH3/aaeHNNOaUe0Ycm6p9PJryy2qtoRvx6pqa3M/SN+CGYJDtdaovL77Vxdw83EW92SofCdEBi8eqdoLvelG/dRyiwHcPeSXQZc65VH5pKSojwAd8kRPmWPpcyUgOPl6QuOzzR0akbm/peWr7JcUqtumOLcRzdWId6jjRz6d4fA4NXuQraKwd24j1JmFWz3oaTLgGtN98gcpczN0F2cKMgXJRW4YYpzH91YhXiPNnLo3x0Cg1e7C9kqBnfjPkqZVbDdh5IuA/L5uT4Q07szh98/r4j4pMivry9KmXwGbj5TEkTyqbX+QpBK8kGc3uLJB9InrNqQJVQ+8pUn8OZIe4+GuTxD0yf20uXfXBHhNExY+E0GpuB1PrJWMZ8OznPErTby6lQaDCDio4VXKU8XNtKeIt5GzBtm7BSBwaudBu5Os7txH6XMnajuaXqXAeWXscvTrHmWvGVE1j2WBUDgU8ALIvlof45kKgwLBZ9SbwWQP96kNm1gIp+GyUfdWyhM3WDKFXHEWsG5LucvrfDjPv4AOEZSbSicv+fA6tY3LkFVV35tKoUT27TnWuVatZ3GFPG2Y+GwZI8IDF7tMWr329yN+yhl7gd2Nxq6DChXYrhgwOUBDlpLDfz0lC2VAV3LEUEppYxHO1csONr50WynuK4jacNUKaMw0+ctsVKh5tAplSiQl3YUy2Krtfbw+9cC4gUnr8ogWRbNmuYG5altI+0p4m3EvGHGThEYvNpp4O40uxv3UcrcieqepncZgAMUE56+5WefvSKSp6wlBRpKV1xKKZM3lTzR8xaP7VKLaEMu5A2s/CG3qVLG5bTNn4WzRvElS5m8a3b4/UsQrLE0m8bX15cGq9NVtMQRZWg4jpKrlBdVW+jOEG8L5g0bdorA4NVOA3en2d24j1LmTlT3NL3LABw4/P4dj0c/rnE6nbxYkqeyp2yWFN2DX81eifEI5yW7eZ+Il9p/taGs61Wlj48PFnp+KZOFlJZrsCNCp+OOKEPD8ePxeK3yomoL3RnibcG8YcNOERi82mng7jS7G/dRytyJ6p6mdxmAAxyZh8OB+ymH3z8/JpKnsqdsKSlKV1yWXJVRp7PahjZMLeS9mKlSJi0ptVfXABaausHErTELqXINSf053t5gsqYp/mrPlC/Y1lVeVG2hO0O8LZg3bNgpAoNXOw3cnWZ34z5KmTtR3dP0LgN0gLsYnI6coF5NsYzIeyulpChd1WYBUU5uu+j3Vg63jdRAQxtcCCNzFhcw5o9/S5DPz08dtHTIRVlI0PJzzUX+6+srr53wfSU+DOT4ko/9+gnf1H+t8nRhI20x3Ig9w4z3QGDw6j3ieK0X3biPUuZaGHcs32WA/rRHpqe+ZYRf5Pn8/LSkQEPpqpbCggs81i68ml2WoJzy+FeJH0nxagcVzNQsvmGk/eqxOvFuFC9l6VCE/ThOotfK5/elc13HD4eDs9Jx8UmTKJvEQSVe18FIx1O59m+nkdBtx6phyd4RGLzaewRvs78b91HK3AbmLmd1GbBLT55i9FRx9pTF32qRQby3CudmnBm82kwonmpIN+6jlHlqDF67WJcBrzVpy6uPUmat6AzirYXk0JMIDF4lGn+n3Y37KGX+DgF+ugz4Q/5f6eooZa4EbFJ8EG8SmvHCHQgMXt0B3o6nduM+SpkdR/Ra07sMuFbJkB8IXIvAIN61iA35JQgMXi1B6f1kunEfpcz7BXrSoy4DJqXHCwOBlRAYxFsJyKHm/yAwePV/4PgznW7cRynzZ+L/M24w/aFYb8rVburZlIXDmD0iMHi1x6jdb3M37qOUuR/Y3WjoMuAG67+/v/2e8A3Tx5S/hsBaxPtruA1/5xEYvJrH511f7cZ9lDLvGu6OX10GdOQuDY1S5hJC4/X/g8BaxPs/SkfnzyMwePU3KdCN+yhl/hAZugy4wf9RytwA2l+eshbx/jKGw/cWgcGrFpO/MNKN+yhl/kLo/9fHLgN4vr6P8C+P0/V5sjyHF0WWMuUnAkqXR+7mRH+xiMFc9A+F4e+5OkW8v4fE8HhNBAav1kRzP7q6cR+lzH4CeLelXQZYXvjbhFYq+fNJP7+fGuZ3sxUotUt2Pz8/EfY3B86/f/kj2D7I/27PhoJNIzBFvE0bPYzbPAKDV5sP0UMM7MZ9lDIPwXqbSrsMwNSsKmxb3CDjLwddLGX4ne0E4evr6/v7ezx0LjH5O+0Z4v0dEIanqyMweLU6pLtQ2I37KGV2Ebt1jOwyANVT1Ym/H5m3hKaEvSrDryEyxX+5SOOvM47vQK0T1D1omSHeHswfNm4UgcGrjQbmwWZ14z5KmQejviX1XQZgINdLzudz3lSyIkHm6/eP4oZCxNoFAbvf39/zn4NBMn8Leks4DVtWRmCGeCuvNNT9JQQGr/5StP/ztRv3Ucr8B9Dbt7oM0GvuAX18fByPRwaz/fPz8/n5SYHiVRkLIOSPx+PHx8f5fKah5qkGBc3Uq2P8bRCYJ97buDkceTICg1dPBnwjy3XjPkqZjUTnGWZ0GeDC1B8p44dmfn5+uDFUShk+C/z9/Y0SvrLEJ2yse/xK1Pf3N7XL6XRC/nA4jNtM4v/GjSTVG7s5XHsyAoNXTwZ8I8t14z5KmY1E5xlmdBmQC398fPi1I7/ZxIddDocD95vyBlOR8aoMOvPL2F7psWD6+PgYdUyC/8bti8R7Y9+Ha49DYPDqcdhuWXM37qOU2XLIVraty4CV1xjqBgINAoN4DSRjYAUEBq9WAHGHKrpxH6XMDiN5q8ldBtyqbMwbCCxFYBBvKVJD7hoEBq+uQet9ZLtxH6XM+wT4oiddBlycNQQGAnciMIh3J4BjeheBwasuLG8/2I17v5TxWSCjMRAYCAwEBgIDgYHAQGA7CLTlWr+UaeXGyEBgIDAQGAgMBAYCA4HXInDFVZnXGjpWHwgMBAYCA4GBwEBgINAiMEqZFpMxMhAYCAwEBgIDgYHAbhAYpcxuQvX2hubD9+5x9nw++8C9JXrK84uXTHmEjE/Z2Yg96eO1JuUvXaQef/XiqgClhlXaU+b55EZ/uX1muXxCUvcXOXSWDxOoyh/oKB8y4InYXVXluU2qWrchA2fUnk4nHne58OHdM6rGSwOBFREYpcyKYA5VdyGwSilzw+9sX3tO3+XkxGR/YHzi9Z0NT9UKW4Cap1RPVQyfn5+UWTNHNbVIPjeSx15nfZYPtvbnVykCmF5+Yd4A89hJu09rzPirDfOWKzYaA4HnIzBKmedjPlbsIzBKmT4uOxzdaSlzPB4tcWaO9i5R/Q2yqVLJH16dLwioxZ8f8xl/NWbecsVGYyDwfARGKfN8zMeKfQS6JwSieSnew4akz0v83EGO+CNQuZh68ucRPj4+8l6A761J3Exx0fKzDL41Px6PvBF3CfXk2ZY6Wffn5+fr6yu9yEsXaZjX/zk1fSl9SWf5MazU7A0UjdT+z89PLi18fHycTqfSvWiSFx746Ym2lMnQtMESXsS0BGNwKmsFfscUQPJGj1DwM+y8hI8JV2seS3x9fQny1NE+NQ7aTE+4MiJLrsrAB81wuu5DIcwgjkkhaY8NBlo2ll1GN7UhKSddIql7/P3LwyOjoM3FhtYpJUdjIHAnAslGVY0vYwvFaDwPgZJkXTjHzeN5cpDKObE4C03cKik/cvn19eWxR7LOTwDwgYA8R7UBA9TvW20OAw+ScsOInF5s43Bl3ZT3IEQAF9Jxxl2LsiM9pW2plLWUyv04CL5wFKmkdJ2VJiWkOQ4UVifqzJABhWebt2MYd27CwuGa1UDG3SoNWLBH/UvMY2n0C04aT5siqR3HGH8eVT2tJKGcEeguUUoZISJSBDE1w2rGiYiBljlUhHSRwdpS6vkrbKk/5ZOBlKHosQwSzxmvW6DGyEBgOQKjlFmO1ZB8LAKWC2WZkv48Vm2kfCkXfMmTwBGn2+Aljs8pPV9fX3kSeP6R2TU1E71tX2WhPBjyzNYeG8jrQh7MXA7xYNM7rhLZ5aQvBqSPeRpxwnnBJkuQLO84n6gIPz8/rRs41FuTUk85LLWEhqp0mbmHw4GXPOyLR1KoQLTEPMMEaKUrksVyx62rMqz5qm0EOOb9lzoDme7SQlH0F3sMUBay2pa1C2uJWC5aUJWcubTyNnRQncUGbVNyNAYCayEwSpm1kBx67kXADNhVlFe88513vvPjwO5mzJLxM6cXeY9Jb3N4/YZZHj82TqdTm9AtRDwJ9MuJLp0yTPR0d5ZLeKrxUuky2PqrnuIFxUEBv3TTpDSedmvq1OrzmByPx6KKrl/tOR6PFFjFPCPl9YPEpOjMa1SJSSn+RDtlpuYiQ5mrzWWi3SwIHMwGAjmS32Aq0wvUImwDPbK6QGe39ZdykBBTmObSyifUrCWZiw2lWxwc3YHAPQiMUuYe9MbcNREwqxalFDG+yy9v9Tg5+IjGz89Pe26hrWT8JaUME0nfHx8fGFDe32uqmd2Rw+9fsYeDgVIMzbwdN/t76aJM9BJ9nmqs1Z4lMycu9yPyZty1pUx5y97FvEUbUz3M0t98qfUawLkew6v+i5uGnpjiWmLS6uyat7CUaQON/QYuG77kR6x4UsDHx0cLo8IQwy4NPcp6og20CNtwugTOy4puuvTLIoa53kXNpZXXMA02uMWG0lV+NAYC9yMwSpn7MRwa1kHArJrqMnt6amYuRtjjrT23EGgTronVBpIm4taMvFCfr2ad4TiW57rZdspUKdOeiE63wVqlOzPo8YMMFi4vZVqTdLZUeB5+CtAQ6lJMGDUbTjz8/n1+fnL2cyOM62StcPeqDCUObqK2a14Bp3S1J4vgHMwoFO8QOxwOmF0onUpod5dWf5le1hLhUvHL6nKHVLFcVCXY4yeZcmnlbeiIG7noKV3lR2MgcD8Co5S5H8OhYR0EzICprhxXXFT4/v5m3PPJz0YU+VTlOUdF4m0jrpQgSV72rbOfYCjnUFmXOyDtXtLaVE4bO2duMPmdII7wLDs81VBVugxSdljzgU8eRQh4uhTwS1cx9HhFwU9P5zgYehVNe7ISwn3N87Bsw4fNBouFnKhhxNQQF0yWmMfSutae0DqCZH6WiDtcsgVPE4EUKFFQrQ1vBjmSl+LK9JlSxms/spqrOF0w09+MPpbjSy5d5HUWeSzP6GT006/RHgisgkCbfv+Hcq3qrlwrNkYGAjcjwMFPYcG/5FzOIUZ48kcmVuVdlxtSedL4ksJmczJsLlEOs7QEPSR0VTGYmd3l8gRlMD/xk8c509lleQCkYVk/pf3l2HZ1XCt2ctIw6Jeu2ysNeZiVQyhN8gCz8Jr6MjZWpWu4jyXqYTBrAlY3moCvgLhxdcGKs8VEs7mu44oJV16xSM1iaAisnIr9qS2hzvyZBUHK2y6XuBjXozJ9ppRJA2Q1scZsdGZdSICS4TyyT/utzgvhc/PqSIa7sEiZ0RgIrIKAFE1to5RJNEZ7IDAQ+BMI5CPyXuUwxdz9q5cy4n6FQ8NAYMsIjFJmy9EZtg0EBgJPRcAfLnjqqrHYWj9cMEqZAHU03x+BUcq8f4yHhwOBgcBCBLi3slB4dbHyLap79I9S5h70xtzdITBKmd2FbBg8EBgIDAQGAgOBgcB/CIxS5j8sRmsgMBAYCAwEBgIDgd0hMEqZ3YVsGDwQGAgMBAYCA4GBwH8IjFLmPyxGayAwEBgIDAQGAgOB3SEwSpndhWwYPBAYCAwEBgIDgYHAfwiMUuY/LEZrIDAQGAgMBAYCA4HdITBKmd2FbBg8EBgIDAQGAgOBgcB/CIxS5j8sRmsgMBAYCAwEBgIDgd0hMEqZ3YVsGDwQGAgMBAYCA4GBwH8IjFLmPyxGayAwEBgIDAQGAgOB3SEwSpndhWwYPBAYCAwEBgIDgYHAfwiMUuY/LEZrIDAQGAgMBAYCA4HdITBKmd2FbBg8EBgIDAQGAgOBgcB/CIxS5j8sRmsgMBAYCAwEBgIDgd0hMEqZ3YVsGDwQGAgMBAYCA4GBwH8IjFLmPyxGayAwEBgIDAQGAgOB3SFwRSnzMf4GAgOBgcBAYCAwEBgIbA+Btvz66Ax9dAZbsdeOdOuy15q0/dUHaNuP0VtaOIj3lmF9uVODVy8PwUsM6Ma9U7V05V5i8cyiuzByxv6XvDRAewnsY9FBvMGBRyAwePUIVLevsxv3UcpsP3CrWdhlwGrah6KBwAQCg3gTwIzhuxAYvLoLvt1O7sb9GaXM5+cn99oOh8Na6HWdQfnn5+f39/fUQsfjMW/8nU6nVlKDPz4+0uavr6+cu7pTrSXrjsyD1rp2PB7XNWC5tq+vr0S+O/F0Op3P5+5LNw9Ouez49/f35+fnzfpvmPjx8eHqM9OVWQLdjJ5HvDRFvO6G+vj4+Pr6+vn5Wej4EoMPhwM6Z4TP53M3G8xMufiSQUnJB1HItZY4m/Zc2z6fzx8fH9diddusedtewitJO2/bVa8au/nD6yqdC4VdeqH8FsS6cX94KZOJ9fPz8+L5tBCprjPMnWEDLPT8Y3dljjudTiWBfn5+KpC+LLRzU2JXgUbNd23CWsvfi1ATKUO5yrpTZwxQsMSUzCoGdJUUQnZl0qqL0HU1PHRwhnis2z3nlji+0OyLp3vXgIXKp8SSNimTwcrxe9qp86Kz9yy0qbnP59Uj0s4L4zVzVm4q0MWYbtwfW8qUwE/t7WLokm7XGSZOhWdq9cyY2UYbOY7SdYOHxBKslLkWtBf6e3HpQi19vKeR50HqSeZMyaT8uu2Wk63+tOoidO30R4/MEI+lu5XEEscXWn7xtOgasFD5lFjSJmUyWDl+Tzt1XnT2noU2Nff5vHpE2nlhvKbOyk1FuTWmG/fHljLFiKm9XcSWdLvOMHEqPFPjZoEZ83j3v8FDYglWylwLmv4WZOyyselyf6p7mYRzwhtYU1fmDocDMl+/f4p5RZdXf35+WJcuVeb397f68+q3Osu5mONceUoN6UV6dzqdYIvTvdl0PB65gOf9kTRSX4SOoJSuLmAMhn18fKRt7QXhfPV8PhM1b5K6dMEtx2XIgxozxGPFbiUx47j4Z6yL8cLCxWCvrebcj4+P8+9fIv/z85NBT+aoE9tcMccJUGoolzanKHTDuhiQq5/PZ45Gd42OLyFAu6N/fn5UxY37DFZubffCz8+P9APhn5+fnEUqViY/D2B0ShIQ6mw8mVcZ08PvX2JrRYJYChebIRtw6S++5CGVGoQI8hjxxNxVCCKaEcgwabP4f319ZXTaYGlkSw/TUaY7l9AkGuoBgUyzRXK+2437U0uZsv/nzZ1/tesMU5INqWQq6xGDn58fuZizsu3RnoM7al8FGhuJLExbT+0CncQ9HA7drZWHQapVIeA7l43KWVuC4qeXWJrNoD0o/Pr6QpVFqkkc+bSTPWw9pA1pW+pP20jZ2ImMGQfzPMM0O1V5dLFW7g6yjKWM5wHT2xSQnnLw4FF6V0ziqEg3H9eeIR6LlkwqIF3Hp8KX9hMmRgANliZQhI/xNCCpBTOxP2OX8rkWH/GBBinf2mYp6W33a9ctOqUuB4ZUlFdLCICMOzp5qHnpe25t06ONn58fAc9ZqIXGaVVGtmy0dNb283klCO15YaYi7sY3N5qxyOlOhJBJHiACOsaBxeBKHjEx12kA0605EmTPyozOT1N3Js5UISyHp74ZMN2pNq2SCQzmJzdSbEk77VH+SaWMdb0L39noOoPOLo4lVLm67ExKpYBtvfA9nHtemS035kHTKRtSsyRlu5mG3EIFgXLuTgWiFJpu0TLdLGnU2Hi5qHvGRr6KAan2+/u7e845S39JzQmjc93VzNJOulqbqrKU4aKOKyawmf44KY2L8ulppk7eUpP4vr6+zIBmq8RBbas3ErGu8i4ruo7PhC81f35+mrsBwZIlxdzyaUDBxJDZSA1tRAzllHwpfaTQteumGUmAPKs4MjnVlhBAoqJcfOiySROrLGW0p5Cf8Zzl7uYlgzWVBNRcGs/nVeJTwLFL3I1m8sFyU0yypslSppxicmmKPIlMZo8kgDLi7CoZnZ+mlLEqykodbS0lXKU0BIRx4SpiS7rduD+plMG+AvESo6dkus4gbHhybglVvoRVnFLzpUl3i6aqjbcXgsa2yZPAjYSDdnNjW8oUyoqJ1zPb9Ff0cPbk/mEDU2MRo3YKI9ZhrGvXU7yIIdBexdHsLDjyXSYCHiFiwnghofQrYnbLxlae3JGxaNErVhWW2k38haWtitLxtdozxGOJ9NdFi6d0Z8LnxFZbgRfYM/TtFEYEClaLoeQsYsoX2mhbCVbbLQqn1k2FRUlx1q7Ga6RHmtrKtnIuAoQgscqNWZSwigTLWWV30C1Lt0lA/TaezKuS4go4dt3U2GlXAe2nkeMiU8gvOCYc5pYugwrTbd+Bq9zlMjo/TSlj8pxJR948KuUaNvhvu/V8aXmjG/enljL5HnG53V3JrjNIGp4ycWpcNsi5MlGqeSoUgb10l4NGhjINFWTslj1TusJCDiX7s2fybC4JgllCba50vC1lWNe8zBRX530JifV4PCKcr9qWCY7Q0N9yZmQ3ZfLdFRrMFEXMrhwr8jO5I41My4UOAbu+982Jz2nPEA8DxCftMeEySHcmfM5ttQkvgHvfygsYOYW2qzMlC3Q5+f39jXC+qhkG1xEaGayk0FXrzujUWWTsLiFA2cLORRWYJFaMa3k5xiyeyj2IkorplqVfUsoUVNtuGlnAsVvibleBojbHRUb6Iey6U+RJnQozWK7GpaTLlZhmVxkmFsNKl6X9vGCuBQ7t1kuZhe1uPnlsKWMUNbHg4vi1ja4zKJlaojUG+QxGtjXJC92eCr60r8ZVoH3+/uEgBNVZa4WyZ0oX+QI7MqWU4cC2cqIUoPQpEfEOa65V4sL7A621cfj9y13qSzRKmvDVdKHI2E2ZNgtrLQ01i6RXoXkJMQApCJRua3lBw64NV39aY4Z42NANSvGUbleydaQc2950K8nBj1Wl2jxaKDXMv7mQN4aKncoUSjguZxixe+26Ksx6qNywyO4SAkhUlBeT5kMAhm1VRywS4RIFu74bYfVyHyr9pf18XiU+EgBj5FiJu10DXRxJkIXCBsJTSro608gkQFm3vONK8DP/FEsK20uXJZhelit63HpFbEm3G/fHljIcUV6MNXEvMXdepusMUwpkqYdDzs3G7sqbSjAmD9qPjw/faizJBbnc1tpXgQYdubQIUMLCFY72akrZQrhfBr06UsDJ+gOeQJuMJjLtVZnMBUQQT33PzVqWpLkW+xmd3bxQ7hQUGbvmmvQ6EetelBJJdooXcnk7u24pQyA0CZDdCyUc63ZniMdCec65dMmSdqfC58RSfxAaQpxbGATY3WmAMZXhlDIlfXnQFiTN0YUSmpf6swrJcYI1v64KU0l7dLk7lhCg7FbnshYhEKuSFsRHZASQp1l6WOamzgM1NyzaPDvSWdvP51XiQ3zZQYzDsRL37JqCpGiJl8gwiwwAziSHJEmJu7CkkT//7haZW1Kzy+W7R96JTQXLbZiUYEXfi2YctWpq6ymwvNGN+8NLGTAiZXctWO5ASs6o8qqmi1qLuLV8SfSLcgVyL2UwUn4v7XnQ5LrucGZw+LEBgMXNWfZM6RY9zD2dTpnplGFLI8P7G5BHJ+OHw8F0Ka8wGwHqztxXeZ84HcQ11WIGKcM9nLYheTwep1KJmDirWO54F0le1Ys8Hbu5Q2000vLC0uymSTNkKMrv715cC/vLZpxxvBu+YicYQgmPZIHiGjix4DSCKrAucwhT2AVT67pWubQubdK2KQpJaWYtWVe1+nU6nXSWV7N7kQAIWODmXO91shbBmlIok91NOStPULx2b4owScBxPc3G83nV4oOn7LKLpQwYCg6+iOH5fE5kMlGIwwx5RKYY+fOvmnFd4wtvs5pHhlQEmYAAACAASURBVKUJcZokB1zLTZrW5oGrpBRtt54yCxvduD+jlFlo31ViXWeu0vAHhQdoewl6m4z2YnnXzkG8LixjcB6Bcoi2woNXLSZ/YaQb91HK/IXQ/6+PXQb8If837GpeHuACL+/wNmzyFaYN4l0B1h8WzfsvZUd0URm86sLy9oPduI9S5u3j/p+DXQb89/JovRQBL62XmxQvNWqdxQfx1sHx3bV4q4XbHN4HmfJ78GoKmfce78Z9lDLvHfT/412XAf9HYnQGAg9AYBDvAaAOlf/z2+kDhT+IQDfuHSp05baG1y6MHKBtDYFhz0sQGLv1JbC//aKDV28f4q6D3biPUqaL1XsOdhnwnq4Or7aEwCDelqLxPrYMXr1PLK/xpBv3Nyxl/HrYNeBcJ+vDOWamKXPxc/gzStZ9qcsAlpg3Mr9o57cri235/dXyDXa/BGgjBdCT3xkumtfqGpEZhcqsZY+3//065czqC186n8/5VdiLHylYqPZxYjPEK4su2bzGqMxdpZvfGZ5RuNyGhQpzLZWX70KnzGjzxeCX47Awvsb0BoNJvxcn3rNEV7l5pvvq1GCSVg3rfiWzm0/esJSZgnit8SXZdq2DcC2b0dNlAC/NlDI8b8Pzkq2b36+BprmRfCZv+9zbdT1arm1JRMozG5Yrn5Fcsu7M9PalhamznfjCkRniFasubq6Fab2oXbf7UBtSeZ4K67rwHtqW8+px/i7Zj3cmlqTElCMzCXxqyvz4Er+WaxilzCRWLyTxxWy7nfO7wDcD2tROmNpFCUK2WZFtQHGz+llenFrYXWLGnRmna8mSdbsTpwbvTzFTmh83PkO8smjLpSIwRcgi9tDuQ21I5aOUmY/jcl7N67nn1SX78c7EkpSYMnUqgU/JXxxf4te8ktQwSplJrGZIbDbkZ7S88fH9/Q2g3OZANb+j4fdgvdhQ2GO33CJJhT4UwSfM8tDDJBl6UOIdB4juA0O7j0qcBOKaF2ZASyNT5dS4m1NkchZtLuQsPMsV60ZE2Lmxwi8WtYjl5vn594zL0+lUIoKYOrnbpTaeFq895QnR3hoj9BlQL1wJhdxDp8xEwC4gKywx/M0ECZOWy2fX1U2WY5UZ5dr56MYM8fIRt4TAy3sGyG+nJ9owIV3urjJFFUPAKm66pBAccAlC39qQdrZIpsKLsSjKKWU0wOw0xcl29fce6UZcl8Utt0Mi7EZbknPa/c5CGd98ZLk34ktiaTe1BmcjTxY08GranwkEEsKQzBIfHx8lZaUkOnMthFODKGVGZaKnAF1+bAvSFg0s0ULBxGv/7cb9DW8wGWCo7OFnQsyrJoBrjvDOCIwR4uyqv5AYVe35bTWAEgSYC0uYKGOmnuuvMTc3ugxAm0YW5W7IMg41yw+IFBm6WRN0BYpYouF+QMadA5IeP/7qTYlIdtMMI2hagSTqT4bgKQLcnme3My5zuj87knpmnvlNEQMxcrkkjNPTKYSlnMYkFaeUz8Ri9ZfmiWeqZcNSyiQhcZPx3IkkTa3NrO3gFFXA003XpVAmEGBvbUg7iz3YkPFaEovioG+Q0uAkCRwz9Dr+FxozvPLHHd3jNuYzMPFSszkBzB3n3W853TMJJGFUUmygjpf/hizjm/Ywjv2WTcxKHnbzW/Iwfywi10ouFXlty0TKBsnElSdCamAVM3YCpeblDaOQU968lJElCSu/wsXmJ+mLiFzJhCL/EJMoUopx55YDTJLZQN4lig3lB1e17f5GlwGoLbYxWEBLA3S2m75TErrnO9du2nWH5LbPLec7UcMh/tppo7Vf/c5qZXJp5W0gr+M0LHHopuO0c7rM4SW7pXj1V525rJg6z79/1pfFmHTNdaeUp9pHt6eIV0AjfJQL6YtlnKHH4CKjy+kOu0xJGZKxRp5wKJBpHQHD4c4t/Mx1bafCJbFI5SXjH37/MMwizNNUH1367RtTvALzAkj5haPkUiFDJkMpSsP9LieNb7uomTz1u7uJjvozWIffP0c8IIpHSRVtLjLFvLQf/bKarl44UTNopC+8eWDD6qwnQmoo6HW9LgvNdLtx/7ulDBViBgbsOCeSJUl6GZxA5zkNVzKrSjKPLuYSzvP5XGwo3VzoznaXAejUyFwiuZjjWVXI4CJgN6FwsG0oVtxPw0SsRIcT5Xg8FoOzq36X9oaOccmllU8DPDZOv3954Vrb1E9DPS1zXLcsYVeB1JlOuWgLiAlFbSgp3dT8uPYU8RJwVi8uZx3M4d16SqJvL5ujsJXPy+DpMsgkvBm7fH+SOmmzejlFUJ4KC/il2xpsEHnJblLX5NOeUundW7aneJUBSscLu9w+hYcZF2VsqJAiwPgiYDhotKdMEaBbmJMGlNPHFKQe5pYppERlqDb8HIVXR4qY8uWXzHXZ1c/n8/F4/Pr6Oh6PXC/QAFkqMp4XutmCmUtcbHfjPkqZ74wr583pdCqbIbu5H4g9SZbwvFMpM/Om082fyCQFJXQ5D1Im24qpmVfdIbkf2kU5n3LzuOu6EfFmBFN8YyEZtCcNSJ1lN5aurqlnlDJiYqPEOiGiiPECnvdZMvQWMSjMewoukfIMrlvKuJDHgCM0kpOFS6WLfBrsJuIlu+WdfVnx73S7R1p79gtIpu7MJ4WHGRf3tQ21dUsZX81G6veSagqUdhqQ7sAlvYAqbSlDpUuFkfmNVXDEj1tMcSl525pHBeO7R4SxRJamhoJe6Rb9F7vduI9S5jtxEWIaYuolvsy2SVAJ1z04qXWmCFr0lK423N9IT4u2YpuvZmJ1MEEobWU8e/Is99W2oVhxPw0zOrmHs7zAGN+eIl8iUjxCZqaU0TBs1gYbZby4ltMza2SKSR+zfCzjaO4miGJMXkIoSkq3WPug7hTxMNtFxaS4w3h7VcacjgY/6KZCd6VvB0Wv0EwaK5AYotBQFgrlcu1BlQoL+KWLnlTuqcBLdrUkl/6D7XleGXSRKYALdSFDiklFGuaWljAZaFekkfpTeRGze/j9s+vpIwF4ifFSyugUMphNflOhZVxLcmVm3Dn8/n1+frp03gnVyNQgjOgvXRdd2OjGfZQy/1PK+JEab2YTBhnAWy6ANoEmaZA3kWWukbvIsxmQJzsn0fkcj9cGFoZ2oViXAczVyFYVlyXNC1ju22VPC7Fik+tCQtEqd0SxgkYa5gYASW3It+NGkF3aRkQlLE1kZ0oZ5PVOthQ9pdv6hT3aDKqoTR+zlMFNkcc18IdFuagfXIVC3vyaUq6FT2jME09MuBLjWz2PDd5ltqVMugaeqtKpGaoYSkIDYxNeOYk2u+hk0JLdjWC8EEiFaXAGWmtVwoinQukWTuaRlqrevj3Dq8wJwOW19osZOMPkFqNhWvPwzvhCQmG3ts6cBnnkdpnC3Iwv+vE09SDTbnMNRpX5jfFcF19yrUwd6ZcepXlCAf3YnvMf+3VrFCOL/ovdbtxHKfM/N5i8JW9NY06RCsKXSdOJUMq8Bl+ZkhvDcSXb2iX5ejGoVwnoQjurvfsuUy3hgcLioCjx1TwhZqr+Mt1zorif6LkBgJFAeKUUhe58Kk6tFXk/+Y/Bp9PJ6se5fH9bMrAu8mXw4ubUL8wTJeyZL2UKCV0a1h0OBwFBeWEjgwlgHp8FZ4Qf9O8M8TAJWMiJlpWJVZ5MjB+PxxIXphcXZqhCzY022Z4ZvMQuu9ogZxiRD5qRCqdioTANlU+VMu2WLBr+SHeeV7kdPMLNAzMZOMPkFqNhzukSpuQWN6wkwYy0QT0lZMntJHYmatTmfkGbRpL9zG9T6+ZaCal5ptjGxtE7potwklYNyLg7SrfVPz+SRir5hqWMvi1pPDOhL7HnoTJdBjx0xQcpZ08+SPlQuzoCLyTeoMrq0dyOwmfy6s7TdzugvYEl3biPUqZ+7PcNIj3lQpcBU8JbHh/n05aj09r2QuINqrTheJuRZ/JqlDLboU037qOUGaXMdii61JJxPi1Fahty3dTzHNMGVZ6D80tWeSavRinzkhB3F+3G/a+XMl2k3nWwy4B3dXb4tR0EBvG2E4t3smTw6p2iudyXbtxHKbMcwN1Ldhmwe6+GA5tHYBBv8yHapYGDV7sM291Gd+M+Spm7cd2Pgi4D9mP+sHSvCAzi7TVy27Z78Grb8XmUdd24j1LmUXBvUG+XAWmnXxrMwZe3+bZhPrHgfpMW3vl26SUr5rcQl8jzXWskfVjRwon7ErtIvHl38lvQ85L5an6lNsf3274Nh/36e9HyeV65eR/NhNs+j3XbrIuY/AWBbtxHKfMXQv+/PnYZkP7zg0qbOlZzw99QK6R32V5Syqy4XC5tOzPspjDXwrUaF4m31kLvrWeUMiW+M7xKrHKjFQ2ju0cEunEfpcweQ3mjzV0GpC72/KOP8FzxYnuUMhch2r7AReJt34UtWJjH8xbsebkNM7xKrEYp8/JIrWtAN+6jlFkX5E1r6zJAi71QYcOX8vGRXrZFjCeT5gPjc9wnQvozAsj7aEgqFQZTmKXz1dPpRI3lQzxzUW+NlYf/6sLPz0/K8ABNnj6Z4z6qOF1GST5ns/uMTktAEEjjfcyl9qgNL3j2KDiUKzRpibipZxeNGeLhrI6fTidCk3Esx5LCopoQyU8PMOKiTNImY+TTMufDZ+DSqdSTNNbUFC4hUyZJpbU+rjofnK2pqLJ7PB7xGp0o1GCQge1p8E5JxTNnC5h0TREiIKnyIb8+px+4ZE7q5EK14XC3MgXoAJNZCaxMyAxjlJ01HxHDhwsYSZTzJW1OA/wxgXymtr91UNxPYbVts9HdTaOU2WawHmJVlwGu5EkM792HJkofl37+/csk67HBMWBy9Hnzqdw9jLAHUjnCMUxhHwruljMrmQuY4s+j6NrPvzrGbEUmYulcl+WwP23O05TlNMNVlMcvj8yuPfkbAj5BH3uwgXbOLW667vYbM8QjELjAgSGwxkXwbeTPfXT5mfCiNkPPEokzIeOYmQmfz4D3NyXO5/MUjd0UMx/zksMpk0FPQup+upxQIOzOTZLzkhvBA5UDcvsU6lo4wyux8hRnUxMs2sX3jIXLIQNh2IAuahTEdooJMjnrUWehthuR5Bv1maWMFUl6hE4zqtMTjdZsWWHe1v1tNgxBmjdKmUTjzdtdBuhz7rfc5FJfyRnq88P3SrJLz+ezx7wvZWGUg6XthifXu+HpkrUPv385Mcssxnl3pYx73m3PSxjcljJFLE8pdepjJhfdVMxGKilpFPtFzynFC8c33pghXrIuY03S5wgxEdtIf7v8LKVMlzaFqxYQU+HjmkcujYZygCmQ8XUwG63C9k1Clji6X1y22wJoWSOXaFjYOZ6G7aU9wyuxggniQBf3S5Zow5FlIphkTIm7Ra07veQK3qgIuNgarKmIqJ8pKWaNolWWOLmQGhKN1gBH9tLoxn2UMnsJ3wp2dhmAXvcV3dw2XjMox60XXfOc8Jon7wj593Q6oZBubjYvBXsNo/iZhlkrIGNXJblorpJvhpjbHj9pOXPVr0m67H0oX8ojpygvXadkWswT3dzHxHTq4+Mj0VbVxhszxEvHM9YZMhNxApLvIIXIKzqllEl2GdZcOg+tEi+71PeuRYMzUgbmQriDWHu8JWEyfC7noJWKODiCjN0pAH/+XZV0J4oeG9Oui+6iMcMrsUom4BT7LjNSxrQ4LrY5l7aRSti7TEjmqN9ZJQR2y9KmhSmPMlGnR144ZDBjbdLLUk8LN9voxn2UMpuN1/qGdRnAMu7A3AOZl8m8vJpVAvvZTzZ8fn7mq60PLpQ7yqTf7ig3fJv6PZPK2+t20TwXedU0RF6wNCGPtKUMRYxlRHlXhE7tSeUz79UWljJdd/Y1OEO8rCcy1hmyPJZw3BScJYKFJuETXuNSwpRLLyxlyo4oUZiisXuqyBfDeLWQJw0Th3LI2Z0C8GeUMt/fgp+lTPJHgWyILYOSKvd1gd3rNGYV5lo8kUacZe2SYnxozITDSzI2zcjKplxnYlb+2904Vlr/n72zO28d1rFoekkxqcWl5HGqSCGuw7Vkvps1Z82+IKXItmxLCvNwDkmD+NkAQYiypbwSyFlba3fzyShltuamB+rTjYBMcymb+G6X+unnLyld1bn9FILS7RYf3QNeF/xMKdPdEorEcmsGtpfLJflrSCllSq7h6qetulSj7Ealq2KZj0xSfEq3levcfTWmAi8vNN0ANM2d24Yf0ejWzaefv8zv+oVZdksQlhtMRr7uK6ECt/bfbhhjaZbvWaMkk9bpqTBRV0SoedEwcZOtDYSWbmqy/fZMXKXtudAyMMqi69p7WykDq+ImBgE8M09xgV0CT60YL2U6n2qgDWd1G92FUzJkd+JGBrt+H6XMRrzzDDW6EUCJUMr/73+XcZ+fnyZKVOQ2E8vM1CwN46w3kjVfT/P7v3L++vnzy2uUQe1Vb2Znczqa2GWRe0nBFHWDuNBwoezRq/tWHjvJv+y4HCw9oZTxJMzgeH9/byHy0802pgKvAJu+zrLYbSkPw4xAYw/zvQ1qWk8/ZkGMOFwPN1YBbUMiu4m/EZV8MozVxCpNnnoqabh4KE7PYBYHbf/+t07LhT78pZds3GDKUqZcrX18fLRp8KpSphsJWYKYEg2JdA1eg570lQFP2pkvZTJaMpCSj8FjvCE3aYzPbTa6+WSUMtt01kO06kYA24l1QAp2bXtXKDMvy4a9P1MAS6U9VPdsMy+GWE4QT23SlhdTe5LpQKHtnlFoMot5Y4LjWZe0hngJBf+2vAM01WOiOpSuCKMD0CUmZYNP9dr6SW5bbkwFXrGUiNIQd2Ib0Otlq9VufP5ayrid6FYisPirdJeHMXuS2hoPGkhDgkQpnZ5mGgAuHMwcpUxB1eyUtQs0BoaFBS7o5p+rSpkphoSQjkYNoz1rF9OUTjfe8LglTmbstEjDy/fqlJ43oTLMDK2C5Aa7uVJUb5QyQnH8RjcCjm/2sPDVCOwi8KxEX43WkL8UgV3E1VJjfqMrFc9v5Ef+vOv3Ucoc2eXFtm4EFJrRHQisjsA2A69703N12wfDxyGwzbhay17OcjyeKTdS15KyRz5dv49SZo+uvFHnbgTcyGtMGwgsRmCzgZen7n7Ba7FZg/DFCGw2rtbCxduI5W7RWvx3yqfr91HK7NSbt6jdjYBbGI05A4FrEBiBdw1ag3YpAiOuliJ1LLqu30cpcywnz1rTjYDZGePDgcAKCIzAWwHEwaJBYMRVA8mfGOj6fZQyf8L3GNmNgOX25w9Jls/Kb9cvn7VlyttwWN0iftqQvx1DhDdKyo8vVldgOcOZwCs/3VrOczmlgCycsqJK14qe0tBfu0wR/M3xmbi6CpDtrJQZtW/72u9ts2bU4KOFiK0V/0Wfrt9HKVNQOnK3GwFHNvgxtm2hlJna23J8Ybp5DEj/xfWFgXdDXXLDlP+y9l8nffFvbPy/JgJrxdV2Vsqa6DyS1xLE1lpHrR1dv49SpgXqsCPdCDistQ8zbJQy10L7wsC7IZ/eMKULyChlurCsOLhWXC3ZmFdU+wCsliC21jpq4er6fZQyLVCHHelGANYSdv6ggzeA0PXJUbmF++CmfFxvPnDJo0VvMPHcDmlk2z6pjJsm/BaR/QBN8iFjqYAOS+J84pN2zSMAWd6yUdt8rpQ4lPVslweW++sDGKowyHDwmwr7q0vNodHqIOd8YmGB0Xe4OD3tQnrxb5G7YncedgDhNQKi9Pn5mQ8WQxmera5FhlApGuzqd4NB/kUlx8HW6O2CcPr5gzlPKkuPMLd41tjQENxBqPCIPxGQmy7TovmwWWKFNAf4UUxxYnFWPjjR1JF+8SlzeoeQk9huC/vlcjEOM7pglbHhU+8Y1KepbZvreGx08kEHskQuDVcBDwNkimk5Z5GKDQDN97nAvErP/JYalvQiYuWpgOZJ1QCcVLhkrSJlSbfr91HKLIHuIDTdCMA2Io82S9RAt7g2xG0QxyzODG5TQD5qE7ZuEgY0yYX0wUQY0nah5mMVfCCvC6z7CgJkWUvlQ+uLR1UmaVIiSpJHND9NTiggNsGBLQbykdnNvMbuVbRCGWlSB/mUKTkOT9UQNPOy7lZE4bZWdz7wcBMbDwhjha5PwH1xKaEFTVptSKC80Qu9aDAFp4iM+4dR2kWASLb0LL4zllKr+VBxrcHKrorJCt/prxQt8YwVImkEKqtr6cYHZ+IqHxokeul0kMR8vZOJyzeyXX7+svIjVgmSUitYQ8CKIMkgTBcIb8l1VBvMVSUF2WC6+S05a1ESwzYzLSIy0ZWkoYYJHSoRhGILpQ+Izwd5pw6WPqgh/6saXb+PUuYqDPdN3I0ATMrF1kYnC96lYiPhcPHkYCllTMFs0uwr82/1c8Ng/bBRJR8Stxfx7QpxqRfF7LZvfTN5KT1LHM0vJtttAXQHZVXL3y3TcbVys+nqUEQ4K8dznyODsPGffv6cQtJJKfnRKu0lgSeqreG+6K5YZJZPq6dKmdbLBJ5xhaU4Qr90zc/U36KnoNTK2IChXWgM2mKghsuqqGfYLLRCQajx69Lomr+dwam4EpZU9XK5FHtFVXcYUUy0C0PXiPSQ+XbGrCZJfQRSZtdUybaCGDmdTtbxBpg62HA6jVxBfpTEM+ppWqn45TOVpUtEJTJaXWiKsYpY3uj6fZQyywHcPWU3ArDKsCs7AYWCNQcNYpHDhlwDHirmpZ7po6xPuyk6zzZKxNsl3SuLhhrSzURAwmK8LCpsV5N0sOIcdJWaMhyBxq4pknHpv/+9/G/hW/1mdCgiVDLH1aeolwfvwji/ecv/tsaSwOuiVDQvFpnl0+oSwEbXVNh0ec6jkQHDViGMNooaRYrdornjxXDJcmfKcCoTQWbKCu+MvL29WWTf5tnXzpqKK+Eq6hkMjLu+RM+RQlBglx4yU5yNMp6xx0fl3yI3A0xXpg56MC/qYEIEmpZzVle9IjoTfipZoCsIpGidUqZgiAtEDVPKwrYikn6UMonGwdvdCMDmDLuSCNxjbAiTt12zRHCZkUldP2V92k3RC0uZrFRUxgb6t2naVSQlDTXJ8XaFu3rFwREm2p0C8HszpUzWmmn1g9pLAk9UE6UCrAirJ/fmC+DZNbo84XBuYe64UxwpjQwYtoqMf4lTjaK53aTJ4IdJS5Y7UwIlpdK7VrA23f/KZbpz99KYiquCquYUTFzjoucIU+wW2KWHzBRno4zThUneqGI872QxkgHWLWUgQ7285cp4puXUvKueNqpMrkQHC3QioA6UJnmsmFPIvaQdpoxS5v+wnQpioR+NFoEZ0DLsSiIwsm0Uzp6v5vjp56/cYMoSxOU6dXRZ1pjdol4Kzbbn/DlIXiiryGWZlJkCGE+FuZYtIrzvUDRM3GRrA+alOzWoDkWEmud4scuuTJz16MaSwOuihGJqnokyNwBiQyuSzMBOZKSUiSM4Yuo8A7ICoCJkQiMlLgwVLYWDXVmVOLFbEOhaIbF6tuW+H+2iMRVX5opiRdnLRVWcgcjCFAJvB5s3pIe/bG2U8VSjiOCjonA3wFr35dwUQZu0nLOm1PO7uk5sz+qmsnQuW+7C6xTXRYELVAWz1fzXEUUk5TiVSTQO3u5GADYbduVgPM8bjdq8mGMRns9nN3IZUoO7fsr6tGu+cF/hqrEs7+y+v79bFbFWPz8/kw9qQ+PXMDXNVKW/k8aNkEtYaHL5iYO2f/87bkFziGUuvWQLbzCV1JA6FBHKyvGSQeyKWGuafNZtLAm8Lkqooea4xjxrHGKR9QeXgMzNwO6GDdW24ZTf6JwCwdBVPb/sSeC1YbAwVLRUzoVV7kwZTuUrDlNWJBrQCOaUsVsen4mr/Nqv4OcKylWQsGcq8HuyBfakz6s1cx2g0S3BaXpJYDO55dfyoMFr6qA5fGridTmYSEue6aqHOMKMc8FugZvQoQBTci1Ao1MMtkxKWFGKp4RiSVsRSTxKmUTj4O1uBGCzYed+LxbuMTam7nrmlzC8heH6yaAvy9U1QB5hXynLu3Q9RE3NSRPsZG5OLh7G2zpGBCBIlLxZlmsvcVAiZpaNB85Jbz6yAU3pCr7VDLp5KZPZIYl1zdfXV0m42V2ISeF8czchLUx0XxcliNWchmGW23CGUIKDBw2GbtiwG4EwDqUqKhGr5u24YVBO++EJN2lmQkVLi+FaVOKkdLUOWUaLmidKn5+f7oIS7KsxE1fUlK5ooSgIFJwtAnQcRWrBubjJFGcDtnbJXSrTglySWwkw1kjqkFZYhbj2EYTJOUt9inqZZCgBzd6pagpNBLTr/f0dQxCdS881C55ZL6aIhe2u30cpsxC9I5B1I2BrhpVlvDX1hj43ILBW4GUCvUGNG6ZktXTD9FdNyQ3sVTo8Qe5acfUEVXckolQ8G9S86/dRymzQU49SqRsBjxK2mG8eBZOCvVOwmMcg3DQCawXek0sZHoO2aWT/KZdXw+WWwT+SA/6/VlwdEJprTMozEo5epo6ur+H6QNqu30cp80DEt8a6GwFbUNIjSm83bEGrocNaCKwVeE8uZXhY0VogPJqPN7C6v5F5tPSX8F8rrl6i/HaElvtfG69juI/WojdKmRaTw46MlX9Y127bsBF42/bPXrUbcbVXz92nd9fvo5S5D9Rdze5GwK4sGMruEoEReLt02+aVHnG1eRc9RMGu30cp8xCst8m0GwHbVHVodSQERuAdyZvbsWXE1XZ88UxNun4fpcwzXfBiWd0I6Oq05Dsrj/hybpfn6t+of/LvO/gmXRfntQa7uM0wf4JKKX154OWsddsLnX4tkqnkQlTvEZHibPMuVbuPaEytQW158teYsHHFuFr4w0ntXQIyv43naUb8FE6Uyq+vl3DLpxUsoRcidbax0NjlUp5M2fX7KGWe7IVXiutGQFehX0uZhVm7y3xqcGqtTqXRKT6/ji/c1X7lsxGCG3xxw5R7jF0eePdImZ+7xOnuNPOspj5dgupOg7mrdtp7J3RTkM6Ps/4KTwAAIABJREFUPzmufs2KqW2C47goPa2UaUWXZ3pJsKNG1++jlNmRB+9VtRsBXaa/LtruQu2yWj44SpnlWCXlDb64YUpKvLa9PPCu5bycfpQyy7FqKUcpww9nPNhoISoj3SU2SpmC0m3dbj4ZpcxtYO5yVjcCtKQ8KtRFm7+U5qmprNJ8pmQ+zDGlyDOf7J4PV5VYDvnwSnQjjapGPonSWXza2lLkQsCulj9ezd8fdp/w6yO9ESQ4HNU6xafKqkk+PRm5iR5PLoGnT2Pj5Snaq6xS6tFNbjxkM39aKc/yGFNsTyUf2tbLXSnpRB2RdulxXglZ0BaoND+nI7SUMjLxOc5tPCQTdSgmJNqJas71wsDlQJygkvrrrOSZEZXjECeHKQ1ROOfmc0TQTR0MtnxaLg8FLvzTwPP5zCYtqrmKU8k0pyB5Q3cmropdxAYiVFLX50EFdqV1zBIikE8mCRrEGUsGbb4uFHcY7cmtqyoP3zJCkIKStPGXBGDOvzz4W/3JOTBkcF2nqM/jGl2/j1LmcYBvjnM3AtAy39/B1sL6zKsxlh/juYrKnVdf4ZFbr5cj5WUx8GFJJ31ixwaQGxXta+XK09zKCHkHHfJR7iYC6xg5uBmQg8xljkvZljJm+cQZWdiFvfBMzAs+dtMX0JsNffxgjhfzU9UHtWcCTw0TqIwKtGUfxVO0ixUGGJYqEQd9/3tJlpGjF+AD2jJRGTebXCCiNIUq485Vh3xfT7nKx+Ty0pykT1nsW1kP6XF1ywY2SpMBz2YGccKefkH/UsoIEXPh6VYqXAnv6s/u08tpLG3swmSxLQqUcfBkUEMSB0vSjJPiazWBD12XqhNz1lTOyfECr1JUiXAyqn0PvASKBoTMVNmW85YbXb+PUmbLLltZt24EeL2usMw+pmM+dWHkQi00rlsbcib9ud4Y952rXfpS+tBl47lKbupQMrsbBuPJNjOCO0FakemGHGESVKJYFbmZXNIutwE4WLEVfOzKnx0utxwtOv38qRKZ0e6jG1OBp3qpwOVyyQI6t8wWMY1lbzCY01kEreC3QvVy8i/ve5d/qnr6+XNEVDOEUn8jjdLKiVlpqWd+OuPZKfqcXvTJfbRsYxxUtBAVMphn4Gk7Hwnp6eePQf7Ns5Acv6E9FVfs68aGJxYtVi4uGxglYvlKc7NfxsmU2gmOS9WJuqCFWugKUCUtIFfO5/P54+Pj/f0dzU2qXZ2XZK0pu7Yw3vX7KGW24Jon6dCNgDz2VA8XACN5C4AEkQsVGnJZnliyXPPyyOMNBv2X7d9lqRo0ysZWugvlJs82fZx+/lJhdSM72M0GtUsez5oQU5xYlUxqXoNYu2wwbjIt+NiVPztlakj7fD63PKeCITVfqz0lKzVPWSX8zPtTiFnB8FuecleRtC74U14uC6GFsbDNukRPpaVIlA97THFEcRk1Oqcg5aG93pySYZYdWbolkqVd5paTIbutX1q1S4lWXGM3U4fSMbPodkM30S7TSwhRHxhIEqunK7fYnt3kqS1ZMMm2gONSVZyaTEWjBPKUiSNI4crwdDrxftCvry9DXYeW2NZYWJVu8t9mu+v3Ucps01kP0aobASXKEeyiJRO5W3txlivcYoK5eSTLiFn4crl4zdFa2F2r7YZhVr1KbopjqXvh5WkK6SMpabf00pQsULqQiVWmmBZ27bLhdLJVwceu/MGqu0+0PKeCQdNWbEzJSs1TnOHHoGndnYDxNEoaGzLsljJ+mo3kX66Jk8x2KpC7F47WCsxsSxnWBXU8U9J3GOKrtsspkTqUoHK8NNh62XfhTPWjktDTbf1SLIU4yRK6jG2PB4o+q3Sn4iq3cAStXsrA1qIzHcdHCY5LVZSMUhotGhL4kUwc+f5325SDzMvl8vX19fHx4cVP4qDohRdgKWVr7a7fRymzNTc9UJ9uBHhFq2CzallOjLenMiUb8hwFudkgF+cK9yMa3bU6U8pcJTdltdmfTN2OO6vIcrzULqULmSYX/plc0sxykizP08+foiWTvwfp0tj4mXqySxVo99GN+cDLmhJNysapgVOIGcOeyuQpBb4TfBut1cm/6NASWwH7kajqMj5ivJQyGgUNa63dEd3qplbHjDmpWN7VRfRMKQPP9IvXMPLM0i1rF032tMALoZy7SnsqrtjC87wE9Fqs9JSN4pfsziSBmdvKuSoNMFNrq5LIlGLa9S4BDQIVtOF2+vnjU3VW9ChlQGYr/84E8VZU3J4eM6Bl/eHXUcsy4yKyLWUy6XOZQvLKtcfSJXumLETAcypZJ/+y5ZutlsjVIQg1ubsDscgTJVXN3Yjc1M3UJkRlZcYveGZyKXaZxRK31JMMSwLNbAu9O6Jq5zhqpJmp7SPaM7LyDE9jsYhoyQiZQqwtZXSuXwtI8IkWLU0vOzF1aAODuVOopp7QeHPKYGbccoFTk6+vL0FAhPqnLEoHeKZdWlQaGSF6f6aUyQjXdteazJNtmpyVTbrPtYBo+dzcmIkr8ARe9KSdrk8Xu3LTKBVGQ8sCneL4PDhmNlFK76dK5AHyZ46zkNuCyUjwI7K3CKuzokcpc3O8PWTiTBA/RN4hmM6D5m0glg3bIW3zbG48DrIs6XLLVkEM8q+ri+XqR+67JBHnCrnZnxG7N8iFg+lVHZRl4uYjE4Qpg3EvNM2AcChdBk2OZdfJ5FJKGbIYshI3v3mAINWDEiQTlgQzx3FrWv3QdqrRCtIoCzi3EOxyn5hCrC1lBNDSpIAvgT+4+/53XK8aBmT52kqaMIWqq4mCI3cUuaUOfJ8Jh07JTVkJKQAyV0GpJKUJYKoPqBb67OoXdm69kJwNvOKa7IJ8Sk8O97QThMIHt3aFFtiZ6Mp1tTKeXSay9gWne15lAMNkvpSZyTmqSuJ1vaexRIVZtCxtHaoXzuezxhbbk+2W212/jxtMW3bZyrp1I2BlGYPd3QhYq93NaSsMnhl4ZHZPO7YCwbP0OJ/P7mrPkvkyOTNx5Rb+MuWG4Ich0PX7KGUehvf2GHcjYHtq/nWNRilzTwT88VLm8/Mzj/HuQXL7c2cS2ihltu++mzXs+n2UMjfjub+J3QjYnxlH13iUMvd4+I+XMt76vAfDvcydSWijlNmLE2/Qs+v3UcrcgORep3QjYK/GDL33g8AIvP34ak+ajrjak7fW07Xr91HKrAfw5jl1I2DzWg8Fd4/ACLzdu3CTBoy42qRbHq5U1++jlHk47tsR0I2A7ag3NDkqAiPwjurZ19o14uq1+L9Ketfvo5R5lTteILcbAS/QY4j8YwjMBJ7fafAHqzPYXPvbHH6L+9Cvj/ir4/zV7pQJ1+ov8ymGS8aXALuEzwZplsTV49S+1puG+s0qPfp7YD4F4FrTbrbotoldv49S5jYwdzmrGwG7tGQovSsEZgJveX6/9tvQq9QBv8K8XMpySoXeMMW5Nv5mKaP5D2osj1sVuGGKc2k8upS5dokV9Z7W7eaTUco8Df/XC+pGwOvVGhocHYGZwFue36/Ns6vUAb96ZrmU5ZQKvWGKc22MUkYoVmwsj1uF3jDFuTRGKQMO3XwySpkSLUfudiPgyAYP27aBwEzgmd9zxy2Pys3HQ3fvFuWjV/P59D6LNmHgBYeK8CG2vHGQ8fapu5L5IFeYW22UG0zyx/Z8anY+TV8maughP4+R9WnFEpTHyyrXx7nC0yfDCqyqwiq7OTcR9mmzukk1ttBYGFdYKtQUBHSFApQYFAGxhcwuZPmc6OJuwXGcACg3bsqTefOR3xkwPn46S5nikeym1/IhQ6rdxS0/RRB8iMBuhDCYEXu5XJRuBIrGWo2+/i33Ll1L9tqRXSj5Woha6QO0FpMx8gQEZgLPFOyOayNf5ZNZviicL9NgA6BWyK06p1D3UJqQi2mXzYYE7VODfaFYjpPxyfXuc6hqHlcNGxZDy5mn/sknX1UokvJnGxPPMtGuGxJSfMGQBPleiNTk5e2FcWUpgI+sVBIZ30CO+6BJn4oqVifaxoY0eDbHibpSyuSbqxPkIvfj44MYW1LK6D5fxIHQPNQsLy7Qj9JYyvBRiRDfWca41XbayEdZSCnl/kbX7+NU5n5gd8OhGwG70X4oulsEZgLPLcF9xUYx1zyb45ncGXd67sQ5JUufrJbKJTIvcncigigd8oTGncPtR0rntqXVtcxl5f7EJuGGYVUEpeNZ6xRA7J5+/lIEe78E+dGm2lfFVYEO11OyFNcbVPoUq7Nr3H59fbmXQ8axXwkDPNKWMllV2C7e1BEqVmogu0jJ6Zw1zlwJpENdYgiyEFExiI0uG4yrJ90S5CnoznbX76OUuRPVPU3vRsCeDBi67hOBmcBzS7AEIY1y3G0yncrFubuAjWm3JFaRUxAjbjmFPs/bbbcbkrPUxBEl0shxGWZjhnlhpQnJExrvaLTAFmK7eXtOfdh07Wb1VpR5YfequPr+97pQg0oEbGgLxZw+ZTy7wksZJFA0eKtuKXGcopQ8ibEc8dNcCFjKCJVK4Ua3TEEZ1EB5RrLWUVwusRSU1bDEiPu1lHlQ2HT9PkoZvXP8RjcCjm/2sPDVCMwEnhnZ7Vll3ZXJvF4ySuB5fo6sWMq45yV/FWbQXdB9zpGclcc/bFpXMS+sPAlITICLG1tZFQlsUcwupwhFRHb99kN7qJBkz29fG1dTW69QaMJVpYx3rJxe3M14iRyJOb0wfqxvvC/moVFWGIUbXQjk3G1YdbWfGk4paJQyLVBrjswE8ZpijsVrgHYsf+7GmpnAMyO74xarPKY2zyZBybmZdtv9iYkzN5jyMrorDv55rdneYMo9KVVNfa5lnnxo8+Xft7c36rwiFFioPATWAggOam7x10rJkdPPX468vH1tXM2UMsnKoKKhmZYUeYJSkJe4zM3iUhoa3APSTRnDEFBKWuJY2VtZyrwYWARl1zopBw1LEVCBLNeUYgOyjPA840kRq7TTWTIcpzJCcfxGNwKOb/aw8NUIzAReW8rklyVJqRxgmGeLNX4pkkthd/eSWJ3VfjmRLaHQs0V5duJ2kuOolwf4SEkToL9cLsk/mXx/f//KXOVtMMUNpuw9XHmXUibBZBNCc9rWZ+pmrYPQ8sspNXlh46q4mr/BVH6O1B5uUb4o0bhlz9YRCaZfj6U6ySkJGlOytsjiEncgN72cFTnBgLuNJUSoQ7rPmEw1svhIQeJmhMgTzV0jGeHJrUi5v6sXktUoZRKNg7e7EXBwm4d5G0BgJvDM73lV6hl45neuifPgRMvy2x5+D6Ak1iQm3ed+370j4C7y9vaWcnNcKQwqxbtjllZlx0omvzKXrQ02G6/LrYcw6nw+W04lsH6xg7pQuerGdDFMYN3J1OHljWvjamrrxYka66/PvINpqCixlJLp7nSK4yCfHyV6WY4zjkQCzxq0VBjSEEsyz/DWlikXpxpeLRRBVjNILHXbKGUSw6vbhtTVM//whAHaH3b+K03fVODl1v5KUIbsuxFYK66sR+/WaDB4BgJdv49TmWdAvxEZ3QjYiG5DjQMjsKnAG6XMYSJtrbgapcy+QqLr91HK7MuJd2nbjYC7OI7JA4EFCGwq8EYps8Bj+yBZK65GKbMPf//Tsuv3Ucr8g+cP/N+NgD9g9zDxxQiMwHuxAw4qfsTVQR37i1ldv49S5hfUjvRxNwKOZOCwZZsIjMDbpl/2rtWIq7178Db9u34fpcxtYO5yVjcCdmnJUHpXCIzA25W7dqPsiKvduGpVRbt+H6XMqhhvm1k3Arat8tDuCAjMBJ4/xn6cnf5IdaGIrko3fMMGueUHwAt1uIosH0OyfOJts5bzfwLlTFzxO2p08DfGN6jk12ja3ye33K6NNH8b7++ZW573jxjPS3C41gSZ36/ncg5dv49SZjmAu6fsRsDurRoGbB6BFwbeDan2himtB2TyhFKmlf5HRmbiKkvPJVv4FGKWMlMEjpcHCzk+0zBIZmju/2i5lOWUanXDFOfe3Oj6fZQyN+O5v4ndCNifGUPjvSHwwsC7IdXeMKV1iExGKdOCs9bITFyNUkaQDUVHphrLKeVwwxTn3tzo+n2UMjfjub+J3QjYnxlD470hMBN4pkJeaphPR+VInweMYjFvq/Fhpj51tFwQ2/VxqD7zVP5FJcennsrq1shlurcGfGBu+iTlUspIn88v9nn20PuM3WS1BJa8VeQja1MQgCBFKJzFp0mjAijPREy4/PzhNc3M+yN6JxVIPolYV1ul/9ooTpRetsjiVEZt87HF6ZfuvRVPZfIGU2IFnjmSaKBSRjL0U4D4oqVkCBOmCC+DGpWo8tKA9Bqm5elU8gcQWRkhjixhLvhPaHT9PkqZJyC/FRHdCNiKckOP4yIwE3hZyrj5kWetVLKMeHt7c9x3wUAvftmVP/ndNA2Nb+ZznF2w3dWKDm6Hvh9A6TSU66bFOHsn7XyNDrtduwuiD+NTsFiU2PCJ+26N1kkqJjFsEwEQRnOhYGOzlHF7S4vytU05XaH5rkQVSG0LjPPdmbjSX+7rYJg4p+a8Ykm3KrctZbKmWf5eST2bL3tKWJRo3cMItcv39zd4GvxF4bQlYzLj2VImgz9NSH3ynU1LmKv/Expdv49S5gnIb0VENwK2otzQ47gIzASe2TP3HrK22Z/DGN8WKU5uKqRmx7Mr//JeaPbUz89PmDg3N2AHcwPOtI5Kubs4RbmFId3L5VLk8hIl6wn5LIHFmsCG09tSxo8kLhubQAk7UySbskjTFCEH0fAj7O1ClzTz7Zm4Stxya6eyoT6zdEaKhqfQX0sZiTPqHMzIYdCgzRoi6SEw+CUrsIutc3mHfImrnGUpw1GfE6mTFNSN6l+ZJ7dHt7t+H6XMo2HfEP9uBGxIv6HKQRGYCTw3udx7yL9mc7cTG+LEblR2kezKnxLEM3Map9Opy9OjCAWpXqEvXemVW2yxi5JFn3ZrVy77Te6+irYogTk80wRvuCR/ZyVceUCSorMk0gSMtcsmWizi8CbBF6IpbSX4tTETV6m8WzgM6ab01LkIFeQsQbp4FhjlU6QLV5YOEifODlJ55MTy9lD1//z588AMDoaimjiiiELpbSw5c0gjGk6cYiXBIxpdv49S5hFQb5RnNwI2qutQ60AIzASeqTD3npK1TaA2xOaqUiY3cjl0eWYdAKXqFfrSla12FVvsds8AnG5DuUtKmZzFJmQ5aI3iDY4HlTLq0DawvbxmnHOLVtt2ejsyE1eJm1s4HLKU8b5by5wR/ZulDB9ZjHKW9vxSpj3D677g3VAUB0eK1Y6ffv7Kp/PMW+LHjXT9PkqZxwG+Oc7dCNiclkOhwyEwE3hmz9x73O9Bwu2k3Nxxd6EhbEkm/6mdpsxF9BNKGZVX7W5jCSwWJYVDex+BgoardmcVZOyWWxiM+10ZiySdZaOoUbqQtTVEV9syt3Rn4ipxcwtnul1jo7DNrrE35S9LUnHL6avfYBJ2FSviZuJZw22UuQJyA/PC6qHdrt9HKfNQzLfFvBsB21JxaHNEBGYCz+yZe0/ZFE2s1ChejPodCOitP7jEB0j58yUJD2aYwtc8/fqwJwSy0huqpzJ8VLrSK7fYkt2Pj4+8F+B5iUzKRphz8xLZoiS/Rwzx18/f29ubpYM0zip7sF05oA+ozpQy3vVQf4AtfCw01eT733daW9hl1W3MxJX+wu/5fV43cjRJZNIdSNS/ljKWdBBohbgVVZmoaellgySnQK8mfpO6eJ/7U66FlDIVzxpeTHAdpT6p5xLmacKj212/j1Lm0bBviH83Ajak31DloAjMBJ7ZM/eekrXdTmj4TQXzeN49gaESuetvBeOPrpUL5I6zvbnx6BDVUxk+Kl3plVtsKV1tyR+MyOTaUsZf61B2aAVGMSgUv5YyVhhMtAQpJpRufs1CB7EXwkfXTGmb5s+3k1WhZLeGwC0cmux2kUlW+hcTqHumZhXY5ZPmi8n8d2WE0Zqm4AxzIc0vUSWwqEokpOHikyWLQXsDc419QqPr91HKPAH5rYjoRsBWlBt6HBeBtQLPfeW4UG3XsqlThxdqvFZcvdCEVnTWTO2nY4QSsMVhlDItJocdOeTKP6y3DmTYWoE3SplnBoXHMAj1NsQzdZiXtVZczUt58qejlPkV8K7fRynzK27HIehGwHHMG5ZsFYG1Am+UMk/2cN7/yjsjT1ZjStxacTXF/yXjo5T5Ffau30cp8ytuxyHoRsBxzBuWbBWBEXhb9cy+9RpxtW//3ap91++jlLkVzh3O60bADu0YKu8MgRF4O3PYTtQdcbUTR62sZtfvo5RZGeUts+tGwJYVHrodA4EReMfw49asGHG1NY88R5+u30cp8xzwNyGlGwGb0GwocWgE1gq88V2ZQ4fJ1cYdLK7O57MPubkai5smlEcS3MTjBZO6fh+lzAs88SqR3Qh4lTJD7t9BYK3AG6XM34mZJZYeKa5e8m3fUcosCbPH0qwVxI/VcmPcB2gbc8hfUWetwBulzF+JmGV2HimuRimzzOf/oer6fZzKLAdw95TdCNi9VcOAzSMwH3j5i18P2PNppD513lKm5H27PBE1514uFx+c6s+JeexpPuF38xAOBTsITMWVLxNgTj4nN4PN6b/GFXwMGCf6ImueuuuTlFNXXmXFXCIw45PYJoB9WHB5GqFdyIjn9/d3xpNbyvVBwD4vuFiRDwLOidtvJ/5qO0oZoTh+oxsBxzd7WPhqBGYCL3cdUzYNyhr2ITL+r1sOxOZu9i2e2p77GfsK/NkefEvfq6Ea8q9AYCquLG3hZdj4rgbGfWa/BGVidvMJgcZnBlX7siel530c5/KpbFOWCwEau9BYkTNuN5dSvgcjH3WouJnXjSF0y/92/T5KmS27bGXduhGwsozBbiDQIDAVeOwEnsQw73K55MtifL9SvkAx875Xxu2bDt2i4MyFLFuOGwBdX1fU6D4GtovAVFyVqsJwKpHWvldrKq58/bVY8B7vUsr4aTaykmiDDYkZwxnw8CmljGU34xqlkuWV5gpVFmxRfo+R3/X7KGUy6g7e7kbAwW0e5m0AganAM0cXHfMqNrO8pcnUllO2Funh75Zmo4wXNUZ34whMxdVM1ctH3nzhlpBxMhVXlCPOokE17O1LzwILaDJnvDChe7lcUnRZF3aTZqbiUaWU9fnzV5QsC61ovtlu1++jlNmsv9ZXrBsB64sZHAcC/43AVOCZo/+b/D9f68uLRTO4u4IjTLQ7SpmC5LG7U3HlO735ppRfYbEiARbvyPwaV+05RwGWCHx7e1OWBDJnpLzCWjJjeKZGSZoZstPPn5xtFE2mXs0t/WYbXb+PUmaz/lpfsW4ErC9mcBwI/DcCU4FXUrOTyqmJFY+5mJIlj9bf3t6W3GDiOzeFf+mqxmhsHIGpuEJt7gFlWZxtbruUU5mpuDIC5wEhnguNQcv4VLDlWih8vEWVNDOlTJGoPoUtxuY1g5Qbb3T9PkqZjXttTfW6EbCmgMFrINBDYCbwvDL2RtL5fGbn4DsBJNzytV8uKBlkTxqlTA/4g4/NxJU7fdJkGcFdmFLKTMVV1j0e+Xx+flIc+OWV0+lU7uDkrS6ckbH9/f2NGgY/1XkpMrhPVGg0UB9nveU3mp1FyfL+/u65UX4pXia7aKRPVXiUMkJx/EY3Ao5v9rDw1QjMB17+PtZdgbxMErdkyctNdhEIIB6nMq/287Plz8cVdUl+vztj5nQ6edrxa1xhWP4Y28OMDNS2jmlLGUsQQjenwJ9oT7a0LUrKYaSgS8YI/PnXZWXdz0+cyjGVrDbe6Pp9lDIb99qa6nUjYE0Bg9dAoIfACLweKmPsXgRGXN2L4D7nd/0+Spl9OvMmrbsRcBOnMWkgcAUCI/CuAGuQLkZgxNViqA5F2PX7KGUO5eN5Y7oRMD9lfDoQuB+BEXj3Yzg4tAiMuGox+QsjXb/3S5m8zTbaA4GBwEBgIDAQGAgMBDaCQFux9UuZlm6MDAQGAgOBgcBAYCAwEHgtAlecyrxW0SF9IDAQGAgMBAYCA4GBQIvAKGVaTMbIQGAgMBAYCAwEBgK7QWCUMrtx1VEV5ckHPpIBM3nYgw9LuMp23l2yfMpGnqMgAhvRJwG8VqXytmFZ+ZD4fKaFnz6tMaWeDzrzOR86Bd3asNQivi7Qjdj8JoGPw8mHebQEPNyvC8i1vugymR8sVneJpclHzHUpx+BA4AkIjFLmCSAPEXMI+Nyn3AbaPWOORXzGMzGv2imfsDeEgv2m7+Ptf7y30alaYQtQ8zRVH29aoH1/fyd4loQljy+TA0Gbj1+DSUZjPnF1pgg4n8/5nDRFPKGxxEcHC9cnoDpEPBqBUco8GuHB/xcESPf58Oz2EZa/sIiPRykTYLysudNS5uvryxLn17DMp8EKdIZftiWg3KG4mSllvr+/Pz4+PPlw+hMao5R5AshDxOoIjFJmdUgHw+sQ8Mo1c2g5lck31OdFs8f1nPP/z//8j2f1fpTa+Gle8vq4bj71GhodGHSHs8xi3Evwr68vqjFFyCePAZInctm0mIVWiUPev3BjYxP1o7QljeUZ7cnZGygqqf7v7++CzJFAdn9ViWexK6stZdjXJSiaCC9kis43BpfS4f39HUDyyfFCwVuL+QgbE65WPXDL6uHXsExMEnaZF4WThgPI+VIm66qcq1zejKj5vv0HkJkCDuIpzlgnW7slMJaEa1oBH5i4AJeHq/qMxkDgWgRGKXMtYoN+ZQRMo2w2cM9SJt/HxlbHHsbE8/mcg7SzjFBdSweqB7c9Mi+7S+EpH/M1ijnuiw+ZaPouJ/BsP0U37EVu0rtXtYBgOOPKogrRTBtpr/urzP06CLaUeyWl66xUKV+zl+NA4a6pPtBjQrosX8vHuHMTFt7KBFx4AT9ajTEXWNAHWZZZaDKlHtPhLzhlrmFZiNNGitqiWxLYNqgcycaUCH0BILivGCVu4CCenn1Cr7jsyh8FDHVYteGqFTCBgLnpi1/DVWXhTXOBAAAgAElEQVRGYyBwAwKjlLkBtDFlTQQyjZpqZ/YMLjTR4OPj4/3nz2Rd8q+KtpfIpmwb8jydTlN8uBSWLWSXyyXzeG6E2XabZLo2lm1PfWxArwlZN7DXar6KuaE6wosV7XouYiljTUBtkV01yWMSTKMi9IwE/lZ4KS5LGUsrCESbRpYgWXGeTieLOUwukLqtFoiWqJdxmF7LSkuX2SgG5kTriZaGEQ9UylmI9MLuSGKY/AUQStdIwUG1Z4xVaMHWuSVcxdwGOiii6KBuadRoDwTuRGCUMncCOKbfi4Apz3s3X19f5k0a5noabm9k9gziktNVruyd7E9cKZbt2VTrsXyKa7cfpqcVCHVLyC3Hj7SISiJpmNgaoghrGriVLoOtvYzzb1pBcVD2odJNldTcRqvqlPR5TL6+vgorulSK3P2hwCrq6Sm/VJuYFJ55vy8xKcWfaM+EZdns4Saf089fiijtYkX5lBC1qvPTLobFRs23kdPP53Nal+VXlko5RV+34aoVKsZEl3DRoXSVMhoDgXsQyF1APuNpv0IxGg9HoGRVtiXzII0pJSx0PAYvOd2J7eaaKdjp7SGHIjgGKNf38i9WsF+2pztsCZRQcG73hqwbUjFFlM2gdFGptZdxihgKArC6tpRp9+8W8ynp7nZZuqHYlNUAznkMgvwXkN/e3qw1vdeWmCxUzxIEfURbPKlZ/Zm0tkDgv9qeOvhpHmkYgflptrvBptzEsNioaBuy7Vbeaaz8vU6YD1etyInWf5fLpehQuio2GgOBexAYpcw96I25KyCQaRR2nhlwT6ScmqRItq72yzRZAUDfJlAzrw0oc4dQlhVV99NyXcsspqTcbDtlqpRpr4+dbmPKNAoyN3itKFCj4fJSplVJzmXTvfMGU7rv9PP3/v5OCYXHMa3s36hHlVYgWqJeAad0OSOhEkWTIgIoUqVsCxSDXcylsVEik3EHMxSLLHUrN3fwOA9eytSfZPKXCXIBpA1XSxkbSd+GYmGrsaMxELgHgYxn+YxTGaEYjYcj0O4ZJFwvfzmnUQ+/T5Pj3lkoOd1Zuc9xZexOz/4EJcqY691TrZZy+ydNo2drhZufX3hMGvS0SsttKfcSQUi5ZTMoXU3Or/2yV7mTQYPh3W21bEtdlRJG+LPHY2b79Z2shDBfZPRp6z501lkIcqKKoYxhUDBZoh6iPXNKZwEXmugRJQo4BPkdI2GHBhEiU0CWTxKrj59qcsZMwU3zUUCVPLWCHtfjF3cC+ScC0HfDVSugZ8lAj5tUBhNKV7tGYyBwDwIGcDIZpUyiMdqPRSAzppIoU8zjdNl6vew2sXqaTerklx2mb3masvOWBINk/Lzm9tSEQbdSZTHu+ulakTsoaqCbgqw2mA439xJLJejdeMpmULpde9UzkfRH1/nNIaa7P9GdUsldOVVlv8yPVCn5uDu+vb1JzKAVpNL1JuWCBOIGklacLSa6eEa9/E5316ElLEuQZJWjyWmm7ubTArJTaPidrTIuhgtLGcpEQkgYi+ZpLDbikSXhmlYUd2hILp/WNcXA0R0I3ICAKS7njlIm0RjtgcBA4E8gMPUol5cYnw+5uVmBUTfcDN2YuC8ERimzL38NbQcCA4EHIuCLCx4oYwHrtV5cMEqZBWAPkiMgMEqZI3hx2DAQGAisggA3sFZhdQ+TvHl6D59RytyD3pi7IwRGKbMjZw1VBwIDgYHAQGAgMBCoCIxSpiIy+gOBgcBAYCAwEBgI7AiBUcrsyFlD1YHAQGAgMBAYCAwEKgKjlKmIjP5AYCAwEBgIDAQGAjtCYJQyO3LWUHUgMBAYCAwEBgIDgYrAKGUqIqM/EBgIDAQGAgOBgcCOEBilzI6cNVQdCAwEBgIDgYHAQKAiMEqZisjoDwQGAgOBgcBAYCCwIwRGKbMjZw1VBwIDgYHAQGAgMBCoCIxSpiIy+gOBgcBAYCAwEBgI7AiBUcrsyFlD1YHAQGAgMBAYCAwEKgKjlKmIjP5AYCAwEBgIDAQGAjtCYJQyO3LWUHUgMBAYCAwEBgIDgYrAKGUqIqM/EBgIDAQGAgOBgcCOEBilzI6cNVQdCAwEBgIDgYHAQKAiMEqZisjoDwQGAgOBgcBAYCCwIwSuKGXext9AYCAwEBgIDAQGAgOB7SHQFl5vnaG3zmBL9tqRbl32WpW2L32Atn0fHVLDEXiHdOvLjRpx9XIXvESBrt87VUuX7iUazwjdhZIz+r/kowHaS2AfQkfgjRh4BAIjrh6B6vZ5dv0+SpntO241DbsRsBr3wWggMIHACLwJYMbwXQiMuLoLvt1O7vr94aXM+XwuN9pWAbBrDJzff/6KlI+Pj9PplIPv7+8q9vHxkR/R/vz8lCDFtRZBdrlcWiabGkkrimKJhlZ/fX0Vsqd1W3+1os/n8+qYT5ns+Ofn5/v7e6vM40be3t6UPiNFmiXQzfB5xEdTgffx8WGwZYP1uNDwJQqfTqfuGs+5l8vlfD7nyP1tnZKsHhRCylpibOpzbftyuby9vV2L1W2z5nV7SVwZtPO6XfWpvnt/f//8/Lxq7p3Eir6TzzOnd/3+8FLm6+vrEam/awxosiuXwiXzO7VIEpxOp7I439/fM/dR1rBxMn31TfQJoTAPWllCX19fBZMnaKiI9JeD2XiEF6b2GKBA+hRN6rZue8mOnlr9Ct266i3hNhN4TO/uc0sMXyL9+/v71929q8BC5lNkGTZJk87K8XvayfNXY+8RtKm5z4+rR6SdF/rr+ZXTKvHT9fvDS5nTz98qBiSTrjEQcCpTtuHM713//ZoLPn7+vr+/HxHNadrj2vOglVLm+/s7QXucVl3Ov4p+hBcyBlKr3JOmaJJ+3faSHT21+hW6ddVbwm0m8JjerSSWGL5E+ihlFqK0O7Lnx9Uj0s4oZa4NvK7fH17KfHx8tHvktaq39F1jIKNS+fj4yNMg83tuS4WtqdNGIfhTpzJZyhTQ7LKw6c7cZWOj8g5CnoclwpyNvb29UTVK5okuHKwm6XJAWu4Gevotz+LTHIc4OeSRW1p3Pp8pGpxujHH6iKqc5wEOSmqL0GF46QoRyqDY29tb6tYeCOenl8uFUPeOoaILbjmeXnhEe2a1Im6qlEnT0nDxL1csqbxz39/fc7fIuW9vb5efv0T++/s7nZ6RI0+corgcR8/kYDRCPxVCN8iVofpfLheMddXk6XI3JrXCCEnlyQPwJ5Ons3Jpuxa+v78NPxD+/v7OWaRoaXKD0DslCaSStp8cVwnL6ecvsTXGIEtiFf7+/tZTwKW92JKX2clBiAge4y0xVwpehjME6SZ1Fv+Pj4/0TusslWwTvqsyQ0sRqkRDPoCQabZQzne7fn94KfP29iZkhvW8oks+7RrDRKMh042lzOfn5xTQVF24ZAblXwmW6P8SmiWgqRgLiSxMu3xk4hPP0+nUXVq5GSRbGXLd7FwWKnutCQLit7c3xtMLRT2r2DyrSPrUkzXMgkz61C35p26kbPSBxoyDOPcw1U5Wbl2a5nSWjKWMC4fpbXCm5uxhWJTWFZU8ZUxLH9SeCTwklkwqIF3Dp9yXyuMmRgCNKE2gcB/jqUCGCpGJ/um7pE9Z7FX4Melb3SwlqbRcTTqXvF+CJOUWni4fJhpLpsElAQCNKzrjUFhSh1za5lgb39/fAp6zYIulqVV6tiy0NNb28+NKENqjPjMVfte/udD0RU53IgGZwQNEQMc4sOhcg0dMDCQVYLo1R4LsXpneaUuZxJkqBHFY6sWA6U62qZWRwGD5CkdS/tpOfSR+bCmTPiCszU1qcFujawysxBGgwdfVlXFTREOTwVoI6EJgcU1DL3anbGRwHrRiUV7vlqRsN9OQS6gYa2pmvKwZiVNclghlun5MNxUa14wNpbhKc4rVbZe+7CVl33KuqxpZ6klXbYWOcbvlK2UJbKY/dso22FLzTJ1cUpP4yvkojkgcEqV12zOBh6BuVHQNb9XWBanz+/u7uRsQLFmSzGyQChRM0kddQ0ro6konpkTToIPqf61cOWTFUK4K6LKrLQkAAxXm4kMXSxOrLGXUpwQ/4zmrbMA6qyBZyORvo+sOP3Wxl/VyT1wlPgUcu/hdb2Y8WG6KSdY0Wcq4i0FpLE3ln7Q6s0cGgDTirJT0TsGteGEGvYKz4mgICF3hKmRLul2/P7aUadUSu/ajq0a6xsAhRXiB7uqaQZCljlML7qlbRnOOb7+9EDSWTe4ELiRstFugKN0CSB7OJXNroMRcf8GEBUyxxZ7UymLEgoyJdr2OKWQQkGKyIEjltbfsGdlNmkxJ8DFTFDK7JSylp3ZJuLqbR2peoLOb+AvLfPZJEO5pzwRewSelFEvpzrjPuYkegwVeYE/Xt1MYESiCUwzLJa9kNkoFrG4ZMwym777/3YiRz5TcZFh4FmPtqrzM3dLkVpaVcyHABYlVLszCBCkGWM7KFO1iKaLzBrecS+PJcVUyVQHHrosabe1KUKzIcZEpwS84JVpKF84S0/VWY/qdlKK49M73vyDEd9LArShm15tHpVwrxrZLrxAs6Xb9/uxSplwZLNG7S9M1BsqEHg9x3UP2MbBatnrFRtIYHzby0120F4JGZsw0V0CzW6AoXTEhh4I/Hsm9uSQIZrkBmysdb0sZ5KpwuXDhuoRl/PX1BbG6ZaObF8qeVGjsigkMMwgzNRQyu5nOkn7dUqbAnrY/tD0TeMgtmZTBsgzpzrhPE1puwgvgng172J5TaCudKVlnG5Ofn58Q56eqoXMdoWHMlO5Vcmd4aiw0dj38KHOzW5awc6EBk8SKcTUv25jFU7kHUVYH3SL6JaVMQtFtp5IFHLvF73YlKJxzXGQMP4iVOxU8yVNiBmf2XMUVn2ZXGrgVxUoX0XzfMVUyi7ZLr5At6XbzyWNLGb2ofkuWk8Qzja4x0Bfo0cEvK3gRUJhniGRsSWbWK4EiwfYby0EDJRMTJmugtUKBonShLzEATbunWogwy1PNslS8w5qyrHuY65cMVNjx0+mUq7QQZAzkR2lCobGbNG0WVlsaMhdJT6H5CDKuigoCpQu9arSiBceG0p/WmAk8dOg6pVhKt0vZGlLyjDfdSnLw1DbZluWPj9pixRtDRU+VKSHheDorD1SulSvDZFJuWGR3SQAYqDAvKs27AAxboPBFIly8YHcqCaSl2X5+XCU+BgAqGWPF73aL3zUkQRYKG5BNMenyTCUzAJRoI6Uk+Jl/kmbhlRXTlUKj8HHpFbIl3a7fH1vKYLmHsVYDS9Sdp+kaw5QCGck9SxkWlVp51e5ZKGr73bdCUAJlXs9NfXoVaJjJfRkQs/7ghKM9TekiUwY9HSnIZP3B5oGD0pvQtKcymQtY81ha4s27vCmLog2e3bzg9QQKFxq75hrIsDoR6x5KiSQh510wLmfXLWWKSlM7dPHLKt2ZwIN/7nNKLCWC3Sn3OdFjRbZVXIOLczsHAer1VECfGuFcSkKvFKvtgqQ5uoSEE5N/ViE5jrPm5cowmbRbl6tjSQBAYzniXGSVUqakBfERGQHkaZZulrmo89oyFyzcMkunverTDuZIutVxA0kmrNMlcZX44F+wYpwYK37PrinIEC3+EhlmkQGwguSQQVL8roGp5Pe/u0XmluSsOLwg2tyTQnrSTJUySHQDTT+q1dTSk2B5o5tPHl7KYDwp26v85UpPUXaNgbhAry/1E2R5B5EQLLKIbDRPcSVQyqwtd9OKomcLmgUc65wFYCECqwJF6SoikTyfz5nppFFc+TE2PJF7Op1Ml6w9U4Nuen9/ZwrrKr3sYk5ZbY1rwk3dNHwqlWTCYmLRXG5dJPlUK3J3nMq8MjTC0TxTRjmkSZVmgiE5r9L+VdZVW86U+4qqYMgvKN2SEQTOHx8f+ILdiFAhS3hnhGJCF2QkZz5RVjlaN2xSt6kQMqSZhaq5yzKecmWrXefzWWP5NLu/BgAEC0sZKxUUSy874mpKF5dsk10R5pAj16zG2kiJDmYjhTquNxnJrtIzLThRexMfLGXR/VrK5G6o8jrlcrkkFJkoxGEmeNSzODHzA9qqP3Gb1TwEiF5eyni9x/TuRm+IskZy6an5wobQJf0zSpmUt1a7a8xazI/KZ4C2F8+2yWgvmnf1HIHXhWUMziOQ+3qXcsRVF5bDD3b9PkqZw/v9/w3sRsD/fzxar0OgXKN43/11Gq0peQTemmgel5eHrF7le37QNXrEVReWww92/T5KmcP7/f8N7EbA/388Wi9FIA+3u3c8X6rdXcJH4N0F35+Z7K2Wch9kCoARV1PIHHu86/dRyhzb6f9lXTcC/otidAYCD0BgBN4DQB0s//MSgIHCH0Sg6/dOKHTptobXLpQcoG0NgaHPSxAYq/UlsB9e6Iirw7u4a2DX76OU6WJ1zMFuBBzT1GHVlhAYgbclbxxHlxFXx/HlNZZ0/T5KmUkIL5cLv0Y7zM9JuhGA/e8/fwWL8rPe8mPR7vc58lepKa7cBedeuE9+VC7ffrX7iIbPeplh/gjX+7PwGbnXfqQtv/7W41rO69JnJMxzzl/GTlFq9RTBPePdn++2DJfrsJBhipB5/o46CUYbBJbH1eMQW+hffXqDJguz4j0iulqZBrufTg1m0Mph3T206/dRyvQ9sjBA+5O3OtqNAJTNdwuofpYyxGI+04KvqfpYJAqdrG8oa/gNwrqhrIbXNpYkhUe4/hHmZ8q4Focn088EXtHk11JmiQcLz9W7D9Uhme/IxauDvITh8rhawu02miXpojwM5lpBGRJTc1e/mFli15QyjCeHdRNg1++jlOm7I93Qp9jhaDcCsINTGZ9nxWCWMt2lkku0m3b9UfG6oXwz9kuSwiNc/wjzu4DfjMxDJ84EXpE7SpkM0R25uPjxOd3lcfU4fZaki8yTN2iSITE1vZufp4iXjC+xa55Pclg3AXb9fsxSxsP8vIVBQHBrozw80dsi7XMPPz8/0w2kWu+PeKZXIim7Ms80XYI7u6l8nnnMx82ST7sRwEQU9pnrDFrKzKwljbJRNLnqVEZBLIN02eVy8efKHg7xepfWHWqehiQ3gJUhHHzpnUGSrvcNGBIndD4f1tASh5TLA4vzaZi6HrIklkM+JJS5qTnnYcpNDmUwP0rmj27PBF7etWSluKZ0q4/QTf3xYC6WrhRebuUaTORbVL//PeVd5hQTaELUtTqkni2SmdBZZQtDxef2amMeeRKZqVgr+vAjXY9rtbgt2QXIGOAJzrqVYADw9D6C0r/lOdRMNPZUI5m4QlWbRvoXDoznXFOuEYXmqKT+ZsvkOR9LySE1LMaau9CNbMySKRwQ3UJRrF7Y7fr9gKWMJwE+Z8kG2yoo4yHA1Vs+Uz99hhuYS3xkVDGetUtuLRmF8CFTlyCwm9dhRO1C7y4h60YAE9U/n1JlQVBenJayeO1qQpSf2v6VAEpNBn83HrIS0KVrWMOMJ7xqDlu78m9fX+KLKpN/qp1xhVt1vUkKelKYtpfnnetrCOyim3knxaVTjBAbGW8waeN8hnnq+aD2fOClyZmdXZXp2fRgIkBdIisNgT4DyXaiahGf3ifq8CbjRFrq4MJhG8sdAh2SIeGKd6ZCJZlTsIqDCpe5GSoa/hcaM3GVmAgpjXZ15C6Av+Ts8gRzx3HN93/XvvnuoQwYmZSdiJXbBm36N/VhHP0tm3B0xqGLSHHlHViZMVIWV2tZD7WpzFzqpV3Gc66CjHykuPQSqBsCVS/k3KOVMsCnszG1vNtCB+c7vaB0z27dAE+zCfTekclIykDJqMrtM4M7x0t2Tlfd3+5GAGzVn9VOBBu1M1pBU9ZYqyoEXijQaNeJSSfxT3zUlk3F0pNx9VRzxu3KnxyUejo3RWuXDafIs+hQ3skMfU6fcn3mWUKUlV9emq3mKpzxph+Rq71TzDXnoY2pwAMWRYO8BavjlCltGVGWuR7JicVwnVu8oAgJMq3DkKo9s0cin0KznQyXhIouY1cw+9Nl21MTBCGioJE6HLU9FVddQOZ3gcQ5F5EhSiNTFrld/7ZC3U0y2Ep+kH/66PTz54jXw8XFGSrqXGiKeqk//KdiyYmqQSNt4U1VLEyNNS8lh4Je1+oiaKbb9fvRSpn0bmJRSgqgvFwu6ZjcMls3ECKFj10jCaF0kwnjqjcvl52eEEkr7mx3IyAVpu0VqnuD0dkqwErA0rKKkljAc7Bti0+BrsAl2jZg5a6v5ozblb+iGQFw0lmKVu12opgUHUoXQfLJGOMjTSsi7CpInWnkuEINyCJXboyXbuG8encq8LRdiUX/vEfA4USrOYkeD7aHIi19HoMr16IkvW/YQGY3edJGejf+k6FugmHpMpjM08V5vesNBeTyb7tLpXWHbE/FVWKYhpfoclWWOEy/SGNDhpn6zj9/6Q7apJTk39J4pivnVKCUzt//zoHkQ9SVKcSzNGwl3pUudZtkNtpTHHUjni+Xy9fXFy9kpbxWAYM2I7+gV7oyX9jo+n2UMp/pV2Nuyg1lMdjVkTiDbjJh3DWmIMZL17M7T30W+nierBsBTEn9UZsqmzBV7Za/CNhIGkPWRn7athVUoCv4qK0NWF1VyiDLPOKZZ4pWbRVTZ1ds0aF0oZfPKGUEsIXCoxHj39LE09B0hEUMPPOeglKSnsF1SxkFuQ04QiPDqcRG6UKfChtjfGS3XNkXiX+nO5XQEsNEo+QoV+VUeslbwxLLsFvK+Gk2kv+SlF4CQ3OIJa1gvC1lqHRJ3UzJq2IM8ftnU7GUcZu2UCR9fX2dTqevry/I/DcL7uRQ0Cvdwv/XbtfvRytlpjCaCo4MssytU24wjIDbbjmmM/NKAL3i3HQZdx8tXixsy6fXdrsRAJMuPvmm+0LALM3JCE6ttGvKL0mc1x+Jf/qlaFtO7M31p58/mUtmUvAqXBrPolK0attI+nI5wkddoHL6lOtTt4QiQVZ6AVyhNqCUp40yngwf154KPGBRLsh/fX0lXN//LkPbU5myuPy2kwyF0fMSnduiCjcJKKdwMQy7pzIpi1KsnI4kw+Kd0oVVesp45iO7alKk/7XufFzpdGEpgAt1CYYkMxRppHNLwKSjlUgj+SfzQmb39PNn1xtMBgAfMV5KGY2CBrWzlMnxNsgVOmPO6efv/f1d0eb5zEvJQRhTeusgpc83un4/WimDb7yYM/5wMIEIxGTGDLLcMqfcULKn3fQlESZ/r/szqlTMTM3hUF5ZokMbhfNunvm0GwHQtwuMs31TOcrYJWTLFYaVPjw5zwTzEspTSroOE//0S9GW648UQdvF72aG5vIvaxh6XJCiU21rHfTRrQW60kXh5DPl+tRNtZluZazoTBlZlk3F+QzzKV+sOD4feK5Wv9ydLvCovC1lEmqCTVYqj+GO5/rKSl3npuhSMdhNMNM1jJcEnQxT4fSa2ha/l63LLiFkZsgtLVkdvj0TV+loVxwO+nUXSDe5cml4hG/CT//6XWCQt7bOXSZ1MIsWT6V/4Y+lyQeaNgupMDw5LPTyANuRiy0py/TibzmlTw2ZIhS532VeSmSKVqWbzJe0u34/YCnDLuV5r84ghhgnLbZ7ZMaKe3nibu1ioJhQvIENkxShMhIbNG9vb6wcI0M+RdYSH8/TdCOAKbl6GSEQs3YpwLo9pFBvx2KyHyWGDrYNfGR5p+/SL7kHcNwivNKnqmwAGgKxR6N0uelrXui6PnlKmcpgTotkHlNDw+Ivrtd2aEpXG3UikKJJCu3GeeGW3dXDrHWrOrcfWalQE6iMEDGSO5MeFAGKEqYUEVhqWJagFVVXX+Zfaxd4Zlcd3GkYKXVMieR0Uxs5ai5zaxc+ym7aPg+vbI/XmDecVQyYZobu6phKL7lyAdxA6gaMpQlCzTkGCWqkDvIp3kn/ZmDn7gBb9hRo4KaSXGqWM2l0S7kpKyE1DRbdOH3UOqaLcEapHKBxdZRuy39+JJWU8piljOaNRiLQjYAk2F277A270/+PKPzCwMui7Y+g/XfMfGZc3bn7/h2nPMHSrt9HKfME5LciohsBW1HuJj1GKXMTbM+e9MLAG6XMs539RHnPjKtRyjzRsb+I6vp9lDK/oHakj7sRsGsDRymzC/e9MPBGKbOLCLlNyWfG1ShlbvPRI2Z1/T5KmUdAvVGe3QjYqK5DrQMhMALvQM7ckCkjrjbkjCeq0vX7KGWe6IFXi+pGwKuVGvKPj8AIvOP7+BUWjrh6Beqvl9n1+yhlXu+Yp2nQjYCnSR+C/iwCI/D+rOsfaviIq4fCu1nmXb8fsJTx95yP80T+pnpKijTb+T5HNwJSf380mIMvb4tk/szvTq0W3vlW9BJxN6gn/ycE7RITHkTza+DNy81fQc9T5qfbWXep1T3t23C4R+LG587HlYvr0ZFw2/exbpu1cY88R72u3w9YyjwazSW7zjaTTjcCEi5eVrDEwJz10HYu+BtqhSndlpQyK4rrqpEZdlOYd7W9Z/DXwLuH+d+Zu82s8kL8Z+IqscqF9kJth+i1EOj6fZQyV8O7ZNfJhXS1gIdN6EZASmPNP3oLT4m/tkcp8ytE2yf4NfC2b8IWNNxmVnkhMjNxlViNUuaFPnqE6K7fD1jKWGrwAiMfj/j5+cm1OI87BGJfmsigDwPNHTSfJg6ZjzxPhj7C3KdM8kTFXEiwhUk+DhgaxvM5jOvGQTcCFOFBhQ0/ysdHemybtoubz8fEFp8IWR6V66MhE5AkRnR+ej6fqbGEN4V6a6y8PEETvv+9ykfwfWJvztWzaTJMDCSe0pucaVsCgkwq72MunSU3rPBZt6gnyOX5oeImn100ZgKP1YrVPJzU5/zq37ItSSyq6Syhc93hF2lk67o2JFh68+7TcWlU+jrDWFWTuLhMmlz4apvvBhGH8nRau7zeSwDNP4gAGR8Rq9ydBhXPnC1g0jVFiICYmKWhzHEjJ3l2N4gCHd5nVjcSMsPoZWfNe8R4Q1WUJLbzI3VOBdxi8pna5r184nyBRW7bbOcKVZoAACAASURBVHRX08FLGRMBDjaLZVLIzc+3ZhhnGaC0LZUIQRMBoUZ6lX8+nhyeEDCXUGOiYedzplcPo24EKMWdGJ3NyCZKy5T2DR1uG2wDYuLz5pO52ELshiSwquRmwwj5XaBcfuYCycwXsio0JCNEp1x0Q//UOR2avpN/vnwEuww2X9eSxBkYJGVTTMZJzi0mFG5b7s4EHo5A+da/JG7Bt5GvHOnGZ8ILWzcqwyZxxmWEzYz7cm06fSqMXRQZG8VNKpM06fQMSM1PkxMKiF25GeR89P2voHeBkHyKVnvpzsSVWBEJbgQ4iwVebE9fiEAmZxagQvWC2E5FQmYYFXMWbLseyXijPrOUMV2kRfA0ozpdoW20YCk6mLc1f5sNXZDqHbyUcVUXV1FrW5aKiLFonPFRdo1LIwYa53ICoWgzmo3Cs6wodVOrtRrdCJC5dhVYXLFSmhDb0C+v8gb2y+WSZYF8EjEHSyORzxRP6gfk089fTjRzOVhQdc0XJ2acpM6FrLgSKdJncrH+UxMbyaSkUfQXPacUKxzfeGMm8DLq0tcsIspWE7GNtLcbn6WUcZ/IsCmxanRNua+80lwNp8I4/ZsK224ZthcJWeJofjHZbgugWchYomFh57ha7agxE1diRSSIA13ML1midUdu/MCSPsXvebk1FQkZ5MKrs6Y8In+mJJk1ilpZ4ujZzDyJRquAI3tpdP3+d0sZsptZQC8S38YZ49lt49LzRtdGho7RXyYa90WH0lWx+xvdCGgNtFJxVWigJyJkWMZzn/DM0ym5KzMo27zr5BlGMTORt1aAxq7nySk0pZTi0kWeBUpqzlz5q1Ie+2dyLProWcZLV24GBqcyqTChwsQ0aureljy32ZgJvFwU6et0maspAckyWogyPoW3+NFuis5Nq/jLLpccyqJBGBiBGcaYA1lGmj5SE0e6kWlCEAdHmGh3CsDvf4cx5/OZHVH0Sjc12X57Jq7EKotaLCIwMLx4s2UotjmXtoGRsHcjISNHVJ1VXGC3iM4sYWwXrVpzOLyZWjgmvTabqecGG62b/gNOq2iXriV77ciMkmaojGbjA7WNEhuac1UpQ+iQQAkXckSKNuxUDFmuhKJD6arY/Y0Z0FyBuRgyL2ftkpuuiwTi9/f3/LTVWUEmUy9r/J5KznLB5+UpBO4E5fI6p9tOj5QNg/XMYiZO2lKGIsairVwVFX30LOOlq0oGRiYpPiVUmCj9fhszgZeLIn3dLWVEwBScJYKFJu4TXuOE6XZT9MJSpqwI9aGB/m0Yu6YKvZrkeBstJgRj2BEm2p0C8HuUMp+fgkxgsNIzfiTIhtgyaFBlDimwTyU0JHo14qyyN9ktojNLpBpZq3ktnSZku7twrLTySiBnba3dzSejlPlMXMwjZRfJe0BmwBJqhOZMKVPiz1AufEp3xTBKS5OtiycHMbld6qefv6R0Vef2UwhKt1t8dA94RWmmlOluCUViuTUD28vlkvw1pJQyLT7tdpXqGUXoULoqlvFgUPEp3Vauc/fVmAq8zM5uAJrmzm3Dj2h06+bTz1/m9xIedksQlhtMRr7uK6FSlLHbDWMszfI9iyfnZs3hYCpMwV1EqHnRMHEzlmzAv3QVuovGTFyl7bnQMjDKouuaXLJxsvo1MIqbEvDMPMUFduGvVoyXMp1P1cqGs7qN7sIpGbI7cSODXb+PUuY/pYzHa15tZ9yQhoTPBZCJA3qL4u5Cgp50Bj1VcFktpbti9GhC4WkqzHE1LJ/yrQ6WmalZGsZZbyRrTjj9/q/J+uvnzy+vUQa1V70JsjkdPe2qKuOJsxYVGi6UL5eL+QhKxkspU3ZcDpaMGUWoT+FZutJn3jGoVEMd0mt+LV0mu2ikCUXhNDx9nWWxq8nladHJ79o8LcNTLCvh1S+Itos4ShZ8BJ/ir+wm/kZU8skwzu8/FRpBSBqvlzhegoaJ5QIJlTKToDnEMhe373Eq05zKZHYCsY+PjwwkBks2NqiMwCxKipdJesRJSYlZuENgLs1uBjxpBz6pRhZnGS2eo0NgvjJ4jDcsTVmG0DYb3XwySplP0hN7mP421NzbhI9Ew6br7RK2ZBMTIcWUDDvHpWwvzsriWTGYNKHwTGXyI9d2mukhZNqSKYClAm4p0bPN3L1YThC3dQzK6AI3Icazy/pXqJfUaU7S5JmTNyaoRF3SGmK2gv/n56elW/JXHyaqQ+k6BR2ALjEplVOql/Epn+03MgyKtmk4ESWBO7ENLypwhNm/G5+uO/0C5+xmDHtVWvxVusvDOOMtS3YNpGHQJkrp9DTTAHDhYOYoZQqqejZ3emgMDKsZXNDNPyUb51wDI+NWv+QPY6HU0ajhrKxdvqPoVFsmwplgSDWKgRrunSz4KN3rbWsdPjK0oN/yv7lS1POApYy2LWmUSF0yZb803QjYrzlD870gsIvAyxJnL8D+cT13EVdr+ahUPGux3SOfrt9HKfOfU5k9uvMGnbsRcAOfMWUgcBUC2wy87k3Pq+waxK9FYJtxtRYmnOV4Jtc9CV5L1r74dP0+SplRyuwrjIe2+0Ogm3q2YEaeuvtthi0oNnRYgsBm42qJ8kto8nbV37nk/hWZrt//einzK2pHIuhGwJEMHLZsE4EReNv0y961GnG1dw/epn/X76OUuQ3MXc7qRsAuLRlK7wqBEXi7ctdulB1xtRtXrapo1++jlFkV420z60bAcpXzhyTLZ5Uv2y+fuFnK23BY3Rx+StMeO3ujZDtfaZ8JvPwF0+oQwVBAFvJfUaVrRU9p6K9dpgj+5vhMXF0FyHZWyozat33t97ZZM2rw0ULE1or/ok/X76OUKSgduduNgCMb/BjbtlDKTO1tOb4w3TwGpP/i+sLAu6EuuWHKf1n7r5O++Dc2/l8TgbXiajsrZU10HslrCWJrraPWjq7fRynTAnXYkW4EHNbahxk2SplroX1h4N2QT2+Y0gVklDJdWFYcXCuulmzMK6p9AFZLEFtrHbVwdf0+SpkWqMOOdCMAawk7f9BxPp/98rxPjsotPB8U5rPg8rleHi16g4nndkgj2/I0QhcJv0VkP0AxBfFUKLXVYUmcT3ySch4ByPKWjdrmc6XEQVVRwC4PLBdAGIoYyHDwmwr7q0vNodHqIOfybMPCDX2cnnYhHXvTEUX0Wt152AGE1wiI0ufnZz5YDE14ip0WqTmGq61d/W4wyL+o5DjYGr3yzMbp5w/mPrBbWczt+kImJVR4xJ8I6F9dpkXzYbPECmnKI9TUbUeN4sSieT440dSRfvFpn7qDkJPYbgv75XIxDjO6YJWx4VPvGNSnqW2b63hsdPJBB7JELg1XQcmKWJGzSMUGgObns/J4QoEWpZIFOg0xXNEWDWn7JP1UuGStFLGw3fX7KGUWoncEsm4EYBiRR5slaqBbXLuF28hHFZsO8pHe+SRK2LpJGNCsEBYeEc8ioe1Czccq+EBey6DuKwiQZS2Vr0kq7lSZpEmJKMkq1fw0OaGA2HQAthjIR2a3kg6KVigjTeognzIlx0kxqiFo5mXdrYjCba3ufODhJjYeEMYKXZ+A50NUfY1AWm1IoLzRSyiKBlNwisi4fxilXQSIZFT1ibFSGkup1XyouNZwmV0VkxW+01/QI1riGStE0ghUlvrvqDETV/nQINFLp4Mk5usdcg5RkXmswE6sEiR8RDBQJWQqYzyDMF0g1CXXwYe5qqQgG/odK5KzFiXxlHqZ6ErSUMOEDpUIQrGF0gfE5yPLUwfXiyArYnmj6/dRyiwHcPeU3QjAqlxsbXSWpZJrRlBcPI7QsJLIBcMmzb4y/1Y/NwzWDxuVqRwRcHDNTylQxu22b327/PzlSUyWOJpfTLbbAugOyqqWv1um42rlZiMCqUMR4awcz32ODEJxcPr5cwpJJ6XkR6u0lwSeqLaG+0qBYpEeT6unSpnWyxk2mokj9Ivj2SiRXOJEQamVsQEfu9CY1ouBGi6rop5h4+qAfyFTeQUx4tqUYF+NqbgSljTncrkUe0VVdxhRTLQLQ9eI9JD5dsasJimdCaTMrqmSbQUxcjqdrONdnupgw+k0cgX5URLPqKdppeKXz1SWLhGVyGh1oSnGKmJ5o+v3UcosB3D3lN0IwCrDruwEXOFZc9AgFvM4USYM5qWe6aOsT7spOs82SsTbJd0jyH/VkJFMBCQsxsuiQm01SQcrzkFXqSnDEWjsmiIZl/47XrCSKSbHFZcXhQ5OiZAgRUvMp3bz4F0A5zdv+d/WWBJ4XZSK5pqgGpQRaXUJYKNrKmy6POfRyIDBj8Joo6hRpNgtmjteDJdsKmzKxLwmFisb3hnx/N+P9tWYiivhKuYYDIy7xkXPkUJQYJceMlOcjTKescdH5d8iNwNMV6YOejAv6mBCBFqa5KyuekV0JvxUskBXEEjROqVMwRAXiBqmlIVtRST9KGUSjYO3uxGAzRl2JRG4x9gQJm+7ZongMmM/cP2U9Wk3RS8sZbJSURkb6N+maVeRlDTUJMfbFe7qFQdHmGh3CsDvzZQyWWum1Q9qLwk8UU2UCrAirJ5XlTLdsOnyvLaUyfhXtwyDIsVu0mTwF8Mly50pgZKh0suyYpy16f5XLtOdu5fGVFwJVzGkYOIaFz1HmGi3wC49ZKY4G2WcLky6X1FSEJQlI6F20cFLnbzlqlxynae/1A1d9Yroa0sZpnswmceKiTb6kHaYMkoZnPU9FcT/9/H4r4fADGgZdiURuMfYKLw9X83x089f+a5M7iUu16mjy7LG7Bb1Umi2PefPQU9rc7AkJj5qE0cqzCFQEeF9h6Jh4iZbG1PicqNSW3UoIiTI8WKXXZk469GNJYHXRQnF1DwTpancr0lpRZIZ2ImMlDJxBL8sL2W8aJaDjZS4MFS0FCZ2ZTUVNqwORXetKHPRnEh24r4aU3FlrijmlL1cVMUZiCxMISgFQVtxytYGckuXwSKCwaJwWaFTpUzOpZ3/kpbT6UUfuxYiTO8WuFNZOpctd8B1iktPeOEPqqOU+T9niVc6b7TnEZgBzbArB+NZpBu1GesswvP57EaODn750QVT1qdd84X7CleNZXln1+97fv875/j8/Ew+qE3lpCaaZqoSrqRxI+QSFppcfuKg7aqB5hDLXHrJzudzppgcdxaNKR2KCGfleMkgdhHtwUyaJp91G0sCr4sSaqg5rnH3NQ6xyPqDS0DmZmB3w4Zq2yI7v9E5BcLpv7/KgFYGld98TF8sDBUtLYbLaiZsRIPgT8M1JAexVDCl2VFjJq7ya7+Cn6GeqyBhz1Tg92QL7EmfV2vmOjCkW4LT9JI4Z3LLr8RBg9fUQXP41MSbASCNs1LPVA9xHtSVJaaSCR3MmZJrARqdYrAZvSa6UjwpZWFDEUk/bjAlGgdvdyMAmw0793uxcI+xMXXXM7+E4U7p8s6gL8vVNUAeYV8py7t0vbeVmrMO2cncnFjMDL69vbnlaKAISONH3izLtZc4KBEzVy9lvNBBNy9lMjuobRry9fVVEm52F2JSON/cXRJ4iWrm37wIxgTDLLfhDKEEBw8aDN2wIcuDMA6lKioRq/ntuGFQTvvhCTdpZkIlfZSGa1FBpnS1DllGi5onSp+fn+6CEuyrMRNX1nPdhaOvsTdhJ8/oODJGwTnps0Qw18HWbvLs6lySWwmwUsqYolHSKqSbllNz9SnqZZKhBDR7ZzyU4FEuanDjDEMIvFx6rlnwzHoxRSxsdzEcpcxC9I5A1o2ArRlWlvHW1Bv63IDAWoFXtpAbNLl2SlZL1859IX1uYC9U49Gi14qrR+u5L/6l4tmg8l2/j1Jmg556lErdCHiUsMV88yiYFOydgsU8BuGmEVgr8J5cyvAYtE0j+0+5vBoutwz+kRzw/7Xi6oDQXGNSnpFw9DJ1dH0N1wfSdv0+SpkHIr411t0I2IKSHlHm3aItKDZ0WAWBtQLvyaUMTxxeBYEnMPEGVvc3Mk9Q4Pki1oqr52u+KYnl/tfG6xjuo7UAjlKmxeSwI2PlH9a12zZsBN62/bNX7UZc7dVz9+nd9fsoZe4DdVezuxGwKwuGsrtEYATeLt22eaVHXG3eRQ9RsOv3Uco8BOttMu1GwDZVHVodCYEReEfy5nZsGXG1HV88U5Ou30cp80wXvFhWNwK6Oi35zsojvpzb5bn6N+qf/PsOf0nbhXqVwS5uM5yfoFJKXx54OWvd9kKnX4tkKrkQ1XtEpDjbPCTQ7iMaU2tQW578NSZsXDGuFv5wUnuXgMxv43maET+FE6Xy6+sl3PJpBUvohUidbSw0drmUJ1N2/T5KmSd74ZXiuhHQVejXUmZh1u4ynxqcWqtTaXSKz6/jC3e1X/lshOAGX9ww5R5jlwfePVLm5y5xujvNPKupT5egutNg7qqd9t4J3RSk8+NPjqtfs2Jqm+A4LkpPK2Va0eWZXhLsqNH1+yhlduTBe1XtRkCX6a+LtrtQu6yWD45SZjlWSXmDL26YkhKvbS8PvGs5L6cfpcxyrFrKUcrwwxkPNlqIykh3iY1SpqB0W7ebT0YpcxuYu5zVjQAtKY8KddHmL6V5aiqrlHEe7JgPc0wp8iyP2c1xFJCDD5FMxfKHpvkkSmehTE5R7fa3hexqyTNpuk/45dGr8hQcjmqd4lNl1cRHc37/e8dCoseTS2Dr09h4eUorq5R6dJMbvsifVsrTl0LAFttTyYe2MyRaQelEHZF26fHPz0+sxgrQFqg0P6cjsZQyusznOLfxkEzUoeifaCeqOdcLA8MezVFJ/XVW8syIynGIk8OUhiicc/M5IuimDgZ2Pi2XhwIX/mng+XxmkxbVXMWpZJpTkLyhOxNXxS5iAxEqqevzoAK70jpmCRHIJ5MEDeKMJYM2H9+MO4z25NZVlYdvGSFIQUna+EsCMOdfHvyt/uQcGDK4rlPU53GNrt9HKfM4wDfHuRsBaJnv72BrYX3m1RjLj/FcReXOq6+kzq3XyxGe8+2Sgw9LOukTOzaA3KhoXytXnuZWRsg76JCPcjcRWMfIwc2AHGQuc1zKtpQxyyfOyMIu7IVnYl7wsZu+gN5s6OMHc7yYn6o+qD0TeGqYQGVUoC37KJ6iXawwwLBUiTjIOtLI0QvwAW2ZqIybTS4QUZpClXHnqkM+5L5c5WNy+3IuF2DKYt/KekiPq1s2sFGaDHg2M4gT9vQL+pdSRoiYC0/XtXAlvKs/u08vp7G0sQuTxbYoUMbBk0ENSRwsSTNOiq/VBD50XapOzFlTOSfHC7xKUSXCyaimfsoYUzQgZKbKtpy33Oj6fZQyW3bZyrp1I8DrdYVl9jEd86krJxdqoXHd2pAz6c/1xrjvXO3Sl9KHLhvPVXJTh5LZ3WAYT7aZEdwJ0opMN+QIk6ASxarIzeSSdrkNwMGKreBjV/7scLnlaNHp50+VyIx2H92YCjzVSwUul4v7N+Ma2CKmsewNBnM6i6AV/FaoXk7+5X3v8k9VTz9/johqhlDZ8jWt0BT1Un/4u0zoaoUTVaNtFFm5j5ZtjIMKmcuqkDGuX9paX0hPP3/yYXNtrUuC5e2puEKKseGJRYuVi8sGRolYvtLc7JdxMqVtguNSdaIuaKEWujw0atMgcuV8Pp95jymaGy1dnZdkrSm7tjDe9fsoZbbgmifp0I2APPZUDxcAI3kLgASRCxUa8nieWLJc8/LIlMeg/7L9uyxVg4bZv9tdKDd5tunj9POXCqvb+/s79I7YoHbJ41kTYooTq5JJzWsQa6YNxk2mBR+78iffqZ6N8/nc8pwKhtR8rfaUrNQ8ZZXwM+9PIWYFw295yt1M0rrgT3m5LATRy4Y7HNrOo1rChrllSnEZNTqnIOWhvd6cSn3aU5yEsW2XuXnVDjHIt35p1S4lWnGN3UwdSsfMVr1rR6biqrWL+sBAUpB6unKL7dnNsNSWLJhkW8BxqSpOTaaiUQJ5ysSRck3F+0G/vr4M9cRB0QuzVkrZWrvr91HKbM1ND9SnGwElgyPeRUsmcrf24ixXuMUEc/NIlhGz8OVy8ZqjtbO7Vsn1mS/MqlfJTXEs9dyWTj9/pI+kpN3SS2MGZKR0GRSrTDEt7Nplw+mcYxV87MofrLr7RMtzKhg0bcXGlKzUPMUZfgya1jMdl8CQxoYMu6WMn2Yj+Zdr4iSzPYUqjtYKzGxLGdYFdTxT0ncY4qu2yymROpSgcrw02HpZR3DmaEQloafb+qVYCnGSJXQZ2x4PFH1W6U7FVW7hCFq9lIGtRWc6jo8SHJeqKBmlNFo0JPAjmTjy/e/rdxxkXi6Xr6+vj48PL34SB0WPUiYBfH17Johfr9xWNZgCrSwns2pZToy3pzIlG/IchRYDcnGu8ELTXatlx8ruVXJTVpv9ydTtuLOKLMdL7VK6kGly4Z/JJe2ausF0+vlTtGTy9yBdGhs/U092qQLtProxH3hZU6JJ2Tg1cAqx9lQmb2HgO8G30Vqd/IsOLXF7P1FUSxgwXkoZjYIza63dEV2bU6tjxhx1Trs8MJgpZeCZfvEaRp7yYaSIsFugyOn3t6fiii08r39Ar8VK9WwUv2R3JgnM3FbOVSksptZWJWEpxbTrXQIaBCpXO3A7/fzxqTorepQyILOVf2eCeCsqbk+PGdCy/vDrqGWZcRHZljKZ9LlM4RQn1x5Ll+yZshABz6lknfzLlm+2WiJXhyDUr+y4A7HIEyVVzd2I3MR0MyDMS5dBs2HBM5NLscsslrilnvAkgcrfHd0dUbXhwzhqpJki86DGjKw8w9NYLCJaMkKmENNwbzDpXL8WkOATLRqbXnZi6tAGBnOnUE09ofGel8HMuOUCpyZfX1+CgAj1T1kce8Az7dKi0sgI0fszpUxGuLa71mSebNPkPJVJ91n9IFo+Nzdm4go8gRc9aafr08Wu3DRKhdHQskCnOD4PjplNlNL7qRJ5gPyZ4yzktmAyEvyI7C3C6qzoUcrcHG8PmTgTxA+Rdwim86B5G4hlw7ZH2zybG4+DLEu6p9OJKQDGIP+6uliufuS+SxJplTT7w9PuDXLhYHpVh3QvGYSPTBCmDMa942YGhEPpMmhyLLtOJpdSyqQOiZvfPECQ6qEVSCYsCWaOp4/S9ge1U41WhEZZwLmFYJf7xBRibSkjgJYmBXwJ/MHd97/jetUwIMvXVtKEKVRdTRQcuaPILXXg+0w4dEpuykpIAZC5CkolKU0AU31AtdBnV7+wc+uF5GzgFddkF+RTenK4p50gFD64tSu0wM5EV66rlfHsMpG1Lzjd8yoDGCbzpYzFItq6qHOcxJsfaS9RYRYtS1uH6oXz+ayxxXZ5brzR9fv4rszGvbamet0IWFPA4LUGAtZqazDbBI9nBh6Z3dOOTdj/RCXO57O72hPFvkbUTFy5hb9GsyH1kQh0/T5KmUdCvjHe3QjYmI5Dne9RytwTBH+8lPn8/MxjvHuQ3P7cmYQ2Spntu+9mDbt+H6XMzXjub2I3AvZnxtE1HqXMPR7+46WMtz7vwXAvc2cS2ihl9uLEG/Ts+n2UMjcgudcp3QjYqzFD7/0gMAJvP77ak6YjrvbkrfV07fp9lDLrAbx5Tt0I2LzWQ8HdIzACb/cu3KQBI6426ZaHK9X1+yhlHo77dgR0I2A76g1NjorACLyjeva1do24ei3+r5Le9fsoZV7ljhfI7UbAC/QYIv8YAjOB53ca/MHqDDbX/jaHX7c+9Osj/uo4f7U7ZcK1+st8iuGS8SXALuGzQZolcfU4ta/1pqF+s0qP/h6YTwG41rSbLbptYtfvo5S5DcxdzupGwC4tGUrvCoGZwFue36/9NvQqdcCvMC+XspxSoTdMca6Nv1nKaP6DGsvjVgVumOJcGo8uZa5dYkW9p3W7+WSUMk/D//WCuhHwerWGBkdHYCbwluf3a/PsKnXAr55ZLmU5pUJvmOJcG6OUEYoVG8vjVqE3THEujVHKgEM3n4xSpkTLkbvdCDiywcO2bSAwE3jm99xxy6Ny8/HQ3btF+ejVfD49N5jKaTkvOFSED7HljYOMt0/dlcwHucLcaqPcYJI/tudTs/Np+jLRUR7y8xhZn1YsQXm8rHJ9nCs8fTKswKoqrLKbcxPhfDBugVF9XthYGFdYKtQUBHSFApQYFAGxhcwuZPmc6OJuMXGcACgYlifz5iO/M2B8/HSWMi4cZGU3vZYPGVLtLm75KYLgQwR2I4TBjNjL5aJ0I1A01mr09W+5d+lasteO7ELJ10LUSh+gtZiMkScgMBN4pmB3XBv5Kp/M8kXhfJkGGwC1Qm7VOYW6h9KEXEy7bDYkaJ8a7AvFcpyMT653n0NV87hq2LAYWs489U8++apCkZQ/25h4lol23ZCQ4guGJMj3QqQmL28vjCtLAXxkpZLI+AZy3AdN+lRUsTrRNjakwbM5TtSVUibfXJ0gF7kfHx/E2JJSRvf5Ig6E5qFmeXGBfpTGUoaPSoT4zjLGrbbTRj7KQkop9ze6fh+nMvcDuxsO3QjYjfZD0d0iMBN4bgnuKzaKuebZHM/kzrjTcyfOKVn6ZLVULpF5kbsTEUTpkCc07hxuP1I6ty2trmUuK/cnNgk3DKsiKB3PWqcAYvf085ci2PslyI821b4qrgp0uJ6SpbjeoNKnWJ1d4/br68u9HDKO/UoY4JG2lMmqwnbxpo5QsVID2UVKTuesceZKIB3qEkOQhYiKQWx02WBcPemWIE9Bd7a7fh+lzJ2o7ml6NwL2ZMDQdZ8IzASeW4IlCGmU426T6VQuzt0FbEy7JbGKnIIYccsp9HnebrvdkJylJo4okUaOyzAbM8wLK01IntB4R6MFthDbzdtz6sOmazert6LMC7tXxdX3v9eFGlQiYENbKOb0KePZFV7KIIGiwVt1S4njFKXkSYzliJ/mQsBSRqhUCje6ZQrKoAbKM5K1juJyiaWgrIYlRtyvpcyDwqbr91HK6J3jN7oRcHyzh4WvRmAm8MzIbs8q665M5vWSUQLP83Nkv2wSpAAAEC9JREFUxVLGPS/5qzCD7oLuc47krDz+YdO6inlh5UlAYgJc3NjKqkhgi2J2OUUoIrLrtx/aQ4Uke3772ria2nqFQhOuKmW8Y+X04m7GS+RIzOmF8WN9430xD42ywijc6EIg527Dqqv91HBKQaOUaYFac2QmiNcUcyxeA7Rj+XM31swEnhnZHbdY5TG1eTYJSs7NtNvuT0ycucGUl9FdcfDPa832BlPuSalq6nMt8+RDmy//vr29UecVocBC5SGwFkBwUHOLv1ZKjpx+/nLk5e1r42qmlElWBhUNzbSkyBOUgrzEZW4Wl9LQ4B6QbsoYhoBS0hLHyt7KUubFwCIou9ZJOWhYioAKZLmmFBuQZYTnGU+KWKWdzpLhOJURiuM3uhFwfLOHha9GYCbw2lImvyxJSuUAwzxbrPFLkVwKu7uXxOqs9suJbAmFni3KsxO3kxxHvTzAR0qaAP3lckn+yeT7+/tX5ipvgyluMGXv4cq7lDIJJpsQmtO2PlM3ax2Ell9OqckLG1fF1fwNpvJzpPZwi/JFicYte7aOSDD9eizVSU5J0JiStUUWl7gDuenlrMgJBtxtLCFCHdJ9xmSqkcVHChI3I0SeaO4ayQhPbkXK/V29kKxGKZNoHLzdjYCD2zzM2wACM4Fnfs+rUs/AM79zTZwHJ1qW3/bwewAlsSYx6T73++4dAXeRt7e3lJvjSmFQKd4ds7QqO1Yy+ZW5bG2w2Xhdbj2EUefz2XIqgfWLHdSFylU3pothAutOpg4vb1wbV1NbL07UWH995h1MQ0WJpZRMd6dTHAf5/CjRy3KccSQSeNagpcKQhliSeYa3tky5ONXwaqEIsppBYqnbRimTGF7dNqSunvmHJwzQ/rDzX2n6pgIvt/ZXgjJk343AWnFlPXq3RoPBMxDo+n2cyjwD+o3I6EbARnQbahwYgU0F3ihlDhNpa8XVKGX2FRJdv49SZl9OvEvbbgTcxXFMHggsQGBTgTdKmQUe2wfJWnE1Spl9+Pufll2/j1LmHzx/4P9uBPwBu4eJL0ZgBN6LHXBQ8SOuDurYX8zq+n2UMr+gdqSPuxFwJAOHLdtEYATeNv2yd61GXO3dg7fp3/X7KGVuA3OXs7oRsEtLhtK7QmAE3q7ctRtlR1ztxlWrKtr1+yhlVsV428y6EbBtlYd2R0BgJvD8Mfbj7PRHqgtFdFW64Rs2yC0/AF6ow1Vk+RiS5RNvm7Wc/xMoZ+KK31Gjg78xvkElv0bT/j655XZtpPnbeH/P3PK8f8R4XoLDtSbI/H49l3Po+n2UMssB3D1lNwJ2b9UwYPMIvDDwbki1N0xpPSCTJ5QyrfQ/MjITV1l6LtnCpxCzlJkicLw8WMjxmYZBMkNz/0fLpSynVKsbpjj35kbX76OUuRnP/U3sRsD+zBga7w2BFwbeDan2himtQ2QySpkWnLVGZuJqlDKCbCg6MtVYTimHG6Y49+ZG1++jlLkZz/1N7EbA/swYGu8NgZnAMxXyUsN8OipH+jxgFIt5W40PM/Wpo+WC2K6PQ/WZp/IvKjk+9VRWt0Yu07014ANz0ycpl1JG+nx+sc+zh95n7CarJbDkrSIfWZuCAAQpQuEsPk0aFUB5JmLC5ecPr2lm3h/RO6lA8knEutoq/ddGcaL0skUWpzJqm48tTr907614KpM3mBIr8MyRRAOVMpKhnwLEFy0lQ5gwRXgZ1KhElZcGpNcwLU+nkj+AyMoIcWQJc8F/QqPr91HKPAH5rYjoRsBWlBt6HBeBmcDLUsbNjzxrpZJlxNvbm+O+CwZ68cuu/MnvpmlofDOf4+yC7a5WdHA79P0ASqehXDctxtk7aedrdNjt2l0QfRifgsWixIZP3HdrtE5SMYlhmwiAMJoLBRubpYzbW1qUr23K6QrNdyWqQGpbYJzvzsSV/nJfB8PEOTXnFUu6VbltKZM1zfL3SurZfNlTwqJE6x5GqF2+v7/B0+AvCqctGZMZz5YyGfxpQuqT72xawlz9n9Do+n2UMk9AfisiuhGwFeWGHsdFYCbwzJ6595C1zf4cxvi2SHFyUyE1O55d+Zf3QrOnfn5+wsS5uQE7mBtwpnVUyt3FKcotDOleLpcil5coWU/IZwks1gQ2nN6WMn4kcdnYBErYmSLZlEWapgg5iIYfYW8XuqSZb8/EVeKWWzuVDfWZpTNSNDyF/lrKSJxR52BGDoMGbdYQSQ+BwS9ZgV1sncs75Etc5SxLGY76nEidpKBuVP/KPLk9ut31+yhlHg37hvh3I2BD+g1VDorATOC5yeXeQ/41m7ud2BAndqOyi2RX/pQgnpnTOJ1OXZ4eRShI9Qp96Uqv3GKLXZQs+rRbu3LZb3L3VbRFCczhmSZ4wyX5OyvhygOSFJ0lkSZgrF020WIRhzcJvhBNaSvBr42ZuErl3cJhSDelp85FqCBnCdLFs8AonyJduLJ0kDhxdpDKIyeWt4eq/+fPnwdmcDAU1cQRRRRKb2PJmUMa0XDiFCsJHtHo+n2UMo+AeqM8uxGwUV2HWgdCYCbwTIW595SsbQK1ITZXlTK5kcuhyzPrAChVr9CXrmy1q9hit3sG4HQbyl1SyuQsNiHLQWsUb3A8qJRRh7aB7eU145xbtNq209uRmbhK3NzC4ZCljPfdWuaM6N8sZfjIYpSztOeXMu0ZXvcF74aiODhSrHb89PNXPp1n3hI/bqTr91HKPA7wzXHuRsDmtBwKHQ6BmcAze+be434PEm4n5eaOuwsNYUsy+U/tNGUuop9Qyqi8ancbS2CxKCkc2vsIFDRctTurIGO33MJg3O/KWCTpLBtFjdKFrK0hutqWuaU7E1eJm1s40+0aG4Vtdo29KX9ZkopbTl/9BpOwq1gRNxPPGm6jzBWQG5gXVg/tdv0+SpmHYr4t5t0I2JaKQ5sjIjATeGbP3HvKpmhipUbxYtTvQEBv/cElPkDKny9JeDDDFL7m6deHPSGQld5QPZXho9KVXrnFlux+fHzkvQDPS2RSNsKcm5fIFiX5PWKIv37+3t7eLB2kcVbZg+3KAX1AdaaU8a6H+gNs4WOhqSbf/77T2sIuq25jJq70F37P7/O6kaNJIpPuQKL+tZSxpINAK8StqMpETUsvGyQ5BXo18ZvUxfvcn3ItpJSpeNbwYoLrKPVJPZcwTxMe3e76fZQyj4Z9Q/y7EbAh/YYqB0VgJvDMnrn3lKztdkLDbyqYx/PuCQyVyF1/Kxh/dK1cIHec7c2NR4eonsrwUelKr9xiS+lqS/5gRCbXljL+WoeyQyswikGh+LWUscJgoiVIMaF082sWOoi9ED66ZkrbNH++nawKJbs1BG7h0GS3i0yy0r+YQN0zNavALp80X0zmvysjjNY0BWeYC2l+iSqBRVUiIQ0XnyxZDNobmGvsExpdv49S5gnIb0VENwK2otzQ47gIrBV47ivHhWq7lk2dOrxQ47Xi6oUmtKKzZmo/HSOUgC0Oo5RpMTnsyCFX/mG9dSDD1gq8Uco8Myg8hkGotyGeqcO8rLXial7Kkz8dpcyvgHf9PkqZX3E7DkE3Ao5j3rBkqwisFXijlHmyh/P+V94ZebIaU+LWiqsp/i8ZH6XMr7B3/T5KmV9xOw5BNwKOY96wZKsIjMDbqmf2rdeIq33771btu34fpcytcO5wXjcCdmjHUHlnCIzA25nDdqLuiKudOGplNbt+H6XMyihvmV03Aras8NDtGAiMwDuGH7dmxYirrXnkOfp0/T5KmeeAvwkp3QjYhGZDiUMjsFbgje/KHDpMrjbuYHF1Pp99yM3VWNw0oTyS4CYeL5jU9fsoZV7giVeJ7EbAq5QZcv8OAmsF3ihl/k7MLLH0SHH1km/7jlJmSZg9lmatIH6slhvjPkDbmEP+ijprBd4oZf5KxCyz80hxNUqZZT7/D1XX7+NUZjmAu6fsRsDurRoGbB6B+cDLX/x6wJ5PI/Wp85YyJe/b5YmoOfdyufjgVH9OzGNP8wm/m4dwKNhBYCqufJkAc/I5uRlsTv81ruBjwDjRF1nz1F2fpJy68ior5hKBGZ/ENgHsw4LL0wjtQkY8v7+/M57cUq4PAvZ5wcWKfBBwTtx+O/FX21HKCMXxG90IOL7Zw8JXIzATeLnrmLJpUNawD5Hxf91yIDZ3s2/x1Pbcz9hX4M/24Fv6Xg3VkH8FAlNxZWkLL8PGdzUw7jP7JSgTs5tPCDQ+M6jalz0pPe/jOJdPZZuyXAjQ2IXGipxxu7mU8j0Y+ahDxc28bux/2zvD3FZhIAhzl5yOo+RcOQdnSfU60mizXlPaotcN+vojMq6xl88TPNhEVqOdP8t+x8p07rKTYysVcHIbVAeBgcBMeBoJPBOj87Zti5vFeH+luIFivO/7yXjc6dBDlGrWg6yGHA8AOvR2RUPsZPQlMNNVchWWU1LauK/WTFfe/tostI93sjL+b0xEJzGKTS1GDUfBq55kZWy7le+LcpBpS3M36rZUrYJ/R+WX/Y6Viaq7eLpUwMWvmctrQGAmPN+jU4zxKTbe5W1NZkNOGlpcXvV7SHMi5acwOGxOYKarHderf3nxRUtC1slMV7IjPksJuWEvX3ouMEFz5cpPlehw27bYdPpe+DCW2XE8Dim2df/8S0GmL1qKvO1h2e9Ymbb9dX5gpQLOb4YaIfBKYCY836Nfi/97rS8+LPoO7lHBOTrRh1iZRPLahzNdeU9vvSnlV1jsSITFKzJf6mqc50hgpcBlWdyWC7hy5aQtrF3MGt7xKLHMTrH18881O5EimW3N7fJtE2W/Y2Xa9tf5gZUKOL8ZaoTAK4GZ8NKt2SelWRM7Ht+LZVni1PqyLEcWmPTOTao/HToMEs0JzHSlsLUGFG1xTGvZJc3KzHRlBe4DkZ5TGYtW+TOxxe9CqsdLVLHMjpVJLTqeVK0uNj4zuGTzRNnvWJnmvXZmeKUCzmyAuiBQEdgRnp+MvZD0eDw0cuidAN1w02u/eqBUpsYkrEwF/uJ5O7rySB/LRBuhVZhkZWa6ir7HUz73+13mwC+vrOuaVnDiUpc6I2r7+XwqDItf7jyZDK0TpTK+QPdx9Ft+o9lnybLcbjfPG8WX4l3JWyRinzpgrIxRXD9RKuD6l80V/jWBfeHF38d6VNB9WTdxW5b4uKlRRAVUmFmZv+7n/93+vq7kS+L73VEz67p6tuNLXenC4o+xPZkRhTr6mNHK2IJIuvEU1S+1x2qVtilJk5GG7mLKUf369NfKvl8/cUrTVK6qeaLsd6xM8147M7xSAWc2QF0QqAggvIoKeb8lgK5+S/A9zy/7HSvznp35o6hLBfyoJk6CwDcIILxvwKLoYQLo6jCqSxUs+722MnFuijQEIAABCEAAAhBoQmC0ZoWVGQuRAwEIQAACEIAABHoSwMr07BeiggAEIAABCEDgEAGszCFMFIIABCAAAQhAoCcBrEzPfiEqCEAAAhCAAAQOEcDKHMJEIQhAAAIQgAAEehLAyvTsF6KCAAQgAAEIQOAQAazMIUwUggAEIAABCECgJwGsTM9+ISoIQAACEIAABA4R+AAR6pu8Sez/1QAAAABJRU5ErkJggg==)!"
      ]
    },
    {
      "cell_type": "markdown",
      "metadata": {
        "id": "QxySjghsdKiX"
      },
      "source": [
        "#### Test 1 - Mean / Mode / Median continuous imputation\n",
        "Run a dataset whose missingness column contains (numerical / continuous) data through the Mean / Mode / Median imputation function. Assess the data in the missingness column of the dataset has been imputed"
      ]
    },
    {
      "cell_type": "code",
      "execution_count": null,
      "metadata": {
        "colab": {
          "base_uri": "https://localhost:8080/"
        },
        "id": "xNnGxjhcdKiX",
        "outputId": "e7be55d3-4d55-4366-b06e-8a63f3481aba"
      },
      "outputs": [
        {
          "output_type": "stream",
          "name": "stdout",
          "text": [
            "Before dataframe: \n",
            "         date    county    state    fips  cases  deaths\n",
            "0 2022-01-01   Autauga  Alabama  1001.0  11018     160\n",
            "1 2022-01-01   Baldwin  Alabama  1003.0  39911     593\n",
            "2 2022-01-01   Barbour  Alabama  1005.0   3860      81\n",
            "3 2022-01-01      Bibb  Alabama  1007.0   4533      95\n",
            "4 2022-01-01    Blount  Alabama  1009.0  11256     198\n",
            "5 2022-01-01   Bullock  Alabama     NaN   1676      46\n",
            "6 2022-01-01    Butler  Alabama  1013.0   3613     102\n",
            "7 2022-01-01   Calhoun  Alabama     NaN  23411     532\n",
            "8 2022-01-01  Chambers  Alabama     NaN   6171     147\n",
            "9 2022-01-01  Cherokee  Alabama     NaN   3385      65 \n",
            "\n",
            "\n",
            "After dataframe: \n",
            "         date    county    state         fips  cases  deaths\n",
            "0 2022-01-01   Autauga  Alabama  1001.000000  11018     160\n",
            "1 2022-01-01   Baldwin  Alabama  1003.000000  39911     593\n",
            "2 2022-01-01   Barbour  Alabama  1005.000000   3860      81\n",
            "3 2022-01-01      Bibb  Alabama  1007.000000   4533      95\n",
            "4 2022-01-01    Blount  Alabama  1009.000000  11256     198\n",
            "5 2022-01-01   Bullock  Alabama  1006.333333   1676      46\n",
            "6 2022-01-01    Butler  Alabama  1013.000000   3613     102\n",
            "7 2022-01-01   Calhoun  Alabama  1006.333333  23411     532\n",
            "8 2022-01-01  Chambers  Alabama  1006.333333   6171     147\n",
            "9 2022-01-01  Cherokee  Alabama  1006.333333   3385      65 \n",
            "\n",
            "\n",
            "[1006.3333333333334, 1006.3333333333334, 1006.3333333333334, 1006.3333333333334]\n"
          ]
        },
        {
          "output_type": "stream",
          "name": "stderr",
          "text": [
            "<ipython-input-6-eb7e0bef176d>:15: FutureWarning: A value is trying to be set on a copy of a DataFrame or Series through chained assignment using an inplace method.\n",
            "The behavior will change in pandas 3.0. This inplace method will never work because the intermediate object on which we are setting values always behaves as a copy.\n",
            "\n",
            "For example, when doing 'df[col].method(value, inplace=True)', try using 'df.method({col: value}, inplace=True)' or df[col] = df[col].method(value) instead, to perform the operation inplace on the original object.\n",
            "\n",
            "\n",
            "  df[column].fillna(df[column].mean(), inplace=True)\n"
          ]
        }
      ],
      "source": [
        "\"\"\"Initialise variables to run the test\"\"\"\n",
        "\n",
        "# Specify the paths to download the datasets\n",
        "download_path = './datasets'\n",
        "mcar_path = \"./data/MCAR\"\n",
        "\n",
        "# Get a dataset to test the imputation function\n",
        "df = pd.read_json(os.path.join(mcar_path, \"us-counties-2022.json\"), lines=True, nrows=10)\n",
        "\n",
        "\n",
        "\n",
        "\n",
        "\n",
        "\"\"\"Run the test\"\"\"\n",
        "\n",
        "# Run the imputation function for a continuous column\n",
        "print(f\"Before dataframe: \\n {df} \\n\\n\")\n",
        "df, predictions = mean_mode_median_imputation(df, \"fips\", False)\n",
        "print(f\"After dataframe: \\n {df} \\n\\n\")\n",
        "print(predictions)"
      ]
    },
    {
      "cell_type": "markdown",
      "metadata": {
        "id": "HD_EapZydKiY"
      },
      "source": [
        "#### Test 2 - Mean / Mode / Median categorical imputation\n",
        "Run a dataset whose missingness column contains (numerical / continuous) data through the Mean / Mode / Median imputation function. Assess the data in the missingness column of the dataset has been imputed with the list of predicted values"
      ]
    },
    {
      "cell_type": "code",
      "execution_count": null,
      "metadata": {
        "id": "gwB0fwuAdKiY",
        "colab": {
          "base_uri": "https://localhost:8080/"
        },
        "outputId": "d63bd937-1b37-4853-f811-5c1ee1ebfbd4"
      },
      "outputs": [
        {
          "output_type": "stream",
          "name": "stdout",
          "text": [
            "Before dataframe: \n",
            "          date     county    state    fips  cases  deaths\n",
            "10 2021-01-01    Chilton  Alabama  1021.0   3004      54\n",
            "11 2021-01-01    Choctaw  Alabama  1023.0    491      22\n",
            "12 2021-01-01     Clarke  Alabama  1025.0   2418      26\n",
            "13 2021-01-01       Clay  Alabama  1027.0   1150      34\n",
            "14 2021-01-01   Cleburne  Alabama  1029.0   1036      16\n",
            "15 2021-01-01     Coffee  Alabama  1031.0   3643      38\n",
            "16 2021-01-01    Colbert  Alabama  1033.0   4701      60\n",
            "17 2021-01-01    Conecuh     None  1035.0    839      17\n",
            "18 2021-01-01      Coosa  Alabama  1037.0    519       7\n",
            "19 2021-01-01  Covington  Alabama  1039.0   2931      40 \n",
            "\n",
            "\n",
            "After dataframe: \n",
            "          date     county    state    fips  cases  deaths\n",
            "10 2021-01-01    Chilton  Alabama  1021.0   3004      54\n",
            "11 2021-01-01    Choctaw  Alabama  1023.0    491      22\n",
            "12 2021-01-01     Clarke  Alabama  1025.0   2418      26\n",
            "13 2021-01-01       Clay  Alabama  1027.0   1150      34\n",
            "14 2021-01-01   Cleburne  Alabama  1029.0   1036      16\n",
            "15 2021-01-01     Coffee  Alabama  1031.0   3643      38\n",
            "16 2021-01-01    Colbert  Alabama  1033.0   4701      60\n",
            "17 2021-01-01    Conecuh  Alabama  1035.0    839      17\n",
            "18 2021-01-01      Coosa  Alabama  1037.0    519       7\n",
            "19 2021-01-01  Covington  Alabama  1039.0   2931      40 \n",
            "\n",
            "\n",
            "['Alabama']\n"
          ]
        },
        {
          "output_type": "stream",
          "name": "stderr",
          "text": [
            "<ipython-input-6-eb7e0bef176d>:12: FutureWarning: A value is trying to be set on a copy of a DataFrame or Series through chained assignment using an inplace method.\n",
            "The behavior will change in pandas 3.0. This inplace method will never work because the intermediate object on which we are setting values always behaves as a copy.\n",
            "\n",
            "For example, when doing 'df[col].method(value, inplace=True)', try using 'df.method({col: value}, inplace=True)' or df[col] = df[col].method(value) instead, to perform the operation inplace on the original object.\n",
            "\n",
            "\n",
            "  df[column].fillna(df[column].mode()[0], inplace=True)\n"
          ]
        }
      ],
      "source": [
        "\"\"\"Initialise variables to run the test\"\"\"\n",
        "\n",
        "# Specify the paths to download the datasets\n",
        "download_path = './datasets'\n",
        "mcar_path = \"./data/MCAR\"\n",
        "\n",
        "# Get a dataset to test the imputation function\n",
        "df = pd.read_json(os.path.join(mcar_path, \"us-counties-2021.json\"), lines=True).iloc[10:20]\n",
        "\n",
        "\n",
        "\n",
        "\n",
        "\"\"\"Run the test\"\"\"\n",
        "\n",
        "# Run the imputation function for a classification column\n",
        "print(f\"Before dataframe: \\n {df} \\n\\n\")\n",
        "df, predictions = mean_mode_median_imputation(df, \"state\", True)\n",
        "print(f\"After dataframe: \\n {df} \\n\\n\")\n",
        "print(predictions)"
      ]
    },
    {
      "cell_type": "markdown",
      "metadata": {
        "id": "X9-bHcuvdPTo"
      },
      "source": [
        "#### Test 3 - LOCF imputation\n",
        "Run a dataset through the LOCF imputation function. Assess the data in the missingness column of the dataset has been imputed"
      ]
    },
    {
      "cell_type": "code",
      "execution_count": null,
      "metadata": {
        "id": "XjAyDfcYdPTp",
        "colab": {
          "base_uri": "https://localhost:8080/"
        },
        "outputId": "2087e438-036c-45ed-fdc7-f85388334f26"
      },
      "outputs": [
        {
          "output_type": "stream",
          "name": "stdout",
          "text": [
            "Before dataframe: \n",
            "          date     county    state    fips  cases  deaths\n",
            "10 2021-01-01    Chilton  Alabama  1021.0   3004      54\n",
            "11 2021-01-01    Choctaw  Alabama  1023.0    491      22\n",
            "12 2021-01-01     Clarke  Alabama  1025.0   2418      26\n",
            "13 2021-01-01       Clay  Alabama  1027.0   1150      34\n",
            "14 2021-01-01   Cleburne  Alabama  1029.0   1036      16\n",
            "15 2021-01-01     Coffee  Alabama  1031.0   3643      38\n",
            "16 2021-01-01    Colbert  Alabama  1033.0   4701      60\n",
            "17 2021-01-01    Conecuh     None  1035.0    839      17\n",
            "18 2021-01-01      Coosa  Alabama  1037.0    519       7\n",
            "19 2021-01-01  Covington  Alabama  1039.0   2931      40 \n",
            "\n",
            "\n",
            "After dataframe: \n",
            "          date     county    state    fips  cases  deaths\n",
            "10 2021-01-01    Chilton  Alabama  1021.0   3004      54\n",
            "11 2021-01-01    Choctaw  Alabama  1023.0    491      22\n",
            "12 2021-01-01     Clarke  Alabama  1025.0   2418      26\n",
            "13 2021-01-01       Clay  Alabama  1027.0   1150      34\n",
            "14 2021-01-01   Cleburne  Alabama  1029.0   1036      16\n",
            "15 2021-01-01     Coffee  Alabama  1031.0   3643      38\n",
            "16 2021-01-01    Colbert  Alabama  1033.0   4701      60\n",
            "17 2021-01-01    Conecuh  Alabama  1035.0    839      17\n",
            "18 2021-01-01      Coosa  Alabama  1037.0    519       7\n",
            "19 2021-01-01  Covington  Alabama  1039.0   2931      40 \n",
            "\n",
            "\n",
            "['Alabama']\n"
          ]
        },
        {
          "output_type": "stream",
          "name": "stderr",
          "text": [
            "<ipython-input-7-c81dbf4c7793>:16: FutureWarning: A value is trying to be set on a copy of a DataFrame or Series through chained assignment using an inplace method.\n",
            "The behavior will change in pandas 3.0. This inplace method will never work because the intermediate object on which we are setting values always behaves as a copy.\n",
            "\n",
            "For example, when doing 'df[col].method(value, inplace=True)', try using 'df.method({col: value}, inplace=True)' or df[col] = df[col].method(value) instead, to perform the operation inplace on the original object.\n",
            "\n",
            "\n",
            "  df[column].fillna(method='ffill', inplace=True)\n",
            "<ipython-input-7-c81dbf4c7793>:16: FutureWarning: Series.fillna with 'method' is deprecated and will raise in a future version. Use obj.ffill() or obj.bfill() instead.\n",
            "  df[column].fillna(method='ffill', inplace=True)\n"
          ]
        }
      ],
      "source": [
        "\"\"\"Initialise variables to run the test\"\"\"\n",
        "\n",
        "# Specify the paths to download the datasets\n",
        "download_path = './datasets'\n",
        "mcar_path = \"./data/MCAR\"\n",
        "\n",
        "# Get a dataset to test the imputation function\n",
        "df = pd.read_json(os.path.join(mcar_path, \"us-counties-2021.json\"), lines=True).iloc[10:20]\n",
        "\n",
        "\n",
        "\n",
        "\n",
        "\n",
        "\"\"\"Run the test\"\"\"\n",
        "\n",
        "# Run the imputation function for a continuous column\n",
        "print(f\"Before dataframe: \\n {df} \\n\\n\")\n",
        "df, predictions = locf_imputation(df, \"state\")\n",
        "print(f\"After dataframe: \\n {df} \\n\\n\")\n",
        "print(predictions)"
      ]
    },
    {
      "cell_type": "markdown",
      "metadata": {
        "id": "ZDF_o7-KdR-8"
      },
      "source": [
        "#### Test 4 - NOCF imputation\n",
        "Run a dataset through the NOCF imputation function. Assess the data in the missingness column of the dataset has been imputed"
      ]
    },
    {
      "cell_type": "code",
      "execution_count": null,
      "metadata": {
        "id": "dH81xbyRdR--",
        "colab": {
          "base_uri": "https://localhost:8080/"
        },
        "outputId": "32e99136-a125-4181-db6e-83058663bcd5"
      },
      "outputs": [
        {
          "output_type": "stream",
          "name": "stdout",
          "text": [
            "Before dataframe: \n",
            "          date     county    state    fips  cases  deaths\n",
            "10 2021-01-01    Chilton  Alabama  1021.0   3004      54\n",
            "11 2021-01-01    Choctaw  Alabama  1023.0    491      22\n",
            "12 2021-01-01     Clarke  Alabama  1025.0   2418      26\n",
            "13 2021-01-01       Clay  Alabama  1027.0   1150      34\n",
            "14 2021-01-01   Cleburne  Alabama  1029.0   1036      16\n",
            "15 2021-01-01     Coffee  Alabama  1031.0   3643      38\n",
            "16 2021-01-01    Colbert  Alabama  1033.0   4701      60\n",
            "17 2021-01-01    Conecuh     None  1035.0    839      17\n",
            "18 2021-01-01      Coosa  Alabama  1037.0    519       7\n",
            "19 2021-01-01  Covington  Alabama  1039.0   2931      40 \n",
            "\n",
            "\n",
            "After dataframe: \n",
            "          date     county    state    fips  cases  deaths\n",
            "10 2021-01-01    Chilton  Alabama  1021.0   3004      54\n",
            "11 2021-01-01    Choctaw  Alabama  1023.0    491      22\n",
            "12 2021-01-01     Clarke  Alabama  1025.0   2418      26\n",
            "13 2021-01-01       Clay  Alabama  1027.0   1150      34\n",
            "14 2021-01-01   Cleburne  Alabama  1029.0   1036      16\n",
            "15 2021-01-01     Coffee  Alabama  1031.0   3643      38\n",
            "16 2021-01-01    Colbert  Alabama  1033.0   4701      60\n",
            "17 2021-01-01    Conecuh  Alabama  1035.0    839      17\n",
            "18 2021-01-01      Coosa  Alabama  1037.0    519       7\n",
            "19 2021-01-01  Covington  Alabama  1039.0   2931      40 \n",
            "\n",
            "\n",
            "['Alabama']\n"
          ]
        },
        {
          "output_type": "stream",
          "name": "stderr",
          "text": [
            "<ipython-input-7-c81dbf4c7793>:16: FutureWarning: A value is trying to be set on a copy of a DataFrame or Series through chained assignment using an inplace method.\n",
            "The behavior will change in pandas 3.0. This inplace method will never work because the intermediate object on which we are setting values always behaves as a copy.\n",
            "\n",
            "For example, when doing 'df[col].method(value, inplace=True)', try using 'df.method({col: value}, inplace=True)' or df[col] = df[col].method(value) instead, to perform the operation inplace on the original object.\n",
            "\n",
            "\n",
            "  df[column].fillna(method='ffill', inplace=True)\n",
            "<ipython-input-7-c81dbf4c7793>:16: FutureWarning: Series.fillna with 'method' is deprecated and will raise in a future version. Use obj.ffill() or obj.bfill() instead.\n",
            "  df[column].fillna(method='ffill', inplace=True)\n"
          ]
        }
      ],
      "source": [
        "\"\"\"Initialise variables to run the test\"\"\"\n",
        "\n",
        "# Specify the paths to download the datasets\n",
        "download_path = './datasets'\n",
        "mcar_path = \"./data/MCAR\"\n",
        "\n",
        "# Get a dataset to test the imputation function\n",
        "df = pd.read_json(os.path.join(mcar_path, \"us-counties-2021.json\"), lines=True).iloc[10:20]\n",
        "\n",
        "\n",
        "\n",
        "\n",
        "\n",
        "\"\"\"Run the test\"\"\"\n",
        "\n",
        "# Run the imputation function for a continuous column\n",
        "print(f\"Before dataframe: \\n {df} \\n\\n\")\n",
        "df, predictions = locf_imputation(df, \"state\")\n",
        "print(f\"After dataframe: \\n {df} \\n\\n\")\n",
        "print(predictions)"
      ]
    },
    {
      "cell_type": "markdown",
      "metadata": {
        "id": "zS63oZKfWzlu"
      },
      "source": [
        "### Manual functional testing for Advanced imputation functions\n",
        "\n",
        "Manual testing is executed to a specification (test case specification) which requires human intervention (manual execution by testers) without the use of any automation tools\n",
        "\n",
        "<br>\n",
        "\n",
        "### Test case specification:\n",
        "![image.png](data:image/png;base64,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)\n",
        "![image.png](data:image/png;base64,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)\n",
        "![image.png](data:image/png;base64,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)\n",
        "![image.png](data:image/png;base64,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)"
      ]
    },
    {
      "cell_type": "markdown",
      "metadata": {
        "id": "KXCp5HjcdV5e"
      },
      "source": [
        "#### Test 5 - Run continuous Regression imputation on current imputation algorithm\n",
        "Run a dataset whose missingness column contains (numerical / continuous) data through the current imputation function. Assess the data in the missingness column of the dataset has been imputed"
      ]
    },
    {
      "cell_type": "code",
      "execution_count": null,
      "metadata": {
        "colab": {
          "base_uri": "https://localhost:8080/"
        },
        "id": "5iVcuuqKdV5e",
        "outputId": "0b8f8122-6e44-42b2-f352-a6bc0b6bfd0d"
      },
      "outputs": [
        {
          "output_type": "stream",
          "name": "stdout",
          "text": [
            "Before dataframe: \n",
            "          date    county           state    fips  cases  deaths\n",
            "0  2022-01-01   Autauga         Alabama  1001.0  11018     160\n",
            "1  2022-01-01   Baldwin         Alabama  1003.0  39911     593\n",
            "2  2022-01-01   Barbour         Alabama  1005.0   3860      81\n",
            "3  2022-01-01      Bibb         Alabama  1007.0   4533      95\n",
            "4  2022-01-01    Blount         Alabama  1009.0  11256     198\n",
            "..        ...       ...             ...     ...    ...     ...\n",
            "95 2022-01-01   Unknown  American Samoa     NaN     11       0\n",
            "96 2022-01-01    Apache         Arizona  4001.0  16324     542\n",
            "97 2022-01-01   Cochise         Arizona  4003.0  20157     469\n",
            "98 2022-01-01  Coconino         Arizona  4005.0  28256     416\n",
            "99 2022-01-01      Gila         Arizona  4007.0  12274     311\n",
            "\n",
            "[100 rows x 6 columns] \n",
            "\n",
            "\n",
            "After dataframe: \n",
            "          date    county           state         fips  cases  deaths\n",
            "0  2022-01-01   Autauga         Alabama  1001.000000  11018     160\n",
            "1  2022-01-01   Baldwin         Alabama  1003.000000  39911     593\n",
            "2  2022-01-01   Barbour         Alabama  1005.000000   3860      81\n",
            "3  2022-01-01      Bibb         Alabama  1007.000000   4533      95\n",
            "4  2022-01-01    Blount         Alabama  1009.000000  11256     198\n",
            "..        ...       ...             ...          ...    ...     ...\n",
            "95 2022-01-01   Unknown  American Samoa  3188.614697     11       0\n",
            "96 2022-01-01    Apache         Arizona  4001.000000  16324     542\n",
            "97 2022-01-01   Cochise         Arizona  4003.000000  20157     469\n",
            "98 2022-01-01  Coconino         Arizona  4005.000000  28256     416\n",
            "99 2022-01-01      Gila         Arizona  4007.000000  12274     311\n",
            "\n",
            "[100 rows x 6 columns] \n",
            "\n",
            "\n",
            "[1012.8892685258592, 983.834291903149, 1011.7395363183355, 1020.1748407346257, 1013.8853280272592, 1026.9564715497556, 1040.2382765375423, 1045.8491335504864, 1054.672958722663, 1026.9882821609476, 1065.8495638957713, 1074.0574820335735, 1078.9188354295504, 1075.0309461152324, 992.3659259071679, 1093.5466956451432, 1108.2661452995876, 1107.8754029663214, 1120.9867080297688, 1133.0011696998774, 1133.1688557000211, 1148.096635994217, 2006.664338604519, 2009.362001764961, 2023.8512541582195, 2026.0323648608073, 2069.458479340874, 2071.087714572584, 2105.0312802571366, 2107.9563250947335, 2143.809763770149, 2145.607167080921, 2163.3036609351066, 2164.400458543941, 2166.132666800207, 2178.0982259539533, 2190.8891378087565, 2192.79879262335, 3188.6146972080037]\n"
          ]
        },
        {
          "output_type": "stream",
          "name": "stderr",
          "text": [
            "/usr/local/lib/python3.11/dist-packages/sklearn/utils/validation.py:2739: UserWarning: X does not have valid feature names, but LinearRegression was fitted with feature names\n",
            "  warnings.warn(\n"
          ]
        }
      ],
      "source": [
        "\"\"\"Initialise variables to run the test\"\"\"\n",
        "\n",
        "# Specify the paths to download the datasets\n",
        "download_path = './datasets'\n",
        "mcar_path = \"./data/MCAR\"\n",
        "\n",
        "# Get a dataset to test the imputation function\n",
        "df = pd.read_json(os.path.join(mcar_path, \"us-counties-2022.json\"), lines=True, nrows=100)\n",
        "\n",
        "\n",
        "\n",
        "\n",
        "\n",
        "\"\"\"Run the test\"\"\"\n",
        "\n",
        "# Run the imputation function for a continuous column\n",
        "print(f\"Before dataframe: \\n {df} \\n\\n\")\n",
        "df, predictions = regression_imputation(df, \"fips\", False, True)\n",
        "print(f\"After dataframe: \\n {df} \\n\\n\")\n",
        "print(predictions)"
      ]
    },
    {
      "cell_type": "markdown",
      "metadata": {
        "id": "1cEKILTadV5f"
      },
      "source": [
        "#### Test 6 - Run categorical Regression imputation on current imputation algorithm\n",
        "Run a dataset whose missingness column contains (numerical / continuous) data through the current imputation function. Assess the data in the missingness column of the dataset has been imputed with the list of predicted values"
      ]
    },
    {
      "cell_type": "code",
      "execution_count": null,
      "metadata": {
        "id": "zFxrYpCUdV5f",
        "colab": {
          "base_uri": "https://localhost:8080/"
        },
        "outputId": "6328df7d-393b-4ec2-8178-46918f3aa101"
      },
      "outputs": [
        {
          "output_type": "stream",
          "name": "stdout",
          "text": [
            "Before dataframe: \n",
            "          date     county      state    fips  cases  deaths\n",
            "10 2021-01-01    Chilton  Manhattan  1021.0   3004      54\n",
            "11 2021-01-01    Choctaw    Alabama  1023.0    491      22\n",
            "12 2021-01-01     Clarke    Alabama  1025.0   2418      26\n",
            "13 2021-01-01       Clay    Alabama  1027.0   1150      34\n",
            "14 2021-01-01   Cleburne    Alabama  1029.0   1036      16\n",
            "15 2021-01-01     Coffee    Alabama  1031.0   3643      38\n",
            "16 2021-01-01    Colbert    Alabama  1033.0   4701      60\n",
            "17 2021-01-01    Conecuh       None  1035.0    839      17\n",
            "18 2021-01-01      Coosa    Alabama  1037.0    519       7\n",
            "19 2021-01-01  Covington    Alabama  1039.0   2931      40 \n",
            "\n",
            "\n"
          ]
        },
        {
          "output_type": "stream",
          "name": "stderr",
          "text": [
            "<ipython-input-9-e9c1b69fc23e>:30: FutureWarning: Setting an item of incompatible dtype is deprecated and will raise an error in a future version of pandas. Value '['1021.0' '1023.0' '1025.0' '1027.0' '1029.0' '1031.0' '1033.0' '1037.0'\n",
            " '1039.0']' has dtype incompatible with float64, please explicitly cast to a compatible dtype first.\n",
            "  df[df[column].notna()] = df[df[column].notna()].astype(str)\n",
            "<ipython-input-9-e9c1b69fc23e>:30: FutureWarning: Setting an item of incompatible dtype is deprecated and will raise an error in a future version of pandas. Value '['3004' '491' '2418' '1150' '1036' '3643' '4701' '519' '2931']' has dtype incompatible with int64, please explicitly cast to a compatible dtype first.\n",
            "  df[df[column].notna()] = df[df[column].notna()].astype(str)\n",
            "<ipython-input-9-e9c1b69fc23e>:30: FutureWarning: Setting an item of incompatible dtype is deprecated and will raise an error in a future version of pandas. Value '['54' '22' '26' '34' '16' '38' '60' '7' '40']' has dtype incompatible with int64, please explicitly cast to a compatible dtype first.\n",
            "  df[df[column].notna()] = df[df[column].notna()].astype(str)\n"
          ]
        },
        {
          "output_type": "stream",
          "name": "stdout",
          "text": [
            "After dataframe: \n",
            "          date     county      state    fips  cases  deaths\n",
            "10 2021-01-01    Chilton  Manhattan  1021.0   3004      54\n",
            "11 2021-01-01    Choctaw    Alabama  1023.0    491      22\n",
            "12 2021-01-01     Clarke    Alabama  1025.0   2418      26\n",
            "13 2021-01-01       Clay    Alabama  1027.0   1150      34\n",
            "14 2021-01-01   Cleburne    Alabama  1029.0   1036      16\n",
            "15 2021-01-01     Coffee    Alabama  1031.0   3643      38\n",
            "16 2021-01-01    Colbert    Alabama  1033.0   4701      60\n",
            "17 2021-01-01    Conecuh    Alabama  1035.0    839      17\n",
            "18 2021-01-01      Coosa    Alabama  1037.0    519       7\n",
            "19 2021-01-01  Covington    Alabama  1039.0   2931      40 \n",
            "\n",
            "\n",
            "['Alabama']\n"
          ]
        },
        {
          "output_type": "stream",
          "name": "stderr",
          "text": [
            "/usr/local/lib/python3.11/dist-packages/sklearn/utils/validation.py:2739: UserWarning: X does not have valid feature names, but LogisticRegression was fitted with feature names\n",
            "  warnings.warn(\n"
          ]
        }
      ],
      "source": [
        "\"\"\"Initialise variables to run the test\"\"\"\n",
        "\n",
        "# Specify the paths to download the datasets\n",
        "download_path = './datasets'\n",
        "mcar_path = \"./data/MCAR\"\n",
        "\n",
        "# Get a dataset to test the imputation function\n",
        "df = pd.read_json(os.path.join(mcar_path, \"us-counties-2021.json\"), lines=True).iloc[10:20]\n",
        "df.loc[10, \"state\"] = \"Manhattan\"\n",
        "\n",
        "\n",
        "\n",
        "\"\"\"Run the test\"\"\"\n",
        "\n",
        "# Run the imputation function for a classification column\n",
        "print(f\"Before dataframe: \\n {df} \\n\\n\")\n",
        "df, predictions = regression_imputation(df, \"state\", True, True)\n",
        "print(f\"After dataframe: \\n {df} \\n\\n\")\n",
        "print(predictions)"
      ]
    },
    {
      "cell_type": "markdown",
      "metadata": {
        "id": "LPuA0h3EdV5f"
      },
      "source": [
        "#### Test 7 - Run Regression imputation with unencoded data to return encoded\n",
        "Run a dataset (with a categorical missingness column) that is unencoded through the current imputation function with the option to unencode switched off. Assess that the data in the missingness column is still encoded"
      ]
    },
    {
      "cell_type": "code",
      "execution_count": null,
      "metadata": {
        "id": "wBinRTbbdV5f",
        "colab": {
          "base_uri": "https://localhost:8080/"
        },
        "outputId": "9eb8c59f-ac8a-48a8-cd52-e90f7e98e2eb"
      },
      "outputs": [
        {
          "output_type": "stream",
          "name": "stdout",
          "text": [
            "Before dataframe: \n",
            "          date     county      state    fips  cases  deaths\n",
            "10 2021-01-01    Chilton  Manhattan  1021.0   3004      54\n",
            "11 2021-01-01    Choctaw    Alabama  1023.0    491      22\n",
            "12 2021-01-01     Clarke    Alabama  1025.0   2418      26\n",
            "13 2021-01-01       Clay    Alabama  1027.0   1150      34\n",
            "14 2021-01-01   Cleburne    Alabama  1029.0   1036      16\n",
            "15 2021-01-01     Coffee    Alabama  1031.0   3643      38\n",
            "16 2021-01-01    Colbert    Alabama  1033.0   4701      60\n",
            "17 2021-01-01    Conecuh       None  1035.0    839      17\n",
            "18 2021-01-01      Coosa    Alabama  1037.0    519       7\n",
            "19 2021-01-01  Covington    Alabama  1039.0   2931      40 \n",
            "\n",
            "\n",
            "After dataframe: \n",
            "          date     county      state    fips  cases  deaths\n",
            "10 2021-01-01    Chilton  Manhattan  1021.0   3004      54\n",
            "11 2021-01-01    Choctaw    Alabama  1023.0    491      22\n",
            "12 2021-01-01     Clarke    Alabama  1025.0   2418      26\n",
            "13 2021-01-01       Clay    Alabama  1027.0   1150      34\n",
            "14 2021-01-01   Cleburne    Alabama  1029.0   1036      16\n",
            "15 2021-01-01     Coffee    Alabama  1031.0   3643      38\n",
            "16 2021-01-01    Colbert    Alabama  1033.0   4701      60\n",
            "17 2021-01-01    Conecuh          0  1035.0    839      17\n",
            "18 2021-01-01      Coosa    Alabama  1037.0    519       7\n",
            "19 2021-01-01  Covington    Alabama  1039.0   2931      40 \n",
            "\n",
            "\n",
            "[0]\n"
          ]
        },
        {
          "output_type": "stream",
          "name": "stderr",
          "text": [
            "<ipython-input-9-e9c1b69fc23e>:30: FutureWarning: Setting an item of incompatible dtype is deprecated and will raise an error in a future version of pandas. Value '['1021.0' '1023.0' '1025.0' '1027.0' '1029.0' '1031.0' '1033.0' '1037.0'\n",
            " '1039.0']' has dtype incompatible with float64, please explicitly cast to a compatible dtype first.\n",
            "  df[df[column].notna()] = df[df[column].notna()].astype(str)\n",
            "<ipython-input-9-e9c1b69fc23e>:30: FutureWarning: Setting an item of incompatible dtype is deprecated and will raise an error in a future version of pandas. Value '['3004' '491' '2418' '1150' '1036' '3643' '4701' '519' '2931']' has dtype incompatible with int64, please explicitly cast to a compatible dtype first.\n",
            "  df[df[column].notna()] = df[df[column].notna()].astype(str)\n",
            "<ipython-input-9-e9c1b69fc23e>:30: FutureWarning: Setting an item of incompatible dtype is deprecated and will raise an error in a future version of pandas. Value '['54' '22' '26' '34' '16' '38' '60' '7' '40']' has dtype incompatible with int64, please explicitly cast to a compatible dtype first.\n",
            "  df[df[column].notna()] = df[df[column].notna()].astype(str)\n",
            "/usr/local/lib/python3.11/dist-packages/sklearn/utils/validation.py:2739: UserWarning: X does not have valid feature names, but LogisticRegression was fitted with feature names\n",
            "  warnings.warn(\n"
          ]
        }
      ],
      "source": [
        "\"\"\"Initialise variables to run the test\"\"\"\n",
        "\n",
        "# Specify the paths to download the datasets\n",
        "download_path = './datasets'\n",
        "mcar_path = \"./data/MCAR\"\n",
        "\n",
        "# Get a dataset to test the imputation function\n",
        "df = pd.read_json(os.path.join(mcar_path, \"us-counties-2021.json\"), lines=True).iloc[10:20]\n",
        "df.loc[10, \"state\"] = \"Manhattan\"\n",
        "\n",
        "\n",
        "\n",
        "\n",
        "\"\"\"Run the test\"\"\"\n",
        "\n",
        "# Run the imputation function for a classification column\n",
        "print(f\"Before dataframe: \\n {df} \\n\\n\")\n",
        "df, predictions = regression_imputation(df, \"state\", True, False)\n",
        "print(f\"After dataframe: \\n {df} \\n\\n\")\n",
        "print(predictions)"
      ]
    },
    {
      "cell_type": "markdown",
      "metadata": {
        "id": "RLn4W8YadV5f"
      },
      "source": [
        "#### Test 8 - Run Regression imputation with unencoded data to return unencoded\n",
        "Run a dataset (with a categorical missingness column) that is unencoded through the current imputation function with the option to unencode switched on. Assess that the data in the missingness column is unencoded"
      ]
    },
    {
      "cell_type": "code",
      "execution_count": null,
      "metadata": {
        "id": "c7Ova_A_dV5f",
        "colab": {
          "base_uri": "https://localhost:8080/"
        },
        "outputId": "c71d40e3-282f-492e-ac01-392cafea2fd9"
      },
      "outputs": [
        {
          "output_type": "stream",
          "name": "stdout",
          "text": [
            "Before dataframe: \n",
            "          date     county      state    fips  cases  deaths\n",
            "10 2021-01-01    Chilton  Manhattan  1021.0   3004      54\n",
            "11 2021-01-01    Choctaw    Alabama  1023.0    491      22\n",
            "12 2021-01-01     Clarke    Alabama  1025.0   2418      26\n",
            "13 2021-01-01       Clay    Alabama  1027.0   1150      34\n",
            "14 2021-01-01   Cleburne    Alabama  1029.0   1036      16\n",
            "15 2021-01-01     Coffee    Alabama  1031.0   3643      38\n",
            "16 2021-01-01    Colbert    Alabama  1033.0   4701      60\n",
            "17 2021-01-01    Conecuh       None  1035.0    839      17\n",
            "18 2021-01-01      Coosa    Alabama  1037.0    519       7\n",
            "19 2021-01-01  Covington    Alabama  1039.0   2931      40 \n",
            "\n",
            "\n"
          ]
        },
        {
          "output_type": "stream",
          "name": "stderr",
          "text": [
            "<ipython-input-9-e9c1b69fc23e>:30: FutureWarning: Setting an item of incompatible dtype is deprecated and will raise an error in a future version of pandas. Value '['1021.0' '1023.0' '1025.0' '1027.0' '1029.0' '1031.0' '1033.0' '1037.0'\n",
            " '1039.0']' has dtype incompatible with float64, please explicitly cast to a compatible dtype first.\n",
            "  df[df[column].notna()] = df[df[column].notna()].astype(str)\n",
            "<ipython-input-9-e9c1b69fc23e>:30: FutureWarning: Setting an item of incompatible dtype is deprecated and will raise an error in a future version of pandas. Value '['3004' '491' '2418' '1150' '1036' '3643' '4701' '519' '2931']' has dtype incompatible with int64, please explicitly cast to a compatible dtype first.\n",
            "  df[df[column].notna()] = df[df[column].notna()].astype(str)\n",
            "<ipython-input-9-e9c1b69fc23e>:30: FutureWarning: Setting an item of incompatible dtype is deprecated and will raise an error in a future version of pandas. Value '['54' '22' '26' '34' '16' '38' '60' '7' '40']' has dtype incompatible with int64, please explicitly cast to a compatible dtype first.\n",
            "  df[df[column].notna()] = df[df[column].notna()].astype(str)\n"
          ]
        },
        {
          "output_type": "stream",
          "name": "stdout",
          "text": [
            "After dataframe: \n",
            "          date     county      state    fips  cases  deaths\n",
            "10 2021-01-01    Chilton  Manhattan  1021.0   3004      54\n",
            "11 2021-01-01    Choctaw    Alabama  1023.0    491      22\n",
            "12 2021-01-01     Clarke    Alabama  1025.0   2418      26\n",
            "13 2021-01-01       Clay    Alabama  1027.0   1150      34\n",
            "14 2021-01-01   Cleburne    Alabama  1029.0   1036      16\n",
            "15 2021-01-01     Coffee    Alabama  1031.0   3643      38\n",
            "16 2021-01-01    Colbert    Alabama  1033.0   4701      60\n",
            "17 2021-01-01    Conecuh    Alabama  1035.0    839      17\n",
            "18 2021-01-01      Coosa    Alabama  1037.0    519       7\n",
            "19 2021-01-01  Covington    Alabama  1039.0   2931      40 \n",
            "\n",
            "\n",
            "['Alabama']\n"
          ]
        },
        {
          "output_type": "stream",
          "name": "stderr",
          "text": [
            "/usr/local/lib/python3.11/dist-packages/sklearn/utils/validation.py:2739: UserWarning: X does not have valid feature names, but LogisticRegression was fitted with feature names\n",
            "  warnings.warn(\n"
          ]
        }
      ],
      "source": [
        "\"\"\"Initialise variables to run the test\"\"\"\n",
        "\n",
        "# Specify the paths to download the datasets\n",
        "download_path = './datasets'\n",
        "mcar_path = \"./data/MCAR\"\n",
        "\n",
        "# Get a dataset to test the imputation function\n",
        "df = pd.read_json(os.path.join(mcar_path, \"us-counties-2021.json\"), lines=True).iloc[10:20]\n",
        "df.loc[10, \"state\"] = \"Manhattan\"\n",
        "\n",
        "\n",
        "\n",
        "\n",
        "\"\"\"Run the test\"\"\"\n",
        "\n",
        "# Run the imputation function for a classification column\n",
        "print(f\"Before dataframe: \\n {df} \\n\\n\")\n",
        "df, predictions = regression_imputation(df, \"state\", True, True)\n",
        "print(f\"After dataframe: \\n {df} \\n\\n\")\n",
        "print(predictions)"
      ]
    },
    {
      "cell_type": "markdown",
      "metadata": {
        "id": "On_iLGsndb9q"
      },
      "source": [
        "#### Test 9 - Run continuous MICE imputation on current imputation algorithm\n",
        "Run a dataset whose missingness column contains (numerical / continuous) data through the current imputation function. Assess the data in the missingness column of the dataset has been imputed"
      ]
    },
    {
      "cell_type": "code",
      "execution_count": null,
      "metadata": {
        "id": "CVNtTA1kdb9q",
        "colab": {
          "base_uri": "https://localhost:8080/"
        },
        "outputId": "2411faaa-f09b-44ae-a791-facdfaa6485c"
      },
      "outputs": [
        {
          "output_type": "stream",
          "name": "stdout",
          "text": [
            "Before dataframe: \n",
            "         date    county    state    fips  cases  deaths\n",
            "0 2022-01-01   Autauga  Alabama  1001.0  11018     160\n",
            "1 2022-01-01   Baldwin  Alabama  1003.0  39911     593\n",
            "2 2022-01-01   Barbour  Alabama  1005.0   3860      81\n",
            "3 2022-01-01      Bibb  Alabama  1007.0   4533      95\n",
            "4 2022-01-01    Blount  Alabama  1009.0  11256     198\n",
            "5 2022-01-01   Bullock  Alabama     NaN   1676      46\n",
            "6 2022-01-01    Butler  Alabama  1013.0   3613     102\n",
            "7 2022-01-01   Calhoun  Alabama     NaN  23411     532\n",
            "8 2022-01-01  Chambers  Alabama     NaN   6171     147\n",
            "9 2022-01-01  Cherokee  Alabama     NaN   3385      65 \n",
            "\n",
            "\n",
            "After dataframe: \n",
            "         date    county    state         fips  cases  deaths\n",
            "0 2022-01-01   Autauga  Alabama  1001.000000  11018     160\n",
            "1 2022-01-01   Baldwin  Alabama  1003.000000  39911     593\n",
            "2 2022-01-01   Barbour  Alabama  1005.000000   3860      81\n",
            "3 2022-01-01      Bibb  Alabama  1007.000000   4533      95\n",
            "4 2022-01-01    Blount  Alabama  1009.000000  11256     198\n",
            "5 2022-01-01   Bullock  Alabama  1005.818323   1676      46\n",
            "6 2022-01-01    Butler  Alabama  1013.000000   3613     102\n",
            "7 2022-01-01   Calhoun  Alabama  1044.833572  23411     532\n",
            "8 2022-01-01  Chambers  Alabama  1014.233800   6171     147\n",
            "9 2022-01-01  Cherokee  Alabama  1004.831647   3385      65 \n",
            "\n",
            "\n",
            "[1005.818322798062, 1044.8335724011001, 1014.2338003112803, 1004.8316468241495]\n"
          ]
        }
      ],
      "source": [
        "\"\"\"Initialise variables to run the test\"\"\"\n",
        "\n",
        "# Specify the paths to download the datasets\n",
        "download_path = './datasets'\n",
        "mcar_path = \"./data/MCAR\"\n",
        "\n",
        "# Get a dataset to test the imputation function\n",
        "df = pd.read_json(os.path.join(mcar_path, \"us-counties-2022.json\"), lines=True, nrows=10)\n",
        "\n",
        "\n",
        "\n",
        "\n",
        "\n",
        "\"\"\"Run the test\"\"\"\n",
        "\n",
        "# Run the imputation function for a continuous column\n",
        "print(f\"Before dataframe: \\n {df} \\n\\n\")\n",
        "df, predictions = mice_imputation(df, \"fips\", False, True)\n",
        "print(f\"After dataframe: \\n {df} \\n\\n\")\n",
        "print(predictions)"
      ]
    },
    {
      "cell_type": "markdown",
      "metadata": {
        "id": "fFcpLL45db9r"
      },
      "source": [
        "#### Test 10 - Run categorical MICE imputation on current imputation algorithm\n",
        "Run a dataset whose missingness column contains (numerical / continuous) data through the current imputation function. Assess the data in the missingness column of the dataset has been imputed with the list of predicted values"
      ]
    },
    {
      "cell_type": "code",
      "execution_count": null,
      "metadata": {
        "id": "8Qj8Sao9db9r",
        "colab": {
          "base_uri": "https://localhost:8080/"
        },
        "outputId": "d6c3b31d-9750-4d7f-9c2d-ba352e3862d6"
      },
      "outputs": [
        {
          "output_type": "stream",
          "name": "stdout",
          "text": [
            "Before dataframe: \n",
            "          date     county    state    fips  cases  deaths\n",
            "10 2021-01-01    Chilton  Alabama  1021.0   3004      54\n",
            "11 2021-01-01    Choctaw  Alabama  1023.0    491      22\n",
            "12 2021-01-01     Clarke  Alabama  1025.0   2418      26\n",
            "13 2021-01-01       Clay  Alabama  1027.0   1150      34\n",
            "14 2021-01-01   Cleburne  Alabama  1029.0   1036      16\n",
            "15 2021-01-01     Coffee  Alabama  1031.0   3643      38\n",
            "16 2021-01-01    Colbert  Alabama  1033.0   4701      60\n",
            "17 2021-01-01    Conecuh     None  1035.0    839      17\n",
            "18 2021-01-01      Coosa  Alabama  1037.0    519       7\n",
            "19 2021-01-01  Covington  Alabama  1039.0   2931      40 \n",
            "\n",
            "\n",
            "After dataframe: \n",
            "          date     county    state    fips  cases  deaths\n",
            "10 2021-01-01    Chilton  Alabama  1021.0   3004      54\n",
            "11 2021-01-01    Choctaw  Alabama  1023.0    491      22\n",
            "12 2021-01-01     Clarke  Alabama  1025.0   2418      26\n",
            "13 2021-01-01       Clay  Alabama  1027.0   1150      34\n",
            "14 2021-01-01   Cleburne  Alabama  1029.0   1036      16\n",
            "15 2021-01-01     Coffee  Alabama  1031.0   3643      38\n",
            "16 2021-01-01    Colbert  Alabama  1033.0   4701      60\n",
            "17 2021-01-01    Conecuh  Alabama  1035.0    839      17\n",
            "18 2021-01-01      Coosa  Alabama  1037.0    519       7\n",
            "19 2021-01-01  Covington  Alabama  1039.0   2931      40 \n",
            "\n",
            "\n",
            "['Alabama']\n"
          ]
        },
        {
          "output_type": "stream",
          "name": "stderr",
          "text": [
            "<ipython-input-10-97694299c96e>:30: FutureWarning: Setting an item of incompatible dtype is deprecated and will raise an error in a future version of pandas. Value '['0' '0' '0' '0' '0' '0' '0' '0' '0']' has dtype incompatible with int64, please explicitly cast to a compatible dtype first.\n",
            "  df[df[column].notna()] = df[df[column].notna()].astype(str)\n",
            "<ipython-input-10-97694299c96e>:30: FutureWarning: Setting an item of incompatible dtype is deprecated and will raise an error in a future version of pandas. Value '['0' '1' '2' '3' '4' '5' '6' '8' '9']' has dtype incompatible with int64, please explicitly cast to a compatible dtype first.\n",
            "  df[df[column].notna()] = df[df[column].notna()].astype(str)\n",
            "<ipython-input-10-97694299c96e>:30: FutureWarning: Setting an item of incompatible dtype is deprecated and will raise an error in a future version of pandas. Value '['1021.0' '1023.0' '1025.0' '1027.0' '1029.0' '1031.0' '1033.0' '1037.0'\n",
            " '1039.0']' has dtype incompatible with float64, please explicitly cast to a compatible dtype first.\n",
            "  df[df[column].notna()] = df[df[column].notna()].astype(str)\n",
            "<ipython-input-10-97694299c96e>:30: FutureWarning: Setting an item of incompatible dtype is deprecated and will raise an error in a future version of pandas. Value '['3004' '491' '2418' '1150' '1036' '3643' '4701' '519' '2931']' has dtype incompatible with int64, please explicitly cast to a compatible dtype first.\n",
            "  df[df[column].notna()] = df[df[column].notna()].astype(str)\n",
            "<ipython-input-10-97694299c96e>:30: FutureWarning: Setting an item of incompatible dtype is deprecated and will raise an error in a future version of pandas. Value '['54' '22' '26' '34' '16' '38' '60' '7' '40']' has dtype incompatible with int64, please explicitly cast to a compatible dtype first.\n",
            "  df[df[column].notna()] = df[df[column].notna()].astype(str)\n"
          ]
        }
      ],
      "source": [
        "\"\"\"Initialise variables to run the test\"\"\"\n",
        "\n",
        "# Specify the paths to download the datasets\n",
        "download_path = './datasets'\n",
        "mcar_path = \"./data/MCAR\"\n",
        "\n",
        "# Get a dataset to test the imputation function\n",
        "df = pd.read_json(os.path.join(mcar_path, \"us-counties-2021.json\"), lines=True).iloc[10:20]\n",
        "\n",
        "\n",
        "\n",
        "\n",
        "\"\"\"Run the test\"\"\"\n",
        "\n",
        "# Run the imputation function for a classification column\n",
        "print(f\"Before dataframe: \\n {df} \\n\\n\")\n",
        "df, predictions = mice_imputation(df, \"state\", True, True)\n",
        "print(f\"After dataframe: \\n {df} \\n\\n\")\n",
        "print(predictions)"
      ]
    },
    {
      "cell_type": "markdown",
      "metadata": {
        "id": "lRcQdGAWdb9r"
      },
      "source": [
        "#### Test 11 - Run MICE imputation with unencoded data to return encoded\n",
        "Run a dataset (with a categorical missingness column) that is unencoded through the current imputation function with the option to unencode switched off. Assess that the data in the missingness column is still encoded"
      ]
    },
    {
      "cell_type": "code",
      "execution_count": null,
      "metadata": {
        "id": "kviTa8aedb9r",
        "colab": {
          "base_uri": "https://localhost:8080/"
        },
        "outputId": "7ce76fd2-ab87-41e5-fdcb-3aa52b2e88e5"
      },
      "outputs": [
        {
          "output_type": "stream",
          "name": "stdout",
          "text": [
            "Before dataframe: \n",
            "          date     county    state    fips  cases  deaths\n",
            "10 2021-01-01    Chilton  Alabama  1021.0   3004      54\n",
            "11 2021-01-01    Choctaw  Alabama  1023.0    491      22\n",
            "12 2021-01-01     Clarke  Alabama  1025.0   2418      26\n",
            "13 2021-01-01       Clay  Alabama  1027.0   1150      34\n",
            "14 2021-01-01   Cleburne  Alabama  1029.0   1036      16\n",
            "15 2021-01-01     Coffee  Alabama  1031.0   3643      38\n",
            "16 2021-01-01    Colbert  Alabama  1033.0   4701      60\n",
            "17 2021-01-01    Conecuh     None  1035.0    839      17\n",
            "18 2021-01-01      Coosa  Alabama  1037.0    519       7\n",
            "19 2021-01-01  Covington  Alabama  1039.0   2931      40 \n",
            "\n",
            "\n",
            "After dataframe: \n",
            "          date     county state    fips  cases  deaths\n",
            "10 2021-01-01    Chilton   NaN  1021.0   3004      54\n",
            "11 2021-01-01    Choctaw   NaN  1023.0    491      22\n",
            "12 2021-01-01     Clarke   NaN  1025.0   2418      26\n",
            "13 2021-01-01       Clay   NaN  1027.0   1150      34\n",
            "14 2021-01-01   Cleburne   NaN  1029.0   1036      16\n",
            "15 2021-01-01     Coffee   NaN  1031.0   3643      38\n",
            "16 2021-01-01    Colbert   NaN  1033.0   4701      60\n",
            "17 2021-01-01    Conecuh   NaN  1035.0    839      17\n",
            "18 2021-01-01      Coosa   NaN  1037.0    519       7\n",
            "19 2021-01-01  Covington   NaN  1039.0   2931      40 \n",
            "\n",
            "\n",
            "[nan]\n"
          ]
        },
        {
          "output_type": "stream",
          "name": "stderr",
          "text": [
            "<ipython-input-10-97694299c96e>:30: FutureWarning: Setting an item of incompatible dtype is deprecated and will raise an error in a future version of pandas. Value '['0' '0' '0' '0' '0' '0' '0' '0' '0']' has dtype incompatible with int64, please explicitly cast to a compatible dtype first.\n",
            "  df[df[column].notna()] = df[df[column].notna()].astype(str)\n",
            "<ipython-input-10-97694299c96e>:30: FutureWarning: Setting an item of incompatible dtype is deprecated and will raise an error in a future version of pandas. Value '['0' '1' '2' '3' '4' '5' '6' '8' '9']' has dtype incompatible with int64, please explicitly cast to a compatible dtype first.\n",
            "  df[df[column].notna()] = df[df[column].notna()].astype(str)\n",
            "<ipython-input-10-97694299c96e>:30: FutureWarning: Setting an item of incompatible dtype is deprecated and will raise an error in a future version of pandas. Value '['1021.0' '1023.0' '1025.0' '1027.0' '1029.0' '1031.0' '1033.0' '1037.0'\n",
            " '1039.0']' has dtype incompatible with float64, please explicitly cast to a compatible dtype first.\n",
            "  df[df[column].notna()] = df[df[column].notna()].astype(str)\n",
            "<ipython-input-10-97694299c96e>:30: FutureWarning: Setting an item of incompatible dtype is deprecated and will raise an error in a future version of pandas. Value '['3004' '491' '2418' '1150' '1036' '3643' '4701' '519' '2931']' has dtype incompatible with int64, please explicitly cast to a compatible dtype first.\n",
            "  df[df[column].notna()] = df[df[column].notna()].astype(str)\n",
            "<ipython-input-10-97694299c96e>:30: FutureWarning: Setting an item of incompatible dtype is deprecated and will raise an error in a future version of pandas. Value '['54' '22' '26' '34' '16' '38' '60' '7' '40']' has dtype incompatible with int64, please explicitly cast to a compatible dtype first.\n",
            "  df[df[column].notna()] = df[df[column].notna()].astype(str)\n"
          ]
        }
      ],
      "source": [
        "\"\"\"Initialise variables to run the test\"\"\"\n",
        "\n",
        "# Specify the paths to download the datasets\n",
        "download_path = './datasets'\n",
        "mcar_path = \"./data/MCAR\"\n",
        "\n",
        "# Get a dataset to test the imputation function\n",
        "df = pd.read_json(os.path.join(mcar_path, \"us-counties-2021.json\"), lines=True).iloc[10:20]\n",
        "\n",
        "\n",
        "\n",
        "\n",
        "\"\"\"Run the test\"\"\"\n",
        "\n",
        "# Run the imputation function for a classification column\n",
        "print(f\"Before dataframe: \\n {df} \\n\\n\")\n",
        "df, predictions = mice_imputation(df, \"state\", True, False)\n",
        "print(f\"After dataframe: \\n {df} \\n\\n\")\n",
        "print(predictions)"
      ]
    },
    {
      "cell_type": "markdown",
      "metadata": {
        "id": "c1rh6pBudb9r"
      },
      "source": [
        "#### Test 12 - Run MICE imputation with unencoded data to return unencoded\n",
        "Run a dataset (with a categorical missingness column) that is unencoded through the current imputation function with the option to unencode switched on. Assess that the data in the missingness column is unencoded"
      ]
    },
    {
      "cell_type": "code",
      "execution_count": null,
      "metadata": {
        "id": "rhKsP4a2db9r",
        "colab": {
          "base_uri": "https://localhost:8080/"
        },
        "outputId": "152b1dcd-8c1d-4f99-8df4-9960c492f6f6"
      },
      "outputs": [
        {
          "output_type": "stream",
          "name": "stdout",
          "text": [
            "Before dataframe: \n",
            "          date     county    state    fips  cases  deaths\n",
            "10 2021-01-01    Chilton  Alabama  1021.0   3004      54\n",
            "11 2021-01-01    Choctaw  Alabama  1023.0    491      22\n",
            "12 2021-01-01     Clarke  Alabama  1025.0   2418      26\n",
            "13 2021-01-01       Clay  Alabama  1027.0   1150      34\n",
            "14 2021-01-01   Cleburne  Alabama  1029.0   1036      16\n",
            "15 2021-01-01     Coffee  Alabama  1031.0   3643      38\n",
            "16 2021-01-01    Colbert  Alabama  1033.0   4701      60\n",
            "17 2021-01-01    Conecuh     None  1035.0    839      17\n",
            "18 2021-01-01      Coosa  Alabama  1037.0    519       7\n",
            "19 2021-01-01  Covington  Alabama  1039.0   2931      40 \n",
            "\n",
            "\n",
            "After dataframe: \n",
            "          date     county    state    fips  cases  deaths\n",
            "10 2021-01-01    Chilton  Alabama  1021.0   3004      54\n",
            "11 2021-01-01    Choctaw  Alabama  1023.0    491      22\n",
            "12 2021-01-01     Clarke  Alabama  1025.0   2418      26\n",
            "13 2021-01-01       Clay  Alabama  1027.0   1150      34\n",
            "14 2021-01-01   Cleburne  Alabama  1029.0   1036      16\n",
            "15 2021-01-01     Coffee  Alabama  1031.0   3643      38\n",
            "16 2021-01-01    Colbert  Alabama  1033.0   4701      60\n",
            "17 2021-01-01    Conecuh  Alabama  1035.0    839      17\n",
            "18 2021-01-01      Coosa  Alabama  1037.0    519       7\n",
            "19 2021-01-01  Covington  Alabama  1039.0   2931      40 \n",
            "\n",
            "\n",
            "['Alabama']\n"
          ]
        },
        {
          "output_type": "stream",
          "name": "stderr",
          "text": [
            "<ipython-input-10-97694299c96e>:30: FutureWarning: Setting an item of incompatible dtype is deprecated and will raise an error in a future version of pandas. Value '['0' '0' '0' '0' '0' '0' '0' '0' '0']' has dtype incompatible with int64, please explicitly cast to a compatible dtype first.\n",
            "  df[df[column].notna()] = df[df[column].notna()].astype(str)\n",
            "<ipython-input-10-97694299c96e>:30: FutureWarning: Setting an item of incompatible dtype is deprecated and will raise an error in a future version of pandas. Value '['0' '1' '2' '3' '4' '5' '6' '8' '9']' has dtype incompatible with int64, please explicitly cast to a compatible dtype first.\n",
            "  df[df[column].notna()] = df[df[column].notna()].astype(str)\n",
            "<ipython-input-10-97694299c96e>:30: FutureWarning: Setting an item of incompatible dtype is deprecated and will raise an error in a future version of pandas. Value '['1021.0' '1023.0' '1025.0' '1027.0' '1029.0' '1031.0' '1033.0' '1037.0'\n",
            " '1039.0']' has dtype incompatible with float64, please explicitly cast to a compatible dtype first.\n",
            "  df[df[column].notna()] = df[df[column].notna()].astype(str)\n",
            "<ipython-input-10-97694299c96e>:30: FutureWarning: Setting an item of incompatible dtype is deprecated and will raise an error in a future version of pandas. Value '['3004' '491' '2418' '1150' '1036' '3643' '4701' '519' '2931']' has dtype incompatible with int64, please explicitly cast to a compatible dtype first.\n",
            "  df[df[column].notna()] = df[df[column].notna()].astype(str)\n",
            "<ipython-input-10-97694299c96e>:30: FutureWarning: Setting an item of incompatible dtype is deprecated and will raise an error in a future version of pandas. Value '['54' '22' '26' '34' '16' '38' '60' '7' '40']' has dtype incompatible with int64, please explicitly cast to a compatible dtype first.\n",
            "  df[df[column].notna()] = df[df[column].notna()].astype(str)\n"
          ]
        }
      ],
      "source": [
        "\"\"\"Initialise variables to run the test\"\"\"\n",
        "\n",
        "# Specify the paths to download the datasets\n",
        "download_path = './datasets'\n",
        "mcar_path = \"./data/MCAR\"\n",
        "\n",
        "# Get a dataset to test the imputation function\n",
        "df = pd.read_json(os.path.join(mcar_path, \"us-counties-2021.json\"), lines=True).iloc[10:20]\n",
        "\n",
        "\n",
        "\n",
        "\n",
        "\"\"\"Run the test\"\"\"\n",
        "\n",
        "# Run the imputation function for a classification column\n",
        "print(f\"Before dataframe: \\n {df} \\n\\n\")\n",
        "df, predictions = mice_imputation(df, \"state\", True, True)\n",
        "print(f\"After dataframe: \\n {df} \\n\\n\")\n",
        "print(predictions)"
      ]
    },
    {
      "cell_type": "markdown",
      "metadata": {
        "id": "PBRr4O4HdjNh"
      },
      "source": [
        "#### Test 13 - Run continuous MissForest imputation on current imputation algorithm\n",
        "Run a dataset whose missingness column contains (numerical / continuous) data through the current imputation function. Assess the data in the missingness column of the dataset has been imputed"
      ]
    },
    {
      "cell_type": "code",
      "execution_count": null,
      "metadata": {
        "id": "C79qq-eAdjNh",
        "colab": {
          "base_uri": "https://localhost:8080/"
        },
        "outputId": "90ccb222-a032-476c-9ae8-bef58bb3e6b8"
      },
      "outputs": [
        {
          "output_type": "stream",
          "name": "stderr",
          "text": [
            "/usr/local/lib/python3.11/dist-packages/missforest/missforest.py:333: UserWarning: Label encoding is no longer performed by default. Users will have to perform categorical features encoding by themselves.\n",
            "  warnings.warn(\"Label encoding is no longer performed by default. \"\n"
          ]
        },
        {
          "output_type": "stream",
          "name": "stdout",
          "text": [
            "Before dataframe: \n",
            "         date    county    state    fips  cases  deaths\n",
            "0 2022-01-01   Autauga  Alabama  1001.0  11018     160\n",
            "1 2022-01-01   Baldwin  Alabama  1003.0  39911     593\n",
            "2 2022-01-01   Barbour  Alabama  1005.0   3860      81\n",
            "3 2022-01-01      Bibb  Alabama  1007.0   4533      95\n",
            "4 2022-01-01    Blount  Alabama  1009.0  11256     198\n",
            "5 2022-01-01   Bullock  Alabama     NaN   1676      46\n",
            "6 2022-01-01    Butler  Alabama  1013.0   3613     102\n",
            "7 2022-01-01   Calhoun  Alabama     NaN  23411     532\n",
            "8 2022-01-01  Chambers  Alabama     NaN   6171     147\n",
            "9 2022-01-01  Cherokee  Alabama     NaN   3385      65 \n",
            "\n",
            "\n"
          ]
        },
        {
          "output_type": "stream",
          "name": "stderr",
          "text": [
            "100%|██████████| 5/5 [00:00<00:00, 18.14it/s]\n",
            "/usr/local/lib/python3.11/dist-packages/missforest/missforest.py:490: UserWarning: Label encoding is no longer performed by default. Users will have to perform categorical features encoding by themselves.\n",
            "  warnings.warn(\"Label encoding is no longer performed by default. \"\n",
            "/usr/local/lib/python3.11/dist-packages/missforest/missforest.py:494: UserWarning: In version 4.2.3, estimator fitting process is moved to `fit` method. `MissForest` will now imputes unseen missing values with fitted estimators with `transform` method. To retain the old behaviour, use `fit_transform` to fit the whole unseen data instead.\n",
            "  warnings.warn(f\"In version {VERSION}, estimator fitting process \"\n",
            "100%|██████████| 5/5 [00:00<00:00, 129.45it/s]"
          ]
        },
        {
          "output_type": "stream",
          "name": "stdout",
          "text": [
            "After dataframe: \n",
            "         date    county    state         fips  cases  deaths\n",
            "0 2022-01-01   Autauga  Alabama  1001.000000  11018     160\n",
            "1 2022-01-01   Baldwin  Alabama  1003.000000  39911     593\n",
            "2 2022-01-01   Barbour  Alabama  1005.000000   3860      81\n",
            "3 2022-01-01      Bibb  Alabama  1007.000000   4533      95\n",
            "4 2022-01-01    Blount  Alabama  1009.000000  11256     198\n",
            "5 2022-01-01   Bullock  Alabama  1006.329932   1676      46\n",
            "6 2022-01-01    Butler  Alabama  1013.000000   3613     102\n",
            "7 2022-01-01   Calhoun  Alabama  1006.329932  23411     532\n",
            "8 2022-01-01  Chambers  Alabama  1006.329932   6171     147\n",
            "9 2022-01-01  Cherokee  Alabama  1006.329932   3385      65 \n",
            "\n",
            "\n",
            "[1006.329931640625, 1006.329931640625, 1006.329931640625, 1006.329931640625]\n"
          ]
        },
        {
          "output_type": "stream",
          "name": "stderr",
          "text": [
            "\n"
          ]
        }
      ],
      "source": [
        "\"\"\"Initialise variables to run the test\"\"\"\n",
        "\n",
        "# Specify the paths to download the datasets\n",
        "download_path = './datasets'\n",
        "mcar_path = \"./data/MCAR\"\n",
        "\n",
        "# Get a dataset to test the imputation function\n",
        "df = pd.read_json(os.path.join(mcar_path, \"us-counties-2022.json\"), lines=True, nrows=10)\n",
        "\n",
        "\n",
        "\n",
        "\n",
        "\n",
        "\"\"\"Run the test\"\"\"\n",
        "\n",
        "# Run the imputation function for a continuous column\n",
        "print(f\"Before dataframe: \\n {df} \\n\\n\")\n",
        "df, predictions = missforest_imputation(df, \"fips\", False, False, True)\n",
        "print(f\"After dataframe: \\n {df} \\n\\n\")\n",
        "print(predictions)"
      ]
    },
    {
      "cell_type": "markdown",
      "metadata": {
        "id": "-MpoQJ0MdjNh"
      },
      "source": [
        "#### Test 14 - Run categorical MissForest imputation on current imputation algorithm\n",
        "Run a dataset whose missingness column contains (numerical / continuous) data through the current imputation function. Assess the data in the missingness column of the dataset has been imputed with the list of predicted values"
      ]
    },
    {
      "cell_type": "code",
      "execution_count": null,
      "metadata": {
        "id": "GWs6VUA5djNh",
        "colab": {
          "base_uri": "https://localhost:8080/"
        },
        "outputId": "ab00dca7-911b-40d7-cadb-714b7c463f34"
      },
      "outputs": [
        {
          "output_type": "stream",
          "name": "stderr",
          "text": [
            "<ipython-input-11-58656953ce43>:30: FutureWarning: Setting an item of incompatible dtype is deprecated and will raise an error in a future version of pandas. Value '['0' '0' '0' '0' '0' '0' '0' '0' '0']' has dtype incompatible with int64, please explicitly cast to a compatible dtype first.\n",
            "  df[df[column].notna()] = df[df[column].notna()].astype(str)\n",
            "<ipython-input-11-58656953ce43>:30: FutureWarning: Setting an item of incompatible dtype is deprecated and will raise an error in a future version of pandas. Value '['0' '1' '2' '3' '4' '5' '6' '8' '9']' has dtype incompatible with int64, please explicitly cast to a compatible dtype first.\n",
            "  df[df[column].notna()] = df[df[column].notna()].astype(str)\n",
            "<ipython-input-11-58656953ce43>:30: FutureWarning: Setting an item of incompatible dtype is deprecated and will raise an error in a future version of pandas. Value '['1021.0' '1023.0' '1025.0' '1027.0' '1029.0' '1031.0' '1033.0' '1037.0'\n",
            " '1039.0']' has dtype incompatible with float64, please explicitly cast to a compatible dtype first.\n",
            "  df[df[column].notna()] = df[df[column].notna()].astype(str)\n",
            "<ipython-input-11-58656953ce43>:30: FutureWarning: Setting an item of incompatible dtype is deprecated and will raise an error in a future version of pandas. Value '['3004' '491' '2418' '1150' '1036' '3643' '4701' '519' '2931']' has dtype incompatible with int64, please explicitly cast to a compatible dtype first.\n",
            "  df[df[column].notna()] = df[df[column].notna()].astype(str)\n",
            "<ipython-input-11-58656953ce43>:30: FutureWarning: Setting an item of incompatible dtype is deprecated and will raise an error in a future version of pandas. Value '['54' '22' '26' '34' '16' '38' '60' '7' '40']' has dtype incompatible with int64, please explicitly cast to a compatible dtype first.\n",
            "  df[df[column].notna()] = df[df[column].notna()].astype(str)\n",
            "/usr/local/lib/python3.11/dist-packages/missforest/missforest.py:333: UserWarning: Label encoding is no longer performed by default. Users will have to perform categorical features encoding by themselves.\n",
            "  warnings.warn(\"Label encoding is no longer performed by default. \"\n"
          ]
        },
        {
          "output_type": "stream",
          "name": "stdout",
          "text": [
            "Before dataframe: \n",
            "          date     county    state    fips  cases  deaths\n",
            "10 2021-01-01    Chilton  Alabama  1021.0   3004      54\n",
            "11 2021-01-01    Choctaw  Alabama  1023.0    491      22\n",
            "12 2021-01-01     Clarke  Alabama  1025.0   2418      26\n",
            "13 2021-01-01       Clay  Alabama  1027.0   1150      34\n",
            "14 2021-01-01   Cleburne  Alabama  1029.0   1036      16\n",
            "15 2021-01-01     Coffee  Alabama  1031.0   3643      38\n",
            "16 2021-01-01    Colbert  Alabama  1033.0   4701      60\n",
            "17 2021-01-01    Conecuh     None  1035.0    839      17\n",
            "18 2021-01-01      Coosa  Alabama  1037.0    519       7\n",
            "19 2021-01-01  Covington  Alabama  1039.0   2931      40 \n",
            "\n",
            "\n"
          ]
        },
        {
          "output_type": "stream",
          "name": "stderr",
          "text": [
            "100%|██████████| 5/5 [00:00<00:00, 19.45it/s]\n",
            "/usr/local/lib/python3.11/dist-packages/missforest/missforest.py:490: UserWarning: Label encoding is no longer performed by default. Users will have to perform categorical features encoding by themselves.\n",
            "  warnings.warn(\"Label encoding is no longer performed by default. \"\n",
            "/usr/local/lib/python3.11/dist-packages/missforest/missforest.py:494: UserWarning: In version 4.2.3, estimator fitting process is moved to `fit` method. `MissForest` will now imputes unseen missing values with fitted estimators with `transform` method. To retain the old behaviour, use `fit_transform` to fit the whole unseen data instead.\n",
            "  warnings.warn(f\"In version {VERSION}, estimator fitting process \"\n",
            "100%|██████████| 5/5 [00:00<00:00, 160.97it/s]"
          ]
        },
        {
          "output_type": "stream",
          "name": "stdout",
          "text": [
            "After dataframe: \n",
            "          date     county    state    fips  cases  deaths\n",
            "10 2021-01-01    Chilton  Alabama  1021.0   3004      54\n",
            "11 2021-01-01    Choctaw  Alabama  1023.0    491      22\n",
            "12 2021-01-01     Clarke  Alabama  1025.0   2418      26\n",
            "13 2021-01-01       Clay  Alabama  1027.0   1150      34\n",
            "14 2021-01-01   Cleburne  Alabama  1029.0   1036      16\n",
            "15 2021-01-01     Coffee  Alabama  1031.0   3643      38\n",
            "16 2021-01-01    Colbert  Alabama  1033.0   4701      60\n",
            "17 2021-01-01    Conecuh  Alabama  1035.0    839      17\n",
            "18 2021-01-01      Coosa  Alabama  1037.0    519       7\n",
            "19 2021-01-01  Covington  Alabama  1039.0   2931      40 \n",
            "\n",
            "\n",
            "['Alabama']\n"
          ]
        },
        {
          "output_type": "stream",
          "name": "stderr",
          "text": [
            "\n"
          ]
        }
      ],
      "source": [
        "\"\"\"Initialise variables to run the test\"\"\"\n",
        "\n",
        "# Specify the paths to download the datasets\n",
        "download_path = './datasets'\n",
        "mcar_path = \"./data/MCAR\"\n",
        "\n",
        "# Get a dataset to test the imputation function\n",
        "df = pd.read_json(os.path.join(mcar_path, \"us-counties-2021.json\"), lines=True).iloc[10:20]\n",
        "\n",
        "\n",
        "\n",
        "\n",
        "\"\"\"Run the test\"\"\"\n",
        "\n",
        "# Run the imputation function for a classification column\n",
        "print(f\"Before dataframe: \\n {df} \\n\\n\")\n",
        "df, predictions = missforest_imputation(df, \"state\", True, False, True)\n",
        "print(f\"After dataframe: \\n {df} \\n\\n\")\n",
        "print(predictions)"
      ]
    },
    {
      "cell_type": "markdown",
      "metadata": {
        "id": "2JMqtDOHdjNi"
      },
      "source": [
        "#### Test 15 - Run MissForest imputation with unencoded data to return encoded\n",
        "Run a dataset (with a categorical missingness column) that is unencoded through the current imputation function with the option to unencode switched off. Assess that the data in the missingness column is still encoded"
      ]
    },
    {
      "cell_type": "code",
      "execution_count": null,
      "metadata": {
        "id": "cVy7sq_VdjNi",
        "colab": {
          "base_uri": "https://localhost:8080/"
        },
        "outputId": "9a04b573-6b35-4a10-f718-91a5b1c0d129"
      },
      "outputs": [
        {
          "output_type": "stream",
          "name": "stderr",
          "text": [
            "<ipython-input-11-58656953ce43>:30: FutureWarning: Setting an item of incompatible dtype is deprecated and will raise an error in a future version of pandas. Value '['0' '0' '0' '0' '0' '0' '0' '0' '0']' has dtype incompatible with int64, please explicitly cast to a compatible dtype first.\n",
            "  df[df[column].notna()] = df[df[column].notna()].astype(str)\n",
            "<ipython-input-11-58656953ce43>:30: FutureWarning: Setting an item of incompatible dtype is deprecated and will raise an error in a future version of pandas. Value '['0' '1' '2' '3' '4' '5' '6' '8' '9']' has dtype incompatible with int64, please explicitly cast to a compatible dtype first.\n",
            "  df[df[column].notna()] = df[df[column].notna()].astype(str)\n",
            "<ipython-input-11-58656953ce43>:30: FutureWarning: Setting an item of incompatible dtype is deprecated and will raise an error in a future version of pandas. Value '['1021.0' '1023.0' '1025.0' '1027.0' '1029.0' '1031.0' '1033.0' '1037.0'\n",
            " '1039.0']' has dtype incompatible with float64, please explicitly cast to a compatible dtype first.\n",
            "  df[df[column].notna()] = df[df[column].notna()].astype(str)\n",
            "<ipython-input-11-58656953ce43>:30: FutureWarning: Setting an item of incompatible dtype is deprecated and will raise an error in a future version of pandas. Value '['3004' '491' '2418' '1150' '1036' '3643' '4701' '519' '2931']' has dtype incompatible with int64, please explicitly cast to a compatible dtype first.\n",
            "  df[df[column].notna()] = df[df[column].notna()].astype(str)\n",
            "<ipython-input-11-58656953ce43>:30: FutureWarning: Setting an item of incompatible dtype is deprecated and will raise an error in a future version of pandas. Value '['54' '22' '26' '34' '16' '38' '60' '7' '40']' has dtype incompatible with int64, please explicitly cast to a compatible dtype first.\n",
            "  df[df[column].notna()] = df[df[column].notna()].astype(str)\n",
            "/usr/local/lib/python3.11/dist-packages/missforest/missforest.py:333: UserWarning: Label encoding is no longer performed by default. Users will have to perform categorical features encoding by themselves.\n",
            "  warnings.warn(\"Label encoding is no longer performed by default. \"\n"
          ]
        },
        {
          "output_type": "stream",
          "name": "stdout",
          "text": [
            "Before dataframe: \n",
            "          date     county    state    fips  cases  deaths\n",
            "10 2021-01-01    Chilton  Alabama  1021.0   3004      54\n",
            "11 2021-01-01    Choctaw  Alabama  1023.0    491      22\n",
            "12 2021-01-01     Clarke  Alabama  1025.0   2418      26\n",
            "13 2021-01-01       Clay  Alabama  1027.0   1150      34\n",
            "14 2021-01-01   Cleburne  Alabama  1029.0   1036      16\n",
            "15 2021-01-01     Coffee  Alabama  1031.0   3643      38\n",
            "16 2021-01-01    Colbert  Alabama  1033.0   4701      60\n",
            "17 2021-01-01    Conecuh     None  1035.0    839      17\n",
            "18 2021-01-01      Coosa  Alabama  1037.0    519       7\n",
            "19 2021-01-01  Covington  Alabama  1039.0   2931      40 \n",
            "\n",
            "\n"
          ]
        },
        {
          "output_type": "stream",
          "name": "stderr",
          "text": [
            "100%|██████████| 5/5 [00:00<00:00, 21.01it/s]\n",
            "/usr/local/lib/python3.11/dist-packages/missforest/missforest.py:490: UserWarning: Label encoding is no longer performed by default. Users will have to perform categorical features encoding by themselves.\n",
            "  warnings.warn(\"Label encoding is no longer performed by default. \"\n",
            "/usr/local/lib/python3.11/dist-packages/missforest/missforest.py:494: UserWarning: In version 4.2.3, estimator fitting process is moved to `fit` method. `MissForest` will now imputes unseen missing values with fitted estimators with `transform` method. To retain the old behaviour, use `fit_transform` to fit the whole unseen data instead.\n",
            "  warnings.warn(f\"In version {VERSION}, estimator fitting process \"\n",
            "100%|██████████| 5/5 [00:00<00:00, 161.29it/s]"
          ]
        },
        {
          "output_type": "stream",
          "name": "stdout",
          "text": [
            "After dataframe: \n",
            "          date     county state    fips  cases  deaths\n",
            "10 2021-01-01    Chilton   0.0  1021.0   3004      54\n",
            "11 2021-01-01    Choctaw   0.0  1023.0    491      22\n",
            "12 2021-01-01     Clarke   0.0  1025.0   2418      26\n",
            "13 2021-01-01       Clay   0.0  1027.0   1150      34\n",
            "14 2021-01-01   Cleburne   0.0  1029.0   1036      16\n",
            "15 2021-01-01     Coffee   0.0  1031.0   3643      38\n",
            "16 2021-01-01    Colbert   0.0  1033.0   4701      60\n",
            "17 2021-01-01    Conecuh   0.0  1035.0    839      17\n",
            "18 2021-01-01      Coosa   0.0  1037.0    519       7\n",
            "19 2021-01-01  Covington   0.0  1039.0   2931      40 \n",
            "\n",
            "\n",
            "[0.0]\n"
          ]
        },
        {
          "output_type": "stream",
          "name": "stderr",
          "text": [
            "\n"
          ]
        }
      ],
      "source": [
        "\"\"\"Initialise variables to run the test\"\"\"\n",
        "\n",
        "# Specify the paths to download the datasets\n",
        "download_path = './datasets'\n",
        "mcar_path = \"./data/MCAR\"\n",
        "\n",
        "# Get a dataset to test the imputation function\n",
        "df = pd.read_json(os.path.join(mcar_path, \"us-counties-2021.json\"), lines=True).iloc[10:20]\n",
        "\n",
        "\n",
        "\n",
        "\n",
        "\"\"\"Run the test\"\"\"\n",
        "\n",
        "# Run the imputation function for a classification column\n",
        "print(f\"Before dataframe: \\n {df} \\n\\n\")\n",
        "df, predictions = missforest_imputation(df, \"state\", True, False)\n",
        "print(f\"After dataframe: \\n {df} \\n\\n\")\n",
        "print(predictions)"
      ]
    },
    {
      "cell_type": "markdown",
      "metadata": {
        "id": "mQS8k5WOdjNi"
      },
      "source": [
        "#### Test 16 - Run MissForest imputation with unencoded data to return unencoded\n",
        "Run a dataset (with a categorical missingness column) that is unencoded through the current imputation function with the option to unencode switched on. Assess that the data in the missingness column is unencoded"
      ]
    },
    {
      "cell_type": "code",
      "execution_count": null,
      "metadata": {
        "id": "qQFu0OXZdjNi",
        "colab": {
          "base_uri": "https://localhost:8080/"
        },
        "outputId": "8d2d5956-04a6-47e7-e60d-370075889e93"
      },
      "outputs": [
        {
          "output_type": "stream",
          "name": "stderr",
          "text": [
            "<ipython-input-11-58656953ce43>:30: FutureWarning: Setting an item of incompatible dtype is deprecated and will raise an error in a future version of pandas. Value '['0' '0' '0' '0' '0' '0' '0' '0' '0']' has dtype incompatible with int64, please explicitly cast to a compatible dtype first.\n",
            "  df[df[column].notna()] = df[df[column].notna()].astype(str)\n",
            "<ipython-input-11-58656953ce43>:30: FutureWarning: Setting an item of incompatible dtype is deprecated and will raise an error in a future version of pandas. Value '['0' '1' '2' '3' '4' '5' '6' '8' '9']' has dtype incompatible with int64, please explicitly cast to a compatible dtype first.\n",
            "  df[df[column].notna()] = df[df[column].notna()].astype(str)\n",
            "<ipython-input-11-58656953ce43>:30: FutureWarning: Setting an item of incompatible dtype is deprecated and will raise an error in a future version of pandas. Value '['1021.0' '1023.0' '1025.0' '1027.0' '1029.0' '1031.0' '1033.0' '1037.0'\n",
            " '1039.0']' has dtype incompatible with float64, please explicitly cast to a compatible dtype first.\n",
            "  df[df[column].notna()] = df[df[column].notna()].astype(str)\n",
            "<ipython-input-11-58656953ce43>:30: FutureWarning: Setting an item of incompatible dtype is deprecated and will raise an error in a future version of pandas. Value '['3004' '491' '2418' '1150' '1036' '3643' '4701' '519' '2931']' has dtype incompatible with int64, please explicitly cast to a compatible dtype first.\n",
            "  df[df[column].notna()] = df[df[column].notna()].astype(str)\n",
            "<ipython-input-11-58656953ce43>:30: FutureWarning: Setting an item of incompatible dtype is deprecated and will raise an error in a future version of pandas. Value '['54' '22' '26' '34' '16' '38' '60' '7' '40']' has dtype incompatible with int64, please explicitly cast to a compatible dtype first.\n",
            "  df[df[column].notna()] = df[df[column].notna()].astype(str)\n",
            "/usr/local/lib/python3.11/dist-packages/missforest/missforest.py:333: UserWarning: Label encoding is no longer performed by default. Users will have to perform categorical features encoding by themselves.\n",
            "  warnings.warn(\"Label encoding is no longer performed by default. \"\n"
          ]
        },
        {
          "output_type": "stream",
          "name": "stdout",
          "text": [
            "Before dataframe: \n",
            "          date     county    state    fips  cases  deaths\n",
            "10 2021-01-01    Chilton  Alabama  1021.0   3004      54\n",
            "11 2021-01-01    Choctaw  Alabama  1023.0    491      22\n",
            "12 2021-01-01     Clarke  Alabama  1025.0   2418      26\n",
            "13 2021-01-01       Clay  Alabama  1027.0   1150      34\n",
            "14 2021-01-01   Cleburne  Alabama  1029.0   1036      16\n",
            "15 2021-01-01     Coffee  Alabama  1031.0   3643      38\n",
            "16 2021-01-01    Colbert  Alabama  1033.0   4701      60\n",
            "17 2021-01-01    Conecuh     None  1035.0    839      17\n",
            "18 2021-01-01      Coosa  Alabama  1037.0    519       7\n",
            "19 2021-01-01  Covington  Alabama  1039.0   2931      40 \n",
            "\n",
            "\n"
          ]
        },
        {
          "output_type": "stream",
          "name": "stderr",
          "text": [
            "100%|██████████| 5/5 [00:00<00:00, 27.31it/s]\n",
            "/usr/local/lib/python3.11/dist-packages/missforest/missforest.py:490: UserWarning: Label encoding is no longer performed by default. Users will have to perform categorical features encoding by themselves.\n",
            "  warnings.warn(\"Label encoding is no longer performed by default. \"\n",
            "/usr/local/lib/python3.11/dist-packages/missforest/missforest.py:494: UserWarning: In version 4.2.3, estimator fitting process is moved to `fit` method. `MissForest` will now imputes unseen missing values with fitted estimators with `transform` method. To retain the old behaviour, use `fit_transform` to fit the whole unseen data instead.\n",
            "  warnings.warn(f\"In version {VERSION}, estimator fitting process \"\n",
            "100%|██████████| 5/5 [00:00<00:00, 210.84it/s]"
          ]
        },
        {
          "output_type": "stream",
          "name": "stdout",
          "text": [
            "After dataframe: \n",
            "          date     county    state    fips  cases  deaths\n",
            "10 2021-01-01    Chilton  Alabama  1021.0   3004      54\n",
            "11 2021-01-01    Choctaw  Alabama  1023.0    491      22\n",
            "12 2021-01-01     Clarke  Alabama  1025.0   2418      26\n",
            "13 2021-01-01       Clay  Alabama  1027.0   1150      34\n",
            "14 2021-01-01   Cleburne  Alabama  1029.0   1036      16\n",
            "15 2021-01-01     Coffee  Alabama  1031.0   3643      38\n",
            "16 2021-01-01    Colbert  Alabama  1033.0   4701      60\n",
            "17 2021-01-01    Conecuh  Alabama  1035.0    839      17\n",
            "18 2021-01-01      Coosa  Alabama  1037.0    519       7\n",
            "19 2021-01-01  Covington  Alabama  1039.0   2931      40 \n",
            "\n",
            "\n",
            "['Alabama']\n"
          ]
        },
        {
          "output_type": "stream",
          "name": "stderr",
          "text": [
            "\n"
          ]
        }
      ],
      "source": [
        "\"\"\"Initialise variables to run the test\"\"\"\n",
        "\n",
        "# Specify the paths to download the datasets\n",
        "download_path = './datasets'\n",
        "mcar_path = \"./data/MCAR\"\n",
        "\n",
        "# Get a dataset to test the imputation function\n",
        "df = pd.read_json(os.path.join(mcar_path, \"us-counties-2021.json\"), lines=True).iloc[10:20]\n",
        "\n",
        "\n",
        "\n",
        "\n",
        "\"\"\"Run the test\"\"\"\n",
        "\n",
        "# Run the imputation function for a classification column\n",
        "print(f\"Before dataframe: \\n {df} \\n\\n\")\n",
        "df, predictions = missforest_imputation(df, \"state\", True, True)\n",
        "print(f\"After dataframe: \\n {df} \\n\\n\")\n",
        "print(predictions)"
      ]
    },
    {
      "cell_type": "markdown",
      "metadata": {
        "id": "7l23_0BadpHz"
      },
      "source": [
        "#### Test 17 - Run continuous Bayesian imputation on current imputation algorithm\n",
        "Run a dataset whose missingness column contains (numerical / continuous) data through the current imputation function. Assess the data in the missingness column of the dataset has been imputed"
      ]
    },
    {
      "cell_type": "code",
      "execution_count": null,
      "metadata": {
        "id": "t2aW73IpdpHz",
        "colab": {
          "base_uri": "https://localhost:8080/"
        },
        "outputId": "6568c418-cb60-4fc8-be3c-52b60364ddb1"
      },
      "outputs": [
        {
          "output_type": "stream",
          "name": "stdout",
          "text": [
            "Before dataframe: \n",
            "         date    county    state    fips  cases  deaths\n",
            "0 2022-01-01   Autauga  Alabama  1001.0  11018     160\n",
            "1 2022-01-01   Baldwin  Alabama  1003.0  39911     593\n",
            "2 2022-01-01   Barbour  Alabama  1005.0   3860      81\n",
            "3 2022-01-01      Bibb  Alabama  1007.0   4533      95\n",
            "4 2022-01-01    Blount  Alabama  1009.0  11256     198\n",
            "5 2022-01-01   Bullock  Alabama     NaN   1676      46\n",
            "6 2022-01-01    Butler  Alabama  1013.0   3613     102\n",
            "7 2022-01-01   Calhoun  Alabama     NaN  23411     532\n",
            "8 2022-01-01  Chambers  Alabama     NaN   6171     147\n",
            "9 2022-01-01  Cherokee  Alabama     NaN   3385      65 \n",
            "\n",
            "\n",
            "After dataframe: \n",
            "         date    county    state         fips  cases  deaths\n",
            "0 2022-01-01   Autauga  Alabama  1001.000000  11018     160\n",
            "1 2022-01-01   Baldwin  Alabama  1003.000000  39911     593\n",
            "2 2022-01-01   Barbour  Alabama  1005.000000   3860      81\n",
            "3 2022-01-01      Bibb  Alabama  1007.000000   4533      95\n",
            "4 2022-01-01    Blount  Alabama  1009.000000  11256     198\n",
            "5 2022-01-01   Bullock  Alabama  1005.818323   1676      46\n",
            "6 2022-01-01    Butler  Alabama  1013.000000   3613     102\n",
            "7 2022-01-01   Calhoun  Alabama  1044.833572  23411     532\n",
            "8 2022-01-01  Chambers  Alabama  1014.233800   6171     147\n",
            "9 2022-01-01  Cherokee  Alabama  1004.831647   3385      65 \n",
            "\n",
            "\n",
            "[]\n"
          ]
        }
      ],
      "source": [
        "\"\"\"Initialise variables to run the test\"\"\"\n",
        "\n",
        "# Specify the paths to download the datasets\n",
        "download_path = './datasets'\n",
        "mcar_path = \"./data/MCAR\"\n",
        "\n",
        "# Get a dataset to test the imputation function\n",
        "df = pd.read_json(os.path.join(mcar_path, \"us-counties-2022.json\"), lines=True, nrows=10)\n",
        "\n",
        "\n",
        "\n",
        "\n",
        "\n",
        "\"\"\"Run the test\"\"\"\n",
        "\n",
        "# Run the imputation function for a continuous column\n",
        "print(f\"Before dataframe: \\n {df} \\n\\n\")\n",
        "df, predictions = bayesian_imputation(df, \"fips\", False, True)\n",
        "print(f\"After dataframe: \\n {df} \\n\\n\")\n",
        "print(predictions)"
      ]
    },
    {
      "cell_type": "markdown",
      "metadata": {
        "id": "24qXtbNOdpHz"
      },
      "source": [
        "#### Test 18 - Run categorical Bayesian imputation on current imputation algorithm\n",
        "Run a dataset whose missingness column contains (numerical / continuous) data through the current imputation function. Assess the data in the missingness column of the dataset has been imputed with the list of predicted values"
      ]
    },
    {
      "cell_type": "code",
      "execution_count": null,
      "metadata": {
        "id": "dKdxunaKdpHz",
        "colab": {
          "base_uri": "https://localhost:8080/"
        },
        "outputId": "7f568cbf-b84c-45e3-82f1-b4263155b6f7"
      },
      "outputs": [
        {
          "output_type": "stream",
          "name": "stdout",
          "text": [
            "Before dataframe: \n",
            "          date     county    state    fips  cases  deaths\n",
            "10 2021-01-01    Chilton  Alabama  1021.0   3004      54\n",
            "11 2021-01-01    Choctaw  Alabama  1023.0    491      22\n",
            "12 2021-01-01     Clarke  Alabama  1025.0   2418      26\n",
            "13 2021-01-01       Clay  Alabama  1027.0   1150      34\n",
            "14 2021-01-01   Cleburne  Alabama  1029.0   1036      16\n",
            "15 2021-01-01     Coffee  Alabama  1031.0   3643      38\n",
            "16 2021-01-01    Colbert  Alabama  1033.0   4701      60\n",
            "17 2021-01-01    Conecuh     None  1035.0    839      17\n",
            "18 2021-01-01      Coosa  Alabama  1037.0    519       7\n",
            "19 2021-01-01  Covington  Alabama  1039.0   2931      40 \n",
            "\n",
            "\n",
            "After dataframe: \n",
            "          date     county    state    fips  cases  deaths\n",
            "10 2021-01-01    Chilton  Alabama  1021.0   3004      54\n",
            "11 2021-01-01    Choctaw  Alabama  1023.0    491      22\n",
            "12 2021-01-01     Clarke  Alabama  1025.0   2418      26\n",
            "13 2021-01-01       Clay  Alabama  1027.0   1150      34\n",
            "14 2021-01-01   Cleburne  Alabama  1029.0   1036      16\n",
            "15 2021-01-01     Coffee  Alabama  1031.0   3643      38\n",
            "16 2021-01-01    Colbert  Alabama  1033.0   4701      60\n",
            "17 2021-01-01    Conecuh  Alabama  1035.0    839      17\n",
            "18 2021-01-01      Coosa  Alabama  1037.0    519       7\n",
            "19 2021-01-01  Covington  Alabama  1039.0   2931      40 \n",
            "\n",
            "\n",
            "[]\n"
          ]
        },
        {
          "output_type": "stream",
          "name": "stderr",
          "text": [
            "<ipython-input-78-78b8d195e5ee>:20: FutureWarning: Setting an item of incompatible dtype is deprecated and will raise an error in a future version of pandas. Value '['1021.0' '1023.0' '1025.0' '1027.0' '1029.0' '1031.0' '1033.0' '1037.0'\n",
            " '1039.0']' has dtype incompatible with float64, please explicitly cast to a compatible dtype first.\n",
            "  df[df[column].notna()] = df[df[column].notna()].astype(str)\n",
            "<ipython-input-78-78b8d195e5ee>:20: FutureWarning: Setting an item of incompatible dtype is deprecated and will raise an error in a future version of pandas. Value '['3004' '491' '2418' '1150' '1036' '3643' '4701' '519' '2931']' has dtype incompatible with int64, please explicitly cast to a compatible dtype first.\n",
            "  df[df[column].notna()] = df[df[column].notna()].astype(str)\n",
            "<ipython-input-78-78b8d195e5ee>:20: FutureWarning: Setting an item of incompatible dtype is deprecated and will raise an error in a future version of pandas. Value '['54' '22' '26' '34' '16' '38' '60' '7' '40']' has dtype incompatible with int64, please explicitly cast to a compatible dtype first.\n",
            "  df[df[column].notna()] = df[df[column].notna()].astype(str)\n"
          ]
        }
      ],
      "source": [
        "\"\"\"Initialise variables to run the test\"\"\"\n",
        "\n",
        "# Specify the paths to download the datasets\n",
        "download_path = './datasets'\n",
        "mcar_path = \"./data/MCAR\"\n",
        "\n",
        "# Get a dataset to test the imputation function\n",
        "df = pd.read_json(os.path.join(mcar_path, \"us-counties-2021.json\"), lines=True).iloc[10:20]\n",
        "\n",
        "\n",
        "\n",
        "\n",
        "\"\"\"Run the test\"\"\"\n",
        "\n",
        "# Run the imputation function for a classification column\n",
        "print(f\"Before dataframe: \\n {df} \\n\\n\")\n",
        "df, predictions = bayesian_imputation(df, \"state\", True, True)\n",
        "print(f\"After dataframe: \\n {df} \\n\\n\")\n",
        "print(predictions)"
      ]
    },
    {
      "cell_type": "markdown",
      "metadata": {
        "id": "r0n2-IcvdpHz"
      },
      "source": [
        "#### Test 19 - Run Bayesian imputation with unencoded data to return encoded\n",
        "Run a dataset (with a categorical missingness column) that is unencoded through the current imputation function with the option to unencode switched off. Assess that the data in the missingness column is still encoded"
      ]
    },
    {
      "cell_type": "code",
      "execution_count": null,
      "metadata": {
        "id": "N6eYv7McdpHz",
        "colab": {
          "base_uri": "https://localhost:8080/"
        },
        "outputId": "561aefba-0596-40c4-b843-1de606ffb743"
      },
      "outputs": [
        {
          "output_type": "stream",
          "name": "stderr",
          "text": [
            "<ipython-input-78-78b8d195e5ee>:20: FutureWarning: Setting an item of incompatible dtype is deprecated and will raise an error in a future version of pandas. Value '['1021.0' '1023.0' '1025.0' '1027.0' '1029.0' '1031.0' '1033.0' '1037.0'\n",
            " '1039.0']' has dtype incompatible with float64, please explicitly cast to a compatible dtype first.\n",
            "  df[df[column].notna()] = df[df[column].notna()].astype(str)\n",
            "<ipython-input-78-78b8d195e5ee>:20: FutureWarning: Setting an item of incompatible dtype is deprecated and will raise an error in a future version of pandas. Value '['3004' '491' '2418' '1150' '1036' '3643' '4701' '519' '2931']' has dtype incompatible with int64, please explicitly cast to a compatible dtype first.\n",
            "  df[df[column].notna()] = df[df[column].notna()].astype(str)\n",
            "<ipython-input-78-78b8d195e5ee>:20: FutureWarning: Setting an item of incompatible dtype is deprecated and will raise an error in a future version of pandas. Value '['54' '22' '26' '34' '16' '38' '60' '7' '40']' has dtype incompatible with int64, please explicitly cast to a compatible dtype first.\n",
            "  df[df[column].notna()] = df[df[column].notna()].astype(str)\n"
          ]
        },
        {
          "output_type": "stream",
          "name": "stdout",
          "text": [
            "Before dataframe: \n",
            "          date     county    state    fips  cases  deaths\n",
            "10 2021-01-01    Chilton  Alabama  1021.0   3004      54\n",
            "11 2021-01-01    Choctaw  Alabama  1023.0    491      22\n",
            "12 2021-01-01     Clarke  Alabama  1025.0   2418      26\n",
            "13 2021-01-01       Clay  Alabama  1027.0   1150      34\n",
            "14 2021-01-01   Cleburne  Alabama  1029.0   1036      16\n",
            "15 2021-01-01     Coffee  Alabama  1031.0   3643      38\n",
            "16 2021-01-01    Colbert  Alabama  1033.0   4701      60\n",
            "17 2021-01-01    Conecuh     None  1035.0    839      17\n",
            "18 2021-01-01      Coosa  Alabama  1037.0    519       7\n",
            "19 2021-01-01  Covington  Alabama  1039.0   2931      40 \n",
            "\n",
            "\n",
            "After dataframe: \n",
            "          date     county    state    fips  cases  deaths\n",
            "10 2021-01-01    Chilton  Alabama  1021.0   3004      54\n",
            "11 2021-01-01    Choctaw  Alabama  1023.0    491      22\n",
            "12 2021-01-01     Clarke  Alabama  1025.0   2418      26\n",
            "13 2021-01-01       Clay  Alabama  1027.0   1150      34\n",
            "14 2021-01-01   Cleburne  Alabama  1029.0   1036      16\n",
            "15 2021-01-01     Coffee  Alabama  1031.0   3643      38\n",
            "16 2021-01-01    Colbert  Alabama  1033.0   4701      60\n",
            "17 2021-01-01    Conecuh        0  1035.0    839      17\n",
            "18 2021-01-01      Coosa  Alabama  1037.0    519       7\n",
            "19 2021-01-01  Covington  Alabama  1039.0   2931      40 \n",
            "\n",
            "\n",
            "[]\n"
          ]
        }
      ],
      "source": [
        "\"\"\"Initialise variables to run the test\"\"\"\n",
        "\n",
        "# Specify the paths to download the datasets\n",
        "download_path = './datasets'\n",
        "mcar_path = \"./data/MCAR\"\n",
        "\n",
        "# Get a dataset to test the imputation function\n",
        "df = pd.read_json(os.path.join(mcar_path, \"us-counties-2021.json\"), lines=True).iloc[10:20]\n",
        "\n",
        "\n",
        "\n",
        "\n",
        "\"\"\"Run the test\"\"\"\n",
        "\n",
        "# Run the imputation function for a classification column\n",
        "print(f\"Before dataframe: \\n {df} \\n\\n\")\n",
        "df, predictions = bayesian_imputation(df, \"state\", True, False)\n",
        "print(f\"After dataframe: \\n {df} \\n\\n\")\n",
        "print(predictions)"
      ]
    },
    {
      "cell_type": "markdown",
      "metadata": {
        "id": "UL_EbUxbdpH0"
      },
      "source": [
        "#### Test 20 - Run Bayesian imputation with unencoded data to return unencoded\n",
        "Run a dataset (with a categorical missingness column) that is unencoded through the current imputation function with the option to unencode switched on. Assess that the data in the missingness column is unencoded"
      ]
    },
    {
      "cell_type": "code",
      "execution_count": null,
      "metadata": {
        "id": "rMOTGgDwdpH0",
        "colab": {
          "base_uri": "https://localhost:8080/"
        },
        "outputId": "18420fc3-0593-47ce-e7de-f65c4ed35d7d"
      },
      "outputs": [
        {
          "output_type": "stream",
          "name": "stderr",
          "text": [
            "<ipython-input-78-78b8d195e5ee>:20: FutureWarning: Setting an item of incompatible dtype is deprecated and will raise an error in a future version of pandas. Value '['1021.0' '1023.0' '1025.0' '1027.0' '1029.0' '1031.0' '1033.0' '1037.0'\n",
            " '1039.0']' has dtype incompatible with float64, please explicitly cast to a compatible dtype first.\n",
            "  df[df[column].notna()] = df[df[column].notna()].astype(str)\n",
            "<ipython-input-78-78b8d195e5ee>:20: FutureWarning: Setting an item of incompatible dtype is deprecated and will raise an error in a future version of pandas. Value '['3004' '491' '2418' '1150' '1036' '3643' '4701' '519' '2931']' has dtype incompatible with int64, please explicitly cast to a compatible dtype first.\n",
            "  df[df[column].notna()] = df[df[column].notna()].astype(str)\n",
            "<ipython-input-78-78b8d195e5ee>:20: FutureWarning: Setting an item of incompatible dtype is deprecated and will raise an error in a future version of pandas. Value '['54' '22' '26' '34' '16' '38' '60' '7' '40']' has dtype incompatible with int64, please explicitly cast to a compatible dtype first.\n",
            "  df[df[column].notna()] = df[df[column].notna()].astype(str)\n"
          ]
        },
        {
          "output_type": "stream",
          "name": "stdout",
          "text": [
            "Before dataframe: \n",
            "          date     county    state    fips  cases  deaths\n",
            "10 2021-01-01    Chilton  Alabama  1021.0   3004      54\n",
            "11 2021-01-01    Choctaw  Alabama  1023.0    491      22\n",
            "12 2021-01-01     Clarke  Alabama  1025.0   2418      26\n",
            "13 2021-01-01       Clay  Alabama  1027.0   1150      34\n",
            "14 2021-01-01   Cleburne  Alabama  1029.0   1036      16\n",
            "15 2021-01-01     Coffee  Alabama  1031.0   3643      38\n",
            "16 2021-01-01    Colbert  Alabama  1033.0   4701      60\n",
            "17 2021-01-01    Conecuh     None  1035.0    839      17\n",
            "18 2021-01-01      Coosa  Alabama  1037.0    519       7\n",
            "19 2021-01-01  Covington  Alabama  1039.0   2931      40 \n",
            "\n",
            "\n",
            "After dataframe: \n",
            "          date     county    state    fips  cases  deaths\n",
            "10 2021-01-01    Chilton  Alabama  1021.0   3004      54\n",
            "11 2021-01-01    Choctaw  Alabama  1023.0    491      22\n",
            "12 2021-01-01     Clarke  Alabama  1025.0   2418      26\n",
            "13 2021-01-01       Clay  Alabama  1027.0   1150      34\n",
            "14 2021-01-01   Cleburne  Alabama  1029.0   1036      16\n",
            "15 2021-01-01     Coffee  Alabama  1031.0   3643      38\n",
            "16 2021-01-01    Colbert  Alabama  1033.0   4701      60\n",
            "17 2021-01-01    Conecuh  Alabama  1035.0    839      17\n",
            "18 2021-01-01      Coosa  Alabama  1037.0    519       7\n",
            "19 2021-01-01  Covington  Alabama  1039.0   2931      40 \n",
            "\n",
            "\n",
            "[]\n"
          ]
        }
      ],
      "source": [
        "\"\"\"Initialise variables to run the test\"\"\"\n",
        "\n",
        "# Specify the paths to download the datasets\n",
        "download_path = './datasets'\n",
        "mcar_path = \"./data/MCAR\"\n",
        "\n",
        "# Get a dataset to test the imputation function\n",
        "df = pd.read_json(os.path.join(mcar_path, \"us-counties-2021.json\"), lines=True).iloc[10:20]\n",
        "\n",
        "\n",
        "\n",
        "\n",
        "\"\"\"Run the test\"\"\"\n",
        "\n",
        "# Run the imputation function for a classification column\n",
        "print(f\"Before dataframe: \\n {df} \\n\\n\")\n",
        "df, predictions = bayesian_imputation(df, \"state\", True, True)\n",
        "print(f\"After dataframe: \\n {df} \\n\\n\")\n",
        "print(predictions)"
      ]
    },
    {
      "cell_type": "markdown",
      "metadata": {
        "id": "ErAzEQXyd0Vc"
      },
      "source": [
        "#### Test 21 - Run continuous kNN imputation on current imputation algorithm\n",
        "Run a dataset whose missingness column contains (numerical / continuous) data through the current imputation function. Assess the data in the missingness column of the dataset has been imputed"
      ]
    },
    {
      "cell_type": "code",
      "execution_count": null,
      "metadata": {
        "id": "JX7Gzzq5d0Vc",
        "colab": {
          "base_uri": "https://localhost:8080/"
        },
        "outputId": "f2590557-9e25-4e2e-de6e-4549e99d8ca0"
      },
      "outputs": [
        {
          "output_type": "stream",
          "name": "stdout",
          "text": [
            "Before dataframe: \n",
            "         date    county    state    fips  cases  deaths\n",
            "0 2022-01-01   Autauga  Alabama  1001.0  11018     160\n",
            "1 2022-01-01   Baldwin  Alabama  1003.0  39911     593\n",
            "2 2022-01-01   Barbour  Alabama  1005.0   3860      81\n",
            "3 2022-01-01      Bibb  Alabama  1007.0   4533      95\n",
            "4 2022-01-01    Blount  Alabama  1009.0  11256     198\n",
            "5 2022-01-01   Bullock  Alabama     NaN   1676      46\n",
            "6 2022-01-01    Butler  Alabama  1013.0   3613     102\n",
            "7 2022-01-01   Calhoun  Alabama     NaN  23411     532\n",
            "8 2022-01-01  Chambers  Alabama     NaN   6171     147\n",
            "9 2022-01-01  Cherokee  Alabama     NaN   3385      65 \n",
            "\n",
            "\n",
            "Imputing row 1/10 with 0 missing, elapsed time: 0.002\n",
            "After dataframe: \n",
            "         date    county    state         fips  cases  deaths\n",
            "0 2022-01-01   Autauga  Alabama  1001.000000  11018     160\n",
            "1 2022-01-01   Baldwin  Alabama  1003.000000  39911     593\n",
            "2 2022-01-01   Barbour  Alabama  1005.000000   3860      81\n",
            "3 2022-01-01      Bibb  Alabama  1007.000000   4533      95\n",
            "4 2022-01-01    Blount  Alabama  1009.000000  11256     198\n",
            "5 2022-01-01   Bullock  Alabama  1008.823229   1676      46\n",
            "6 2022-01-01    Butler  Alabama  1013.000000   3613     102\n",
            "7 2022-01-01   Calhoun  Alabama  1004.968516  23411     532\n",
            "8 2022-01-01  Chambers  Alabama  1007.459294   6171     147\n",
            "9 2022-01-01  Cherokee  Alabama  1011.320822   3385      65 \n",
            "\n",
            "\n",
            "[1008.823228731949, 1004.9685164720665, 1007.4592941673483, 1011.320821618802]\n"
          ]
        },
        {
          "output_type": "stream",
          "name": "stderr",
          "text": [
            "/usr/local/lib/python3.11/dist-packages/sklearn/utils/deprecation.py:151: FutureWarning: 'force_all_finite' was renamed to 'ensure_all_finite' in 1.6 and will be removed in 1.8.\n",
            "  warnings.warn(\n",
            "/usr/local/lib/python3.11/dist-packages/sklearn/utils/deprecation.py:151: FutureWarning: 'force_all_finite' was renamed to 'ensure_all_finite' in 1.6 and will be removed in 1.8.\n",
            "  warnings.warn(\n",
            "/usr/local/lib/python3.11/dist-packages/sklearn/utils/deprecation.py:151: FutureWarning: 'force_all_finite' was renamed to 'ensure_all_finite' in 1.6 and will be removed in 1.8.\n",
            "  warnings.warn(\n"
          ]
        }
      ],
      "source": [
        "\"\"\"Initialise variables to run the test\"\"\"\n",
        "\n",
        "# Specify the paths to download the datasets\n",
        "download_path = './datasets'\n",
        "mcar_path = \"./data/MCAR\"\n",
        "\n",
        "# Get a dataset to test the imputation function\n",
        "df = pd.read_json(os.path.join(mcar_path, \"us-counties-2022.json\"), lines=True, nrows=10)\n",
        "\n",
        "\n",
        "\n",
        "\n",
        "\n",
        "\"\"\"Run the test\"\"\"\n",
        "\n",
        "# Run the imputation function for a continuous column\n",
        "print(f\"Before dataframe: \\n {df} \\n\\n\")\n",
        "df, predictions = kNN_imputation(df, \"fips\", False, True)\n",
        "print(f\"After dataframe: \\n {df} \\n\\n\")\n",
        "print(predictions)"
      ]
    },
    {
      "cell_type": "markdown",
      "metadata": {
        "id": "UuM708edd0Vc"
      },
      "source": [
        "#### Test 22 - Run categorical kNN imputation on current imputation algorithm\n",
        "Run a dataset whose missingness column contains (numerical / continuous) data through the current imputation function. Assess the data in the missingness column of the dataset has been imputed with the list of predicted values"
      ]
    },
    {
      "cell_type": "code",
      "execution_count": null,
      "metadata": {
        "id": "S605_w_Ld0Vc",
        "colab": {
          "base_uri": "https://localhost:8080/"
        },
        "outputId": "a531ff7a-95d6-4574-d0a8-aa4cf4f5909b"
      },
      "outputs": [
        {
          "output_type": "stream",
          "name": "stdout",
          "text": [
            "Before dataframe: \n",
            "          date     county    state    fips  cases  deaths\n",
            "10 2021-01-01    Chilton  Alabama  1021.0   3004      54\n",
            "11 2021-01-01    Choctaw  Alabama  1023.0    491      22\n",
            "12 2021-01-01     Clarke  Alabama  1025.0   2418      26\n",
            "13 2021-01-01       Clay  Alabama  1027.0   1150      34\n",
            "14 2021-01-01   Cleburne  Alabama  1029.0   1036      16\n",
            "15 2021-01-01     Coffee  Alabama  1031.0   3643      38\n",
            "16 2021-01-01    Colbert  Alabama  1033.0   4701      60\n",
            "17 2021-01-01    Conecuh     None  1035.0    839      17\n",
            "18 2021-01-01      Coosa  Alabama  1037.0    519       7\n",
            "19 2021-01-01  Covington  Alabama  1039.0   2931      40 \n",
            "\n",
            "\n",
            "Imputing row 1/10 with 0 missing, elapsed time: 0.000\n",
            "After dataframe: \n",
            "          date     county    state    fips  cases  deaths\n",
            "10 2021-01-01    Chilton  Alabama  1021.0   3004      54\n",
            "11 2021-01-01    Choctaw  Alabama  1023.0    491      22\n",
            "12 2021-01-01     Clarke  Alabama  1025.0   2418      26\n",
            "13 2021-01-01       Clay  Alabama  1027.0   1150      34\n",
            "14 2021-01-01   Cleburne  Alabama  1029.0   1036      16\n",
            "15 2021-01-01     Coffee  Alabama  1031.0   3643      38\n",
            "16 2021-01-01    Colbert  Alabama  1033.0   4701      60\n",
            "17 2021-01-01    Conecuh  Alabama  1035.0    839      17\n",
            "18 2021-01-01      Coosa  Alabama  1037.0    519       7\n",
            "19 2021-01-01  Covington  Alabama  1039.0   2931      40 \n",
            "\n",
            "\n",
            "['Alabama']\n"
          ]
        },
        {
          "output_type": "stream",
          "name": "stderr",
          "text": [
            "<ipython-input-13-9499f8395aed>:30: FutureWarning: Setting an item of incompatible dtype is deprecated and will raise an error in a future version of pandas. Value '['0' '0' '0' '0' '0' '0' '0' '0' '0']' has dtype incompatible with int64, please explicitly cast to a compatible dtype first.\n",
            "  df[df[column].notna()] = df[df[column].notna()].astype(str)\n",
            "<ipython-input-13-9499f8395aed>:30: FutureWarning: Setting an item of incompatible dtype is deprecated and will raise an error in a future version of pandas. Value '['0' '1' '2' '3' '4' '5' '6' '8' '9']' has dtype incompatible with int64, please explicitly cast to a compatible dtype first.\n",
            "  df[df[column].notna()] = df[df[column].notna()].astype(str)\n",
            "<ipython-input-13-9499f8395aed>:30: FutureWarning: Setting an item of incompatible dtype is deprecated and will raise an error in a future version of pandas. Value '['1021.0' '1023.0' '1025.0' '1027.0' '1029.0' '1031.0' '1033.0' '1037.0'\n",
            " '1039.0']' has dtype incompatible with float64, please explicitly cast to a compatible dtype first.\n",
            "  df[df[column].notna()] = df[df[column].notna()].astype(str)\n",
            "<ipython-input-13-9499f8395aed>:30: FutureWarning: Setting an item of incompatible dtype is deprecated and will raise an error in a future version of pandas. Value '['3004' '491' '2418' '1150' '1036' '3643' '4701' '519' '2931']' has dtype incompatible with int64, please explicitly cast to a compatible dtype first.\n",
            "  df[df[column].notna()] = df[df[column].notna()].astype(str)\n",
            "<ipython-input-13-9499f8395aed>:30: FutureWarning: Setting an item of incompatible dtype is deprecated and will raise an error in a future version of pandas. Value '['54' '22' '26' '34' '16' '38' '60' '7' '40']' has dtype incompatible with int64, please explicitly cast to a compatible dtype first.\n",
            "  df[df[column].notna()] = df[df[column].notna()].astype(str)\n",
            "/usr/local/lib/python3.11/dist-packages/sklearn/utils/deprecation.py:151: FutureWarning: 'force_all_finite' was renamed to 'ensure_all_finite' in 1.6 and will be removed in 1.8.\n",
            "  warnings.warn(\n",
            "/usr/local/lib/python3.11/dist-packages/sklearn/utils/deprecation.py:151: FutureWarning: 'force_all_finite' was renamed to 'ensure_all_finite' in 1.6 and will be removed in 1.8.\n",
            "  warnings.warn(\n",
            "/usr/local/lib/python3.11/dist-packages/sklearn/utils/deprecation.py:151: FutureWarning: 'force_all_finite' was renamed to 'ensure_all_finite' in 1.6 and will be removed in 1.8.\n",
            "  warnings.warn(\n"
          ]
        }
      ],
      "source": [
        "\"\"\"Initialise variables to run the test\"\"\"\n",
        "\n",
        "# Specify the paths to download the datasets\n",
        "download_path = './datasets'\n",
        "mcar_path = \"./data/MCAR\"\n",
        "\n",
        "# Get a dataset to test the imputation function\n",
        "df = pd.read_json(os.path.join(mcar_path, \"us-counties-2021.json\"), lines=True).iloc[10:20]\n",
        "\n",
        "\n",
        "\n",
        "\n",
        "\"\"\"Run the test\"\"\"\n",
        "\n",
        "# Run the imputation function for a classification column\n",
        "print(f\"Before dataframe: \\n {df} \\n\\n\")\n",
        "df, predictions = kNN_imputation(df, \"state\", True, True)\n",
        "print(f\"After dataframe: \\n {df} \\n\\n\")\n",
        "print(predictions)"
      ]
    },
    {
      "cell_type": "markdown",
      "metadata": {
        "id": "hAowJnakd0Vc"
      },
      "source": [
        "#### Test 23 - Run kNN imputation with unencoded data to return encoded\n",
        "Run a dataset (with a categorical missingness column) that is unencoded through the current imputation function with the option to unencode switched off. Assess that the data in the missingness column is still encoded"
      ]
    },
    {
      "cell_type": "code",
      "execution_count": null,
      "metadata": {
        "id": "sf_zV4aWd0Vd",
        "colab": {
          "base_uri": "https://localhost:8080/"
        },
        "outputId": "a65bc01b-186b-4bfc-ca30-7c81a042699c"
      },
      "outputs": [
        {
          "output_type": "stream",
          "name": "stdout",
          "text": [
            "Before dataframe: \n",
            "          date     county    state    fips  cases  deaths\n",
            "10 2021-01-01    Chilton  Alabama  1021.0   3004      54\n",
            "11 2021-01-01    Choctaw  Alabama  1023.0    491      22\n",
            "12 2021-01-01     Clarke  Alabama  1025.0   2418      26\n",
            "13 2021-01-01       Clay  Alabama  1027.0   1150      34\n",
            "14 2021-01-01   Cleburne  Alabama  1029.0   1036      16\n",
            "15 2021-01-01     Coffee  Alabama  1031.0   3643      38\n",
            "16 2021-01-01    Colbert  Alabama  1033.0   4701      60\n",
            "17 2021-01-01    Conecuh     None  1035.0    839      17\n",
            "18 2021-01-01      Coosa  Alabama  1037.0    519       7\n",
            "19 2021-01-01  Covington  Alabama  1039.0   2931      40 \n",
            "\n",
            "\n",
            "Imputing row 1/10 with 0 missing, elapsed time: 0.001\n",
            "After dataframe: \n",
            "          date     county state    fips  cases  deaths\n",
            "10 2021-01-01    Chilton   NaN  1021.0   3004      54\n",
            "11 2021-01-01    Choctaw   NaN  1023.0    491      22\n",
            "12 2021-01-01     Clarke   NaN  1025.0   2418      26\n",
            "13 2021-01-01       Clay   NaN  1027.0   1150      34\n",
            "14 2021-01-01   Cleburne   NaN  1029.0   1036      16\n",
            "15 2021-01-01     Coffee   NaN  1031.0   3643      38\n",
            "16 2021-01-01    Colbert   NaN  1033.0   4701      60\n",
            "17 2021-01-01    Conecuh   NaN  1035.0    839      17\n",
            "18 2021-01-01      Coosa   NaN  1037.0    519       7\n",
            "19 2021-01-01  Covington   NaN  1039.0   2931      40 \n",
            "\n",
            "\n",
            "[nan]\n"
          ]
        },
        {
          "output_type": "stream",
          "name": "stderr",
          "text": [
            "<ipython-input-13-9499f8395aed>:30: FutureWarning: Setting an item of incompatible dtype is deprecated and will raise an error in a future version of pandas. Value '['0' '0' '0' '0' '0' '0' '0' '0' '0']' has dtype incompatible with int64, please explicitly cast to a compatible dtype first.\n",
            "  df[df[column].notna()] = df[df[column].notna()].astype(str)\n",
            "<ipython-input-13-9499f8395aed>:30: FutureWarning: Setting an item of incompatible dtype is deprecated and will raise an error in a future version of pandas. Value '['0' '1' '2' '3' '4' '5' '6' '8' '9']' has dtype incompatible with int64, please explicitly cast to a compatible dtype first.\n",
            "  df[df[column].notna()] = df[df[column].notna()].astype(str)\n",
            "<ipython-input-13-9499f8395aed>:30: FutureWarning: Setting an item of incompatible dtype is deprecated and will raise an error in a future version of pandas. Value '['1021.0' '1023.0' '1025.0' '1027.0' '1029.0' '1031.0' '1033.0' '1037.0'\n",
            " '1039.0']' has dtype incompatible with float64, please explicitly cast to a compatible dtype first.\n",
            "  df[df[column].notna()] = df[df[column].notna()].astype(str)\n",
            "<ipython-input-13-9499f8395aed>:30: FutureWarning: Setting an item of incompatible dtype is deprecated and will raise an error in a future version of pandas. Value '['3004' '491' '2418' '1150' '1036' '3643' '4701' '519' '2931']' has dtype incompatible with int64, please explicitly cast to a compatible dtype first.\n",
            "  df[df[column].notna()] = df[df[column].notna()].astype(str)\n",
            "<ipython-input-13-9499f8395aed>:30: FutureWarning: Setting an item of incompatible dtype is deprecated and will raise an error in a future version of pandas. Value '['54' '22' '26' '34' '16' '38' '60' '7' '40']' has dtype incompatible with int64, please explicitly cast to a compatible dtype first.\n",
            "  df[df[column].notna()] = df[df[column].notna()].astype(str)\n",
            "/usr/local/lib/python3.11/dist-packages/sklearn/utils/deprecation.py:151: FutureWarning: 'force_all_finite' was renamed to 'ensure_all_finite' in 1.6 and will be removed in 1.8.\n",
            "  warnings.warn(\n",
            "/usr/local/lib/python3.11/dist-packages/sklearn/utils/deprecation.py:151: FutureWarning: 'force_all_finite' was renamed to 'ensure_all_finite' in 1.6 and will be removed in 1.8.\n",
            "  warnings.warn(\n",
            "/usr/local/lib/python3.11/dist-packages/sklearn/utils/deprecation.py:151: FutureWarning: 'force_all_finite' was renamed to 'ensure_all_finite' in 1.6 and will be removed in 1.8.\n",
            "  warnings.warn(\n"
          ]
        }
      ],
      "source": [
        "\"\"\"Initialise variables to run the test\"\"\"\n",
        "\n",
        "# Specify the paths to download the datasets\n",
        "download_path = './datasets'\n",
        "mcar_path = \"./data/MCAR\"\n",
        "\n",
        "# Get a dataset to test the imputation function\n",
        "df = pd.read_json(os.path.join(mcar_path, \"us-counties-2021.json\"), lines=True).iloc[10:20]\n",
        "\n",
        "\n",
        "\n",
        "\n",
        "\"\"\"Run the test\"\"\"\n",
        "\n",
        "# Run the imputation function for a classification column\n",
        "print(f\"Before dataframe: \\n {df} \\n\\n\")\n",
        "df, predictions = kNN_imputation(df, \"state\", True, False)\n",
        "print(f\"After dataframe: \\n {df} \\n\\n\")\n",
        "print(predictions)"
      ]
    },
    {
      "cell_type": "markdown",
      "metadata": {
        "id": "SXUFcTTOd0Vd"
      },
      "source": [
        "#### Test 24 - Run kNN imputation with unencoded data to return unencoded\n",
        "Run a dataset (with a categorical missingness column) that is unencoded through the current imputation function with the option to unencode switched on. Assess that the data in the missingness column is unencoded"
      ]
    },
    {
      "cell_type": "code",
      "execution_count": null,
      "metadata": {
        "id": "MHC1da1td0Vd",
        "colab": {
          "base_uri": "https://localhost:8080/"
        },
        "outputId": "9366f55d-9995-439d-c343-b2e6b843e08d"
      },
      "outputs": [
        {
          "output_type": "stream",
          "name": "stdout",
          "text": [
            "Before dataframe: \n",
            "          date     county    state    fips  cases  deaths\n",
            "10 2021-01-01    Chilton  Alabama  1021.0   3004      54\n",
            "11 2021-01-01    Choctaw  Alabama  1023.0    491      22\n",
            "12 2021-01-01     Clarke  Alabama  1025.0   2418      26\n",
            "13 2021-01-01       Clay  Alabama  1027.0   1150      34\n",
            "14 2021-01-01   Cleburne  Alabama  1029.0   1036      16\n",
            "15 2021-01-01     Coffee  Alabama  1031.0   3643      38\n",
            "16 2021-01-01    Colbert  Alabama  1033.0   4701      60\n",
            "17 2021-01-01    Conecuh     None  1035.0    839      17\n",
            "18 2021-01-01      Coosa  Alabama  1037.0    519       7\n",
            "19 2021-01-01  Covington  Alabama  1039.0   2931      40 \n",
            "\n",
            "\n",
            "Imputing row 1/10 with 0 missing, elapsed time: 0.001\n",
            "After dataframe: \n",
            "          date     county    state    fips  cases  deaths\n",
            "10 2021-01-01    Chilton  Alabama  1021.0   3004      54\n",
            "11 2021-01-01    Choctaw  Alabama  1023.0    491      22\n",
            "12 2021-01-01     Clarke  Alabama  1025.0   2418      26\n",
            "13 2021-01-01       Clay  Alabama  1027.0   1150      34\n",
            "14 2021-01-01   Cleburne  Alabama  1029.0   1036      16\n",
            "15 2021-01-01     Coffee  Alabama  1031.0   3643      38\n",
            "16 2021-01-01    Colbert  Alabama  1033.0   4701      60\n",
            "17 2021-01-01    Conecuh  Alabama  1035.0    839      17\n",
            "18 2021-01-01      Coosa  Alabama  1037.0    519       7\n",
            "19 2021-01-01  Covington  Alabama  1039.0   2931      40 \n",
            "\n",
            "\n",
            "['Alabama']\n"
          ]
        },
        {
          "output_type": "stream",
          "name": "stderr",
          "text": [
            "<ipython-input-13-9499f8395aed>:30: FutureWarning: Setting an item of incompatible dtype is deprecated and will raise an error in a future version of pandas. Value '['0' '0' '0' '0' '0' '0' '0' '0' '0']' has dtype incompatible with int64, please explicitly cast to a compatible dtype first.\n",
            "  df[df[column].notna()] = df[df[column].notna()].astype(str)\n",
            "<ipython-input-13-9499f8395aed>:30: FutureWarning: Setting an item of incompatible dtype is deprecated and will raise an error in a future version of pandas. Value '['0' '1' '2' '3' '4' '5' '6' '8' '9']' has dtype incompatible with int64, please explicitly cast to a compatible dtype first.\n",
            "  df[df[column].notna()] = df[df[column].notna()].astype(str)\n",
            "<ipython-input-13-9499f8395aed>:30: FutureWarning: Setting an item of incompatible dtype is deprecated and will raise an error in a future version of pandas. Value '['1021.0' '1023.0' '1025.0' '1027.0' '1029.0' '1031.0' '1033.0' '1037.0'\n",
            " '1039.0']' has dtype incompatible with float64, please explicitly cast to a compatible dtype first.\n",
            "  df[df[column].notna()] = df[df[column].notna()].astype(str)\n",
            "<ipython-input-13-9499f8395aed>:30: FutureWarning: Setting an item of incompatible dtype is deprecated and will raise an error in a future version of pandas. Value '['3004' '491' '2418' '1150' '1036' '3643' '4701' '519' '2931']' has dtype incompatible with int64, please explicitly cast to a compatible dtype first.\n",
            "  df[df[column].notna()] = df[df[column].notna()].astype(str)\n",
            "<ipython-input-13-9499f8395aed>:30: FutureWarning: Setting an item of incompatible dtype is deprecated and will raise an error in a future version of pandas. Value '['54' '22' '26' '34' '16' '38' '60' '7' '40']' has dtype incompatible with int64, please explicitly cast to a compatible dtype first.\n",
            "  df[df[column].notna()] = df[df[column].notna()].astype(str)\n",
            "/usr/local/lib/python3.11/dist-packages/sklearn/utils/deprecation.py:151: FutureWarning: 'force_all_finite' was renamed to 'ensure_all_finite' in 1.6 and will be removed in 1.8.\n",
            "  warnings.warn(\n",
            "/usr/local/lib/python3.11/dist-packages/sklearn/utils/deprecation.py:151: FutureWarning: 'force_all_finite' was renamed to 'ensure_all_finite' in 1.6 and will be removed in 1.8.\n",
            "  warnings.warn(\n",
            "/usr/local/lib/python3.11/dist-packages/sklearn/utils/deprecation.py:151: FutureWarning: 'force_all_finite' was renamed to 'ensure_all_finite' in 1.6 and will be removed in 1.8.\n",
            "  warnings.warn(\n"
          ]
        }
      ],
      "source": [
        "\"\"\"Initialise variables to run the test\"\"\"\n",
        "\n",
        "# Specify the paths to download the datasets\n",
        "download_path = './datasets'\n",
        "mcar_path = \"./data/MCAR\"\n",
        "\n",
        "# Get a dataset to test the imputation function\n",
        "df = pd.read_json(os.path.join(mcar_path, \"us-counties-2021.json\"), lines=True).iloc[10:20]\n",
        "\n",
        "\n",
        "\n",
        "\n",
        "\"\"\"Run the test\"\"\"\n",
        "\n",
        "# Run the imputation function for a classification column\n",
        "print(f\"Before dataframe: \\n {df} \\n\\n\")\n",
        "df, predictions = kNN_imputation(df, \"state\", True, True)\n",
        "print(f\"After dataframe: \\n {df} \\n\\n\")\n",
        "print(predictions)"
      ]
    },
    {
      "cell_type": "markdown",
      "metadata": {
        "id": "JYCv7ABeWzsZ"
      },
      "source": [
        "### Manual functional testing for imputation assessment functions\n",
        "Manual testing is executed to a specification (test case specification) which requires human intervention (manual execution by testers) without the use of any automation tools\n",
        "\n",
        "<br>\n",
        "\n",
        "### Test case specification:\n",
        "![image.png](data:image/png;base64,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)"
      ]
    },
    {
      "cell_type": "markdown",
      "metadata": {
        "id": "sZ_RtEQ7d7Jb"
      },
      "source": [
        "#### Test 25 - Run LRMSE for a continuous imputation\n",
        "Run the LRMSE function against a dataset whose continuous column has been imputed with any imputation algorithm. Assess that it gives a reasonable float score"
      ]
    },
    {
      "cell_type": "code",
      "execution_count": null,
      "metadata": {
        "colab": {
          "base_uri": "https://localhost:8080/"
        },
        "id": "f75yVyr6d7Jb",
        "outputId": "8971fe6a-9067-443c-a45a-15c87ac36571"
      },
      "outputs": [
        {
          "output_type": "stream",
          "name": "stdout",
          "text": [
            "Imputing row 1/10 with 0 missing, elapsed time: 0.000\n",
            "Test continuous dataset ----------------------------------------------\n",
            "Original column: \n",
            " [1006.3333333333334, 1006.3333333333334, 1006.3333333333334, 1006.3333333333334] \n",
            "\n",
            "\n",
            "Imputed column: \n",
            " [1008.823228731949, 1004.9685164720665, 1007.4592941673483, 1011.320821618802] \n",
            "\n",
            "\n",
            "LRMSE: 0.0029000322491595306\n",
            "\n",
            "\n",
            "Manually calulated LRMSE: 0.0029000322 \n",
            "\n",
            "\n"
          ]
        },
        {
          "output_type": "stream",
          "name": "stderr",
          "text": [
            "/usr/local/lib/python3.11/dist-packages/sklearn/utils/deprecation.py:151: FutureWarning: 'force_all_finite' was renamed to 'ensure_all_finite' in 1.6 and will be removed in 1.8.\n",
            "  warnings.warn(\n",
            "/usr/local/lib/python3.11/dist-packages/sklearn/utils/deprecation.py:151: FutureWarning: 'force_all_finite' was renamed to 'ensure_all_finite' in 1.6 and will be removed in 1.8.\n",
            "  warnings.warn(\n",
            "/usr/local/lib/python3.11/dist-packages/sklearn/utils/deprecation.py:151: FutureWarning: 'force_all_finite' was renamed to 'ensure_all_finite' in 1.6 and will be removed in 1.8.\n",
            "  warnings.warn(\n"
          ]
        }
      ],
      "source": [
        "\"\"\"Initialise variables to run the test\"\"\"\n",
        "\n",
        "# Specify the paths to download the datasets\n",
        "download_path = './datasets'\n",
        "mcar_path = \"./data/MCAR\"\n",
        "original_path = \"./data/Original\"\n",
        "\n",
        "# Get a dataset to test the imputation function\n",
        "df_continuous = pd.read_json(os.path.join(mcar_path, \"us-counties-2022.json\"), lines=True, nrows=10)\n",
        "\n",
        "missingness_map = df_continuous[\"fips\"].isna()\n",
        "\n",
        "# Run the imputation function for a continuous column\n",
        "df_continuous, column_imputed = kNN_imputation(df_continuous, \"fips\", False, True)\n",
        "\n",
        "\n",
        "\n",
        "\n",
        "\"\"\"Run the test\"\"\"\n",
        "\n",
        "# Get the datasets to assess the imputation function\n",
        "df_continuous_original = pd.read_json(os.path.join(mcar_path, \"us-counties-2022.json\"), lines=True, nrows=10)\n",
        "\n",
        "# Create the imputer\n",
        "imputer = SimpleImputer(strategy='mean')\n",
        "\n",
        "# Fit and transform the data\n",
        "imputed_data = imputer.fit_transform(np.array(df_continuous_original[\"fips\"]).reshape(-1, 1))\n",
        "\n",
        "# Convert back to DataFrame\n",
        "df_continuous_original[\"fips\"] = np.array(imputed_data)\n",
        "\n",
        "column_original = list(df_continuous_original[missingness_map][\"fips\"])\n",
        "\n",
        "\n",
        "# Test continuous dataset\n",
        "print(\"Test continuous dataset ----------------------------------------------\")\n",
        "print(f\"Original column: \\n {column_original} \\n\\n\")\n",
        "print(f\"Imputed column: \\n {column_imputed} \\n\\n\")\n",
        "print(\"LRMSE: \" + str(LRMSE(column_original, column_imputed, False)) + \"\\n\\n\")\n",
        "print(\"Manually calulated LRMSE: 0.0029000322 \\n\\n\")"
      ]
    },
    {
      "cell_type": "markdown",
      "metadata": {
        "id": "V4XmeWX-d7Jb"
      },
      "source": [
        "#### Test 26 - Run LRMSE for a categorical imputation\n",
        "Run the LRMSE function against a dataset whose categorical column has been imputed with any imputation algorithm. Assess that it gives a reasonable float score"
      ]
    },
    {
      "cell_type": "code",
      "execution_count": null,
      "metadata": {
        "colab": {
          "base_uri": "https://localhost:8080/"
        },
        "id": "6V_gJlvFd7Jc",
        "outputId": "83585f1e-21c5-40eb-f797-a6e51b912d6e"
      },
      "outputs": [
        {
          "output_type": "stream",
          "name": "stdout",
          "text": [
            "Imputing row 1/10 with 0 missing, elapsed time: 0.001\n",
            "Test continuous dataset ----------------------------------------------\n",
            "Original column: \n",
            " [None] \n",
            "\n",
            "\n",
            "Imputed column: \n",
            " ['Alabama'] \n",
            "\n",
            "\n",
            "LRMSE: 0.0\n",
            "\n",
            "\n",
            "Manually calulated LRMSE: 0.0 \n",
            "\n",
            "\n"
          ]
        },
        {
          "output_type": "stream",
          "name": "stderr",
          "text": [
            "<ipython-input-13-9499f8395aed>:30: FutureWarning: Setting an item of incompatible dtype is deprecated and will raise an error in a future version of pandas. Value '['0' '0' '0' '0' '0' '0' '0' '0' '0']' has dtype incompatible with int64, please explicitly cast to a compatible dtype first.\n",
            "  df[df[column].notna()] = df[df[column].notna()].astype(str)\n",
            "<ipython-input-13-9499f8395aed>:30: FutureWarning: Setting an item of incompatible dtype is deprecated and will raise an error in a future version of pandas. Value '['0' '1' '2' '3' '4' '5' '6' '8' '9']' has dtype incompatible with int64, please explicitly cast to a compatible dtype first.\n",
            "  df[df[column].notna()] = df[df[column].notna()].astype(str)\n",
            "<ipython-input-13-9499f8395aed>:30: FutureWarning: Setting an item of incompatible dtype is deprecated and will raise an error in a future version of pandas. Value '['1021.0' '1023.0' '1025.0' '1027.0' '1029.0' '1031.0' '1033.0' '1037.0'\n",
            " '1039.0']' has dtype incompatible with float64, please explicitly cast to a compatible dtype first.\n",
            "  df[df[column].notna()] = df[df[column].notna()].astype(str)\n",
            "<ipython-input-13-9499f8395aed>:30: FutureWarning: Setting an item of incompatible dtype is deprecated and will raise an error in a future version of pandas. Value '['3004' '491' '2418' '1150' '1036' '3643' '4701' '519' '2931']' has dtype incompatible with int64, please explicitly cast to a compatible dtype first.\n",
            "  df[df[column].notna()] = df[df[column].notna()].astype(str)\n",
            "<ipython-input-13-9499f8395aed>:30: FutureWarning: Setting an item of incompatible dtype is deprecated and will raise an error in a future version of pandas. Value '['54' '22' '26' '34' '16' '38' '60' '7' '40']' has dtype incompatible with int64, please explicitly cast to a compatible dtype first.\n",
            "  df[df[column].notna()] = df[df[column].notna()].astype(str)\n",
            "/usr/local/lib/python3.11/dist-packages/sklearn/utils/deprecation.py:151: FutureWarning: 'force_all_finite' was renamed to 'ensure_all_finite' in 1.6 and will be removed in 1.8.\n",
            "  warnings.warn(\n",
            "/usr/local/lib/python3.11/dist-packages/sklearn/utils/deprecation.py:151: FutureWarning: 'force_all_finite' was renamed to 'ensure_all_finite' in 1.6 and will be removed in 1.8.\n",
            "  warnings.warn(\n",
            "/usr/local/lib/python3.11/dist-packages/sklearn/utils/deprecation.py:151: FutureWarning: 'force_all_finite' was renamed to 'ensure_all_finite' in 1.6 and will be removed in 1.8.\n",
            "  warnings.warn(\n",
            "<ipython-input-14-226301bf76f4>:20: RuntimeWarning: divide by zero encountered in log\n",
            "  log_imputed = np.array([log if not np.isinf(log) else 0 for log in np.log(column_imputed)])\n"
          ]
        }
      ],
      "source": [
        "\"\"\"Initialise variables to run the test\"\"\"\n",
        "\n",
        "# Specify the paths to download the datasets\n",
        "download_path = './datasets'\n",
        "mcar_path = \"./data/MCAR\"\n",
        "original_path = \"./data/Original\"\n",
        "\n",
        "# Get a dataset to test the imputation function\n",
        "df_categorical = pd.read_json(os.path.join(mcar_path, \"us-counties-2021.json\"), lines=True).iloc[10:20]\n",
        "\n",
        "missingness_map = df_categorical[\"state\"].isna()\n",
        "\n",
        "# Run the imputation function for a continuous column\n",
        "df_categorical, column_imputed = kNN_imputation(df_categorical, \"state\", True, True)\n",
        "\n",
        "\n",
        "\n",
        "\n",
        "\"\"\"Run the test\"\"\"\n",
        "\n",
        "# Get the datasets to assess the imputation function\n",
        "df_categorical_original = pd.read_json(os.path.join(mcar_path, \"us-counties-2021.json\"), lines=True).iloc[10:20]\n",
        "\n",
        "df_categorical_original.isna()[\"state\"] = \"Manhattan\"\n",
        "\n",
        "column_original = list(df_categorical_original[missingness_map][\"state\"])\n",
        "\n",
        "\n",
        "# Test continuous dataset\n",
        "print(\"Test continuous dataset ----------------------------------------------\")\n",
        "print(f\"Original column: \\n {column_original} \\n\\n\")\n",
        "print(f\"Imputed column: \\n {column_imputed} \\n\\n\")\n",
        "print(\"LRMSE: \" + str(LRMSE(column_original, column_imputed, True)) + \"\\n\\n\")\n",
        "print(\"Manually calulated LRMSE: 0.0 \\n\\n\")"
      ]
    },
    {
      "cell_type": "markdown",
      "metadata": {
        "id": "A8Z5-hoCeAUj"
      },
      "source": [
        "#### Test 27 - Run main assessment for a continuous imputation\n",
        "Run the main assessment function against a dataset whose continuous column has been imputed with any imputation algorithm. Assess that it gives a reasonable float score"
      ]
    },
    {
      "cell_type": "code",
      "execution_count": null,
      "metadata": {
        "colab": {
          "base_uri": "https://localhost:8080/"
        },
        "id": "V1-Z2_bdeAUk",
        "outputId": "f89e3adb-704b-42e6-9b7b-12969265f5cb"
      },
      "outputs": [
        {
          "output_type": "stream",
          "name": "stdout",
          "text": [
            "Imputing row 1/10 with 0 missing, elapsed time: 0.001\n",
            "Test continuous dataset ----------------------------------------------\n",
            "Original column: \n",
            " [1006.3333333333334, 1006.3333333333334, 1006.3333333333334, 1006.3333333333334] \n",
            "\n",
            "\n",
            "Imputed column: \n",
            " [1008.823228731949, 1004.9685164720665, 1007.4592941673483, 1011.320821618802] \n",
            "\n",
            "\n",
            "Main assessment: 344.82375162890474\n",
            "\n",
            "\n",
            "Manually calulated main assessment: 344.8237516 \n",
            "\n",
            "\n"
          ]
        },
        {
          "output_type": "stream",
          "name": "stderr",
          "text": [
            "/usr/local/lib/python3.11/dist-packages/sklearn/utils/deprecation.py:151: FutureWarning: 'force_all_finite' was renamed to 'ensure_all_finite' in 1.6 and will be removed in 1.8.\n",
            "  warnings.warn(\n",
            "/usr/local/lib/python3.11/dist-packages/sklearn/utils/deprecation.py:151: FutureWarning: 'force_all_finite' was renamed to 'ensure_all_finite' in 1.6 and will be removed in 1.8.\n",
            "  warnings.warn(\n",
            "/usr/local/lib/python3.11/dist-packages/sklearn/utils/deprecation.py:151: FutureWarning: 'force_all_finite' was renamed to 'ensure_all_finite' in 1.6 and will be removed in 1.8.\n",
            "  warnings.warn(\n"
          ]
        }
      ],
      "source": [
        "\"\"\"Initialise variables to run the test\"\"\"\n",
        "\n",
        "# Specify the paths to download the datasets\n",
        "download_path = './datasets'\n",
        "mcar_path = \"./data/MCAR\"\n",
        "original_path = \"./data/Original\"\n",
        "\n",
        "# Get a dataset to test the imputation function\n",
        "df_continuous = pd.read_json(os.path.join(mcar_path, \"us-counties-2022.json\"), lines=True, nrows=10)\n",
        "\n",
        "missingness_map = df_continuous[\"fips\"].isna()\n",
        "\n",
        "# Run the imputation function for a continuous column\n",
        "df_continuous, column_imputed = kNN_imputation(df_continuous, \"fips\", False, True)\n",
        "\n",
        "\n",
        "\n",
        "\n",
        "\"\"\"Run the test\"\"\"\n",
        "\n",
        "# Get the datasets to assess the imputation function\n",
        "df_continuous_original = pd.read_json(os.path.join(mcar_path, \"us-counties-2022.json\"), lines=True, nrows=10)\n",
        "\n",
        "# Create the imputer\n",
        "imputer = SimpleImputer(strategy='mean')\n",
        "\n",
        "# Fit and transform the data\n",
        "imputed_data = imputer.fit_transform(np.array(df_continuous_original[\"fips\"]).reshape(-1, 1))\n",
        "\n",
        "# Convert back to DataFrame\n",
        "df_continuous_original[\"fips\"] = np.array(imputed_data)\n",
        "\n",
        "column_original = list(df_continuous_original[missingness_map][\"fips\"])\n",
        "\n",
        "\n",
        "# Test continuous dataset\n",
        "print(\"Test continuous dataset ----------------------------------------------\")\n",
        "print(f\"Original column: \\n {column_original} \\n\\n\")\n",
        "print(f\"Imputed column: \\n {column_imputed} \\n\\n\")\n",
        "print(\"Main assessment: \" + str(main_assessment(column_original, column_imputed, False)) + \"\\n\\n\")\n",
        "print(\"Manually calulated main assessment: 344.8237516 \\n\\n\")"
      ]
    },
    {
      "cell_type": "markdown",
      "metadata": {
        "id": "t85m-vUWeAUl"
      },
      "source": [
        "#### Test 28 - Run main assessment for a categorical imputation\n",
        "Run the main assessment function against a dataset whose categorical column has been imputed with any imputation algorithm. Assess that it gives a reasonable float score"
      ]
    },
    {
      "cell_type": "code",
      "execution_count": null,
      "metadata": {
        "colab": {
          "base_uri": "https://localhost:8080/"
        },
        "id": "yFk-ZkFVeAUm",
        "outputId": "780f68d6-09c0-4a0c-f9e4-da923f1a6273"
      },
      "outputs": [
        {
          "output_type": "stream",
          "name": "stdout",
          "text": [
            "Imputing row 1/10 with 0 missing, elapsed time: 0.000\n",
            "Test continuous dataset ----------------------------------------------\n",
            "Original column: \n",
            " [None] \n",
            "\n",
            "\n",
            "Imputed column: \n",
            " ['Alabama'] \n",
            "\n",
            "\n",
            "Main assessment: 0.0\n",
            "\n",
            "\n",
            "Manually calulated main assessment: 0.0 \n",
            "\n",
            "\n"
          ]
        },
        {
          "output_type": "stream",
          "name": "stderr",
          "text": [
            "<ipython-input-13-9499f8395aed>:30: FutureWarning: Setting an item of incompatible dtype is deprecated and will raise an error in a future version of pandas. Value '['0' '0' '0' '0' '0' '0' '0' '0' '0']' has dtype incompatible with int64, please explicitly cast to a compatible dtype first.\n",
            "  df[df[column].notna()] = df[df[column].notna()].astype(str)\n",
            "<ipython-input-13-9499f8395aed>:30: FutureWarning: Setting an item of incompatible dtype is deprecated and will raise an error in a future version of pandas. Value '['0' '1' '2' '3' '4' '5' '6' '8' '9']' has dtype incompatible with int64, please explicitly cast to a compatible dtype first.\n",
            "  df[df[column].notna()] = df[df[column].notna()].astype(str)\n",
            "<ipython-input-13-9499f8395aed>:30: FutureWarning: Setting an item of incompatible dtype is deprecated and will raise an error in a future version of pandas. Value '['1021.0' '1023.0' '1025.0' '1027.0' '1029.0' '1031.0' '1033.0' '1037.0'\n",
            " '1039.0']' has dtype incompatible with float64, please explicitly cast to a compatible dtype first.\n",
            "  df[df[column].notna()] = df[df[column].notna()].astype(str)\n",
            "<ipython-input-13-9499f8395aed>:30: FutureWarning: Setting an item of incompatible dtype is deprecated and will raise an error in a future version of pandas. Value '['3004' '491' '2418' '1150' '1036' '3643' '4701' '519' '2931']' has dtype incompatible with int64, please explicitly cast to a compatible dtype first.\n",
            "  df[df[column].notna()] = df[df[column].notna()].astype(str)\n",
            "<ipython-input-13-9499f8395aed>:30: FutureWarning: Setting an item of incompatible dtype is deprecated and will raise an error in a future version of pandas. Value '['54' '22' '26' '34' '16' '38' '60' '7' '40']' has dtype incompatible with int64, please explicitly cast to a compatible dtype first.\n",
            "  df[df[column].notna()] = df[df[column].notna()].astype(str)\n",
            "/usr/local/lib/python3.11/dist-packages/sklearn/utils/deprecation.py:151: FutureWarning: 'force_all_finite' was renamed to 'ensure_all_finite' in 1.6 and will be removed in 1.8.\n",
            "  warnings.warn(\n",
            "/usr/local/lib/python3.11/dist-packages/sklearn/utils/deprecation.py:151: FutureWarning: 'force_all_finite' was renamed to 'ensure_all_finite' in 1.6 and will be removed in 1.8.\n",
            "  warnings.warn(\n",
            "/usr/local/lib/python3.11/dist-packages/sklearn/utils/deprecation.py:151: FutureWarning: 'force_all_finite' was renamed to 'ensure_all_finite' in 1.6 and will be removed in 1.8.\n",
            "  warnings.warn(\n"
          ]
        }
      ],
      "source": [
        "\"\"\"Initialise variables to run the test\"\"\"\n",
        "\n",
        "# Specify the paths to download the datasets\n",
        "download_path = './datasets'\n",
        "mcar_path = \"./data/MCAR\"\n",
        "original_path = \"./data/Original\"\n",
        "\n",
        "# Get a dataset to test the imputation function\n",
        "df_categorical = pd.read_json(os.path.join(mcar_path, \"us-counties-2021.json\"), lines=True).iloc[10:20]\n",
        "\n",
        "missingness_map = df_categorical[\"state\"].isna()\n",
        "\n",
        "# Run the imputation function for a continuous column\n",
        "df_categorical, column_imputed = kNN_imputation(df_categorical, \"state\", True, True)\n",
        "\n",
        "\n",
        "\n",
        "\n",
        "\"\"\"Run the test\"\"\"\n",
        "\n",
        "# Get the datasets to assess the imputation function\n",
        "df_categorical_original = pd.read_json(os.path.join(mcar_path, \"us-counties-2021.json\"), lines=True).iloc[10:20]\n",
        "\n",
        "df_categorical_original.isna()[\"state\"] = \"Manhattan\"\n",
        "\n",
        "column_original = list(df_categorical_original[missingness_map][\"state\"])\n",
        "\n",
        "\n",
        "# Test continuous dataset\n",
        "print(\"Test continuous dataset ----------------------------------------------\")\n",
        "print(f\"Original column: \\n {column_original} \\n\\n\")\n",
        "print(f\"Imputed column: \\n {column_imputed} \\n\\n\")\n",
        "print(\"Main assessment: \" + str(main_assessment(column_original, column_imputed, True)) + \"\\n\\n\")\n",
        "print(\"Manually calulated main assessment: 0.0 \\n\\n\")"
      ]
    }
  ],
  "metadata": {
    "colab": {
      "collapsed_sections": [
        "-MpoQJ0MdjNh"
      ],
      "machine_shape": "hm",
      "provenance": [],
      "toc_visible": true
    },
    "kernelspec": {
      "display_name": "Python 3",
      "name": "python3"
    },
    "language_info": {
      "name": "python"
    }
  },
  "nbformat": 4,
  "nbformat_minor": 0
}